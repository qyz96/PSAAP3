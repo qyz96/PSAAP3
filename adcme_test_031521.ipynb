{
 "cells": [
  {
   "cell_type": "code",
   "execution_count": 1,
   "metadata": {},
   "outputs": [
    {
     "ename": "LoadError",
     "evalue": "PyError ($(Expr(:escape, :(ccall(#= C:\\Users\\Michael\\.julia\\packages\\PyCall\\BcTLp\\src\\pyeval.jl:38 =# @pysym(:PyEval_EvalCode), PyPtr, (PyPtr, PyPtr, PyPtr), o, globals, locals))))) <class 'ImportError'>\nImportError('\\n\\nIMPORTANT: PLEASE READ THIS FOR ADVICE ON HOW TO SOLVE THIS ISSUE!\\n\\nImporting the numpy C-extensions failed. This error can happen for\\nmany reasons, often due to issues with your setup or how NumPy was\\ninstalled.\\n\\nWe have compiled some common reasons and troubleshooting tips at:\\n\\n    https://numpy.org/devdocs/user/troubleshooting-importerror.html\\n\\nPlease note and check the following:\\n\\n  * The Python version is: Python3.7 from \"C:\\\\Users\\\\Michael\\\\AppData\\\\Local\\\\Programs\\\\Julia 1.5.2\\\\bin\\\\julia.exe\"\\n  * The NumPy version is: \"1.19.1\"\\n\\nand make sure that they are the versions you expect.\\nPlease carefully study the documentation linked above for further help.\\n\\nOriginal error was: DLL load failed: The specified module could not be found.\\n')\n  File \"C:\\Users\\Michael\\.julia\\packages\\PyCall\\BcTLp\\src\\pyeval.jl\", line 1, in <module>\n    const Py_single_input = 256  # from Python.h\n  File \"C:\\Users\\Michael\\.julia\\adcme\\lib\\site-packages\\numpy\\__init__.py\", line 140, in <module>\n    from . import core\n  File \"C:\\Users\\Michael\\.julia\\adcme\\lib\\site-packages\\numpy\\core\\__init__.py\", line 48, in <module>\n    raise ImportError(msg)\n",
     "output_type": "error",
     "traceback": [
      "PyError ($(Expr(:escape, :(ccall(#= C:\\Users\\Michael\\.julia\\packages\\PyCall\\BcTLp\\src\\pyeval.jl:38 =# @pysym(:PyEval_EvalCode), PyPtr, (PyPtr, PyPtr, PyPtr), o, globals, locals))))) <class 'ImportError'>\nImportError('\\n\\nIMPORTANT: PLEASE READ THIS FOR ADVICE ON HOW TO SOLVE THIS ISSUE!\\n\\nImporting the numpy C-extensions failed. This error can happen for\\nmany reasons, often due to issues with your setup or how NumPy was\\ninstalled.\\n\\nWe have compiled some common reasons and troubleshooting tips at:\\n\\n    https://numpy.org/devdocs/user/troubleshooting-importerror.html\\n\\nPlease note and check the following:\\n\\n  * The Python version is: Python3.7 from \"C:\\\\Users\\\\Michael\\\\AppData\\\\Local\\\\Programs\\\\Julia 1.5.2\\\\bin\\\\julia.exe\"\\n  * The NumPy version is: \"1.19.1\"\\n\\nand make sure that they are the versions you expect.\\nPlease carefully study the documentation linked above for further help.\\n\\nOriginal error was: DLL load failed: The specified module could not be found.\\n')\n  File \"C:\\Users\\Michael\\.julia\\packages\\PyCall\\BcTLp\\src\\pyeval.jl\", line 1, in <module>\n    const Py_single_input = 256  # from Python.h\n  File \"C:\\Users\\Michael\\.julia\\adcme\\lib\\site-packages\\numpy\\__init__.py\", line 140, in <module>\n    from . import core\n  File \"C:\\Users\\Michael\\.julia\\adcme\\lib\\site-packages\\numpy\\core\\__init__.py\", line 48, in <module>\n    raise ImportError(msg)\n",
      "",
      "Stacktrace:",
      " [1] pyerr_check at C:\\Users\\Michael\\.julia\\packages\\PyCall\\BcTLp\\src\\exception.jl:62 [inlined]",
      " [2] pyerr_check at C:\\Users\\Michael\\.julia\\packages\\PyCall\\BcTLp\\src\\exception.jl:66 [inlined]",
      " [3] _handle_error(::String) at C:\\Users\\Michael\\.julia\\packages\\PyCall\\BcTLp\\src\\exception.jl:83"
     ]
    }
   ],
   "source": [
    "using ADCME\n",
    "using Plots\n",
    "using PyCall\n",
    "#### Read data\n",
    "py\"\"\"\n",
    "import numpy as np\n",
    "\"\"\""
   ]
  },
  {
   "cell_type": "code",
   "execution_count": 5,
   "metadata": {},
   "outputs": [
    {
     "data": {
      "text/plain": [
       "compute_ω_dot (generic function with 1 method)"
      ]
     },
     "execution_count": 5,
     "metadata": {},
     "output_type": "execute_result"
    }
   ],
   "source": [
    "function f_hi(a, T, R)\n",
    "        v1 = (a[:,2] + a[:,3] * T + a[:,4] * T^2 + a[:,5] * T^3 + a[:,6] * T^4) * R\n",
    "        v2 = (a[:,2] + a[:,3] * T / 2 + a[:,4] * T^2 /3 + a[:,5] * T^3 /4 + a[:,6] * T^4 /5 + a[:,7]/T) * R * T\n",
    "        v3 = (a[:,2] * log(T) + a[:,3] * T + a[:,4] * T^2 /2 + a[:,5] * T^3 /3 + a[:,6] * T^4 / 4 + a[:,8]) * R\n",
    "    return [v1 v2 v3]\n",
    "end\n",
    " \n",
    "function f_lo(a, T, R)\n",
    "    v1 = (a[:,9] + a[:,10] * T + a[:,11] * T^2 + a[:,12] * T^3 + a[:,13] * T^4) * R\n",
    "    v2 = (a[:,9] + a[:,10] * T / 2 + a[:,11] * T^2 /3 + a[:,12] * T^3 /4 + a[:,13] * T^4 /5 + a[:,14]/T) * R * T\n",
    "    v3 = (a[:,9] * log(T) + a[:,10] * T + a[:,11] * T^2 /2 + a[:,12] * T^3 /3 + a[:,13] * T^4 / 4 + a[:,15]) * R\n",
    "    return [v1 v2 v3]\n",
    "end \n",
    "\n",
    "function compute_falloff(T, pr, a)\n",
    "    fcent = (1 - a[1]) * exp(-T/a[2]) + a[1] * exp(-T/a[3]) + exp(-a[4]/T)\n",
    "    c = -0.4 - 0.67 * log(fcent) / log(10)\n",
    "    n = 0.75 - 1.27 * log(fcent) / log(10)\n",
    "    f1 = (log(pr) / log(10) + c) / (n - 0.14 *(log(pr) / log(10) + c))\n",
    "    return  10 ^ ((log(fcent) / log(10)) / (1 + f1 ^ 2))\n",
    "end\n",
    "\n",
    "function compute_mout_dot(m, cp, cv, R, X, W, Y, T)\n",
    "    cp_total = sum(cp ./ W .* Y)\n",
    "    _area = 1\n",
    "    _gamma_s = cp_total / cv\n",
    "    _press = sum(X) * R * T\n",
    "    _r_gas_specific = cp_total - cv\n",
    "    _p_ratio = 101325 / (_press + 1.0)\n",
    "    power_1 = 2.0 / _gamma_s\n",
    "    power_2 = (_gamma_s + 1.0) / (_gamma_s)\n",
    "    pressure_term = _p_ratio ^ power_1 - _p_ratio ^ power_2\n",
    "    _sqrt_term = 2. * _gamma_s * _r_gas_specific * T / (_gamma_s - 1.0)\n",
    "    _sqrt_term *= pressure_term\n",
    "    _sqrt_term = (_sqrt_term)^(0.5)\n",
    "    _mdot_unchoked = m * _area * _sqrt_term\n",
    "    power = (_gamma_s + 1.0) / (_gamma_s - 1.0)\n",
    "    _gamma_term = (2. / (_gamma_s + 1.0)) ^ power\n",
    "    _sqrt = (_gamma_s * _r_gas_specific * T * _gamma_term)^(0.5)\n",
    "    _mdot_choked = m * _area * _sqrt\n",
    "    _p_crit_downstream = _press * (2. / (_gamma_s + 1.0)) ^ (_gamma_s / (_gamma_s - 1.0))\n",
    "    ischoked = ADCME.constant(_p_crit_downstream) >= ADCME.constant(101325.0)\n",
    "    ischoked = convert_to_tensor(ischoked, dtype=Float64)\n",
    "    mout_dot = ischoked * _mdot_choked + (1 - ischoked) * _mdot_unchoked \n",
    "    return mout_dot\n",
    "end\n",
    "\n",
    "function compute_ω_dot(m, T, Y, ρ, X)\n",
    "    Q = ADCME.constant(ones(M))\n",
    "    islarge = T > ADCME.constant(NASA_coeffs[:,1])\n",
    "    islarge = convert_to_tensor(islarge, dtype=Float64)\n",
    "    fhi = f_hi(NASA_coeffs, T, R)\n",
    "    flo = f_lo(NASA_coeffs, T, R)\n",
    "    cp = islarge .* fhi[:,1] + (1 - islarge) .* flo[:,1]\n",
    "    h = islarge .* fhi[:,2] + (1 - islarge) .* flo[:,2]\n",
    "    s = islarge .* fhi[:,3] + (1 - islarge) .* flo[:,3]\n",
    "    cvk = cp .- R\n",
    "    ΔS = ν' * s  # Entropy change for reaction j\n",
    "    ΔH = ν' * h # Entahlpy change for reaction j\n",
    "    M_t = efficiency_t' * X[:,1]\n",
    "    Kf_t = Af_t .* (T ^ β_t) .* exp(-E_t / (R * T)) .* M_t\n",
    "    Kr_t = Kf_t ./ (((pa/(R * T)) ^ sum(ν[:,tbd], dims=1)')[:,1] .* exp(ΔS[tbd] ./ R - ΔH[tbd] / (R * T)))\n",
    "    Qtbd =  Kf_t .* (prod(tf.pow(X, order_t), dims=1)) .- Kr_t .* (prod(tf.pow(X, ν2[:,tbd]), dims=1) .* reversible[tbd])\n",
    "    M_f = efficiency_f' * X[:,1]\n",
    "    Kf_lo = Af_lo .* (T ^ β_lo) .* exp(-E_lo / (R * T)) .* M_f\n",
    "    Kf_hi = Af_hi .* (T ^ β_hi) .* exp(-E_hi / (R * T)) \n",
    "    Pr = Kf_lo ./ Kf_hi\n",
    "    Fac = ADCME.constant(ones(size(falofr)[1]))\n",
    "    for (i,s) in enumerate(troefall)\n",
    "        a = troefall_coeff[:,i]\n",
    "        fcent = (1 - a[1]) * exp(-T/a[2]) + a[1] * exp(-T/a[3]) + exp(-a[4]/T)\n",
    "        c = -0.4 - 0.67 * log(fcent) / log(10)\n",
    "        n = 0.75 - 1.27 * log(fcent) / log(10)\n",
    "        f1 = (log(Pr[s]) / log(10) + c) / (n - 0.14 *(log(Pr[s]) / log(10) + c))\n",
    "        Fac = scatter_update(Fac, troefall[i], 10 ^ ((log(fcent) / log(10)) / (1 + f1 ^ 2)))\n",
    "    end\n",
    "    Kf_f = Kf_lo ./ (1 .+ (Kf_lo ./ Kf_hi)) .* Fac\n",
    "    Kr_f = Kf_f ./ (((pa/(R * T)) ^ sum(ν[:,falofr], dims=1)')[:,1] .* exp(ΔS[falofr] ./ R - ΔH[falofr] / (R * T)))\n",
    "    Qfalofr = Kf_f .* (prod(tf.pow(X, order_f), dims=1)) .- Kr_f .* (prod(tf.pow(X, ν2[:,falofr]), dims=1) .* reversible[falofr])\n",
    "    ####\n",
    "    Kf = Af .* (T ^ β) .* exp(-E / (R * T))\n",
    "    Kr = Kf ./ (((pa/(R * T)) ^ sum(ν[:,elmr], dims=1)')[:,1] .* exp(ΔS[elmr] ./ R - ΔH[elmr] / (R * T)))\n",
    "    Qelmr = Kf .* (prod(tf.pow(X, order), dims=1)) .- Kr .* (prod(tf.pow(X, ν2[:,elmr]), dims=1) .* reversible[elmr])\n",
    "    Q = [Qtbd' Qfalofr' Qelmr']\n",
    "    ν_new = [ν[:,tbd] ν[:,falofr] ν[:,elmr]]\n",
    "    ##### Computing ω_dot \n",
    "    cv = sum(cvk ./ W .* Y) # Mass heat capacities\n",
    "    u = h / W - R ./ W * T   # Internal energy for species\n",
    "    p = sum(X) * R * T # pressure\n",
    "    ω_dot = W .* sum(ν_new .* Q, dims=2)\n",
    "    return ω_dot, cp, cv, u, p\n",
    "end"
   ]
  },
  {
   "cell_type": "code",
   "execution_count": 6,
   "metadata": {},
   "outputs": [],
   "source": [
    "V = 1  # Volume\n",
    "m_ = (py\"np.load\"(\".npy files/density.npy\"))[1]  # Total mass\n",
    "tbd = py\"np.load\"(\".npy files/tbd.npy\") .+ 1\n",
    "falofr = py\"np.load\"(\".npy files/falofr.npy\") .+ 1\n",
    "elmr = py\"np.load\"(\".npy files/elmr.npy\") .+ 1\n",
    "NASA_coeffs = py\"np.load\"(\".npy files/NASA_coeffs.npy\")\n",
    "W = py\"np.load\"(\".npy files/molecular_weights.npy\") # Molar weight\n",
    "ν1 = py\"np.load\"(\".npy files/reactants_stoich_coeffs.npy\") # Forward molar stoichiometric coefficients\n",
    "ν2 = py\"np.load\"(\".npy files/product_stoich_coeffs.npy\") # Backward model stoichiometric coefficients\n",
    "reversible = py\"np.load\"(\".npy files/reversible.npy\")\n",
    "N = size(ν1)[1]  # Number of Species\n",
    "M = size(ν1)[2]  # Number of Reactions\n",
    "ν1_order = zeros(N,M)\n",
    "ν = ν2 - ν1  \n",
    "pa = 100000 # 1 bar\n",
    "R = 8314.4621 # Gas constant in kmol\n",
    "### Constants: Combustion Chamber Level\n",
    "min_dot = 0 # Rate at which mass enters the chamber\n",
    "mout_dot = 0 # Rate at which mass leaves the chamber\n",
    "Yin = ones(N) # Mass fraction of species entering the chamber\n",
    "Yout = ones(N) # Mass fraction of species leaving the chamber\n",
    "Qdot = 0 # Heating source\n",
    "m_dot = min_dot - mout_dot\n",
    "hin = 1 # Enthalpy of input\n",
    "### Unknowns\n",
    "Tt_cant = py\"np.load\"(\".npy files/temperature.npy\")\n",
    "T = Tt_cant[1] # Temperature\n",
    "Y = py\"np.load\"(\".npy files/ini_mass_fraction.npy\") # Mass fractions\n",
    "#Y .+= 0.00001\n",
    "#Y ./ sum(Y)\n",
    "### Quantities that depend on the Unknowns\n",
    "tbd = py\"np.load\"(\".npy files/tbd.npy\") .+ 1\n",
    "tbd = Int.(tbd)\n",
    "falofr = py\"np.load\"(\".npy files/falofr.npy\") .+ 1\n",
    "falofr = Int.(falofr)\n",
    "elmr = py\"np.load\"(\".npy files/elmr.npy\") .+ 1\n",
    "elmr = Int.(elmr)\n",
    "\n",
    "order = py\"np.load\"(\".npy files/reaction_orders.npy\")\n",
    "Af = py\"np.load\"(\".npy files/pre_exponential_factor.npy\") # preexponential constant Afj\n",
    "β = py\"np.load\"(\".npy files/temperature_exponent.npy\") # Temperature exponent\n",
    "E = py\"np.load\"(\".npy files/activation_energy.npy\") # Activation energy for the reactions in kJ\n",
    "\n",
    "order_t = py\"np.load\"(\".npy files/reaction_orders_t.npy\")\n",
    "efficiency_t = py\"np.load\"(\".npy files/efficiency_t.npy\")\n",
    "Af_t = py\"np.load\"(\".npy files/pre_exponential_factor_t.npy\") # preexponential constant Afj\n",
    "β_t = py\"np.load\"(\".npy files/temperature_exponent_t.npy\") # Temperature exponent\n",
    "E_t = py\"np.load\"(\".npy files/activation_energy_t.npy\") # Activation energy for the reactions in kJ\n",
    "\n",
    "order_f = py\"np.load\"(\".npy files/reaction_orders_f.npy\")\n",
    "troefall = py\"np.load\"(\".npy files/troefall.npy\") .+ 1\n",
    "troefall_coeff = py\"np.load\"(\".npy files/troefall_coeff.npy\")\n",
    "efficiency_f = py\"np.load\"(\".npy files/efficiency_f.npy\")\n",
    "Af_hi = py\"np.load\"(\".npy files/pre_exponential_factor_hi.npy\") # preexponential constant Afj\n",
    "β_hi = py\"np.load\"(\".npy files/temperature_exponent_hi.npy\") # Temperature exponent\n",
    "E_hi = py\"np.load\"(\".npy files/activation_energy_hi.npy\") \n",
    "\n",
    "Af_lo = py\"np.load\"(\".npy files/pre_exponential_factor_lo.npy\") # preexponential constant Afj\n",
    "β_lo = py\"np.load\"(\".npy files/temperature_exponent_lo.npy\") # Temperature exponent\n",
    "E_lo = py\"np.load\"(\".npy files/activation_energy_lo.npy\") \n",
    "\n",
    "ν1_order[:,elmr] = order\n",
    "ν1_order[:,tbd] = order_t\n",
    "ν1_order[:,falofr] = order_f;"
   ]
  },
  {
   "cell_type": "code",
   "execution_count": 7,
   "metadata": {},
   "outputs": [
    {
     "data": {
      "text/plain": [
       "f (generic function with 1 method)"
      ]
     },
     "execution_count": 7,
     "metadata": {},
     "output_type": "execute_result"
    }
   ],
   "source": [
    "function q(t)\n",
    "    t0 = 1e-5\n",
    "    r = 1e-6\n",
    "    c = 5e11\n",
    "    return c * exp(-(t-t0)^2 / r^2)\n",
    "end\n",
    "function f(mTY, Qdot, t)\n",
    "    m = mTY[1]\n",
    "    T = mTY[2]\n",
    "    Y = mTY[3:end]\n",
    "    ρ = m / V # density\n",
    "    X = tf.reshape(ρ * tf.divide(Y, W), (N,1)) # Concentration\n",
    "    ω_dot, cp, cv, u, p = compute_ω_dot(m, T, Y, ρ, X)\n",
    "    ###### mout_dot computation\n",
    "    mout_dot = compute_mout_dot(m, cp, cv, R, X, W, Y, T)\n",
    "    min_dot = 0\n",
    "    m_dot = min_dot - mout_dot\n",
    "    ###### Species Conservation\n",
    "    mgen_dot = V * ω_dot\n",
    "    Y_dot = (1 / m) * ((min_dot * (Yin - Y)) + mgen_dot) \n",
    "    ###### EnergyConservation\n",
    "    #Qdot = abs(fc(t * 1e5, [20,20,1], theta[2]) + 1) * 10 ^ theta[1] \n",
    "    Qdot = 5e11 * exp(-(t - 1e-5) ^ 2 / (1e-6 * 1e-6))\n",
    "    T_dot = 1 / (m * cv) * (Qdot + min_dot * (hin - sum(u .* Yin)) - p * V / m * mout_dot - sum(mgen_dot .* u))\n",
    "    return tf.concat([tf.reshape(m_dot, (1,)), tf.reshape(T_dot, (1,)), Y_dot], 0)\n",
    "end"
   ]
  },
  {
   "cell_type": "code",
   "execution_count": 8,
   "metadata": {},
   "outputs": [
    {
     "ename": "LoadError",
     "evalue": "UndefVarError: Yt_cant not defined",
     "output_type": "error",
     "traceback": [
      "UndefVarError: Yt_cant not defined",
      "",
      "Stacktrace:",
      " [1] top-level scope at In[8]:5",
      " [2] include_string(::Function, ::Module, ::String, ::String) at .\\loading.jl:1091",
      " [3] execute_code(::String, ::String) at C:\\Users\\Michael\\.julia\\packages\\IJulia\\rWZ9e\\src\\execute_request.jl:27",
      " [4] execute_request(::ZMQ.Socket, ::IJulia.Msg) at C:\\Users\\Michael\\.julia\\packages\\IJulia\\rWZ9e\\src\\execute_request.jl:86",
      " [5] #invokelatest#1 at .\\essentials.jl:710 [inlined]",
      " [6] invokelatest at .\\essentials.jl:709 [inlined]",
      " [7] eventloop(::ZMQ.Socket) at C:\\Users\\Michael\\.julia\\packages\\IJulia\\rWZ9e\\src\\eventloop.jl:8",
      " [8] (::IJulia.var\"#15#18\")() at .\\task.jl:356"
     ]
    }
   ],
   "source": [
    "timestep = py\"np.load\"(\".npy files/timestep.npy\")\n",
    "Tt_cant = py\"np.load\"(\".npy files/temperature.npy\")\n",
    "T_ref = zeros(size(timestep)[1])\n",
    "T_ref = Tt_cant\n",
    "Y_ref = Yt_cant\n",
    "Yt_cant = py\"np.load\"(\".npy files/mass_fraction.npy\")\n",
    "obs = [T_ref Y_ref'];"
   ]
  },
  {
   "cell_type": "code",
   "execution_count": 9,
   "metadata": {},
   "outputs": [
    {
     "ename": "LoadError",
     "evalue": "UndefVarError: constant not defined",
     "output_type": "error",
     "traceback": [
      "UndefVarError: constant not defined",
      "",
      "Stacktrace:",
      " [1] top-level scope at In[9]:2",
      " [2] include_string(::Function, ::Module, ::String, ::String) at .\\loading.jl:1091",
      " [3] execute_code(::String, ::String) at C:\\Users\\Michael\\.julia\\packages\\IJulia\\rWZ9e\\src\\execute_request.jl:27",
      " [4] execute_request(::ZMQ.Socket, ::IJulia.Msg) at C:\\Users\\Michael\\.julia\\packages\\IJulia\\rWZ9e\\src\\execute_request.jl:86",
      " [5] #invokelatest#1 at .\\essentials.jl:710 [inlined]",
      " [6] invokelatest at .\\essentials.jl:709 [inlined]",
      " [7] eventloop(::ZMQ.Socket) at C:\\Users\\Michael\\.julia\\packages\\IJulia\\rWZ9e\\src\\eventloop.jl:8",
      " [8] (::IJulia.var\"#15#18\")() at .\\task.jl:356"
     ]
    }
   ],
   "source": [
    "num_s = 1\n",
    "t = constant(timestep)\n",
    "#θ = Variable(fc_init([1,20,20,1]))\n",
    "θ = Variable(py\"np.load\"(\".npy files/theta_.npy\"))\n",
    "#C = Variable(3.0)\n",
    "C = Variable(py\"np.load\"(\".npy files/c_.npy\"))\n",
    "Qdtb = abs(fc(t * 1e5, [20,20,1], θ))\n",
    "Qdot = 1.0 * (1.0 / (1.0 + exp(-C))) * 1e6 * Qdtb / sum(Qdtb[1:end-1] * (t[2:end] - t[1:end-1]))\n",
    "r = constant(py\"np.load\"(\".npy files/r_.npy\"))\n",
    "z = constant(py\"np.load\"(\".npy files/z_.npy\"))"
   ]
  },
  {
   "cell_type": "code",
   "execution_count": 10,
   "metadata": {},
   "outputs": [
    {
     "ename": "LoadError",
     "evalue": "PyError ($(Expr(:escape, :(ccall(#= C:\\Users\\Michael\\.julia\\packages\\PyCall\\BcTLp\\src\\pyfncall.jl:43 =# @pysym(:PyObject_Call), PyPtr, (PyPtr, PyPtr, PyPtr), o, pyargsptr, kw))))) <class 'FileNotFoundError'>\nFileNotFoundError(2, 'No such file or directory')\n  File \"C:\\Users\\Michael\\.julia\\conda\\3\\lib\\site-packages\\numpy\\lib\\npyio.py\", line 384, in load\n    fid = open(file, \"rb\")\n",
     "output_type": "error",
     "traceback": [
      "PyError ($(Expr(:escape, :(ccall(#= C:\\Users\\Michael\\.julia\\packages\\PyCall\\BcTLp\\src\\pyfncall.jl:43 =# @pysym(:PyObject_Call), PyPtr, (PyPtr, PyPtr, PyPtr), o, pyargsptr, kw))))) <class 'FileNotFoundError'>\nFileNotFoundError(2, 'No such file or directory')\n  File \"C:\\Users\\Michael\\.julia\\conda\\3\\lib\\site-packages\\numpy\\lib\\npyio.py\", line 384, in load\n    fid = open(file, \"rb\")\n",
      "",
      "Stacktrace:",
      " [1] pyerr_check at C:\\Users\\Michael\\.julia\\packages\\PyCall\\BcTLp\\src\\exception.jl:62 [inlined]",
      " [2] pyerr_check at C:\\Users\\Michael\\.julia\\packages\\PyCall\\BcTLp\\src\\exception.jl:66 [inlined]",
      " [3] _handle_error(::String) at C:\\Users\\Michael\\.julia\\packages\\PyCall\\BcTLp\\src\\exception.jl:83"
     ]
    }
   ],
   "source": [
    "#θrz = Variable(fc_init([2,10,10,1]))\n",
    "θrz = Variable(py\"np.load\"(\".npy files/thetarz_.npy\"))\n",
    "f_r = fc([r z], [10, 10, 1], θrz)\n",
    "f_r = 1.0 / (1.0 + exp(-f_r))\n",
    "Qdff = f_r * tf.reshape(Qdot,(1,-1))"
   ]
  },
  {
   "cell_type": "code",
   "execution_count": null,
   "metadata": {},
   "outputs": [],
   "source": [
    "obs = py\"np.load\"(\".npy files/obs.npy\")\n",
    "nt = size(timestep)[1]\n",
    "inds = range(125, nt, step=20)\n",
    "mTY = [m_; T; Y]\n",
    "mTY = ADCME.constant(mTY)\n",
    "loss = constant(0.0)\n",
    "function condition(k, U, t, Qi)\n",
    "    k <= nt - 1\n",
    "end\n",
    "\n",
    "function body(k, U, t, Qi)\n",
    "    dt = t[k + 1] - t[k]\n",
    "    uk = read(U,k)\n",
    "    k1 = f(uk, Qi[k], t[k])\n",
    "    k2 = f(uk + 0.5 * dt * k1, Qi[k], t[k] + 0.5 * dt)\n",
    "    k3 = f(uk + 0.5 * dt * k2, Qi[k], t[k] + 0.5 * dt)\n",
    "    k4 = f(uk + dt * k3, Qi[k], t[k] + dt) \n",
    "    u_new = uk + 1/6 * dt * (k1 + 2 * k2 + 2 * k3 + k4)\n",
    "    U = write(U, k+1, u_new)\n",
    "    k+1, U, t, Qi\n",
    "end\n",
    "k = constant(1, dtype=Int32)\n",
    "t = constant(timestep)\n",
    "Us= [TensorArray(nt) for i = 1:num_s]\n",
    "i = 1\n",
    "Us[i] = write(Us[i], 1, mTY)\n",
    "_, U_out = while_loop(condition, body, [k, Us[i], t, Qdff[i,:]])\n",
    "U_array = set_shape(stack(U_out), (nt, N+2))\n",
    "# for i =1:num_s\n",
    "#     print(i)\n",
    "#     Us[i] = write(Us[i], 1, mTY)\n",
    "#     _, U_out=while_loop(condition, body, [k, Us[i], t, Qdff[i,:]])\n",
    "#     U_array = set_shape(stack(U_out), (nt, N+2))\n",
    "#     loss += sum((U_array[inds,1]-obs[inds,i])^2)\n",
    "#     print(i)\n",
    "# end"
   ]
  },
  {
   "cell_type": "code",
   "execution_count": null,
   "metadata": {},
   "outputs": [],
   "source": [
    "sess = Session()\n",
    "init(sess)\n",
    "out = run(sess, U_array);"
   ]
  },
  {
   "cell_type": "code",
   "execution_count": null,
   "metadata": {},
   "outputs": [],
   "source": [
    "Tt_cant = py\"np.load\"(\".npy files/temperature.npy\")\n",
    "plot(timestep, Tt_cant, label =false)\n",
    "plot!(timestep, out[:,2], label =false)\n",
    "xlabel!(\"Time\")\n",
    "ylabel!(\"Temperature\")"
   ]
  },
  {
   "cell_type": "code",
   "execution_count": null,
   "metadata": {},
   "outputs": [],
   "source": [
    "# Up to \"End of Code\""
   ]
  },
  {
   "cell_type": "code",
   "execution_count": null,
   "metadata": {},
   "outputs": [],
   "source": [
    "function sigmoid(X)\n",
    "    sigma = 1 ./(1 .+ exp.(.-X))\n",
    "    return sigma , X \n",
    "end\n",
    "function relu(X)\n",
    "    rel = max.(0,X)\n",
    "    return rel , X\n",
    "end"
   ]
  },
  {
   "cell_type": "code",
   "execution_count": null,
   "metadata": {},
   "outputs": [],
   "source": [
    "function init_param(layer_dimensions)\n",
    "\n",
    "    param = Dict()\n",
    "    \n",
    "    for l=2:length(layer_dimensions)\n",
    "\n",
    "        param[string(\"W_\" , string(l-1))] = rand(layer_dimensions[l] ,\n",
    "\t\t\t\tlayer_dimensions[l-1])*0.1\n",
    "        param[string(\"b_\" , string(l-1))] = zeros(layer_dimensions[l] , 1)\n",
    "    \n",
    "    end\n",
    "\n",
    "    return param\n",
    "\n",
    "end"
   ]
  },
  {
   "cell_type": "code",
   "execution_count": null,
   "metadata": {},
   "outputs": [],
   "source": [
    "function forward_linear(A , w , b)\n",
    "\n",
    "    Z = w*A .+ b\n",
    "    cache = (A , w , b)\n",
    "\n",
    "    return Z,cache\n",
    "\n",
    "end"
   ]
  },
  {
   "cell_type": "code",
   "execution_count": null,
   "metadata": {},
   "outputs": [],
   "source": [
    "function calculate_activation_forward(A_pre , W , b , function_type)\n",
    "\n",
    "    if (function_type == \"sigmoid\")\n",
    "\n",
    "        Z , linear_step_cache = forward_linear(A_pre , W , b)\n",
    "        A , activation_step_cache = sigmoid(Z)\n",
    "\n",
    "    elseif (function_type == \"relu\")\n",
    "\n",
    "        Z , linear_step_cache = forward_linear(A_pre , W , b)\n",
    "        A , activation_step_cache = relu(Z)\n",
    "\n",
    "    end\n",
    "\n",
    "    cache = (linear_step_cache , activation_step_cache)\n",
    "    return A , cache\n",
    "\n",
    "end"
   ]
  },
  {
   "cell_type": "code",
   "execution_count": null,
   "metadata": {},
   "outputs": [],
   "source": [
    "function model_forward_step(X , params)\n",
    "\n",
    "    all_caches = []\n",
    "    A = X\n",
    "    L = length(params)/2\n",
    "\n",
    "    for l=1:L-1\n",
    "        A_pre = A\n",
    "        A , cache = calculate_activation_forward(A_pre , params[string(\"W_\" , string(Int(l)))] , params[string(\"b_\" , string(Int(l)))] , \"relu\")\n",
    "        push!(all_caches , cache)\n",
    "    end \n",
    "    A_l , cache = calculate_activation_forward(A , params[string(\"W_\" , string(Int(L)))] , params[string(\"b_\" , string(Int(L)))] , \"sigmoid\")\n",
    "    push!(all_caches , cache)\n",
    "\n",
    "\n",
    "    return A_l , all_caches \n",
    "\n",
    "end"
   ]
  },
  {
   "cell_type": "code",
   "execution_count": null,
   "metadata": {},
   "outputs": [],
   "source": [
    "function cost_function(AL , Y)\n",
    "    \n",
    "    cost = -mean(Y.*log.(AL) + (1 .- Y).*log.(1 .- AL))\n",
    "\n",
    "    return cost \n",
    "\n",
    "end"
   ]
  },
  {
   "cell_type": "code",
   "execution_count": null,
   "metadata": {},
   "outputs": [],
   "source": [
    "function backward_linear_step(dZ , cache)\n",
    "\n",
    "    A_prev , W , b = cache\n",
    "\n",
    "    m = size(A_prev)[2]\n",
    "    \n",
    "    dW = dZ * (A_prev')/m\n",
    "    db = sum(dZ , dims = 2)/m\n",
    "    dA_prev = (W')* dZ\n",
    "    return dW , db , dA_prev \n",
    "\n",
    "end"
   ]
  },
  {
   "cell_type": "code",
   "execution_count": null,
   "metadata": {},
   "outputs": [],
   "source": [
    "function backward_relu(dA , cache_activation)\n",
    "    return dA.*(cache_activation.>0)\n",
    "end \n",
    "\n",
    "function backward_sigmoid(dA , cache_activation)\n",
    "    return dA.*(sigmoid(cache_activation)[1].*(1 .- sigmoid(cache_activation)[1]))\n",
    "end"
   ]
  },
  {
   "cell_type": "code",
   "execution_count": null,
   "metadata": {},
   "outputs": [],
   "source": [
    "function backward_activation_step(dA , cache , activation)\n",
    "\n",
    "    linear_cache , cache_activation = cache\n",
    "    if (activation == \"relu\")\n",
    "\n",
    "        dZ = backward_relu(dA , cache_activation)\n",
    "        dW , db , dA_prev = backward_linear_step(dZ , linear_cache)\n",
    "\n",
    "    elseif (activation == \"sigmoid\")\n",
    "\n",
    "        dZ = backward_sigmoid(dA , cache_activation)\n",
    "        dW , db , dA_prev = backward_linear_step(dZ , linear_cache)\n",
    "\n",
    "    end \n",
    "\n",
    "    return dW , db , dA_prev\n",
    "\n",
    "end "
   ]
  },
  {
   "cell_type": "code",
   "execution_count": null,
   "metadata": {},
   "outputs": [],
   "source": [
    "function model_backwards_step(A_l , Y , caches)\n",
    "\n",
    "    grads = Dict()\n",
    "\n",
    "    L = length(caches)\n",
    "\n",
    "    m = size(A_l)[2]\n",
    "\n",
    "    Y = reshape(Y , size(A_l))\n",
    "    dA_l = (-(Y./A_l) .+ ((1 .- Y)./( 1 .- A_l)))\n",
    "    current_cache = caches[L]\n",
    "    grads[string(\"dW_\" , string(L))] , grads[string(\"db_\" , string(L))] , grads[string(\"dA_\" , string(L-1))] = backward_activation_step(dA_l , current_cache , \"sigmoid\")\n",
    "    for l=reverse(0:L-2)\n",
    "        current_cache = caches[l+1]\n",
    "        grads[string(\"dW_\" , string(l+1))] , grads[string(\"db_\" , string(l+1))] , grads[string(\"dA_\" , string(l))] = backward_activation_step(grads[string(\"dA_\" , string(l+1))] , current_cache , \"relu\")\n",
    "\n",
    "    end \n",
    "\n",
    "    return grads \n",
    "\n",
    "end"
   ]
  },
  {
   "cell_type": "code",
   "execution_count": null,
   "metadata": {},
   "outputs": [],
   "source": [
    "function update_param(parameters , grads , learning_rate)\n",
    "\n",
    "    L = Int(length(parameters)/2)\n",
    "\n",
    "    for l=0:(L-1)\n",
    "\n",
    "        parameters[string(\"W_\" , string(l+1))] -= learning_rate.*grads[string(\"dW_\" , string(l+1))]\n",
    "        parameters[string(\"b_\",string(l+1))] -= learning_rate.*grads[string(\"db_\",string(l+1))]\n",
    "\n",
    "    end \n",
    "\n",
    "    return parameters\n",
    "\n",
    "end"
   ]
  }
 ],
 "metadata": {
  "kernelspec": {
   "display_name": "Julia 1.5.2",
   "language": "julia",
   "name": "julia-1.5"
  },
  "language_info": {
   "file_extension": ".jl",
   "mimetype": "application/julia",
   "name": "julia",
   "version": "1.5.2"
  }
 },
 "nbformat": 4,
 "nbformat_minor": 4
}
