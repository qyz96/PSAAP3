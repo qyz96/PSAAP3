{
 "cells": [
  {
   "cell_type": "code",
   "execution_count": 1,
   "metadata": {},
   "outputs": [],
   "source": [
    "import cantera as ct\n",
    "import numpy as np\n",
    "import matplotlib.pyplot as plt"
   ]
  },
  {
   "cell_type": "code",
   "execution_count": 2,
   "metadata": {},
   "outputs": [],
   "source": [
    "def nozzle_nasa_mdot(t):\n",
    "    # Can represent mass inflow by increasing combined gas's density\n",
    "    \"\"\"\n",
    "    Compute the efflux of the combustor via simple isentropic relations.\n",
    "    The efficiency of the nozzle is modeled using a discharge coefficient\n",
    "    :param t: time\n",
    "    :return: mass flux at the outlet (efflux) of the combustion chamber.\n",
    "    \"\"\"\n",
    "    # Avoid a unity pressure ratio at startup\n",
    "    # print(gas.T)\n",
    "    epsilon = 1.0\n",
    "    _rho = gas.density\n",
    "    _press = gas.P\n",
    "    _area = 1  # arbitrarily chosen value, [m^2]\n",
    "    _gamma_s = gas.cp / gas.cv\n",
    "    _temp = gas.T\n",
    "    _r_gas_specific = gas.cp - gas.cv\n",
    "    _p_ratio = 101325 / (gas.P + epsilon)  # Exhaust pressure is atmospheric pressure\n",
    "\n",
    "    power_1 = 2.0 / _gamma_s\n",
    "    power_2 = (_gamma_s + 1.0) / (_gamma_s)\n",
    "    pressure_term = _p_ratio ** power_1 - _p_ratio ** power_2\n",
    "    _sqrt_term = 2. * _gamma_s * _r_gas_specific * _temp / (_gamma_s - 1.0)\n",
    "    _sqrt_term *= pressure_term\n",
    "    assert (_sqrt_term >= 0.0)\n",
    "    _sqrt_term = np.sqrt(_sqrt_term)\n",
    "\n",
    "    _mdot_unchoked = _rho * _area * _sqrt_term\n",
    "\n",
    "    power = (_gamma_s + 1.0) / (_gamma_s - 1.0)\n",
    "    _gamma_term = (2. / (_gamma_s + 1.0)) ** power\n",
    "    _sqrt = np.sqrt(_gamma_s * _r_gas_specific * _temp * _gamma_term)\n",
    "    _mdot_choked = _rho * _area * _sqrt\n",
    "\n",
    "    _mdot = 0.0\n",
    "    _p_crit_downstream = _press * (2. / (_gamma_s + 1.0)) ** (_gamma_s / (_gamma_s - 1.0))\n",
    "\n",
    "    if _p_crit_downstream < 101325:  # Less than exhaust pressure = P_atm\n",
    "        # Unchoked conditions\n",
    "        _mdot = _mdot_unchoked\n",
    "    else:\n",
    "        # Choked conditions\n",
    "        _mdot = _mdot_choked\n",
    "\n",
    "    return _mdot  # * _geom_nozzle['C_d']  # Discharge coefficient"
   ]
  },
  {
   "cell_type": "code",
   "execution_count": 3,
   "metadata": {},
   "outputs": [
    {
     "name": "stdout",
     "output_type": "stream",
     "text": [
      "0.6230873908010114\n",
      "105000.00000000001\n"
     ]
    }
   ],
   "source": [
    "num_s = 1\n",
    "r_ = np.random.uniform(size=(num_s,1))\n",
    "z_ = np.random.uniform(size=(num_s,1))\n",
    "# r_ = np.zeros((num_s, 1))\n",
    "# z_ = np.zeros((num_s, 1))\n",
    "# m = 4\n",
    "# for i, rrr in enumerate(np.arange(0.05, 1, 0.3)):\n",
    "#     for j, zzz in enumerate(np.arange(0.05, 1, 0.3)):\n",
    "#         r_[i * m + j, 0] = rrr\n",
    "#         z_[i * m + j, 0] = zzz\n",
    "# for i in range(4):\n",
    "#     r_[16 + i, 0] = \n",
    "\n",
    "#r_ = np.ones((num_s, 1)) * 0.8\n",
    "#z_ = np.ones((num_s, 1)) * 0.2\n",
    "e_ = np.random.normal(size=(num_s, 1))\n",
    "n_t = 500\n",
    "obs = np.zeros((n_t + 1, num_s))\n",
    "for k in range(num_s):\n",
    "    rr = r_[k,0]\n",
    "    zz = z_[k,0]\n",
    "    def Q(t):\n",
    "        t0 = 1e-5\n",
    "        r  = 1e-6\n",
    "        c  = 5e11\n",
    "        return c * np.exp(-(t - t0)**2 / r**2) \n",
    "        #return (1 - np.abs(rr - 0.1)) * (1 - (zz - 0.4)**2) * c * np.exp(-(t - t0)**2 / r**2) \n",
    "    gas = ct.Solution(\"2S_methane.cti\")\n",
    "    gas.Y = np.ones(gas.n_species) / gas.n_species\n",
    "    gas.TP = 500, 105000\n",
    "    print(gas.density)\n",
    "    np.save(\".npy files/ini_mass_fraction.npy\", gas.Y)\n",
    "    np.save('.npy files/density.npy', gas.density)\n",
    "    print(gas.P)\n",
    "    r1 = ct.IdealGasReactor(gas)\n",
    "    res = ct.Reservoir(gas)\n",
    "    wall = ct.Wall(res, r1)\n",
    "    wall.set_heat_flux(Q)\n",
    "    wall.area = 1.0\n",
    "    exhaust_gas = ct.Solution(\"2S_methane.cti\")\n",
    "    exhaust = ct.Reservoir(exhaust_gas)\n",
    "    mfc = ct.MassFlowController(upstream = r1, downstream = exhaust, mdot = nozzle_nasa_mdot)  # mdot = nozzle_nasa_mdot\n",
    "    sim = ct.ReactorNet([r1]) \n",
    "    Pt = np.zeros(n_t + 1)\n",
    "    Tt = np.zeros(n_t + 1)\n",
    "    Yt = np.zeros((gas.n_species,n_t + 1))\n",
    "    Rhot = np.zeros(n_t + 1)\n",
    "    timestep = np.zeros(n_t+1)\n",
    "    Pt[0] = gas.P\n",
    "    Tt[0] = gas.T\n",
    "    Yt[:,0] = gas.Y\n",
    "    Rhot[0] = gas.density\n",
    "    timestep[0] = 0\n",
    "    dt = 0\n",
    "    t = 0\n",
    "    for i in range(n_t):\n",
    "        if (i < 125):\n",
    "            dt = 5e-8\n",
    "        else:\n",
    "            dt = 2e-8\n",
    "        t += dt\n",
    "        sim.advance(t)\n",
    "        timestep[i+1] = t\n",
    "        #timestep[i+1] = sim.step()\n",
    "        Pt[i + 1] = gas.P\n",
    "        Tt[i + 1] = gas.T\n",
    "        Yt[:,i + 1] = gas.Y\n",
    "        Rhot[i + 1] = gas.density\n",
    "    obs[:,k] = Tt\n",
    "    #print(gas.density)"
   ]
  },
  {
   "cell_type": "code",
   "execution_count": 4,
   "metadata": {},
   "outputs": [
    {
     "data": {
      "text/plain": [
       "[<matplotlib.lines.Line2D at 0x27b6703d6d8>]"
      ]
     },
     "execution_count": 4,
     "metadata": {},
     "output_type": "execute_result"
    },
    {
     "data": {
      "image/png": "[encoded data removed]",
      "text/plain": [
       "<Figure size 432x288 with 1 Axes>"
      ]
     },
     "metadata": {
      "needs_background": "light"
     },
     "output_type": "display_data"
    },
    {
     "data": {
      "image/png": "[encoded data removed]",
      "text/plain": [
       "<Figure size 432x288 with 1 Axes>"
      ]
     },
     "metadata": {
      "needs_background": "light"
     },
     "output_type": "display_data"
    },
    {
     "data": {
      "image/png": "[encoded data removed]",
      "text/plain": [
       "<Figure size 432x288 with 1 Axes>"
      ]
     },
     "metadata": {
      "needs_background": "light"
     },
     "output_type": "display_data"
    }
   ],
   "source": [
    "plt.plot(timestep, obs)\n",
    "plt.figure()\n",
    "for i in range(gas.n_species):\n",
    "    plt.plot(timestep, Yt[i,:])\n",
    "####\n",
    "plt.figure()\n",
    "plt.plot(timestep, Rhot)"
   ]
  },
  {
   "cell_type": "code",
   "execution_count": 8,
   "metadata": {},
   "outputs": [
    {
     "ename": "NameError",
     "evalue": "name 'orders_t' is not defined",
     "output_type": "error",
     "traceback": [
      "\u001b[1;31m---------------------------------------------------------------------------\u001b[0m",
      "\u001b[1;31mNameError\u001b[0m                                 Traceback (most recent call last)",
      "\u001b[1;32m<ipython-input-8-f2d924d02149>\u001b[0m in \u001b[0;36m<module>\u001b[1;34m\u001b[0m\n\u001b[0;32m    109\u001b[0m \u001b[1;33m\u001b[0m\u001b[0m\n\u001b[0;32m    110\u001b[0m \u001b[0mnp\u001b[0m\u001b[1;33m.\u001b[0m\u001b[0msave\u001b[0m\u001b[1;33m(\u001b[0m\u001b[1;34m'.npy files/efficiency_t.npy'\u001b[0m\u001b[1;33m,\u001b[0m \u001b[0mefficiency_t\u001b[0m\u001b[1;33m)\u001b[0m\u001b[1;33m\u001b[0m\u001b[0m\n\u001b[1;32m--> 111\u001b[1;33m \u001b[0mnp\u001b[0m\u001b[1;33m.\u001b[0m\u001b[0msave\u001b[0m\u001b[1;33m(\u001b[0m\u001b[1;34m'.npy files/reaction_orders_t.npy'\u001b[0m\u001b[1;33m,\u001b[0m \u001b[0morders_t\u001b[0m\u001b[1;33m)\u001b[0m\u001b[1;33m\u001b[0m\u001b[0m\n\u001b[0m\u001b[0;32m    112\u001b[0m \u001b[0mnp\u001b[0m\u001b[1;33m.\u001b[0m\u001b[0msave\u001b[0m\u001b[1;33m(\u001b[0m\u001b[1;34m'.npy files/pre_exponential_factor_t.npy'\u001b[0m\u001b[1;33m,\u001b[0m \u001b[0mAf_t\u001b[0m\u001b[1;33m)\u001b[0m\u001b[1;33m\u001b[0m\u001b[0m\n\u001b[0;32m    113\u001b[0m \u001b[0mnp\u001b[0m\u001b[1;33m.\u001b[0m\u001b[0msave\u001b[0m\u001b[1;33m(\u001b[0m\u001b[1;34m'.npy files/temperature_exponent_t.npy'\u001b[0m\u001b[1;33m,\u001b[0m \u001b[0mbeta_t\u001b[0m\u001b[1;33m)\u001b[0m\u001b[1;33m\u001b[0m\u001b[0m\n",
      "\u001b[1;31mNameError\u001b[0m: name 'orders_t' is not defined"
     ]
    }
   ],
   "source": [
    "np.save('.npy files/obs.npy', obs)\n",
    "np.save('.npy files/r_.npy', r_)\n",
    "np.save('.npy files/z_.npy', z_)\n",
    "np.save('.npy files/total_mass.npy', Rhot)\n",
    "np.save('.npy files/pressure.npy', Pt)\n",
    "np.save('.npy files/temperature.npy', Tt)\n",
    "np.save('.npy files/mass_fraction.npy', Yt)\n",
    "np.save('.npy files/timestep.npy', timestep)\n",
    "tbd = []\n",
    "falofr = []\n",
    "elmr = []\n",
    "for i in range(gas.n_reactions):\n",
    "    if (isinstance(gas.reaction(i), ct.ThreeBodyReaction)):\n",
    "        tbd.append(i)\n",
    "    elif (isinstance(gas.reaction(i), ct.FalloffReaction)):\n",
    "        falofr.append(i)\n",
    "    else:\n",
    "        elmr.append(i)\n",
    "\n",
    "NASA_coeffs = []\n",
    "for i in range(gas.n_species):\n",
    "    NASA_coeffs.append(gas.species(i).thermo.coeffs)\n",
    "NASA_coeffs = np.array(NASA_coeffs)\n",
    "reactants = []\n",
    "orders = [] \n",
    "Af = np.zeros(len(elmr))\n",
    "beta = np.zeros(len(elmr))\n",
    "E = np.zeros(len(elmr))\n",
    "\n",
    "rec2ind = dict()\n",
    "for i in range(gas.n_species):\n",
    "    reactants.append(gas.species(i).name)\n",
    "    rec2ind[gas.species(i).name] = i\n",
    "orders = gas.reactant_stoich_coeffs()[:,elmr]\n",
    "for i, s in enumerate(elmr):   \n",
    "    Af[i] = gas.reaction(s).rate.pre_exponential_factor\n",
    "    beta[i] = gas.reaction(s).rate.temperature_exponent\n",
    "    E[i] = gas.reaction(s).rate.activation_energy\n",
    "    for rec in gas.reaction(s).orders:\n",
    "        orders[rec2ind[rec], i] = gas.reaction(s).orders[rec]\n",
    "reversible = np.array([int(gas.reaction(i).reversible) for i in range(gas.n_reactions)])\n",
    "\n",
    "np.save('.npy files/NASA_coeffs.npy', NASA_coeffs)\n",
    "np.save('.npy files/molecular_weights.npy',gas.molecular_weights)\n",
    "np.save('.npy files/reactants_stoich_coeffs.npy',gas.reactant_stoich_coeffs())\n",
    "np.save('.npy files/product_stoich_coeffs.npy',gas.product_stoich_coeffs())\n",
    "np.save('.npy files/reaction_orders.npy',orders)\n",
    "np.save('.npy files/pre_exponential_factor.npy', Af)\n",
    "np.save('.npy files/temperature_exponent.npy', beta)\n",
    "np.save('.npy files/activation_energy.npy', E)\n",
    "np.save('.npy files/delta_standard_entropy.npy', gas.delta_standard_entropy)\n",
    "np.save('.npy files/delta_standard_enthalpy.npy', gas.delta_standard_enthalpy)\n",
    "np.save('.npy files/reversible.npy', reversible)\n",
    "\n",
    "efficiency_f = np.zeros((gas.n_species, len(falofr)))\n",
    "Af_lo = np.zeros(len(falofr))\n",
    "beta_lo = np.zeros(len(falofr))\n",
    "E_lo = np.zeros(len(falofr))\n",
    "Af_hi = np.zeros(len(falofr))\n",
    "beta_hi = np.zeros(len(falofr))\n",
    "E_hi = np.zeros(len(falofr))\n",
    "orders_f = gas.reactant_stoich_coeffs()[:,falofr]\n",
    "falloff_parameters = np.zeros((4, len(falofr)))\n",
    "troefall = []\n",
    "troefall_coeff = []\n",
    "for i, s in enumerate(falofr):\n",
    "    rr = gas.reaction(s)\n",
    "    Af_lo[i] = rr.low_rate.pre_exponential_factor\n",
    "    beta_lo[i] = rr.low_rate.temperature_exponent\n",
    "    E_lo[i] = rr.low_rate.activation_energy\n",
    "    Af_hi[i] = rr.high_rate.pre_exponential_factor\n",
    "    beta_hi[i] = rr.high_rate.temperature_exponent\n",
    "    E_hi[i] = rr.high_rate.activation_energy\n",
    "    efficiency_f[:,i] = rr.default_efficiency * np.ones(gas.n_species)\n",
    "    if(isinstance(rr.falloff, ct.TroeFalloff)):\n",
    "        troefall.append(i)\n",
    "        troefall_coeff.append(rr.falloff.parameters)\n",
    "    #falloff_parameters[:,i] = gas.reaction(s).falloff.parameters\n",
    "    for rec in rr.efficiencies:\n",
    "        efficiency_f[rec2ind[rec]] = rr.efficiencies[rec]\n",
    "    for rec in gas.reaction(s).orders:\n",
    "        orders_f[rec2ind[rec], i] = gas.reaction(s).orders[rec]\n",
    "\n",
    "np.save('.npy files/efficiency_f.npy', efficiency_f)\n",
    "np.save('.npy files/troefall_coeff.npy', np.array(troefall_coeff).T)\n",
    "np.save('.npy files/troefall.npy', troefall)\n",
    "np.save('.npy files/reaction_orders_f.npy',orders_f)\n",
    "np.save('.npy files/pre_exponential_factor_hi.npy', Af_hi)\n",
    "np.save('.npy files/temperature_exponent_hi.npy', beta_hi)\n",
    "np.save('.npy files/activation_energy_hi.npy', E_hi)\n",
    "np.save('.npy files/pre_exponential_factor_lo.npy', Af_lo)\n",
    "np.save('.npy files/temperature_exponent_lo.npy', beta_lo)\n",
    "np.save('.npy files/activation_energy_lo.npy', E_lo)\n",
    "\n",
    "efficiency_t = np.zeros((gas.n_species, len(tbd)))\n",
    "Af_t = np.zeros(len(tbd))\n",
    "beta_t = np.zeros(len(tbd))\n",
    "E_t = np.zeros(len(tbd))\n",
    "for i, s in enumerate(tbd):\n",
    "    rr = gas.reaction(s)\n",
    "    Af_t[i] = rr.rate.pre_exponential_factor\n",
    "    beta_t[i] = rr.rate.temperature_exponent\n",
    "    E_t[i] = rr.rate.activation_energy\n",
    "    efficiency_t[:,i] = rr.default_efficiency * np.ones(gas.n_species)\n",
    "    for rec in rr.efficiencies:\n",
    "        efficiency_t[rec2ind[rec]] = rr.efficiencies[rec]\n",
    "    for rec in gas.reaction(s).orders:\n",
    "        orders_t[rec2ind[rec], i] = gas.reaction(s).orders[rec]\n",
    "        \n",
    "np.save('.npy files/efficiency_t.npy', efficiency_t)\n",
    "np.save('.npy files/reaction_orders_t.npy', orders_t)\n",
    "np.save('.npy files/pre_exponential_factor_t.npy', Af_t)\n",
    "np.save('.npy files/temperature_exponent_t.npy', beta_t)\n",
    "np.save('.npy files/activation_energy_t.npy', E_t)\n",
    "np.save('.npy files/tbd.npy',tbd)\n",
    "np.save('.npy files/falofr.npy',falofr)\n",
    "np.save('.npy files/elmr.npy',elmr)"
   ]
  },
  {
   "cell_type": "code",
   "execution_count": null,
   "metadata": {},
   "outputs": [],
   "source": [
    "r = np.random.uniform(size=(10,))\n",
    "z = np.random.uniform(size=(10,))"
   ]
  },
  {
   "cell_type": "code",
   "execution_count": null,
   "metadata": {},
   "outputs": [],
   "source": []
  }
 ],
 "metadata": {
  "kernelspec": {
   "display_name": "Python 3",
   "language": "python",
   "name": "python3"
  },
  "language_info": {
   "codemirror_mode": {
    "name": "ipython",
    "version": 3
   },
   "file_extension": ".py",
   "mimetype": "text/x-python",
   "name": "python",
   "nbconvert_exporter": "python",
   "pygments_lexer": "ipython3",
   "version": "3.7.0"
  }
 },
 "nbformat": 4,
 "nbformat_minor": 4
}
