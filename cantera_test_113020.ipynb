{
 "cells": [
  {
   "cell_type": "code",
   "execution_count": 7,
   "metadata": {},
   "outputs": [],
   "source": [
    "import cantera as ct\n",
    "import numpy as np\n",
    "import matplotlib.pyplot as plt"
   ]
  },
  {
   "cell_type": "code",
   "execution_count": 8,
   "metadata": {},
   "outputs": [
    {
     "name": "stdout",
     "output_type": "stream",
     "text": [
      "\n",
      "\n",
      "**** WARNING ****\n",
      "For species c7h15o-1, discontinuity in h/RT detected at Tmid = 1391\n",
      "\tValue computed using low-temperature polynomial:  21.8343\n",
      "\tValue computed using high-temperature polynomial: 21.767\n",
      "\n",
      "  gas:\n",
      "\n",
      "       temperature            1200  K\n",
      "          pressure         76289.4  Pa\n",
      "           density        0.284491  kg/m^3\n",
      "  mean mol. weight         37.2066  amu\n",
      "\n",
      "                          1 kg            1 kmol\n",
      "                       -----------      ------------\n",
      "          enthalpy      4.1341e+06        1.538e+08     J\n",
      "   internal energy      3.8659e+06        1.438e+08     J\n",
      "           entropy           10748        3.999e+05     J/K\n",
      "    Gibbs function     -8.7633e+06       -3.261e+08     J\n",
      " heat capacity c_p          3280.6        1.221e+05     J/K\n",
      " heat capacity c_v          3057.2        1.137e+05     J/K\n",
      "\n",
      "                           X                 Y          Chem. Pot. / RT\n",
      "                     -------------     ------------     ------------\n",
      "                n2     0.00830104          0.00625         -30.4184\n",
      "               ch3      0.0154668          0.00625         -16.7273\n",
      "                 h       0.230709          0.00625          4.71089\n",
      "               ch4      0.0144951          0.00625         -38.0997\n",
      "                h2       0.115355          0.00625         -20.4076\n",
      "                oh       0.013673          0.00625         -24.9529\n",
      "               h2o       0.012908          0.00625          -54.327\n",
      "                 o      0.0145344          0.00625        -0.541023\n",
      "              c2h6     0.00773342          0.00625          -47.574\n",
      "              c2h5     0.00800163          0.00625         -28.9325\n",
      "               hco     0.00801359          0.00625         -30.7839\n",
      "                co     0.00830195          0.00625          -42.241\n",
      "               co2     0.00528385          0.00625         -74.1102\n",
      "                o2     0.00726718          0.00625         -32.2845\n",
      "              h2o2     0.00683649          0.00625         -50.9073\n",
      "               ho2     0.00704526          0.00625         -34.2895\n",
      "              c2h4     0.00828912          0.00625         -31.0433\n",
      "             ch3oh     0.00725735          0.00625         -58.8776\n",
      "             ch2oh     0.00749305          0.00625         -41.1759\n",
      "              ch3o     0.00749305          0.00625         -35.1051\n",
      "              ch2o     0.00774458          0.00625         -46.5103\n",
      "              c2h2     0.00893087          0.00625         -10.6439\n",
      "              c2h3     0.00859804          0.00625         -8.39685\n",
      "               c2h     0.00929051          0.00625          23.4138\n",
      "              hcco     0.00566768          0.00625         -22.8354\n",
      "               ch2      0.0165782          0.00625          7.99174\n",
      "                ch      0.0178617          0.00625          30.9462\n",
      "             ch2co     0.00553178          0.00625         -44.8138\n",
      "            ch2(s)      0.0165782          0.00625          12.6537\n",
      "           pc2h4oh     0.00516057          0.00625         -50.7587\n",
      "             ch3co     0.00540225          0.00625         -45.1758\n",
      "            ch3cho     0.00527865          0.00625         -59.8034\n",
      "            c3h5-s     0.00566169          0.00625          -18.474\n",
      "            c3h4-p     0.00580413          0.00625         -22.2159\n",
      "            c3h5-a     0.00566169          0.00625         -26.6828\n",
      "              c3h6     0.00552608          0.00625         -43.0507\n",
      "            c3h4-a     0.00580413          0.00625         -20.9632\n",
      "           ch3chco     0.00414777          0.00625          -55.922\n",
      "            c3h5-t     0.00566169          0.00625           -19.46\n",
      "              c4h6     0.00429902          0.00625         -33.9935\n",
      "             nc3h7     0.00539681          0.00625         -36.7402\n",
      "             ic3h7     0.00539681          0.00625         -36.5644\n",
      "              c3h8     0.00527346          0.00625         -57.1878\n",
      "              c5h9     0.00336399          0.00625         -45.9667\n",
      "              c4h7     0.00422038          0.00625         -37.8111\n",
      "            c4h8-1     0.00414456          0.00625         -52.9325\n",
      "             sc4h9     0.00407142          0.00625         -49.7315\n",
      "             pc4h9     0.00407142          0.00625         -48.0136\n",
      "          ch3coch3      0.0040038          0.00625         -71.1583\n",
      "          ch3coch2     0.00407451          0.00625         -53.3207\n",
      "            c2h5co     0.00407451          0.00625         -54.2617\n",
      "           c2h5cho      0.0040038          0.00625         -69.8312\n",
      "           c5h10-1     0.00331565          0.00625         -62.6323\n",
      "            ch2cho     0.00540225          0.00625         -40.7194\n",
      "           c5h11-1     0.00326867          0.00625         -57.7053\n",
      "           c5h11-2     0.00326867          0.00625         -59.4301\n",
      "             c2h5o     0.00516057          0.00625         -47.1626\n",
      "            c2h5o2     0.00380837          0.00625         -54.7274\n",
      "             ch3o2     0.00494414          0.00625         -42.5949\n",
      "            ch3o2h     0.00484041          0.00625         -58.4691\n",
      "              c3h2     0.00611164          0.00625          10.8983\n",
      "          o2c2h4oh     0.00301767          0.00625         -76.3981\n",
      "           c2h4o2h     0.00380837          0.00625         -51.1982\n",
      "            c2h3co      0.0042237          0.00625         -40.3642\n",
      "           c2h3cho     0.00414777          0.00625         -55.9384\n",
      "             c3h5o     0.00407451          0.00625         -41.3118\n",
      "          c3h6o1-2      0.0040038          0.00625         -57.1142\n",
      "        c3h6ooh1-2     0.00309694          0.00625         -61.7337\n",
      "        c3h6ooh2-1     0.00309694          0.00625         -60.7702\n",
      "            nc3h7o      0.0039355          0.00625         -56.9097\n",
      "            ic3h7o      0.0039355          0.00625         -57.9612\n",
      "           nc3h7o2     0.00309694          0.00625         -64.4208\n",
      "           ic3h7o2     0.00309694          0.00625         -64.2624\n",
      "             c4h7o     0.00327067          0.00625         -63.9601\n",
      "      c4h8ooh1-3o2     0.00192003          0.00625         -96.5175\n",
      "        c4h8ooh1-3     0.00260947          0.00625          -71.792\n",
      "          nc4ket13      0.0022337          0.00625         -102.045\n",
      "        c4h8ooh1-2     0.00260947          0.00625         -71.7826\n",
      "          c4h8o1-3     0.00322495          0.00625         -65.7988\n",
      "           pc4h9o2     0.00260947          0.00625         -74.0774\n",
      "              c3h3     0.00595392          0.00625         -7.83436\n",
      "             hocho     0.00505242          0.00625         -78.0087\n",
      "          c2h3o1,2     0.00540225          0.00625         -39.6951\n",
      "          nc3h7cho     0.00322495          0.00625         -79.5277\n",
      "           nc3h7co     0.00327067          0.00625         -63.9601\n",
      "         c3h6cho-2     0.00327067          0.00625         -61.4003\n",
      "       ch2ch2coch3     0.00327067          0.00625         -63.1435\n",
      "         c2h5coch2     0.00327067          0.00625         -65.0543\n",
      "       c2h5coc2h4p     0.00273173          0.00625           -72.49\n",
      "        nc3h7coch2     0.00273173          0.00625         -72.1403\n",
      "          nc4h9cho     0.00269977          0.00625         -89.1818\n",
      "           nc4h9co     0.00273173          0.00625         -73.6208\n",
      "            hoch2o     0.00494414          0.00625         -60.6127\n",
      "           c6h13-1     0.00273034          0.00625         -67.3798\n",
      "           c6h12-1     0.00276304          0.00625         -72.2931\n",
      "             c6h11     0.00279653          0.00625         -56.4076\n",
      "            nc7h16     0.00232068          0.00625         -96.1704\n",
      "           c7h15-1     0.00234426          0.00625         -77.3924\n",
      "           c7h15-2     0.00234426          0.00625         -78.7204\n",
      "           c7h15-3     0.00234426          0.00625         -78.7204\n",
      "           c7h15-4     0.00234426          0.00625          -78.031\n",
      "         c7h15o2-1     0.00177249          0.00625         -102.876\n",
      "        c7h15o2h-1     0.00175897          0.00625         -118.745\n",
      "         c7h15o2-2     0.00177249          0.00625         -103.415\n",
      "        c7h15o2h-2     0.00175897          0.00625         -119.283\n",
      "         c7h15o2-3     0.00177249          0.00625         -103.415\n",
      "        c7h15o2h-3     0.00175897          0.00625         -119.283\n",
      "           c7h14-1     0.00236832          0.00625         -81.9262\n",
      "           c7h14-2     0.00236832          0.00625         -82.5901\n",
      "           c7h14-3     0.00236832          0.00625         -82.7042\n",
      "             c7h13     0.00239288          0.00625         -65.2648\n",
      "         c7h15o2-4     0.00177249          0.00625         -102.725\n",
      "          c7h15o-1     0.00201866          0.00625         -95.5078\n",
      "          c7h15o-2     0.00201866          0.00625         -97.2412\n",
      "          c7h15o-3     0.00201866          0.00625         -97.2412\n",
      "       c7h14ooh1-2     0.00177249          0.00625         -100.617\n",
      "       c7h14ooh1-3     0.00177249          0.00625         -100.617\n",
      "       c7h14ooh1-4     0.00177249          0.00625         -100.617\n",
      "       c7h14ooh2-3     0.00177249          0.00625         -101.152\n",
      "       c7h14ooh2-4     0.00177249          0.00625         -101.152\n",
      "       c7h14ooh2-5     0.00177249          0.00625         -101.152\n",
      "       c7h14ooh3-1     0.00177249          0.00625          -99.816\n",
      "       c7h14ooh3-2     0.00177249          0.00625         -101.152\n",
      "       c7h14ooh3-4     0.00177249          0.00625         -101.152\n",
      "       c7h14ooh3-5     0.00177249          0.00625         -101.152\n",
      "       c7h14ooh3-6     0.00177249          0.00625         -101.152\n",
      "       c7h14ooh4-2     0.00177249          0.00625         -100.462\n",
      "       c7h14ooh4-3     0.00177249          0.00625         -100.462\n",
      "         c7h14o1-3     0.00203648          0.00625         -94.5943\n",
      "         c7h14o1-4     0.00203648          0.00625         -101.949\n",
      "         c7h14o2-4     0.00203648          0.00625         -96.3472\n",
      "         c7h14o2-5     0.00203648          0.00625         -103.695\n",
      "         c7h14o3-5     0.00203648          0.00625         -96.3472\n",
      "     c7h14ooh1-3o2     0.00142494          0.00625         -125.388\n",
      "     c7h14ooh2-3o2     0.00142494          0.00625         -125.935\n",
      "     c7h14ooh2-4o2     0.00142494          0.00625         -125.935\n",
      "     c7h14ooh2-5o2     0.00142494          0.00625         -125.935\n",
      "     c7h14ooh3-1o2     0.00142494          0.00625         -125.388\n",
      "     c7h14ooh3-2o2     0.00142494          0.00625         -125.935\n",
      "     c7h14ooh3-4o2     0.00142494          0.00625         -125.935\n",
      "     c7h14ooh3-5o2     0.00142494          0.00625         -125.935\n",
      "     c7h14ooh3-6o2     0.00142494          0.00625         -125.935\n",
      "     c7h14ooh4-2o2     0.00142494          0.00625         -125.935\n",
      "     c7h14ooh4-3o2     0.00142494          0.00625         -125.935\n",
      "          nc7ket13     0.00159072          0.00625         -130.824\n",
      "          nc7ket23     0.00159072          0.00625         -131.183\n",
      "          nc7ket24     0.00159072          0.00625         -133.222\n",
      "          nc7ket25     0.00159072          0.00625         -133.222\n",
      "          nc7ket31     0.00159072          0.00625         -133.065\n",
      "          nc7ket32     0.00159072          0.00625          -131.57\n",
      "          nc7ket34     0.00159072          0.00625          -131.57\n",
      "          nc7ket35     0.00159072          0.00625         -133.222\n",
      "          nc7ket36     0.00159072          0.00625         -133.222\n",
      "          nc7ket42     0.00159072          0.00625         -133.602\n",
      "          nc7ket43     0.00159072          0.00625          -131.57\n",
      "        nc4h9coch2     0.00234528          0.00625         -81.7747\n",
      "        c4h7ooh1-4     0.00263932          0.00625         -75.1708\n",
      "        c5h9ooh1-4     0.00227684          0.00625          -85.655\n",
      "          c4h7o1-4     0.00327067          0.00625         -51.6568\n",
      "          c5h9o1-4     0.00273173          0.00625           -63.07\n",
      "\n"
     ]
    }
   ],
   "source": [
    "gas = ct.Solution(\"seiser.cti\")  # Change .cti file to standard simple reaction\n",
    "# gas = ct.Solution(\"2S_methane.cti\")\n",
    "# gas.Y = np.array([0.5, 0, 0.5, 0, 0])\n",
    "gas.TP = 1200, 101325\n",
    "reactor = ct.IdealGasReactor(gas)\n",
    "sim = ct.ReactorNet([reactor])\n",
    "# sim.advance(5.93e-6)\n",
    "#gas.Y = np.array([0.25, 0.25, 0.25, 0.25, 0, 0])\n",
    "gas.Y = np.ones(gas.n_species) / gas.n_species\n",
    "# gas.set_equivalence_ratio(phi=1.0, fuel='nc7h16', oxidizer={'o2':1.0, 'n2':3.76})\n",
    "np.save(\".npy files/ini_mass_fraction.npy\", gas.Y)\n",
    "gas()"
   ]
  },
  {
   "cell_type": "code",
   "execution_count": 38,
   "metadata": {},
   "outputs": [
    {
     "data": {
      "text/plain": [
       "0.28449082923837005"
      ]
     },
     "execution_count": 38,
     "metadata": {},
     "output_type": "execute_result"
    }
   ],
   "source": [
    "gas.density"
   ]
  },
  {
   "cell_type": "code",
   "execution_count": 41,
   "metadata": {},
   "outputs": [
    {
     "ename": "AttributeError",
     "evalue": "attribute 'density' of 'cantera._cantera.ThermoPhase' objects is not writable",
     "output_type": "error",
     "traceback": [
      "\u001b[1;31m---------------------------------------------------------------------------\u001b[0m",
      "\u001b[1;31mAttributeError\u001b[0m                            Traceback (most recent call last)",
      "\u001b[1;32m<ipython-input-41-19075f7c686e>\u001b[0m in \u001b[0;36m<module>\u001b[1;34m\u001b[0m\n\u001b[0;32m     14\u001b[0m     \u001b[0mYt\u001b[0m\u001b[1;33m[\u001b[0m\u001b[1;33m:\u001b[0m\u001b[1;33m,\u001b[0m\u001b[0mi\u001b[0m\u001b[1;33m]\u001b[0m \u001b[1;33m=\u001b[0m \u001b[0mgas\u001b[0m\u001b[1;33m.\u001b[0m\u001b[0mY\u001b[0m\u001b[1;33m\u001b[0m\u001b[0m\n\u001b[0;32m     15\u001b[0m     \u001b[0mRhot\u001b[0m\u001b[1;33m[\u001b[0m\u001b[0mi\u001b[0m\u001b[1;33m]\u001b[0m \u001b[1;33m=\u001b[0m \u001b[0mgas\u001b[0m\u001b[1;33m.\u001b[0m\u001b[0mdensity\u001b[0m\u001b[1;33m\u001b[0m\u001b[0m\n\u001b[1;32m---> 16\u001b[1;33m     \u001b[0mgas\u001b[0m\u001b[1;33m.\u001b[0m\u001b[0mdensity\u001b[0m \u001b[1;33m=\u001b[0m \u001b[0mgas\u001b[0m\u001b[1;33m.\u001b[0m\u001b[0mdensity\u001b[0m \u001b[1;33m+\u001b[0m \u001b[1;36m1\u001b[0m\u001b[1;33m\u001b[0m\u001b[0m\n\u001b[0m\u001b[0;32m     17\u001b[0m     \u001b[1;31m# print(nozzle_nasa_mdot((i+1)*1e-14))\u001b[0m\u001b[1;33m\u001b[0m\u001b[1;33m\u001b[0m\u001b[0m\n\u001b[0;32m     18\u001b[0m \u001b[0mgas\u001b[0m\u001b[1;33m(\u001b[0m\u001b[1;33m)\u001b[0m\u001b[1;33m\u001b[0m\u001b[0m\n",
      "\u001b[1;31mAttributeError\u001b[0m: attribute 'density' of 'cantera._cantera.ThermoPhase' objects is not writable"
     ]
    }
   ],
   "source": [
    "#gas.TP = 1200, 101325\n",
    "#gas.set_equivalence_ratio(phi=1.0, fuel='nc7h16', oxidizer={'o2':1.0, 'n2':3.76})\n",
    "reactor = ct.IdealGasReactor(gas)\n",
    "sim = ct.ReactorNet([reactor])\n",
    "n_t = 200\n",
    "Pt = np.zeros(n_t)\n",
    "Tt = np.zeros(n_t)\n",
    "Yt = np.zeros((gas.n_species,n_t))\n",
    "Rhot = np.zeros(n_t) # New array for changing density of gases, representing incoming mass flux\n",
    "for i in range(n_t):\n",
    "    sim.advance((i+1)*1e-14)\n",
    "    Pt[i] = gas.P\n",
    "    Tt[i] = gas.T\n",
    "    Yt[:,i] = gas.Y\n",
    "    Rhot[i] = gas.density\n",
    "    gas.density = gas.density + 1\n",
    "    # print(nozzle_nasa_mdot((i+1)*1e-14))\n",
    "gas()\n",
    "# gas.density"
   ]
  },
  {
   "cell_type": "code",
   "execution_count": 8,
   "metadata": {},
   "outputs": [
    {
     "data": {
      "text/plain": [
       "array([101346.95739854, 101368.45910547, 101389.51563926, 101410.13727787,\n",
       "       101430.33408094, 101450.11589669, 101469.49235212, 101488.47286349,\n",
       "       101507.06664343, 101525.28270347, 101543.12985752, 101560.61671527,\n",
       "       101577.75170078, 101594.54304943, 101610.99881168, 101627.12685727,\n",
       "       101642.9348774 , 101658.4303887 , 101673.62073679, 101688.51309873,\n",
       "       101703.11448872, 101717.43176129, 101731.47160607, 101745.24056338,\n",
       "       101758.74502075, 101771.99121987, 101784.98525651, 101797.73308368,\n",
       "       101810.24051474, 101822.51322617, 101834.55676174, 101846.37653473,\n",
       "       101857.97783092, 101869.36581106, 101880.54551485, 101891.52186036,\n",
       "       101902.2996526 , 101912.88357796, 101923.27821509, 101933.48803129,\n",
       "       101943.51738723, 101953.37053989, 101963.05164347, 101972.56475318,\n",
       "       101981.91382643, 101991.10272615, 102000.13522169, 102009.01499229,\n",
       "       102017.74562832, 102026.33063318, 102034.7734264 , 102043.07734388,\n",
       "       102051.24564182, 102059.28149663, 102067.18800855, 102074.96820222,\n",
       "       102082.62502901, 102090.16136889, 102097.58003141, 102104.88375855,\n",
       "       102112.07522481, 102119.15704047, 102126.13175166, 102133.00184287,\n",
       "       102139.76973808, 102146.43780194, 102153.00834197, 102159.48360885,\n",
       "       102165.86579907, 102172.15705486, 102178.35946682, 102184.47507422,\n",
       "       102190.5058666 , 102196.4537852 , 102202.32072344, 102208.10852911,\n",
       "       102213.8190043 , 102219.4539077 , 102225.01495465, 102230.50381884,\n",
       "       102235.92213316, 102241.27149041, 102246.55344491, 102251.7695126 ,\n",
       "       102256.92117296, 102262.00986888, 102267.03700848, 102272.00396535,\n",
       "       102276.91207957, 102281.76265877, 102286.5569784 , 102291.29628326,\n",
       "       102295.98178737, 102300.61467565, 102305.19610388, 102309.72719984,\n",
       "       102314.20906395, 102318.64276969, 102323.02936472, 102327.36987094,\n",
       "       102331.66528579, 102335.91658219, 102340.12470967, 102344.29059468,\n",
       "       102348.41514113, 102352.49923124, 102356.5437256 , 102360.54946429,\n",
       "       102364.51726674, 102368.44793287, 102372.34224312, 102376.20095911,\n",
       "       102380.02482415, 102383.8145635 , 102387.57088512, 102391.29447972,\n",
       "       102394.9860216 , 102398.64616867, 102402.27556312, 102405.87483174,\n",
       "       102409.44458616, 102412.98542353, 102416.49792647, 102419.98266388,\n",
       "       102423.44019083, 102426.87104931, 102430.27576827, 102433.65486402,\n",
       "       102437.00884065, 102440.33819011, 102443.64339279, 102446.9249175 ,\n",
       "       102450.18322206, 102453.41875331, 102456.63194755, 102459.82323075,\n",
       "       102462.99301873, 102466.14171757, 102469.26972367, 102472.37742416,\n",
       "       102475.46519696, 102478.53341116, 102481.58242713, 102484.61259678,\n",
       "       102487.62426377, 102490.61776368, 102493.59342427, 102496.55156557,\n",
       "       102499.49250021, 102502.41653346, 102505.32396351, 102508.21508162,\n",
       "       102511.09017222, 102513.94951322, 102516.79337598, 102519.6220257 ,\n",
       "       102522.43572133, 102525.23471591, 102528.01925664, 102530.78958497,\n",
       "       102533.54593689, 102536.28854286, 102539.01762816, 102541.73341282,\n",
       "       102544.43611192, 102547.12593557, 102549.80308911, 102552.46777322,\n",
       "       102555.12018399, 102557.76051311, 102560.38894787, 102563.00567137,\n",
       "       102565.61086255, 102568.20469633, 102570.78734371, 102573.35897182,\n",
       "       102575.91974407, 102578.46982018, 102581.00935635, 102583.53850526,\n",
       "       102586.05741622, 102588.56623521, 102591.06510497, 102593.5541651 ,\n",
       "       102596.0335521 , 102598.50339949, 102600.96383783, 102603.41499483,\n",
       "       102605.85699539, 102608.28996171, 102610.71401331, 102613.1292671 ,\n",
       "       102615.53583749, 102617.93383636, 102620.32337324, 102622.70455524,\n",
       "       102625.07748722, 102627.44227175, 102629.79900924, 102632.14779794])"
      ]
     },
     "execution_count": 8,
     "metadata": {},
     "output_type": "execute_result"
    }
   ],
   "source": [
    "Pt"
   ]
  },
  {
   "cell_type": "code",
   "execution_count": 35,
   "metadata": {},
   "outputs": [
    {
     "data": {
      "text/plain": [
       "[<matplotlib.lines.Line2D at 0x28967054748>]"
      ]
     },
     "execution_count": 35,
     "metadata": {},
     "output_type": "execute_result"
    },
    {
     "data": {
      "image/png": "[encoded data removed]",
      "text/plain": [
       "<Figure size 432x288 with 1 Axes>"
      ]
     },
     "metadata": {
      "needs_background": "light"
     },
     "output_type": "display_data"
    },
    {
     "data": {
      "image/png": "[encoded data removed]",
      "text/plain": [
       "<Figure size 432x288 with 1 Axes>"
      ]
     },
     "metadata": {
      "needs_background": "light"
     },
     "output_type": "display_data"
    },
    {
     "data": {
      "image/png": "[encoded data removed]",
      "text/plain": [
       "<Figure size 432x288 with 1 Axes>"
      ]
     },
     "metadata": {
      "needs_background": "light"
     },
     "output_type": "display_data"
    }
   ],
   "source": [
    "plt.plot(Tt)\n",
    "plt.figure()\n",
    "# plt.plot(Tt)\n",
    "for i in range(gas.n_species):\n",
    "    plt.plot(Yt[i,:])\n",
    "\n",
    "plt.figure()\n",
    "plt.plot(Pt)\n",
    "####"
   ]
  },
  {
   "cell_type": "code",
   "execution_count": 11,
   "metadata": {},
   "outputs": [],
   "source": [
    "np.save('.npy files/pressure.npy', Pt)\n",
    "np.save('.npy files/temperature.npy', Tt)\n",
    "np.save('.npy files/mass_fraction.npy', Yt)"
   ]
  },
  {
   "cell_type": "code",
   "execution_count": 12,
   "metadata": {},
   "outputs": [],
   "source": [
    "tbd = []\n",
    "falofr = []\n",
    "elmr = []\n",
    "for i in range(gas.n_reactions):\n",
    "    if (isinstance(gas.reaction(i), ct.ThreeBodyReaction)):\n",
    "        tbd.append(i)\n",
    "    elif (isinstance(gas.reaction(i), ct.FalloffReaction)):\n",
    "        falofr.append(i)\n",
    "    else:\n",
    "        elmr.append(i)"
   ]
  },
  {
   "cell_type": "code",
   "execution_count": 13,
   "metadata": {},
   "outputs": [],
   "source": [
    "NASA_coeffs = []\n",
    "for i in range(gas.n_species):\n",
    "    NASA_coeffs.append(gas.species(i).thermo.coeffs)\n",
    "NASA_coeffs = np.array(NASA_coeffs)\n",
    "reactants = []\n",
    "orders = [] \n",
    "Af = np.zeros(len(elmr))\n",
    "beta = np.zeros(len(elmr))\n",
    "E = np.zeros(len(elmr))"
   ]
  },
  {
   "cell_type": "code",
   "execution_count": 14,
   "metadata": {},
   "outputs": [],
   "source": [
    "rec2ind = dict()\n",
    "for i in range(gas.n_species):\n",
    "    reactants.append(gas.species(i).name)\n",
    "    rec2ind[gas.species(i).name] = i\n",
    "orders = gas.reactant_stoich_coeffs()[:,elmr]\n",
    "for i, s in enumerate(elmr):   \n",
    "    Af[i] = gas.reaction(s).rate.pre_exponential_factor\n",
    "    beta[i] = gas.reaction(s).rate.temperature_exponent\n",
    "    E[i] = gas.reaction(s).rate.activation_energy\n",
    "    for rec in gas.reaction(s).orders:\n",
    "        orders[rec2ind[rec], i] = gas.reaction(s).orders[rec]\n",
    "reversible = np.array([int(gas.reaction(i).reversible) for i in range(gas.n_reactions)])"
   ]
  },
  {
   "cell_type": "code",
   "execution_count": 15,
   "metadata": {},
   "outputs": [],
   "source": [
    "np.save('.npy files/NASA_coeffs.npy', NASA_coeffs)\n",
    "np.save('.npy files/molecular_weights.npy',gas.molecular_weights)\n",
    "np.save('.npy files/reactants_stoich_coeffs.npy',gas.reactant_stoich_coeffs())\n",
    "np.save('.npy files/product_stoich_coeffs.npy',gas.product_stoich_coeffs())\n",
    "np.save('.npy files/reaction_orders.npy',orders)\n",
    "np.save('.npy files/pre_exponential_factor.npy', Af)\n",
    "np.save('.npy files/temperature_exponent.npy', beta)\n",
    "np.save('.npy files/activation_energy.npy', E)\n",
    "np.save('.npy files/delta_standard_entropy.npy', gas.delta_standard_entropy)\n",
    "np.save('.npy files/delta_standard_enthalpy.npy', gas.delta_standard_enthalpy)\n",
    "np.save('.npy files/reversible.npy', reversible)"
   ]
  },
  {
   "cell_type": "code",
   "execution_count": 16,
   "metadata": {},
   "outputs": [],
   "source": [
    "efficiency_f = np.zeros((gas.n_species, len(falofr)))\n",
    "Af_lo = np.zeros(len(falofr))\n",
    "beta_lo = np.zeros(len(falofr))\n",
    "E_lo = np.zeros(len(falofr))\n",
    "Af_hi = np.zeros(len(falofr))\n",
    "beta_hi = np.zeros(len(falofr))\n",
    "E_hi = np.zeros(len(falofr))\n",
    "orders_f = gas.reactant_stoich_coeffs()[:,falofr]\n",
    "falloff_parameters = np.zeros((4, len(falofr)))\n",
    "troefall = []\n",
    "troefall_coeff = []\n",
    "for i, s in enumerate(falofr):\n",
    "    rr = gas.reaction(s)\n",
    "    Af_lo[i] = rr.low_rate.pre_exponential_factor\n",
    "    beta_lo[i] = rr.low_rate.temperature_exponent\n",
    "    E_lo[i] = rr.low_rate.activation_energy\n",
    "    Af_hi[i] = rr.high_rate.pre_exponential_factor\n",
    "    beta_hi[i] = rr.high_rate.temperature_exponent\n",
    "    E_hi[i] = rr.high_rate.activation_energy\n",
    "    efficiency_f[:,i] = rr.default_efficiency * np.ones(gas.n_species)\n",
    "    if(isinstance(rr.falloff, ct.TroeFalloff)):\n",
    "        troefall.append(i)\n",
    "        troefall_coeff.append(rr.falloff.parameters)\n",
    "    #falloff_parameters[:,i] = gas.reaction(s).falloff.parameters\n",
    "    for rec in rr.efficiencies:\n",
    "        efficiency_f[rec2ind[rec]] = rr.efficiencies[rec]\n",
    "    for rec in gas.reaction(s).orders:\n",
    "        orders_f[rec2ind[rec], i] = gas.reaction(s).orders[rec]\n",
    "\n",
    "np.save('.npy files/efficiency_f.npy', efficiency_f)\n",
    "np.save('.npy files/troefall_coeff.npy', np.array(troefall_coeff).T)\n",
    "np.save('.npy files/troefall.npy', troefall)\n",
    "np.save('.npy files/reaction_orders_f.npy',orders_f)\n",
    "np.save('.npy files/pre_exponential_factor_hi.npy', Af_hi)\n",
    "np.save('.npy files/temperature_exponent_hi.npy', beta_hi)\n",
    "np.save('.npy files/activation_energy_hi.npy', E_hi)\n",
    "np.save('.npy files/pre_exponential_factor_lo.npy', Af_lo)\n",
    "np.save('.npy files/temperature_exponent_lo.npy', beta_lo)\n",
    "np.save('.npy files/activation_energy_lo.npy', E_lo)"
   ]
  },
  {
   "cell_type": "code",
   "execution_count": 17,
   "metadata": {},
   "outputs": [],
   "source": [
    "efficiency_t = np.zeros((gas.n_species, len(tbd)))\n",
    "Af_t = np.zeros(len(tbd))\n",
    "beta_t = np.zeros(len(tbd))\n",
    "E_t = np.zeros(len(tbd))\n",
    "orders_t = gas.reactant_stoich_coeffs()[:,tbd]\n",
    "for i, s in enumerate(tbd):\n",
    "    rr = gas.reaction(s)\n",
    "    Af_t[i] = rr.rate.pre_exponential_factor\n",
    "    beta_t[i] = rr.rate.temperature_exponent\n",
    "    E_t[i] = rr.rate.activation_energy\n",
    "    efficiency_t[:,i] = rr.default_efficiency * np.ones(gas.n_species)\n",
    "    for rec in rr.efficiencies:\n",
    "        efficiency_t[rec2ind[rec]] = rr.efficiencies[rec]\n",
    "    for rec in gas.reaction(s).orders:\n",
    "        orders_t[rec2ind[rec], i] = gas.reaction(s).orders[rec]\n",
    "        \n",
    "np.save('.npy files/efficiency_t.npy',efficiency_t)\n",
    "np.save('.npy files/reaction_orders_t.npy',orders_t)\n",
    "np.save('.npy files/pre_exponential_factor_t.npy', Af_t)\n",
    "np.save('.npy files/temperature_exponent_t.npy', beta_t)\n",
    "np.save('.npy files/activation_energy_t.npy', E_t)"
   ]
  },
  {
   "cell_type": "code",
   "execution_count": 18,
   "metadata": {},
   "outputs": [],
   "source": [
    "np.save('.npy files/tbd.npy',tbd)\n",
    "np.save('.npy files/falofr.npy',falofr)\n",
    "np.save('.npy files/elmr.npy',elmr)"
   ]
  },
  {
   "cell_type": "code",
   "execution_count": 19,
   "metadata": {},
   "outputs": [
    {
     "data": {
      "text/plain": [
       "125366893824.50568"
      ]
     },
     "execution_count": 19,
     "metadata": {},
     "output_type": "execute_result"
    }
   ],
   "source": [
    "ai = gas.reaction(0).high_rate.pre_exponential_factor\n",
    "bi = gas.reaction(0).high_rate.temperature_exponent\n",
    "ei = gas.reaction(0).high_rate.activation_energy\n",
    "kf_h = ai * (gas.T**bi) * np.exp(-ei/(ct.gas_constant * gas.T))\n",
    "kf_h"
   ]
  },
  {
   "cell_type": "code",
   "execution_count": 20,
   "metadata": {},
   "outputs": [
    {
     "data": {
      "text/plain": [
       "5969920856.355112"
      ]
     },
     "execution_count": 20,
     "metadata": {},
     "output_type": "execute_result"
    }
   ],
   "source": [
    "ai = gas.reaction(0).low_rate.pre_exponential_factor\n",
    "bi = gas.reaction(0).low_rate.temperature_exponent\n",
    "ei = gas.reaction(0).low_rate.activation_energy\n",
    "kf_o = ai * (gas.T**bi) * np.exp(-ei/(ct.gas_constant * gas.T)) * gas.concentrations.dot(efficiency_f[:,0])\n",
    "kf_o"
   ]
  },
  {
   "cell_type": "code",
   "execution_count": 21,
   "metadata": {},
   "outputs": [
    {
     "data": {
      "text/plain": [
       "5698557833.597583"
      ]
     },
     "execution_count": 21,
     "metadata": {},
     "output_type": "execute_result"
    }
   ],
   "source": [
    "kf_o / (1 + kf_o / kf_h)"
   ]
  },
  {
   "cell_type": "code",
   "execution_count": 23,
   "metadata": {},
   "outputs": [
    {
     "data": {
      "text/plain": [
       "(20, 4)"
      ]
     },
     "execution_count": 23,
     "metadata": {},
     "output_type": "execute_result"
    }
   ],
   "source": [
    "np.array(troefall_coeff).shape"
   ]
  },
  {
   "cell_type": "code",
   "execution_count": 22,
   "metadata": {},
   "outputs": [
    {
     "name": "stdout",
     "output_type": "stream",
     "text": [
      "Help on TroeFalloff object:\n",
      "\n",
      "class TroeFalloff(Falloff)\n",
      " |  The 3- or 4-parameter Troe falloff function.\n",
      " |  \n",
      " |  :param params:\n",
      " |      An array of 3 or 4 parameters: :math:`[a, T^{***}, T^*, T^{**}]` where\n",
      " |      the final parameter is optional (with a default value of 0).\n",
      " |  \n",
      " |  Method resolution order:\n",
      " |      TroeFalloff\n",
      " |      Falloff\n",
      " |      builtins.object\n",
      " |  \n",
      " |  Methods defined here:\n",
      " |  \n",
      " |  __reduce__ = __reduce_cython__(...)\n",
      " |      TroeFalloff.__reduce_cython__(self)\n",
      " |  \n",
      " |  __setstate__ = __setstate_cython__(...)\n",
      " |      TroeFalloff.__setstate_cython__(self, __pyx_state)\n",
      " |  \n",
      " |  ----------------------------------------------------------------------\n",
      " |  Static methods defined here:\n",
      " |  \n",
      " |  __new__(*args, **kwargs) from builtins.type\n",
      " |      Create and return a new object.  See help(type) for accurate signature.\n",
      " |  \n",
      " |  ----------------------------------------------------------------------\n",
      " |  Data and other attributes defined here:\n",
      " |  \n",
      " |  falloff_type = 110\n",
      " |  \n",
      " |  ----------------------------------------------------------------------\n",
      " |  Methods inherited from Falloff:\n",
      " |  \n",
      " |  __call__(...)\n",
      " |      Evaluate the falloff function :math:`F(T, P_r)`\n",
      " |  \n",
      " |  ----------------------------------------------------------------------\n",
      " |  Data descriptors inherited from Falloff:\n",
      " |  \n",
      " |  parameters\n",
      " |      The array of parameters used to define this falloff function.\n",
      " |  \n",
      " |  type\n",
      " |      A string defining the type of the falloff parameterization\n",
      "\n"
     ]
    }
   ],
   "source": [
    "help(gas.reaction(0).falloff)"
   ]
  },
  {
   "cell_type": "code",
   "execution_count": 17,
   "metadata": {},
   "outputs": [],
   "source": [
    "# gas.reaction().falloff.parameters"
   ]
  },
  {
   "cell_type": "code",
   "execution_count": 24,
   "metadata": {},
   "outputs": [
    {
     "ename": "IndexError",
     "evalue": "index 0 is out of bounds for axis 0 with size 0",
     "output_type": "error",
     "traceback": [
      "\u001b[1;31m---------------------------------------------------------------------------\u001b[0m",
      "\u001b[1;31mIndexError\u001b[0m                                Traceback (most recent call last)",
      "\u001b[1;32m<ipython-input-24-dc92d2f6a115>\u001b[0m in \u001b[0;36m<module>\u001b[1;34m\u001b[0m\n\u001b[0;32m      1\u001b[0m \u001b[0mA\u001b[0m \u001b[1;33m=\u001b[0m \u001b[0mgas\u001b[0m\u001b[1;33m.\u001b[0m\u001b[0mreaction\u001b[0m\u001b[1;33m(\u001b[0m\u001b[0mfalofr\u001b[0m\u001b[1;33m[\u001b[0m\u001b[1;36m10\u001b[0m\u001b[1;33m]\u001b[0m\u001b[1;33m)\u001b[0m\u001b[1;33m.\u001b[0m\u001b[0mfalloff\u001b[0m\u001b[1;33m.\u001b[0m\u001b[0mparameters\u001b[0m\u001b[1;33m\u001b[0m\u001b[0m\n\u001b[0;32m      2\u001b[0m \u001b[0mT\u001b[0m \u001b[1;33m=\u001b[0m \u001b[1;36m1\u001b[0m\u001b[1;33m\u001b[0m\u001b[0m\n\u001b[1;32m----> 3\u001b[1;33m \u001b[0mA\u001b[0m\u001b[1;33m[\u001b[0m\u001b[1;36m0\u001b[0m\u001b[1;33m]\u001b[0m \u001b[1;33m+\u001b[0m \u001b[0mA\u001b[0m\u001b[1;33m[\u001b[0m\u001b[1;36m1\u001b[0m\u001b[1;33m]\u001b[0m \u001b[1;33m*\u001b[0m \u001b[0mT\u001b[0m\u001b[1;33m**\u001b[0m\u001b[1;36m3\u001b[0m \u001b[1;33m+\u001b[0m \u001b[0mA\u001b[0m\u001b[1;33m[\u001b[0m\u001b[1;36m2\u001b[0m\u001b[1;33m]\u001b[0m \u001b[1;33m*\u001b[0m \u001b[0mT\u001b[0m \u001b[1;33m+\u001b[0m \u001b[0mA\u001b[0m\u001b[1;33m[\u001b[0m\u001b[1;36m3\u001b[0m\u001b[1;33m]\u001b[0m \u001b[1;33m*\u001b[0m \u001b[0mT\u001b[0m\u001b[1;33m**\u001b[0m\u001b[1;36m2\u001b[0m\u001b[1;33m\u001b[0m\u001b[0m\n\u001b[0m",
      "\u001b[1;31mIndexError\u001b[0m: index 0 is out of bounds for axis 0 with size 0"
     ]
    }
   ],
   "source": [
    "A = gas.reaction(falofr[10]).falloff.parameters\n",
    "T = 1\n",
    "A[0] + A[1] * T**3 + A[2] * T + A[3] * T**2"
   ]
  },
  {
   "cell_type": "code",
   "execution_count": 25,
   "metadata": {},
   "outputs": [
    {
     "data": {
      "text/plain": [
       "<cantera._cantera.TroeFalloff at 0x289667d5508>"
      ]
     },
     "execution_count": 25,
     "metadata": {},
     "output_type": "execute_result"
    }
   ],
   "source": [
    "gas.reaction(falofr[1]).falloff"
   ]
  },
  {
   "cell_type": "code",
   "execution_count": 26,
   "metadata": {},
   "outputs": [],
   "source": [
    "def nozzle_nasa_mdot(t):\n",
    "    # Can represent mass inflow by increasing combined gas's density\n",
    "    \"\"\"\n",
    "    Compute the efflux of the combustor via simple isentropic relations.\n",
    "    The efficiency of the nozzle is modeled using a discharge coefficient\n",
    "    :param t: time\n",
    "    :return: mass flux at the outlet (efflux) of the combustion chamber.\n",
    "    \"\"\"\n",
    "    # Avoid a unity pressure ratio at startup\n",
    "    # print(gas.T)\n",
    "    epsilon = 1.0\n",
    "    _rho = gas.density\n",
    "    _press = gas.P\n",
    "    _area = 1  # arbitrarily chosen value, [m^2]\n",
    "    _gamma_s = gas.cp / gas.cv\n",
    "    _temp = gas.T\n",
    "    _r_gas_specific = gas.cp - gas.cv\n",
    "    _p_ratio = 101325 / (gas.P + epsilon)  # Exhaust pressure is atmospheric pressure\n",
    "\n",
    "    power_1 = 2.0 / _gamma_s\n",
    "    power_2 = (_gamma_s + 1.0) / (_gamma_s)\n",
    "    pressure_term = _p_ratio ** power_1 - _p_ratio ** power_2\n",
    "    _sqrt_term = 2. * _gamma_s * _r_gas_specific * _temp / (_gamma_s - 1.0)\n",
    "    _sqrt_term *= pressure_term\n",
    "    _sqrt_term = -_sqrt_term  # Just for debugging\n",
    "    assert (_sqrt_term >= 0.0)\n",
    "    _sqrt_term = np.sqrt(_sqrt_term)\n",
    "\n",
    "    _mdot_unchoked = _rho * _area * _sqrt_term\n",
    "\n",
    "    power = (_gamma_s + 1.0) / (_gamma_s - 1.0)\n",
    "    _gamma_term = (2. / (_gamma_s + 1.0)) ** power\n",
    "    _sqrt = np.sqrt(_gamma_s * _r_gas_specific * _temp * _gamma_term)\n",
    "    _mdot_choked = _rho * _area * _sqrt\n",
    "\n",
    "    _mdot = 0.0\n",
    "    _p_crit_downstream = _press * (2. / (_gamma_s + 1.0)) ** (_gamma_s / (_gamma_s - 1.0))\n",
    "\n",
    "    if _p_crit_downstream < 101325:  # Less than exhaust pressure = P_atm\n",
    "        # Unchoked conditions\n",
    "        _mdot = _mdot_unchoked\n",
    "    else:\n",
    "        # Choked conditions\n",
    "        _mdot = _mdot_choked\n",
    "\n",
    "    return _mdot  # * _geom_nozzle['C_d']  # Discharge coefficient"
   ]
  },
  {
   "cell_type": "code",
   "execution_count": 27,
   "metadata": {},
   "outputs": [
    {
     "name": "stdout",
     "output_type": "stream",
     "text": [
      "1203.863561162995\n",
      "1203.859734122193\n",
      "1203.8559191431452\n",
      "1203.8521165405857\n",
      "1203.8483266154963\n",
      "1203.8445496556517\n",
      "1203.8407859377526\n",
      "1203.8370357285255\n",
      "1203.8332992833848\n",
      "1203.8295768464416\n",
      "1203.8258686515087\n",
      "1203.822174922704\n",
      "1203.818495874627\n",
      "1203.8148317125758\n",
      "1203.8111826325562\n",
      "1203.8075488218176\n",
      "1203.8039304588463\n",
      "1203.8003277136934\n",
      "1203.796740748662\n",
      "1203.793169717677\n",
      "1203.7896147674467\n",
      "1203.7860760371295\n",
      "1203.7825536585165\n",
      "1203.7790477567055\n",
      "1203.77555844966\n",
      "1203.7720858489224\n",
      "1203.7686300597493\n",
      "1203.765191180808\n",
      "1203.761769305142\n",
      "1203.7583645195878\n",
      "1203.7549769055893\n",
      "1203.7516065389052\n",
      "1203.7482534900735\n",
      "1203.7449178244008\n",
      "1203.7415996021793\n",
      "1203.7382988788124\n",
      "1203.7350157049643\n",
      "1203.7317501267046\n",
      "1203.7285021856555\n",
      "1203.725271919107\n",
      "1203.722059360202\n",
      "1203.7188645380472\n",
      "1203.715687477707\n",
      "1203.7125282006198\n",
      "1203.7093867245092\n",
      "1203.706263063317\n",
      "1203.7031572278236\n",
      "1203.7000692253619\n",
      "1203.696999059827\n",
      "1203.6939467322456\n",
      "1203.690912240489\n",
      "1203.6878955793734\n",
      "1203.6848967410447\n",
      "1203.6819157148004\n",
      "1203.6789524872213\n",
      "1203.6760070424289\n",
      "1203.673079361965\n",
      "1203.6701694249405\n",
      "1203.6672772082402\n",
      "1203.6644026863898\n",
      "1203.661545831749\n",
      "1203.658706614662\n",
      "1203.65588500332\n",
      "1203.6530809639967\n",
      "1203.6502944611282\n",
      "1203.6475254572033\n",
      "1203.644773913018\n",
      "1203.642039787693\n",
      "1203.6393230385925\n",
      "1203.6366236215956\n",
      "1203.6339414910572\n",
      "1203.631276599749\n",
      "1203.6286288991453\n",
      "1203.6259983393347\n",
      "1203.6233848689974\n",
      "1203.6207884356616\n",
      "1203.6182089856131\n",
      "1203.6156464638893\n",
      "1203.6131008145048\n",
      "1203.6105719803643\n",
      "1203.608059903275\n",
      "1203.605564524136\n",
      "1203.6030857828598\n",
      "1203.6006236183996\n",
      "1203.5981779689064\n",
      "1203.5957487716573\n",
      "1203.5933359630972\n",
      "1203.5909394789655\n",
      "1203.588559254231\n",
      "1203.5861952231471\n",
      "1203.58384731935\n",
      "1203.5815154758002\n",
      "1203.5791996248493\n",
      "1203.5768996983136\n",
      "1203.574615627419\n",
      "1203.5723473428839\n",
      "1203.570094774962\n",
      "1203.5678578533973\n",
      "1203.5656365075176\n",
      "1203.5634306662528\n",
      "1203.5612402580948\n"
     ]
    },
    {
     "data": {
      "text/plain": [
       "[<matplotlib.lines.Line2D at 0x2896689ccc0>]"
      ]
     },
     "execution_count": 27,
     "metadata": {},
     "output_type": "execute_result"
    },
    {
     "data": {
      "image/png": "[encoded data removed]",
      "text/plain": [
       "<Figure size 432x288 with 1 Axes>"
      ]
     },
     "metadata": {
      "needs_background": "light"
     },
     "output_type": "display_data"
    }
   ],
   "source": [
    "t = np.arange(0, 1.5*10**(-12), 1.5*10**(-14))\n",
    "_mdot = np.zeros(len(t))\n",
    "\n",
    "reactor = ct.IdealGasReactor(gas)  # Need to re-initialize reactor before running sim\n",
    "sim = ct.ReactorNet([reactor])\n",
    "\n",
    "for i in range(len(t)):\n",
    "    sim.advance((i)*1e-14)\n",
    "    _mdot[i] = nozzle_nasa_mdot(t[i])\n",
    "    print(gas.T)\n",
    "    \n",
    "    \n",
    "# print(t.shape) \n",
    "# print(_mdot.shape)\n",
    "# plt.plot(t, _mdot)\n",
    "plt.plot(t, -_mdot)  # For debugging"
   ]
  },
  {
   "cell_type": "code",
   "execution_count": 40,
   "metadata": {},
   "outputs": [
    {
     "data": {
      "text/plain": [
       "[<matplotlib.lines.Line2D at 0x28967199b70>]"
      ]
     },
     "execution_count": 40,
     "metadata": {},
     "output_type": "execute_result"
    },
    {
     "data": {
      "image/png": "[encoded data removed]",
      "text/plain": [
       "<Figure size 432x288 with 1 Axes>"
      ]
     },
     "metadata": {
      "needs_background": "light"
     },
     "output_type": "display_data"
    },
    {
     "data": {
      "image/png": "[encoded data removed]",
      "text/plain": [
       "<Figure size 432x288 with 1 Axes>"
      ]
     },
     "metadata": {
      "needs_background": "light"
     },
     "output_type": "display_data"
    },
    {
     "data": {
      "image/png": "[encoded data removed]",
      "text/plain": [
       "<Figure size 432x288 with 1 Axes>"
      ]
     },
     "metadata": {
      "needs_background": "light"
     },
     "output_type": "display_data"
    }
   ],
   "source": [
    "plt.plot(Tt)\n",
    "plt.figure()\n",
    "plt.plot(Pt)\n",
    "plt.figure()\n",
    "plt.plot(Rhot)\n",
    "####"
   ]
  },
  {
   "cell_type": "code",
   "execution_count": null,
   "metadata": {},
   "outputs": [],
   "source": []
  }
 ],
 "metadata": {
  "kernelspec": {
   "display_name": "Python 3",
   "language": "python",
   "name": "python3"
  },
  "language_info": {
   "codemirror_mode": {
    "name": "ipython",
    "version": 3
   },
   "file_extension": ".py",
   "mimetype": "text/x-python",
   "name": "python",
   "nbconvert_exporter": "python",
   "pygments_lexer": "ipython3",
   "version": "3.7.0"
  }
 },
 "nbformat": 4,
 "nbformat_minor": 4
}
