{
 "cells": [
  {
   "cell_type": "code",
   "execution_count": 1,
   "metadata": {},
   "outputs": [],
   "source": [
    "import cantera as ct\n",
    "import numpy as np\n",
    "import matplotlib.pyplot as plt"
   ]
  },
  {
   "cell_type": "code",
   "execution_count": 101,
   "metadata": {},
   "outputs": [
    {
     "name": "stdout",
     "output_type": "stream",
     "text": [
      "\n",
      "  CH4_CM2:\n",
      "\n",
      "       temperature            1200  K\n",
      "          pressure     4.04438e+06  Pa\n",
      "           density              10  kg/m^3\n",
      "  mean mol. weight         24.6697  amu\n",
      "\n",
      "                          1 kg            1 kmol\n",
      "                       -----------      ------------\n",
      "          enthalpy     -3.6287e+06       -8.952e+07     J\n",
      "   internal energy     -4.0331e+06        -9.95e+07     J\n",
      "           entropy          9466.5        2.335e+05     J/K\n",
      "    Gibbs function     -1.4988e+07       -3.698e+08     J\n",
      " heat capacity c_p          2021.5        4.987e+04     J/K\n",
      " heat capacity c_v          1684.4        4.155e+04     J/K\n",
      "\n",
      "                           X                 Y          Chem. Pot. / RT\n",
      "                     -------------     ------------     ------------\n",
      "                O2       0.128493         0.166667         -25.4521\n",
      "               H2O       0.228229         0.166667         -47.4928\n",
      "               CH4       0.256291         0.166667         -31.2398\n",
      "                CO       0.146789         0.166667         -35.4084\n",
      "               CO2       0.093425         0.166667         -67.2678\n",
      "                N2       0.146773         0.166667         -23.5861\n",
      "\n"
     ]
    }
   ],
   "source": [
    "# gas = ct.Solution(\"seiser.cti\")  # Change .cti file to standard simple reaction\n",
    "gas = ct.Solution(\"2S_methane.cti\")\n",
    "# gas.Y = np.array([0.5, 0, 0.5, 0, 0])\n",
    "gas.TP = 1200, 101325\n",
    "gas.TD = 1200, 10\n",
    "reactor = ct.IdealGasReactor(gas)\n",
    "exhaust_gas = ct.Solution(\"2S_methane.cti\")\n",
    "exhaust = ct.Reservoir(exhaust_gas)\n",
    "mfc = ct.MassFlowController(upstream = reactor, downstream = exhaust, mdot = 1e7)  # mdot = nozzle_nasa_mdot\n",
    "# sim.advance(5.93e-6)\n",
    "#gas.Y = np.array([0.25, 0.25, 0.25, 0.25, 0, 0])\n",
    "gas.Y = np.ones(gas.n_species) / gas.n_species\n",
    "# gas.set_equivalence_ratio(phi=1.0, fuel='nc7h16', oxidizer={'o2':1.0, 'n2':3.76})\n",
    "np.save(\".npy files/ini_mass_fraction.npy\", gas.Y)\n",
    "sim = ct.ReactorNet([reactor])\n",
    "gas()"
   ]
  },
  {
   "cell_type": "code",
   "execution_count": 83,
   "metadata": {},
   "outputs": [
    {
     "name": "stdout",
     "output_type": "stream",
     "text": [
      "\n",
      "  CH4_CM2:\n",
      "\n",
      "       temperature          7.5018  K\n",
      "          pressure          252834  Pa\n",
      "           density             100  kg/m^3\n",
      "  mean mol. weight         24.6697  amu\n",
      "\n",
      "                          1 kg            1 kmol\n",
      "                       -----------      ------------\n",
      "          enthalpy     -5.5356e+06       -1.366e+08     J\n",
      "   internal energy     -5.5382e+06       -1.366e+08     J\n",
      "           entropy          3327.8         8.21e+04     J/K\n",
      "    Gibbs function     -5.5606e+06       -1.372e+08     J\n",
      " heat capacity c_p          1348.5        3.327e+04     J/K\n",
      " heat capacity c_v          1011.5        2.495e+04     J/K\n",
      "\n",
      "                           X                 Y          Chem. Pot. / RT\n",
      "                     -------------     ------------     ------------\n",
      "                O2       0.128493         0.166667         -150.449\n",
      "               H2O       0.228229         0.166667         -4042.16\n",
      "               CH4       0.256291         0.166667          -1366.7\n",
      "                CO       0.146789         0.166667         -1920.23\n",
      "               CO2       0.093425         0.166667         -6461.83\n",
      "                N2       0.146773         0.166667         -147.119\n",
      "\n"
     ]
    }
   ],
   "source": [
    "gas.density"
   ]
  },
  {
   "cell_type": "code",
   "execution_count": 102,
   "metadata": {},
   "outputs": [
    {
     "name": "stdout",
     "output_type": "stream",
     "text": [
      "\n",
      "  CH4_CM2:\n",
      "\n",
      "       temperature         2039.74  K\n",
      "          pressure     7.55568e+06  Pa\n",
      "           density              10  kg/m^3\n",
      "  mean mol. weight         22.4458  amu\n",
      "\n",
      "                          1 kg            1 kmol\n",
      "                       -----------      ------------\n",
      "          enthalpy     -3.2775e+06       -7.357e+07     J\n",
      "   internal energy     -4.0331e+06       -9.053e+07     J\n",
      "           entropy           10820        2.429e+05     J/K\n",
      "    Gibbs function     -2.5347e+07       -5.689e+08     J\n",
      " heat capacity c_p          2254.7        5.061e+04     J/K\n",
      " heat capacity c_v          1884.3        4.229e+04     J/K\n",
      "\n",
      "                           X                 Y          Chem. Pot. / RT\n",
      "                     -------------     ------------     ------------\n",
      "                O2     3.0956e-11      4.41311e-11         -48.7209\n",
      "               H2O       0.414713         0.332854         -38.3852\n",
      "               CH4       0.129658        0.0926711         -31.6223\n",
      "                CO       0.313853         0.391661         -31.1345\n",
      "               CO2     0.00823534        0.0161472         -55.4948\n",
      "                N2       0.133541         0.166667         -24.7089\n",
      "\n"
     ]
    }
   ],
   "source": [
    "#gas.TP = 1200, 101325\n",
    "#gas.set_equivalence_ratio(phi=1.0, fuel='nc7h16', oxidizer={'o2':1.0, 'n2':3.76})\n",
    "reactor = ct.IdealGasReactor(gas)\n",
    "sim = ct.ReactorNet([reactor])\n",
    "n_t = 200\n",
    "Pt = np.zeros(n_t)\n",
    "Tt = np.zeros(n_t)\n",
    "Yt = np.zeros((gas.n_species,n_t))\n",
    "Rhot = np.zeros(n_t)  # New array for changing density of gases, representing incoming mass flux\n",
    "for i in range(n_t):\n",
    "    sim.advance((i+1)*1e-7)\n",
    "    Pt[i] = gas.P\n",
    "    Tt[i] = gas.T\n",
    "    Yt[:,i] = gas.Y\n",
    "    Rhot[i] = gas.density\n",
    "    # gas.DP = 1, 1\n",
    "    # gas.TP = 1200, 101325\n",
    "    # print(nozzle_nasa_mdot((i+1)*1e-14))\n",
    "gas()\n",
    "# gas.DP"
   ]
  },
  {
   "cell_type": "code",
   "execution_count": 22,
   "metadata": {},
   "outputs": [
    {
     "data": {
      "text/plain": [
       "array([207514.98338178, 252854.52481331, 252834.11315809, 252814.27035138,\n",
       "       252794.96795079, 252776.17922432, 252757.87908203, 252740.0439944 ,\n",
       "       252722.65190331, 252705.68213107, 252689.11529089, 252672.93319871,\n",
       "       252657.11879053, 252641.65604354, 252626.52990146, 252611.72620579,\n",
       "       252597.23163754, 252583.03364626, 252569.12040426, 252555.48075294,\n",
       "       252542.10415563, 252528.98065749, 252516.10084119, 252503.45579327,\n",
       "       252491.0370697 , 252478.83666443, 252466.84698101, 252455.06080539,\n",
       "       252443.47128324, 252432.07189367, 252420.85642973, 252409.81898099,\n",
       "       252398.9539162 , 252388.2558624 , 252377.71969142, 252367.34050611,\n",
       "       252357.11362635, 252347.03457673, 252337.09907496, 252327.3030211 ,\n",
       "       252317.64248789, 252308.11371095, 252298.71307838, 252289.43712566,\n",
       "       252280.28252709, 252271.24608558, 252262.32473061, 252253.51550966,\n",
       "       252244.81558232, 252236.22221234, 252227.73276661, 252219.34470828,\n",
       "       252211.05559221, 252202.8630594 , 252194.76483657, 252186.75872958,\n",
       "       252178.84261935, 252171.01445936, 252163.27227223, 252155.61414665,\n",
       "       252148.03823448, 252140.54274811, 252133.12595773, 252125.78618888,\n",
       "       252118.5218202 , 252111.33128126, 252104.21305083, 252097.16565422,\n",
       "       252090.18765943, 252083.27767929, 252076.43436881, 252069.65642193,\n",
       "       252062.94257102, 252056.29158511, 252049.7022684 , 252043.17345901,\n",
       "       252036.70402778, 252030.29287707, 252023.93893959, 252017.64117721,\n",
       "       252011.39858004, 252005.21016526, 251999.07497633, 251992.99208185,\n",
       "       251986.96057512, 251980.97957262, 251975.04821355, 251969.16565928,\n",
       "       251963.33109234, 251957.54371574, 251951.80275233, 251946.10744403,\n",
       "       251940.45705152, 251934.85085333, 251929.28814531, 251923.76824031,\n",
       "       251918.29046717, 251912.8541706 , 251907.45871066, 251902.10346223,\n",
       "       251896.78781447, 251891.5111705 , 251886.27294694, 251881.07257358,\n",
       "       251875.90949275, 251870.783159  , 251865.69303896, 251860.63861061,\n",
       "       251855.61936375, 251850.63479961, 251845.68443001, 251840.7677763 ,\n",
       "       251835.88436958, 251831.03375108, 251826.21547174, 251821.42909177,\n",
       "       251816.67418031, 251811.95031525, 251807.25708293, 251802.59407777,\n",
       "       251797.96090271, 251793.35716808, 251788.78249278, 251784.23650232,\n",
       "       251779.71882945, 251775.2291141 , 251770.76700305, 251766.3321499 ,\n",
       "       251761.92421481, 251757.54286424, 251753.18777093, 251748.85861359,\n",
       "       251744.55507693, 251740.27685135, 251736.02363295, 251731.79512337,\n",
       "       251727.59102943, 251723.4110633 , 251719.25494225, 251715.12238856,\n",
       "       251711.01312925, 251706.92689627, 251702.8634261 , 251698.82245985,\n",
       "       251694.80374303, 251690.80702541, 251686.83206101, 251682.87860813,\n",
       "       251678.94642906, 251675.03529086, 251671.14496275, 251667.27521787,\n",
       "       251663.42583483, 251659.59659477, 251655.78728215, 251651.99768506,\n",
       "       251648.22759507, 251644.47680707, 251640.74511924, 251637.03233246,\n",
       "       251633.33825115, 251629.66268311, 251626.00543902, 251622.36633236,\n",
       "       251618.74517935, 251615.14179904, 251611.55601326, 251607.9876465 ,\n",
       "       251604.43652594, 251600.9024813 , 251597.38534489, 251593.8849514 ,\n",
       "       251590.40113808, 251586.93374446, 251583.48261252, 251580.04758639,\n",
       "       251576.62851262, 251573.22523977, 251569.83761878, 251566.46550257,\n",
       "       251563.10874616, 251559.76720666, 251556.44074311, 251553.12921661,\n",
       "       251549.83249026, 251546.55042888, 251543.28289912, 251540.02976961,\n",
       "       251536.79091093, 251533.56619518, 251530.35549604, 251527.15868898,\n",
       "       251523.97565123, 251520.80626162, 251517.65040068, 251514.50795039,\n",
       "       251511.37879436, 251508.26281771, 251505.15990704, 251502.06995048])"
      ]
     },
     "execution_count": 22,
     "metadata": {},
     "output_type": "execute_result"
    }
   ],
   "source": [
    "Pt"
   ]
  },
  {
   "cell_type": "code",
   "execution_count": 103,
   "metadata": {},
   "outputs": [
    {
     "data": {
      "text/plain": [
       "[<matplotlib.lines.Line2D at 0x1c467810c50>]"
      ]
     },
     "execution_count": 103,
     "metadata": {},
     "output_type": "execute_result"
    },
    {
     "data": {
      "image/png": "[encoded data removed]",
      "text/plain": [
       "<Figure size 432x288 with 1 Axes>"
      ]
     },
     "metadata": {
      "needs_background": "light"
     },
     "output_type": "display_data"
    },
    {
     "data": {
      "image/png": "[encoded data removed]",
      "text/plain": [
       "<Figure size 432x288 with 1 Axes>"
      ]
     },
     "metadata": {
      "needs_background": "light"
     },
     "output_type": "display_data"
    },
    {
     "data": {
      "image/png": "[encoded data removed]",
      "text/plain": [
       "<Figure size 432x288 with 1 Axes>"
      ]
     },
     "metadata": {
      "needs_background": "light"
     },
     "output_type": "display_data"
    },
    {
     "data": {
      "image/png": "[encoded data removed]",
      "text/plain": [
       "<Figure size 432x288 with 1 Axes>"
      ]
     },
     "metadata": {
      "needs_background": "light"
     },
     "output_type": "display_data"
    }
   ],
   "source": [
    "plt.plot(Tt)\n",
    "plt.figure()\n",
    "# plt.plot(Tt)\n",
    "for i in range(gas.n_species):\n",
    "    plt.plot(Yt[i,:])\n",
    "\n",
    "plt.figure()\n",
    "plt.plot(Pt)\n",
    "plt.figure()\n",
    "plt.plot(Rhot)\n",
    "####"
   ]
  },
  {
   "cell_type": "code",
   "execution_count": 11,
   "metadata": {},
   "outputs": [],
   "source": [
    "np.save('.npy files/pressure.npy', Pt)\n",
    "np.save('.npy files/temperature.npy', Tt)\n",
    "np.save('.npy files/mass_fraction.npy', Yt)"
   ]
  },
  {
   "cell_type": "code",
   "execution_count": 12,
   "metadata": {},
   "outputs": [],
   "source": [
    "tbd = []\n",
    "falofr = []\n",
    "elmr = []\n",
    "for i in range(gas.n_reactions):\n",
    "    if (isinstance(gas.reaction(i), ct.ThreeBodyReaction)):\n",
    "        tbd.append(i)\n",
    "    elif (isinstance(gas.reaction(i), ct.FalloffReaction)):\n",
    "        falofr.append(i)\n",
    "    else:\n",
    "        elmr.append(i)"
   ]
  },
  {
   "cell_type": "code",
   "execution_count": 13,
   "metadata": {},
   "outputs": [],
   "source": [
    "NASA_coeffs = []\n",
    "for i in range(gas.n_species):\n",
    "    NASA_coeffs.append(gas.species(i).thermo.coeffs)\n",
    "NASA_coeffs = np.array(NASA_coeffs)\n",
    "reactants = []\n",
    "orders = [] \n",
    "Af = np.zeros(len(elmr))\n",
    "beta = np.zeros(len(elmr))\n",
    "E = np.zeros(len(elmr))"
   ]
  },
  {
   "cell_type": "code",
   "execution_count": 14,
   "metadata": {},
   "outputs": [],
   "source": [
    "rec2ind = dict()\n",
    "for i in range(gas.n_species):\n",
    "    reactants.append(gas.species(i).name)\n",
    "    rec2ind[gas.species(i).name] = i\n",
    "orders = gas.reactant_stoich_coeffs()[:,elmr]\n",
    "for i, s in enumerate(elmr):   \n",
    "    Af[i] = gas.reaction(s).rate.pre_exponential_factor\n",
    "    beta[i] = gas.reaction(s).rate.temperature_exponent\n",
    "    E[i] = gas.reaction(s).rate.activation_energy\n",
    "    for rec in gas.reaction(s).orders:\n",
    "        orders[rec2ind[rec], i] = gas.reaction(s).orders[rec]\n",
    "reversible = np.array([int(gas.reaction(i).reversible) for i in range(gas.n_reactions)])"
   ]
  },
  {
   "cell_type": "code",
   "execution_count": 15,
   "metadata": {},
   "outputs": [],
   "source": [
    "np.save('.npy files/NASA_coeffs.npy', NASA_coeffs)\n",
    "np.save('.npy files/molecular_weights.npy',gas.molecular_weights)\n",
    "np.save('.npy files/reactants_stoich_coeffs.npy',gas.reactant_stoich_coeffs())\n",
    "np.save('.npy files/product_stoich_coeffs.npy',gas.product_stoich_coeffs())\n",
    "np.save('.npy files/reaction_orders.npy',orders)\n",
    "np.save('.npy files/pre_exponential_factor.npy', Af)\n",
    "np.save('.npy files/temperature_exponent.npy', beta)\n",
    "np.save('.npy files/activation_energy.npy', E)\n",
    "np.save('.npy files/delta_standard_entropy.npy', gas.delta_standard_entropy)\n",
    "np.save('.npy files/delta_standard_enthalpy.npy', gas.delta_standard_enthalpy)\n",
    "np.save('.npy files/reversible.npy', reversible)"
   ]
  },
  {
   "cell_type": "code",
   "execution_count": 16,
   "metadata": {},
   "outputs": [],
   "source": [
    "efficiency_f = np.zeros((gas.n_species, len(falofr)))\n",
    "Af_lo = np.zeros(len(falofr))\n",
    "beta_lo = np.zeros(len(falofr))\n",
    "E_lo = np.zeros(len(falofr))\n",
    "Af_hi = np.zeros(len(falofr))\n",
    "beta_hi = np.zeros(len(falofr))\n",
    "E_hi = np.zeros(len(falofr))\n",
    "orders_f = gas.reactant_stoich_coeffs()[:,falofr]\n",
    "falloff_parameters = np.zeros((4, len(falofr)))\n",
    "troefall = []\n",
    "troefall_coeff = []\n",
    "for i, s in enumerate(falofr):\n",
    "    rr = gas.reaction(s)\n",
    "    Af_lo[i] = rr.low_rate.pre_exponential_factor\n",
    "    beta_lo[i] = rr.low_rate.temperature_exponent\n",
    "    E_lo[i] = rr.low_rate.activation_energy\n",
    "    Af_hi[i] = rr.high_rate.pre_exponential_factor\n",
    "    beta_hi[i] = rr.high_rate.temperature_exponent\n",
    "    E_hi[i] = rr.high_rate.activation_energy\n",
    "    efficiency_f[:,i] = rr.default_efficiency * np.ones(gas.n_species)\n",
    "    if(isinstance(rr.falloff, ct.TroeFalloff)):\n",
    "        troefall.append(i)\n",
    "        troefall_coeff.append(rr.falloff.parameters)\n",
    "    #falloff_parameters[:,i] = gas.reaction(s).falloff.parameters\n",
    "    for rec in rr.efficiencies:\n",
    "        efficiency_f[rec2ind[rec]] = rr.efficiencies[rec]\n",
    "    for rec in gas.reaction(s).orders:\n",
    "        orders_f[rec2ind[rec], i] = gas.reaction(s).orders[rec]\n",
    "\n",
    "np.save('.npy files/efficiency_f.npy', efficiency_f)\n",
    "np.save('.npy files/troefall_coeff.npy', np.array(troefall_coeff).T)\n",
    "np.save('.npy files/troefall.npy', troefall)\n",
    "np.save('.npy files/reaction_orders_f.npy',orders_f)\n",
    "np.save('.npy files/pre_exponential_factor_hi.npy', Af_hi)\n",
    "np.save('.npy files/temperature_exponent_hi.npy', beta_hi)\n",
    "np.save('.npy files/activation_energy_hi.npy', E_hi)\n",
    "np.save('.npy files/pre_exponential_factor_lo.npy', Af_lo)\n",
    "np.save('.npy files/temperature_exponent_lo.npy', beta_lo)\n",
    "np.save('.npy files/activation_energy_lo.npy', E_lo)"
   ]
  },
  {
   "cell_type": "code",
   "execution_count": 17,
   "metadata": {},
   "outputs": [],
   "source": [
    "efficiency_t = np.zeros((gas.n_species, len(tbd)))\n",
    "Af_t = np.zeros(len(tbd))\n",
    "beta_t = np.zeros(len(tbd))\n",
    "E_t = np.zeros(len(tbd))\n",
    "orders_t = gas.reactant_stoich_coeffs()[:,tbd]\n",
    "for i, s in enumerate(tbd):\n",
    "    rr = gas.reaction(s)\n",
    "    Af_t[i] = rr.rate.pre_exponential_factor\n",
    "    beta_t[i] = rr.rate.temperature_exponent\n",
    "    E_t[i] = rr.rate.activation_energy\n",
    "    efficiency_t[:,i] = rr.default_efficiency * np.ones(gas.n_species)\n",
    "    for rec in rr.efficiencies:\n",
    "        efficiency_t[rec2ind[rec]] = rr.efficiencies[rec]\n",
    "    for rec in gas.reaction(s).orders:\n",
    "        orders_t[rec2ind[rec], i] = gas.reaction(s).orders[rec]\n",
    "        \n",
    "np.save('.npy files/efficiency_t.npy',efficiency_t)\n",
    "np.save('.npy files/reaction_orders_t.npy',orders_t)\n",
    "np.save('.npy files/pre_exponential_factor_t.npy', Af_t)\n",
    "np.save('.npy files/temperature_exponent_t.npy', beta_t)\n",
    "np.save('.npy files/activation_energy_t.npy', E_t)"
   ]
  },
  {
   "cell_type": "code",
   "execution_count": 18,
   "metadata": {},
   "outputs": [],
   "source": [
    "np.save('.npy files/tbd.npy',tbd)\n",
    "np.save('.npy files/falofr.npy',falofr)\n",
    "np.save('.npy files/elmr.npy',elmr)"
   ]
  },
  {
   "cell_type": "code",
   "execution_count": 19,
   "metadata": {},
   "outputs": [
    {
     "data": {
      "text/plain": [
       "125366893824.50568"
      ]
     },
     "execution_count": 19,
     "metadata": {},
     "output_type": "execute_result"
    }
   ],
   "source": [
    "ai = gas.reaction(0).high_rate.pre_exponential_factor\n",
    "bi = gas.reaction(0).high_rate.temperature_exponent\n",
    "ei = gas.reaction(0).high_rate.activation_energy\n",
    "kf_h = ai * (gas.T**bi) * np.exp(-ei/(ct.gas_constant * gas.T))\n",
    "kf_h"
   ]
  },
  {
   "cell_type": "code",
   "execution_count": 20,
   "metadata": {},
   "outputs": [
    {
     "data": {
      "text/plain": [
       "5969920856.355112"
      ]
     },
     "execution_count": 20,
     "metadata": {},
     "output_type": "execute_result"
    }
   ],
   "source": [
    "ai = gas.reaction(0).low_rate.pre_exponential_factor\n",
    "bi = gas.reaction(0).low_rate.temperature_exponent\n",
    "ei = gas.reaction(0).low_rate.activation_energy\n",
    "kf_o = ai * (gas.T**bi) * np.exp(-ei/(ct.gas_constant * gas.T)) * gas.concentrations.dot(efficiency_f[:,0])\n",
    "kf_o"
   ]
  },
  {
   "cell_type": "code",
   "execution_count": 21,
   "metadata": {},
   "outputs": [
    {
     "data": {
      "text/plain": [
       "5698557833.597583"
      ]
     },
     "execution_count": 21,
     "metadata": {},
     "output_type": "execute_result"
    }
   ],
   "source": [
    "kf_o / (1 + kf_o / kf_h)"
   ]
  },
  {
   "cell_type": "code",
   "execution_count": 23,
   "metadata": {},
   "outputs": [
    {
     "data": {
      "text/plain": [
       "(20, 4)"
      ]
     },
     "execution_count": 23,
     "metadata": {},
     "output_type": "execute_result"
    }
   ],
   "source": [
    "np.array(troefall_coeff).shape"
   ]
  },
  {
   "cell_type": "code",
   "execution_count": 22,
   "metadata": {},
   "outputs": [
    {
     "name": "stdout",
     "output_type": "stream",
     "text": [
      "Help on TroeFalloff object:\n",
      "\n",
      "class TroeFalloff(Falloff)\n",
      " |  The 3- or 4-parameter Troe falloff function.\n",
      " |  \n",
      " |  :param params:\n",
      " |      An array of 3 or 4 parameters: :math:`[a, T^{***}, T^*, T^{**}]` where\n",
      " |      the final parameter is optional (with a default value of 0).\n",
      " |  \n",
      " |  Method resolution order:\n",
      " |      TroeFalloff\n",
      " |      Falloff\n",
      " |      builtins.object\n",
      " |  \n",
      " |  Methods defined here:\n",
      " |  \n",
      " |  __reduce__ = __reduce_cython__(...)\n",
      " |      TroeFalloff.__reduce_cython__(self)\n",
      " |  \n",
      " |  __setstate__ = __setstate_cython__(...)\n",
      " |      TroeFalloff.__setstate_cython__(self, __pyx_state)\n",
      " |  \n",
      " |  ----------------------------------------------------------------------\n",
      " |  Static methods defined here:\n",
      " |  \n",
      " |  __new__(*args, **kwargs) from builtins.type\n",
      " |      Create and return a new object.  See help(type) for accurate signature.\n",
      " |  \n",
      " |  ----------------------------------------------------------------------\n",
      " |  Data and other attributes defined here:\n",
      " |  \n",
      " |  falloff_type = 110\n",
      " |  \n",
      " |  ----------------------------------------------------------------------\n",
      " |  Methods inherited from Falloff:\n",
      " |  \n",
      " |  __call__(...)\n",
      " |      Evaluate the falloff function :math:`F(T, P_r)`\n",
      " |  \n",
      " |  ----------------------------------------------------------------------\n",
      " |  Data descriptors inherited from Falloff:\n",
      " |  \n",
      " |  parameters\n",
      " |      The array of parameters used to define this falloff function.\n",
      " |  \n",
      " |  type\n",
      " |      A string defining the type of the falloff parameterization\n",
      "\n"
     ]
    }
   ],
   "source": [
    "help(gas.reaction(0).falloff)"
   ]
  },
  {
   "cell_type": "code",
   "execution_count": 17,
   "metadata": {},
   "outputs": [],
   "source": [
    "# gas.reaction().falloff.parameters"
   ]
  },
  {
   "cell_type": "code",
   "execution_count": 24,
   "metadata": {},
   "outputs": [
    {
     "ename": "IndexError",
     "evalue": "index 0 is out of bounds for axis 0 with size 0",
     "output_type": "error",
     "traceback": [
      "\u001b[1;31m---------------------------------------------------------------------------\u001b[0m",
      "\u001b[1;31mIndexError\u001b[0m                                Traceback (most recent call last)",
      "\u001b[1;32m<ipython-input-24-dc92d2f6a115>\u001b[0m in \u001b[0;36m<module>\u001b[1;34m\u001b[0m\n\u001b[0;32m      1\u001b[0m \u001b[0mA\u001b[0m \u001b[1;33m=\u001b[0m \u001b[0mgas\u001b[0m\u001b[1;33m.\u001b[0m\u001b[0mreaction\u001b[0m\u001b[1;33m(\u001b[0m\u001b[0mfalofr\u001b[0m\u001b[1;33m[\u001b[0m\u001b[1;36m10\u001b[0m\u001b[1;33m]\u001b[0m\u001b[1;33m)\u001b[0m\u001b[1;33m.\u001b[0m\u001b[0mfalloff\u001b[0m\u001b[1;33m.\u001b[0m\u001b[0mparameters\u001b[0m\u001b[1;33m\u001b[0m\u001b[0m\n\u001b[0;32m      2\u001b[0m \u001b[0mT\u001b[0m \u001b[1;33m=\u001b[0m \u001b[1;36m1\u001b[0m\u001b[1;33m\u001b[0m\u001b[0m\n\u001b[1;32m----> 3\u001b[1;33m \u001b[0mA\u001b[0m\u001b[1;33m[\u001b[0m\u001b[1;36m0\u001b[0m\u001b[1;33m]\u001b[0m \u001b[1;33m+\u001b[0m \u001b[0mA\u001b[0m\u001b[1;33m[\u001b[0m\u001b[1;36m1\u001b[0m\u001b[1;33m]\u001b[0m \u001b[1;33m*\u001b[0m \u001b[0mT\u001b[0m\u001b[1;33m**\u001b[0m\u001b[1;36m3\u001b[0m \u001b[1;33m+\u001b[0m \u001b[0mA\u001b[0m\u001b[1;33m[\u001b[0m\u001b[1;36m2\u001b[0m\u001b[1;33m]\u001b[0m \u001b[1;33m*\u001b[0m \u001b[0mT\u001b[0m \u001b[1;33m+\u001b[0m \u001b[0mA\u001b[0m\u001b[1;33m[\u001b[0m\u001b[1;36m3\u001b[0m\u001b[1;33m]\u001b[0m \u001b[1;33m*\u001b[0m \u001b[0mT\u001b[0m\u001b[1;33m**\u001b[0m\u001b[1;36m2\u001b[0m\u001b[1;33m\u001b[0m\u001b[0m\n\u001b[0m",
      "\u001b[1;31mIndexError\u001b[0m: index 0 is out of bounds for axis 0 with size 0"
     ]
    }
   ],
   "source": [
    "A = gas.reaction(falofr[10]).falloff.parameters\n",
    "T = 1\n",
    "A[0] + A[1] * T**3 + A[2] * T + A[3] * T**2"
   ]
  },
  {
   "cell_type": "code",
   "execution_count": 25,
   "metadata": {},
   "outputs": [
    {
     "data": {
      "text/plain": [
       "<cantera._cantera.TroeFalloff at 0x289667d5508>"
      ]
     },
     "execution_count": 25,
     "metadata": {},
     "output_type": "execute_result"
    }
   ],
   "source": [
    "gas.reaction(falofr[1]).falloff"
   ]
  },
  {
   "cell_type": "code",
   "execution_count": 50,
   "metadata": {},
   "outputs": [],
   "source": [
    "def nozzle_nasa_mdot(t):\n",
    "    # Can represent mass inflow by increasing combined gas's density\n",
    "    \"\"\"\n",
    "    Compute the efflux of the combustor via simple isentropic relations.\n",
    "    The efficiency of the nozzle is modeled using a discharge coefficient\n",
    "    :param t: time\n",
    "    :return: mass flux at the outlet (efflux) of the combustion chamber.\n",
    "    \"\"\"\n",
    "    # Avoid a unity pressure ratio at startup\n",
    "    # print(gas.T)\n",
    "    epsilon = 1.0\n",
    "    _rho = gas.density\n",
    "    _press = gas.P\n",
    "    _area = 1  # arbitrarily chosen value, [m^2]\n",
    "    _gamma_s = gas.cp / gas.cv\n",
    "    _temp = gas.T\n",
    "    _r_gas_specific = gas.cp - gas.cv\n",
    "    _p_ratio = 101325 / (gas.P + epsilon)  # Exhaust pressure is atmospheric pressure\n",
    "\n",
    "    power_1 = 2.0 / _gamma_s\n",
    "    power_2 = (_gamma_s + 1.0) / (_gamma_s)\n",
    "    pressure_term = _p_ratio ** power_1 - _p_ratio ** power_2\n",
    "    _sqrt_term = 2. * _gamma_s * _r_gas_specific * _temp / (_gamma_s - 1.0)\n",
    "    _sqrt_term *= pressure_term\n",
    "    assert (_sqrt_term >= 0.0)\n",
    "    _sqrt_term = np.sqrt(_sqrt_term)\n",
    "\n",
    "    _mdot_unchoked = _rho * _area * _sqrt_term\n",
    "\n",
    "    power = (_gamma_s + 1.0) / (_gamma_s - 1.0)\n",
    "    _gamma_term = (2. / (_gamma_s + 1.0)) ** power\n",
    "    _sqrt = np.sqrt(_gamma_s * _r_gas_specific * _temp * _gamma_term)\n",
    "    _mdot_choked = _rho * _area * _sqrt\n",
    "\n",
    "    _mdot = 0.0\n",
    "    _p_crit_downstream = _press * (2. / (_gamma_s + 1.0)) ** (_gamma_s / (_gamma_s - 1.0))\n",
    "\n",
    "    if _p_crit_downstream < 101325:  # Less than exhaust pressure = P_atm\n",
    "        # Unchoked conditions\n",
    "        _mdot = _mdot_unchoked\n",
    "    else:\n",
    "        # Choked conditions\n",
    "        _mdot = _mdot_choked\n",
    "\n",
    "    return _mdot  # * _geom_nozzle['C_d']  # Discharge coefficient"
   ]
  },
  {
   "cell_type": "code",
   "execution_count": 61,
   "metadata": {},
   "outputs": [
    {
     "name": "stdout",
     "output_type": "stream",
     "text": [
      "2297.02854305099\n",
      "2297.011873649935\n",
      "2296.9952120764046\n",
      "2296.978558386061\n",
      "2296.9619125676436\n",
      "2296.9452746195243\n",
      "2296.928644542573\n",
      "2296.912022312811\n",
      "2296.8954079415075\n",
      "2296.8788014153706\n",
      "2296.8622027221695\n",
      "2296.845611870601\n",
      "2296.8290288326875\n",
      "2296.812453617034\n",
      "2296.795886217399\n",
      "2296.7793266127633\n",
      "2296.762774814651\n",
      "2296.7462308035447\n",
      "2296.7296945728485\n",
      "2296.7131661237886\n",
      "2296.696645452713\n",
      "2296.6801325421343\n",
      "2296.66362738896\n",
      "2296.6471299889186\n",
      "2296.6306403359304\n",
      "2296.614158418472\n",
      "2296.597684231866\n",
      "2296.5812177693765\n",
      "2296.564759024097\n",
      "2296.5483079888\n",
      "2296.5318646567093\n",
      "2296.5154290208893\n",
      "2296.499001074823\n",
      "2296.4825808134647\n",
      "2296.466168228732\n",
      "2296.449763313754\n",
      "2296.4333660616576\n",
      "2296.416976465572\n",
      "2296.4005945186254\n",
      "2296.3842202139454\n",
      "2296.36785354466\n",
      "2296.3514945076445\n",
      "2296.335143094196\n",
      "2296.3187992971525\n",
      "2296.3024631098006\n",
      "2296.2861345254278\n",
      "2296.2698135373216\n",
      "2296.2535001387696\n",
      "2296.2371943230587\n",
      "2296.220896085982\n",
      "2296.2046054215925\n",
      "2296.1883223215546\n",
      "2296.1720467792857\n",
      "2296.1557787881957\n",
      "2296.139518341688\n",
      "2296.1232654331616\n",
      "2296.1070200560066\n",
      "2296.090782203609\n",
      "2296.0745518693466\n",
      "2296.0583290465934\n",
      "2296.0421137287144\n",
      "2296.0259059090704\n",
      "2296.0097055810147\n",
      "2295.9935127428184\n",
      "2295.9773273857204\n",
      "2295.9611495021027\n",
      "2295.9449790854947\n",
      "2295.928816129428\n",
      "2295.912660627436\n",
      "2295.8965125730533\n",
      "2295.8803719598172\n",
      "2295.8642387812656\n",
      "2295.8481130309397\n",
      "2295.8319947023806\n",
      "2295.8158837891324\n",
      "2295.799780284741\n",
      "2295.7836841828757\n",
      "2295.7675954810056\n",
      "2295.751514169729\n",
      "2295.735440242721\n",
      "2295.719373693665\n",
      "2295.7033145162522\n",
      "2295.6872627041807\n",
      "2295.6712182511556\n",
      "2295.65518115089\n",
      "2295.639151397103\n",
      "2295.6231289835227\n",
      "2295.607113903884\n",
      "2295.591106151928\n",
      "2295.575105721405\n",
      "2295.5591126063337\n",
      "2295.5431268010625\n",
      "2295.5271482987973\n",
      "2295.511177093347\n",
      "2295.495213178531\n",
      "2295.4792565481766\n",
      "2295.46330719612\n",
      "2295.4473651162057\n",
      "2295.4314303022875\n",
      "2295.415502748228\n",
      "2295.399582447898\n"
     ]
    },
    {
     "data": {
      "text/plain": [
       "[<matplotlib.lines.Line2D at 0x1c467bfe3c8>]"
      ]
     },
     "execution_count": 61,
     "metadata": {},
     "output_type": "execute_result"
    },
    {
     "data": {
      "image/png": "[encoded data removed]",
      "text/plain": [
       "<Figure size 432x288 with 1 Axes>"
      ]
     },
     "metadata": {
      "needs_background": "light"
     },
     "output_type": "display_data"
    }
   ],
   "source": [
    "t = np.arange(0, 1.5*10**(-12), 1.5*10**(-14))\n",
    "_mdot = np.zeros(len(t))\n",
    "\n",
    "reactor = ct.IdealGasReactor(gas)  # Need to re-initialize reactor before running sim\n",
    "sim = ct.ReactorNet([reactor])\n",
    "\n",
    "for i in range(len(t)):\n",
    "    sim.advance((i)*1e-7)\n",
    "    _mdot[i] = nozzle_nasa_mdot(t[i])\n",
    "    print(gas.T)\n",
    "    \n",
    "    \n",
    "# print(t.shape) \n",
    "# print(_mdot.shape)\n",
    "plt.plot(t, _mdot)  # For debugging"
   ]
  },
  {
   "cell_type": "code",
   "execution_count": 40,
   "metadata": {},
   "outputs": [
    {
     "data": {
      "text/plain": [
       "[<matplotlib.lines.Line2D at 0x28967199b70>]"
      ]
     },
     "execution_count": 40,
     "metadata": {},
     "output_type": "execute_result"
    },
    {
     "data": {
      "image/png": "[encoded data removed]",
      "text/plain": [
       "<Figure size 432x288 with 1 Axes>"
      ]
     },
     "metadata": {
      "needs_background": "light"
     },
     "output_type": "display_data"
    },
    {
     "data": {
      "image/png": "[encoded data removed]",
      "text/plain": [
       "<Figure size 432x288 with 1 Axes>"
      ]
     },
     "metadata": {
      "needs_background": "light"
     },
     "output_type": "display_data"
    },
    {
     "data": {
      "image/png": "[encoded data removed]",
      "text/plain": [
       "<Figure size 432x288 with 1 Axes>"
      ]
     },
     "metadata": {
      "needs_background": "light"
     },
     "output_type": "display_data"
    }
   ],
   "source": [
    "plt.plot(Tt)\n",
    "plt.figure()\n",
    "plt.plot(Pt)\n",
    "plt.figure()\n",
    "plt.plot(Rhot)\n",
    "####"
   ]
  },
  {
   "cell_type": "code",
   "execution_count": null,
   "metadata": {},
   "outputs": [],
   "source": []
  }
 ],
 "metadata": {
  "kernelspec": {
   "display_name": "Python 3",
   "language": "python",
   "name": "python3"
  },
  "language_info": {
   "codemirror_mode": {
    "name": "ipython",
    "version": 3
   },
   "file_extension": ".py",
   "mimetype": "text/x-python",
   "name": "python",
   "nbconvert_exporter": "python",
   "pygments_lexer": "ipython3",
   "version": "3.7.0"
  }
 },
 "nbformat": 4,
 "nbformat_minor": 4
}
