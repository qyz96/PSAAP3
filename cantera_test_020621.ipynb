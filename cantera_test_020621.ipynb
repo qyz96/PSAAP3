{
 "cells": [
  {
   "cell_type": "code",
   "execution_count": 1,
   "metadata": {},
   "outputs": [],
   "source": [
    "import cantera as ct\n",
    "import numpy as np\n",
    "import matplotlib.pyplot as plt"
   ]
  },
  {
   "cell_type": "code",
   "execution_count": 11,
   "metadata": {},
   "outputs": [
    {
     "name": "stdout",
     "output_type": "stream",
     "text": [
      "\n",
      "  CH4_CM2:\n",
      "\n",
      "       temperature            1200  K\n",
      "          pressure     4.04438e+06  Pa\n",
      "           density              10  kg/m^3\n",
      "  mean mol. weight         24.6697  amu\n",
      "\n",
      "                          1 kg            1 kmol\n",
      "                       -----------      ------------\n",
      "          enthalpy     -3.6287e+06       -8.952e+07     J\n",
      "   internal energy     -4.0331e+06        -9.95e+07     J\n",
      "           entropy          9466.5        2.335e+05     J/K\n",
      "    Gibbs function     -1.4988e+07       -3.698e+08     J\n",
      " heat capacity c_p          2021.5        4.987e+04     J/K\n",
      " heat capacity c_v          1684.4        4.155e+04     J/K\n",
      "\n",
      "                           X                 Y          Chem. Pot. / RT\n",
      "                     -------------     ------------     ------------\n",
      "                O2       0.128493         0.166667         -25.4521\n",
      "               H2O       0.228229         0.166667         -47.4928\n",
      "               CH4       0.256291         0.166667         -31.2398\n",
      "                CO       0.146789         0.166667         -35.4084\n",
      "               CO2       0.093425         0.166667         -67.2678\n",
      "                N2       0.146773         0.166667         -23.5861\n",
      "\n"
     ]
    }
   ],
   "source": [
    "# gas = ct.Solution(\"seiser.cti\")  # Change .cti file to standard simple reaction\n",
    "gas = ct.Solution(\"2S_methane.cti\")\n",
    "# gas.Y = np.array([0.5, 0, 0.5, 0, 0])\n",
    "gas.TP = 1200, 101325\n",
    "gas.TD = 1200, 10\n",
    "reactor = ct.IdealGasReactor(gas)\n",
    "exhaust_gas = ct.Solution(\"2S_methane.cti\")\n",
    "exhaust = ct.Reservoir(exhaust_gas)\n",
    "mfc = ct.MassFlowController(upstream = reactor, downstream = exhaust, mdot = 1e7)  # mdot = nozzle_nasa_mdot\n",
    "# sim.advance(5.93e-6)\n",
    "#gas.Y = np.array([0.25, 0.25, 0.25, 0.25, 0, 0])\n",
    "gas.Y = np.ones(gas.n_species) / gas.n_species\n",
    "# gas.set_equivalence_ratio(phi=1.0, fuel='nc7h16', oxidizer={'o2':1.0, 'n2':3.76})\n",
    "np.save(\".npy files/ini_mass_fraction.npy\", gas.Y)\n",
    "sim = ct.ReactorNet([reactor])\n",
    "gas()"
   ]
  },
  {
   "cell_type": "code",
   "execution_count": 83,
   "metadata": {},
   "outputs": [
    {
     "name": "stdout",
     "output_type": "stream",
     "text": [
      "\n",
      "  CH4_CM2:\n",
      "\n",
      "       temperature          7.5018  K\n",
      "          pressure          252834  Pa\n",
      "           density             100  kg/m^3\n",
      "  mean mol. weight         24.6697  amu\n",
      "\n",
      "                          1 kg            1 kmol\n",
      "                       -----------      ------------\n",
      "          enthalpy     -5.5356e+06       -1.366e+08     J\n",
      "   internal energy     -5.5382e+06       -1.366e+08     J\n",
      "           entropy          3327.8         8.21e+04     J/K\n",
      "    Gibbs function     -5.5606e+06       -1.372e+08     J\n",
      " heat capacity c_p          1348.5        3.327e+04     J/K\n",
      " heat capacity c_v          1011.5        2.495e+04     J/K\n",
      "\n",
      "                           X                 Y          Chem. Pot. / RT\n",
      "                     -------------     ------------     ------------\n",
      "                O2       0.128493         0.166667         -150.449\n",
      "               H2O       0.228229         0.166667         -4042.16\n",
      "               CH4       0.256291         0.166667          -1366.7\n",
      "                CO       0.146789         0.166667         -1920.23\n",
      "               CO2       0.093425         0.166667         -6461.83\n",
      "                N2       0.146773         0.166667         -147.119\n",
      "\n"
     ]
    }
   ],
   "source": [
    "gas.density"
   ]
  },
  {
   "cell_type": "code",
   "execution_count": 12,
   "metadata": {},
   "outputs": [
    {
     "name": "stdout",
     "output_type": "stream",
     "text": [
      "\n",
      "  CH4_CM2:\n",
      "\n",
      "       temperature         2232.87  K\n",
      "          pressure     7.74819e+06  Pa\n",
      "           density              10  kg/m^3\n",
      "  mean mol. weight         23.9606  amu\n",
      "\n",
      "                          1 kg            1 kmol\n",
      "                       -----------      ------------\n",
      "          enthalpy     -3.2583e+06       -7.807e+07     J\n",
      "   internal energy     -4.0331e+06       -9.664e+07     J\n",
      "           entropy           10698        2.563e+05     J/K\n",
      "    Gibbs function     -2.7147e+07       -6.504e+08     J\n",
      " heat capacity c_p          2334.8        5.594e+04     J/K\n",
      " heat capacity c_v          1987.8        4.763e+04     J/K\n",
      "\n",
      "                           X                 Y          Chem. Pot. / RT\n",
      "                     -------------     ------------     ------------\n",
      "                O2    2.09417e-07      2.79671e-07         -40.2038\n",
      "               H2O       0.375212         0.282111         -37.6349\n",
      "               CH4       0.172153         0.115264         -31.6271\n",
      "                CO       0.200057         0.233871         -31.3098\n",
      "               CO2       0.110024         0.202087         -51.3776\n",
      "                N2       0.142554         0.166667         -24.9291\n",
      "\n"
     ]
    }
   ],
   "source": [
    "# gas.TP = 1200, 101325\n",
    "# gas.set_equivalence_ratio(phi=1.0, fuel='nc7h16', oxidizer={'o2':1.0, 'n2':3.76})\n",
    "reactor = ct.IdealGasReactor(gas)  # This and below line causing bugs?\n",
    "sim = ct.ReactorNet([reactor])\n",
    "n_t = 200\n",
    "Pt = np.zeros(n_t)\n",
    "Tt = np.zeros(n_t)\n",
    "Yt = np.zeros((gas.n_species,n_t))\n",
    "Rhot = np.zeros(n_t)  # New array for changing density of gases, representing incoming mass flux\n",
    "for i in range(n_t):\n",
    "    sim.advance((i+1)*1e-7)\n",
    "    Pt[i] = gas.P\n",
    "    Tt[i] = gas.T\n",
    "    Yt[:,i] = gas.Y\n",
    "    Rhot[i] = gas.density\n",
    "    # gas.DP = 1, 1\n",
    "    # gas.TP = 1200, 101325\n",
    "    # print(nozzle_nasa_mdot((i+1)*1e-14))\n",
    "gas()\n",
    "# gas.DP"
   ]
  },
  {
   "cell_type": "code",
   "execution_count": 22,
   "metadata": {},
   "outputs": [
    {
     "data": {
      "text/plain": [
       "array([207514.98338178, 252854.52481331, 252834.11315809, 252814.27035138,\n",
       "       252794.96795079, 252776.17922432, 252757.87908203, 252740.0439944 ,\n",
       "       252722.65190331, 252705.68213107, 252689.11529089, 252672.93319871,\n",
       "       252657.11879053, 252641.65604354, 252626.52990146, 252611.72620579,\n",
       "       252597.23163754, 252583.03364626, 252569.12040426, 252555.48075294,\n",
       "       252542.10415563, 252528.98065749, 252516.10084119, 252503.45579327,\n",
       "       252491.0370697 , 252478.83666443, 252466.84698101, 252455.06080539,\n",
       "       252443.47128324, 252432.07189367, 252420.85642973, 252409.81898099,\n",
       "       252398.9539162 , 252388.2558624 , 252377.71969142, 252367.34050611,\n",
       "       252357.11362635, 252347.03457673, 252337.09907496, 252327.3030211 ,\n",
       "       252317.64248789, 252308.11371095, 252298.71307838, 252289.43712566,\n",
       "       252280.28252709, 252271.24608558, 252262.32473061, 252253.51550966,\n",
       "       252244.81558232, 252236.22221234, 252227.73276661, 252219.34470828,\n",
       "       252211.05559221, 252202.8630594 , 252194.76483657, 252186.75872958,\n",
       "       252178.84261935, 252171.01445936, 252163.27227223, 252155.61414665,\n",
       "       252148.03823448, 252140.54274811, 252133.12595773, 252125.78618888,\n",
       "       252118.5218202 , 252111.33128126, 252104.21305083, 252097.16565422,\n",
       "       252090.18765943, 252083.27767929, 252076.43436881, 252069.65642193,\n",
       "       252062.94257102, 252056.29158511, 252049.7022684 , 252043.17345901,\n",
       "       252036.70402778, 252030.29287707, 252023.93893959, 252017.64117721,\n",
       "       252011.39858004, 252005.21016526, 251999.07497633, 251992.99208185,\n",
       "       251986.96057512, 251980.97957262, 251975.04821355, 251969.16565928,\n",
       "       251963.33109234, 251957.54371574, 251951.80275233, 251946.10744403,\n",
       "       251940.45705152, 251934.85085333, 251929.28814531, 251923.76824031,\n",
       "       251918.29046717, 251912.8541706 , 251907.45871066, 251902.10346223,\n",
       "       251896.78781447, 251891.5111705 , 251886.27294694, 251881.07257358,\n",
       "       251875.90949275, 251870.783159  , 251865.69303896, 251860.63861061,\n",
       "       251855.61936375, 251850.63479961, 251845.68443001, 251840.7677763 ,\n",
       "       251835.88436958, 251831.03375108, 251826.21547174, 251821.42909177,\n",
       "       251816.67418031, 251811.95031525, 251807.25708293, 251802.59407777,\n",
       "       251797.96090271, 251793.35716808, 251788.78249278, 251784.23650232,\n",
       "       251779.71882945, 251775.2291141 , 251770.76700305, 251766.3321499 ,\n",
       "       251761.92421481, 251757.54286424, 251753.18777093, 251748.85861359,\n",
       "       251744.55507693, 251740.27685135, 251736.02363295, 251731.79512337,\n",
       "       251727.59102943, 251723.4110633 , 251719.25494225, 251715.12238856,\n",
       "       251711.01312925, 251706.92689627, 251702.8634261 , 251698.82245985,\n",
       "       251694.80374303, 251690.80702541, 251686.83206101, 251682.87860813,\n",
       "       251678.94642906, 251675.03529086, 251671.14496275, 251667.27521787,\n",
       "       251663.42583483, 251659.59659477, 251655.78728215, 251651.99768506,\n",
       "       251648.22759507, 251644.47680707, 251640.74511924, 251637.03233246,\n",
       "       251633.33825115, 251629.66268311, 251626.00543902, 251622.36633236,\n",
       "       251618.74517935, 251615.14179904, 251611.55601326, 251607.9876465 ,\n",
       "       251604.43652594, 251600.9024813 , 251597.38534489, 251593.8849514 ,\n",
       "       251590.40113808, 251586.93374446, 251583.48261252, 251580.04758639,\n",
       "       251576.62851262, 251573.22523977, 251569.83761878, 251566.46550257,\n",
       "       251563.10874616, 251559.76720666, 251556.44074311, 251553.12921661,\n",
       "       251549.83249026, 251546.55042888, 251543.28289912, 251540.02976961,\n",
       "       251536.79091093, 251533.56619518, 251530.35549604, 251527.15868898,\n",
       "       251523.97565123, 251520.80626162, 251517.65040068, 251514.50795039,\n",
       "       251511.37879436, 251508.26281771, 251505.15990704, 251502.06995048])"
      ]
     },
     "execution_count": 22,
     "metadata": {},
     "output_type": "execute_result"
    }
   ],
   "source": [
    "Pt"
   ]
  },
  {
   "cell_type": "code",
   "execution_count": 13,
   "metadata": {},
   "outputs": [
    {
     "data": {
      "text/plain": [
       "[<matplotlib.lines.Line2D at 0x2433edf9630>]"
      ]
     },
     "execution_count": 13,
     "metadata": {},
     "output_type": "execute_result"
    },
    {
     "data": {
      "image/png": "[encoded data removed]",
      "text/plain": [
       "<Figure size 432x288 with 1 Axes>"
      ]
     },
     "metadata": {
      "needs_background": "light"
     },
     "output_type": "display_data"
    },
    {
     "data": {
      "image/png": "[encoded data removed]",
      "text/plain": [
       "<Figure size 432x288 with 1 Axes>"
      ]
     },
     "metadata": {
      "needs_background": "light"
     },
     "output_type": "display_data"
    },
    {
     "data": {
      "image/png": "[encoded data removed]",
      "text/plain": [
       "<Figure size 432x288 with 1 Axes>"
      ]
     },
     "metadata": {
      "needs_background": "light"
     },
     "output_type": "display_data"
    },
    {
     "data": {
      "image/png": "[encoded data removed]",
      "text/plain": [
       "<Figure size 432x288 with 1 Axes>"
      ]
     },
     "metadata": {
      "needs_background": "light"
     },
     "output_type": "display_data"
    }
   ],
   "source": [
    "plt.plot(Tt)\n",
    "plt.figure()\n",
    "# plt.plot(Tt)\n",
    "for i in range(gas.n_species):\n",
    "    plt.plot(Yt[i,:])\n",
    "\n",
    "plt.figure()\n",
    "plt.plot(Pt)\n",
    "plt.figure()\n",
    "plt.plot(Rhot)\n",
    "####"
   ]
  },
  {
   "cell_type": "code",
   "execution_count": 11,
   "metadata": {},
   "outputs": [],
   "source": [
    "np.save('.npy files/pressure.npy', Pt)\n",
    "np.save('.npy files/temperature.npy', Tt)\n",
    "np.save('.npy files/mass_fraction.npy', Yt)"
   ]
  },
  {
   "cell_type": "code",
   "execution_count": 12,
   "metadata": {},
   "outputs": [],
   "source": [
    "tbd = []\n",
    "falofr = []\n",
    "elmr = []\n",
    "for i in range(gas.n_reactions):\n",
    "    if (isinstance(gas.reaction(i), ct.ThreeBodyReaction)):\n",
    "        tbd.append(i)\n",
    "    elif (isinstance(gas.reaction(i), ct.FalloffReaction)):\n",
    "        falofr.append(i)\n",
    "    else:\n",
    "        elmr.append(i)"
   ]
  },
  {
   "cell_type": "code",
   "execution_count": 13,
   "metadata": {},
   "outputs": [],
   "source": [
    "NASA_coeffs = []\n",
    "for i in range(gas.n_species):\n",
    "    NASA_coeffs.append(gas.species(i).thermo.coeffs)\n",
    "NASA_coeffs = np.array(NASA_coeffs)\n",
    "reactants = []\n",
    "orders = [] \n",
    "Af = np.zeros(len(elmr))\n",
    "beta = np.zeros(len(elmr))\n",
    "E = np.zeros(len(elmr))"
   ]
  },
  {
   "cell_type": "code",
   "execution_count": 14,
   "metadata": {},
   "outputs": [],
   "source": [
    "rec2ind = dict()\n",
    "for i in range(gas.n_species):\n",
    "    reactants.append(gas.species(i).name)\n",
    "    rec2ind[gas.species(i).name] = i\n",
    "orders = gas.reactant_stoich_coeffs()[:,elmr]\n",
    "for i, s in enumerate(elmr):   \n",
    "    Af[i] = gas.reaction(s).rate.pre_exponential_factor\n",
    "    beta[i] = gas.reaction(s).rate.temperature_exponent\n",
    "    E[i] = gas.reaction(s).rate.activation_energy\n",
    "    for rec in gas.reaction(s).orders:\n",
    "        orders[rec2ind[rec], i] = gas.reaction(s).orders[rec]\n",
    "reversible = np.array([int(gas.reaction(i).reversible) for i in range(gas.n_reactions)])"
   ]
  },
  {
   "cell_type": "code",
   "execution_count": 15,
   "metadata": {},
   "outputs": [],
   "source": [
    "np.save('.npy files/NASA_coeffs.npy', NASA_coeffs)\n",
    "np.save('.npy files/molecular_weights.npy',gas.molecular_weights)\n",
    "np.save('.npy files/reactants_stoich_coeffs.npy',gas.reactant_stoich_coeffs())\n",
    "np.save('.npy files/product_stoich_coeffs.npy',gas.product_stoich_coeffs())\n",
    "np.save('.npy files/reaction_orders.npy',orders)\n",
    "np.save('.npy files/pre_exponential_factor.npy', Af)\n",
    "np.save('.npy files/temperature_exponent.npy', beta)\n",
    "np.save('.npy files/activation_energy.npy', E)\n",
    "np.save('.npy files/delta_standard_entropy.npy', gas.delta_standard_entropy)\n",
    "np.save('.npy files/delta_standard_enthalpy.npy', gas.delta_standard_enthalpy)\n",
    "np.save('.npy files/reversible.npy', reversible)"
   ]
  },
  {
   "cell_type": "code",
   "execution_count": 16,
   "metadata": {},
   "outputs": [],
   "source": [
    "efficiency_f = np.zeros((gas.n_species, len(falofr)))\n",
    "Af_lo = np.zeros(len(falofr))\n",
    "beta_lo = np.zeros(len(falofr))\n",
    "E_lo = np.zeros(len(falofr))\n",
    "Af_hi = np.zeros(len(falofr))\n",
    "beta_hi = np.zeros(len(falofr))\n",
    "E_hi = np.zeros(len(falofr))\n",
    "orders_f = gas.reactant_stoich_coeffs()[:,falofr]\n",
    "falloff_parameters = np.zeros((4, len(falofr)))\n",
    "troefall = []\n",
    "troefall_coeff = []\n",
    "for i, s in enumerate(falofr):\n",
    "    rr = gas.reaction(s)\n",
    "    Af_lo[i] = rr.low_rate.pre_exponential_factor\n",
    "    beta_lo[i] = rr.low_rate.temperature_exponent\n",
    "    E_lo[i] = rr.low_rate.activation_energy\n",
    "    Af_hi[i] = rr.high_rate.pre_exponential_factor\n",
    "    beta_hi[i] = rr.high_rate.temperature_exponent\n",
    "    E_hi[i] = rr.high_rate.activation_energy\n",
    "    efficiency_f[:,i] = rr.default_efficiency * np.ones(gas.n_species)\n",
    "    if(isinstance(rr.falloff, ct.TroeFalloff)):\n",
    "        troefall.append(i)\n",
    "        troefall_coeff.append(rr.falloff.parameters)\n",
    "    #falloff_parameters[:,i] = gas.reaction(s).falloff.parameters\n",
    "    for rec in rr.efficiencies:\n",
    "        efficiency_f[rec2ind[rec]] = rr.efficiencies[rec]\n",
    "    for rec in gas.reaction(s).orders:\n",
    "        orders_f[rec2ind[rec], i] = gas.reaction(s).orders[rec]\n",
    "\n",
    "np.save('.npy files/efficiency_f.npy', efficiency_f)\n",
    "np.save('.npy files/troefall_coeff.npy', np.array(troefall_coeff).T)\n",
    "np.save('.npy files/troefall.npy', troefall)\n",
    "np.save('.npy files/reaction_orders_f.npy',orders_f)\n",
    "np.save('.npy files/pre_exponential_factor_hi.npy', Af_hi)\n",
    "np.save('.npy files/temperature_exponent_hi.npy', beta_hi)\n",
    "np.save('.npy files/activation_energy_hi.npy', E_hi)\n",
    "np.save('.npy files/pre_exponential_factor_lo.npy', Af_lo)\n",
    "np.save('.npy files/temperature_exponent_lo.npy', beta_lo)\n",
    "np.save('.npy files/activation_energy_lo.npy', E_lo)"
   ]
  },
  {
   "cell_type": "code",
   "execution_count": 17,
   "metadata": {},
   "outputs": [],
   "source": [
    "efficiency_t = np.zeros((gas.n_species, len(tbd)))\n",
    "Af_t = np.zeros(len(tbd))\n",
    "beta_t = np.zeros(len(tbd))\n",
    "E_t = np.zeros(len(tbd))\n",
    "orders_t = gas.reactant_stoich_coeffs()[:,tbd]\n",
    "for i, s in enumerate(tbd):\n",
    "    rr = gas.reaction(s)\n",
    "    Af_t[i] = rr.rate.pre_exponential_factor\n",
    "    beta_t[i] = rr.rate.temperature_exponent\n",
    "    E_t[i] = rr.rate.activation_energy\n",
    "    efficiency_t[:,i] = rr.default_efficiency * np.ones(gas.n_species)\n",
    "    for rec in rr.efficiencies:\n",
    "        efficiency_t[rec2ind[rec]] = rr.efficiencies[rec]\n",
    "    for rec in gas.reaction(s).orders:\n",
    "        orders_t[rec2ind[rec], i] = gas.reaction(s).orders[rec]\n",
    "        \n",
    "np.save('.npy files/efficiency_t.npy',efficiency_t)\n",
    "np.save('.npy files/reaction_orders_t.npy',orders_t)\n",
    "np.save('.npy files/pre_exponential_factor_t.npy', Af_t)\n",
    "np.save('.npy files/temperature_exponent_t.npy', beta_t)\n",
    "np.save('.npy files/activation_energy_t.npy', E_t)"
   ]
  },
  {
   "cell_type": "code",
   "execution_count": 18,
   "metadata": {},
   "outputs": [],
   "source": [
    "np.save('.npy files/tbd.npy',tbd)\n",
    "np.save('.npy files/falofr.npy',falofr)\n",
    "np.save('.npy files/elmr.npy',elmr)"
   ]
  },
  {
   "cell_type": "code",
   "execution_count": 19,
   "metadata": {},
   "outputs": [
    {
     "data": {
      "text/plain": [
       "125366893824.50568"
      ]
     },
     "execution_count": 19,
     "metadata": {},
     "output_type": "execute_result"
    }
   ],
   "source": [
    "ai = gas.reaction(0).high_rate.pre_exponential_factor\n",
    "bi = gas.reaction(0).high_rate.temperature_exponent\n",
    "ei = gas.reaction(0).high_rate.activation_energy\n",
    "kf_h = ai * (gas.T**bi) * np.exp(-ei/(ct.gas_constant * gas.T))\n",
    "kf_h"
   ]
  },
  {
   "cell_type": "code",
   "execution_count": 20,
   "metadata": {},
   "outputs": [
    {
     "data": {
      "text/plain": [
       "5969920856.355112"
      ]
     },
     "execution_count": 20,
     "metadata": {},
     "output_type": "execute_result"
    }
   ],
   "source": [
    "ai = gas.reaction(0).low_rate.pre_exponential_factor\n",
    "bi = gas.reaction(0).low_rate.temperature_exponent\n",
    "ei = gas.reaction(0).low_rate.activation_energy\n",
    "kf_o = ai * (gas.T**bi) * np.exp(-ei/(ct.gas_constant * gas.T)) * gas.concentrations.dot(efficiency_f[:,0])\n",
    "kf_o"
   ]
  },
  {
   "cell_type": "code",
   "execution_count": 21,
   "metadata": {},
   "outputs": [
    {
     "data": {
      "text/plain": [
       "5698557833.597583"
      ]
     },
     "execution_count": 21,
     "metadata": {},
     "output_type": "execute_result"
    }
   ],
   "source": [
    "kf_o / (1 + kf_o / kf_h)"
   ]
  },
  {
   "cell_type": "code",
   "execution_count": 23,
   "metadata": {},
   "outputs": [
    {
     "data": {
      "text/plain": [
       "(20, 4)"
      ]
     },
     "execution_count": 23,
     "metadata": {},
     "output_type": "execute_result"
    }
   ],
   "source": [
    "np.array(troefall_coeff).shape"
   ]
  },
  {
   "cell_type": "code",
   "execution_count": 22,
   "metadata": {},
   "outputs": [
    {
     "name": "stdout",
     "output_type": "stream",
     "text": [
      "Help on TroeFalloff object:\n",
      "\n",
      "class TroeFalloff(Falloff)\n",
      " |  The 3- or 4-parameter Troe falloff function.\n",
      " |  \n",
      " |  :param params:\n",
      " |      An array of 3 or 4 parameters: :math:`[a, T^{***}, T^*, T^{**}]` where\n",
      " |      the final parameter is optional (with a default value of 0).\n",
      " |  \n",
      " |  Method resolution order:\n",
      " |      TroeFalloff\n",
      " |      Falloff\n",
      " |      builtins.object\n",
      " |  \n",
      " |  Methods defined here:\n",
      " |  \n",
      " |  __reduce__ = __reduce_cython__(...)\n",
      " |      TroeFalloff.__reduce_cython__(self)\n",
      " |  \n",
      " |  __setstate__ = __setstate_cython__(...)\n",
      " |      TroeFalloff.__setstate_cython__(self, __pyx_state)\n",
      " |  \n",
      " |  ----------------------------------------------------------------------\n",
      " |  Static methods defined here:\n",
      " |  \n",
      " |  __new__(*args, **kwargs) from builtins.type\n",
      " |      Create and return a new object.  See help(type) for accurate signature.\n",
      " |  \n",
      " |  ----------------------------------------------------------------------\n",
      " |  Data and other attributes defined here:\n",
      " |  \n",
      " |  falloff_type = 110\n",
      " |  \n",
      " |  ----------------------------------------------------------------------\n",
      " |  Methods inherited from Falloff:\n",
      " |  \n",
      " |  __call__(...)\n",
      " |      Evaluate the falloff function :math:`F(T, P_r)`\n",
      " |  \n",
      " |  ----------------------------------------------------------------------\n",
      " |  Data descriptors inherited from Falloff:\n",
      " |  \n",
      " |  parameters\n",
      " |      The array of parameters used to define this falloff function.\n",
      " |  \n",
      " |  type\n",
      " |      A string defining the type of the falloff parameterization\n",
      "\n"
     ]
    }
   ],
   "source": [
    "help(gas.reaction(0).falloff)"
   ]
  },
  {
   "cell_type": "code",
   "execution_count": 17,
   "metadata": {},
   "outputs": [],
   "source": [
    "# gas.reaction().falloff.parameters"
   ]
  },
  {
   "cell_type": "code",
   "execution_count": 24,
   "metadata": {},
   "outputs": [
    {
     "ename": "IndexError",
     "evalue": "index 0 is out of bounds for axis 0 with size 0",
     "output_type": "error",
     "traceback": [
      "\u001b[1;31m---------------------------------------------------------------------------\u001b[0m",
      "\u001b[1;31mIndexError\u001b[0m                                Traceback (most recent call last)",
      "\u001b[1;32m<ipython-input-24-dc92d2f6a115>\u001b[0m in \u001b[0;36m<module>\u001b[1;34m\u001b[0m\n\u001b[0;32m      1\u001b[0m \u001b[0mA\u001b[0m \u001b[1;33m=\u001b[0m \u001b[0mgas\u001b[0m\u001b[1;33m.\u001b[0m\u001b[0mreaction\u001b[0m\u001b[1;33m(\u001b[0m\u001b[0mfalofr\u001b[0m\u001b[1;33m[\u001b[0m\u001b[1;36m10\u001b[0m\u001b[1;33m]\u001b[0m\u001b[1;33m)\u001b[0m\u001b[1;33m.\u001b[0m\u001b[0mfalloff\u001b[0m\u001b[1;33m.\u001b[0m\u001b[0mparameters\u001b[0m\u001b[1;33m\u001b[0m\u001b[0m\n\u001b[0;32m      2\u001b[0m \u001b[0mT\u001b[0m \u001b[1;33m=\u001b[0m \u001b[1;36m1\u001b[0m\u001b[1;33m\u001b[0m\u001b[0m\n\u001b[1;32m----> 3\u001b[1;33m \u001b[0mA\u001b[0m\u001b[1;33m[\u001b[0m\u001b[1;36m0\u001b[0m\u001b[1;33m]\u001b[0m \u001b[1;33m+\u001b[0m \u001b[0mA\u001b[0m\u001b[1;33m[\u001b[0m\u001b[1;36m1\u001b[0m\u001b[1;33m]\u001b[0m \u001b[1;33m*\u001b[0m \u001b[0mT\u001b[0m\u001b[1;33m**\u001b[0m\u001b[1;36m3\u001b[0m \u001b[1;33m+\u001b[0m \u001b[0mA\u001b[0m\u001b[1;33m[\u001b[0m\u001b[1;36m2\u001b[0m\u001b[1;33m]\u001b[0m \u001b[1;33m*\u001b[0m \u001b[0mT\u001b[0m \u001b[1;33m+\u001b[0m \u001b[0mA\u001b[0m\u001b[1;33m[\u001b[0m\u001b[1;36m3\u001b[0m\u001b[1;33m]\u001b[0m \u001b[1;33m*\u001b[0m \u001b[0mT\u001b[0m\u001b[1;33m**\u001b[0m\u001b[1;36m2\u001b[0m\u001b[1;33m\u001b[0m\u001b[0m\n\u001b[0m",
      "\u001b[1;31mIndexError\u001b[0m: index 0 is out of bounds for axis 0 with size 0"
     ]
    }
   ],
   "source": [
    "A = gas.reaction(falofr[10]).falloff.parameters\n",
    "T = 1\n",
    "A[0] + A[1] * T**3 + A[2] * T + A[3] * T**2"
   ]
  },
  {
   "cell_type": "code",
   "execution_count": 25,
   "metadata": {},
   "outputs": [
    {
     "data": {
      "text/plain": [
       "<cantera._cantera.TroeFalloff at 0x289667d5508>"
      ]
     },
     "execution_count": 25,
     "metadata": {},
     "output_type": "execute_result"
    }
   ],
   "source": [
    "gas.reaction(falofr[1]).falloff"
   ]
  },
  {
   "cell_type": "code",
   "execution_count": 15,
   "metadata": {},
   "outputs": [],
   "source": [
    "def nozzle_nasa_mdot(t):\n",
    "    # Can represent mass inflow by increasing combined gas's density\n",
    "    \"\"\"\n",
    "    Compute the efflux of the combustor via simple isentropic relations.\n",
    "    The efficiency of the nozzle is modeled using a discharge coefficient\n",
    "    :param t: time\n",
    "    :return: mass flux at the outlet (efflux) of the combustion chamber.\n",
    "    \"\"\"\n",
    "    # Avoid a unity pressure ratio at startup\n",
    "    # print(gas.T)\n",
    "    epsilon = 1.0\n",
    "    _rho = gas.density\n",
    "    _press = gas.P\n",
    "    _area = 1  # arbitrarily chosen value, [m^2]\n",
    "    _gamma_s = gas.cp / gas.cv\n",
    "    _temp = gas.T\n",
    "    _r_gas_specific = gas.cp - gas.cv\n",
    "    _p_ratio = 101325 / (gas.P + epsilon)  # Exhaust pressure is atmospheric pressure\n",
    "\n",
    "    power_1 = 2.0 / _gamma_s\n",
    "    power_2 = (_gamma_s + 1.0) / (_gamma_s)\n",
    "    pressure_term = _p_ratio ** power_1 - _p_ratio ** power_2\n",
    "    _sqrt_term = 2. * _gamma_s * _r_gas_specific * _temp / (_gamma_s - 1.0)\n",
    "    _sqrt_term *= pressure_term\n",
    "    assert (_sqrt_term >= 0.0)\n",
    "    _sqrt_term = np.sqrt(_sqrt_term)\n",
    "\n",
    "    _mdot_unchoked = _rho * _area * _sqrt_term\n",
    "\n",
    "    power = (_gamma_s + 1.0) / (_gamma_s - 1.0)\n",
    "    _gamma_term = (2. / (_gamma_s + 1.0)) ** power\n",
    "    _sqrt = np.sqrt(_gamma_s * _r_gas_specific * _temp * _gamma_term)\n",
    "    _mdot_choked = _rho * _area * _sqrt\n",
    "\n",
    "    _mdot = 0.0\n",
    "    _p_crit_downstream = _press * (2. / (_gamma_s + 1.0)) ** (_gamma_s / (_gamma_s - 1.0))\n",
    "\n",
    "    if _p_crit_downstream < 101325:  # Less than exhaust pressure = P_atm\n",
    "        # Unchoked conditions\n",
    "        _mdot = _mdot_unchoked\n",
    "    else:\n",
    "        # Choked conditions\n",
    "        _mdot = _mdot_choked\n",
    "\n",
    "    return _mdot  # * _geom_nozzle['C_d']  # Discharge coefficient"
   ]
  },
  {
   "cell_type": "code",
   "execution_count": 16,
   "metadata": {},
   "outputs": [
    {
     "name": "stdout",
     "output_type": "stream",
     "text": [
      "2232.71323528314\n",
      "2232.711657174274\n",
      "2232.710079156418\n",
      "2232.708501225761\n",
      "2232.7069234035293\n",
      "2232.70534564574\n",
      "2232.7037679577147\n",
      "2232.7021903596847\n",
      "2232.7006128400394\n",
      "2232.699035408081\n",
      "2232.6974580622286\n",
      "2232.69588080288\n",
      "2232.694303633482\n",
      "2232.69272655113\n",
      "2232.6911495558243\n",
      "2232.6895726475645\n",
      "2232.6879958284835\n",
      "2232.6864190978677\n",
      "2232.684842454974\n",
      "2232.683265899802\n",
      "2232.6816894323524\n",
      "2232.6801130526246\n",
      "2232.678536760619\n",
      "2232.6769605563354\n",
      "2232.675384440523\n",
      "2232.6738084129724\n",
      "2232.6722324732973\n",
      "2232.670656621498\n",
      "2232.6690808575736\n",
      "2232.6675051815255\n",
      "2232.6659295933523\n",
      "2232.664354093055\n",
      "2232.662778680633\n",
      "2232.6612033560864\n",
      "2232.6596281194156\n",
      "2232.6580529706202\n",
      "2232.6564779097002\n",
      "2232.654902936656\n",
      "2232.6533280512886\n",
      "2232.65175325246\n",
      "2232.650178541413\n",
      "2232.648603918147\n",
      "2232.6470293826624\n",
      "2232.645454934959\n",
      "2232.6438805750377\n",
      "2232.642306302897\n",
      "2232.640732118538\n",
      "2232.63915802196\n",
      "2232.6375840131636\n",
      "2232.6360100921484\n",
      "2232.634436258915\n",
      "2232.6328625134624\n",
      "2232.6312888557914\n",
      "2232.6297152859015\n",
      "2232.628141803793\n",
      "2232.626568409466\n",
      "2232.6249951029204\n",
      "2232.623421884156\n",
      "2232.621848753173\n",
      "2232.620275709971\n",
      "2232.6187027545507\n",
      "2232.6171298869117\n",
      "2232.615557107054\n",
      "2232.6139844149775\n",
      "2232.6124118106823\n",
      "2232.6108392941687\n",
      "2232.6092668654364\n",
      "2232.6076945244854\n",
      "2232.6061222713156\n",
      "2232.6045501059275\n",
      "2232.6029780253757\n",
      "2232.6014060316597\n",
      "2232.599834125496\n",
      "2232.5982623068844\n",
      "2232.5966905758246\n",
      "2232.595118932317\n",
      "2232.593547376361\n",
      "2232.591975907958\n",
      "2232.5904045271063\n",
      "2232.588833233807\n",
      "2232.5872620280593\n",
      "2232.5856909098643\n",
      "2232.584119879221\n",
      "2232.5825489361296\n",
      "2232.5809780805903\n",
      "2232.5794073126035\n",
      "2232.5778366321683\n",
      "2232.576266039285\n",
      "2232.5746955339546\n",
      "2232.5731251161756\n",
      "2232.5715547859486\n",
      "2232.569984543274\n",
      "2232.5684143881513\n",
      "2232.5668443205805\n",
      "2232.565274340562\n",
      "2232.5637044480955\n",
      "2232.562134643181\n",
      "2232.5605649258187\n",
      "2232.558995296008\n",
      "2232.5574257537496\n",
      "2232.5558562990436\n"
     ]
    },
    {
     "data": {
      "text/plain": [
       "[<matplotlib.lines.Line2D at 0x2433edd0ac8>]"
      ]
     },
     "execution_count": 16,
     "metadata": {},
     "output_type": "execute_result"
    },
    {
     "data": {
      "image/png": "[encoded data removed]",
      "text/plain": [
       "<Figure size 432x288 with 1 Axes>"
      ]
     },
     "metadata": {
      "needs_background": "light"
     },
     "output_type": "display_data"
    }
   ],
   "source": [
    "t = np.arange(0, 1.5*10**(-12), 1.5*10**(-14))\n",
    "_mdot = np.zeros(len(t))\n",
    "\n",
    "reactor = ct.IdealGasReactor(gas)  # Need to re-initialize reactor before running sim\n",
    "sim = ct.ReactorNet([reactor])\n",
    "\n",
    "for i in range(len(t)):\n",
    "    sim.advance((i)*1e-7)\n",
    "    _mdot[i] = nozzle_nasa_mdot(t[i])\n",
    "    print(gas.T)\n",
    "    \n",
    "    \n",
    "# print(t.shape) \n",
    "# print(_mdot.shape)\n",
    "plt.plot(t, _mdot)  # For debugging"
   ]
  },
  {
   "cell_type": "code",
   "execution_count": 10,
   "metadata": {},
   "outputs": [
    {
     "data": {
      "text/plain": [
       "[<matplotlib.lines.Line2D at 0x2433ec58c50>]"
      ]
     },
     "execution_count": 10,
     "metadata": {},
     "output_type": "execute_result"
    },
    {
     "data": {
      "image/png": "[encoded data removed]",
      "text/plain": [
       "<Figure size 432x288 with 1 Axes>"
      ]
     },
     "metadata": {
      "needs_background": "light"
     },
     "output_type": "display_data"
    },
    {
     "data": {
      "image/png": "[encoded data removed]",
      "text/plain": [
       "<Figure size 432x288 with 1 Axes>"
      ]
     },
     "metadata": {
      "needs_background": "light"
     },
     "output_type": "display_data"
    },
    {
     "data": {
      "image/png": "[encoded data removed]",
      "text/plain": [
       "<Figure size 432x288 with 1 Axes>"
      ]
     },
     "metadata": {
      "needs_background": "light"
     },
     "output_type": "display_data"
    }
   ],
   "source": [
    "plt.plot(Tt)\n",
    "plt.figure()\n",
    "plt.plot(Pt)\n",
    "plt.figure()\n",
    "plt.plot(Rhot)\n",
    "####"
   ]
  },
  {
   "cell_type": "code",
   "execution_count": null,
   "metadata": {},
   "outputs": [],
   "source": []
  }
 ],
 "metadata": {
  "kernelspec": {
   "display_name": "Python 3",
   "language": "python",
   "name": "python3"
  },
  "language_info": {
   "codemirror_mode": {
    "name": "ipython",
    "version": 3
   },
   "file_extension": ".py",
   "mimetype": "text/x-python",
   "name": "python",
   "nbconvert_exporter": "python",
   "pygments_lexer": "ipython3",
   "version": "3.7.0"
  }
 },
 "nbformat": 4,
 "nbformat_minor": 4
}
