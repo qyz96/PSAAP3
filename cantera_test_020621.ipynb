{
 "cells": [
  {
   "cell_type": "code",
   "execution_count": 34,
   "metadata": {},
   "outputs": [],
   "source": [
    "import cantera as ct\n",
    "import numpy as np\n",
    "import matplotlib.pyplot as plt"
   ]
  },
  {
   "cell_type": "code",
   "execution_count": 35,
   "metadata": {},
   "outputs": [
    {
     "name": "stdout",
     "output_type": "stream",
     "text": [
      "\n",
      "  CH4_CM2:\n",
      "\n",
      "       temperature            1200  K\n",
      "          pressure     4.04438e+06  Pa\n",
      "           density              10  kg/m^3\n",
      "  mean mol. weight         24.6697  amu\n",
      "\n",
      "                          1 kg            1 kmol\n",
      "                       -----------      ------------\n",
      "          enthalpy     -3.6287e+06       -8.952e+07     J\n",
      "   internal energy     -4.0331e+06        -9.95e+07     J\n",
      "           entropy          9466.5        2.335e+05     J/K\n",
      "    Gibbs function     -1.4988e+07       -3.698e+08     J\n",
      " heat capacity c_p          2021.5        4.987e+04     J/K\n",
      " heat capacity c_v          1684.4        4.155e+04     J/K\n",
      "\n",
      "                           X                 Y          Chem. Pot. / RT\n",
      "                     -------------     ------------     ------------\n",
      "                O2       0.128493         0.166667         -25.4521\n",
      "               H2O       0.228229         0.166667         -47.4928\n",
      "               CH4       0.256291         0.166667         -31.2398\n",
      "                CO       0.146789         0.166667         -35.4084\n",
      "               CO2       0.093425         0.166667         -67.2678\n",
      "                N2       0.146773         0.166667         -23.5861\n",
      "\n"
     ]
    }
   ],
   "source": [
    "# gas = ct.Solution(\"seiser.cti\")  # Change .cti file to standard simple reaction\n",
    "gas = ct.Solution(\"2S_methane.cti\")\n",
    "# gas.Y = np.array([0.5, 0, 0.5, 0, 0])\n",
    "gas.TP = 1200, 101325\n",
    "gas.TD = 1200, 10\n",
    "reactor = ct.IdealGasReactor(gas)\n",
    "exhaust_gas = ct.Solution(\"2S_methane.cti\")\n",
    "exhaust = ct.Reservoir(exhaust_gas)\n",
    "mfc = ct.MassFlowController(upstream = reactor, downstream = exhaust, mdot = 1e1)  # mdot = nozzle_nasa_mdot\n",
    "# sim.advance(5.93e-6)\n",
    "#gas.Y = np.array([0.25, 0.25, 0.25, 0.25, 0, 0])\n",
    "gas.Y = np.ones(gas.n_species) / gas.n_species\n",
    "# gas.set_equivalence_ratio(phi=1.0, fuel='nc7h16', oxidizer={'o2':1.0, 'n2':3.76})\n",
    "np.save(\".npy files/ini_mass_fraction.npy\", gas.Y)\n",
    "sim = ct.ReactorNet([reactor])\n",
    "gas()"
   ]
  },
  {
   "cell_type": "code",
   "execution_count": 36,
   "metadata": {},
   "outputs": [
    {
     "data": {
      "text/plain": [
       "10.0"
      ]
     },
     "execution_count": 36,
     "metadata": {},
     "output_type": "execute_result"
    }
   ],
   "source": [
    "gas.density"
   ]
  },
  {
   "cell_type": "code",
   "execution_count": 37,
   "metadata": {},
   "outputs": [
    {
     "name": "stdout",
     "output_type": "stream",
     "text": [
      "10.0\n",
      "9.999998999999999\n",
      "9.999998\n",
      "9.999996999999999\n",
      "9.999996\n",
      "9.999995\n",
      "9.999994\n",
      "9.999993\n",
      "9.999991999999999\n",
      "9.999991\n",
      "9.99999\n",
      "9.999989\n",
      "9.999988\n",
      "9.999986999999999\n",
      "9.999986\n",
      "9.999984999999999\n",
      "9.999984\n",
      "9.999983\n",
      "9.999982\n",
      "9.999981\n",
      "9.999979999999999\n",
      "9.999979\n",
      "9.999977999999999\n",
      "9.999977\n",
      "9.999976\n",
      "9.999975\n",
      "9.999974\n",
      "9.999972999999999\n",
      "9.999972\n",
      "9.999971\n",
      "9.99997\n",
      "9.999969\n",
      "9.999967999999999\n",
      "9.999967\n",
      "9.999965999999999\n",
      "9.999965\n",
      "9.999964\n",
      "9.999963\n",
      "9.999962\n",
      "9.999960999999999\n",
      "9.999959999999998\n",
      "9.999958999999999\n",
      "9.999958\n",
      "9.999956999999998\n",
      "9.999956\n",
      "9.999954999999998\n",
      "9.999953999999999\n",
      "9.999952999999998\n",
      "9.999951999999999\n",
      "9.999951\n",
      "9.999949999999998\n",
      "9.999948999999999\n",
      "9.999947999999998\n",
      "9.999946999999999\n",
      "9.999946\n",
      "9.999944999999999\n",
      "9.999944\n",
      "9.999942999999998\n",
      "9.999941999999999\n",
      "9.999940999999998\n",
      "9.999939999999999\n",
      "9.999939\n",
      "9.999937999999998\n",
      "9.999937\n",
      "9.999935999999998\n",
      "9.999934999999999\n",
      "9.999933999999998\n",
      "9.999932999999999\n",
      "9.999932\n",
      "9.999930999999998\n",
      "9.999929999999999\n",
      "9.999928999999998\n",
      "9.999927999999999\n",
      "9.999927\n",
      "9.999925999999999\n",
      "9.999925\n",
      "9.999923999999998\n",
      "9.999922999999999\n",
      "9.999921999999998\n",
      "9.999920999999999\n",
      "9.99992\n",
      "9.999918999999998\n",
      "9.999918\n",
      "9.999916999999998\n",
      "9.999915999999999\n",
      "9.999914999999998\n",
      "9.999913999999999\n",
      "9.999913\n",
      "9.999911999999998\n",
      "9.999910999999999\n",
      "9.999909999999998\n",
      "9.999908999999999\n",
      "9.999908\n",
      "9.999906999999999\n",
      "9.999906\n",
      "9.999904999999998\n",
      "9.999903999999999\n",
      "9.999902999999998\n",
      "9.999901999999999\n",
      "9.999901\n",
      "9.999899999999998\n",
      "9.999899\n",
      "9.999897999999998\n",
      "9.999896999999999\n",
      "9.999895999999998\n",
      "9.999894999999999\n",
      "9.999894\n",
      "9.999892999999998\n",
      "9.999892\n",
      "9.999890999999998\n",
      "9.999889999999999\n",
      "9.999889\n",
      "9.999887999999999\n",
      "9.999887\n",
      "9.999885999999998\n",
      "9.999884999999999\n",
      "9.999883999999998\n",
      "9.999882999999999\n",
      "9.999882\n",
      "9.999880999999998\n",
      "9.99988\n",
      "9.999878999999998\n",
      "9.999877999999999\n",
      "9.999876999999998\n",
      "9.999875999999999\n",
      "9.999875\n",
      "9.999873999999998\n",
      "9.999873\n",
      "9.999871999999998\n",
      "9.999870999999999\n",
      "9.99987\n",
      "9.999868999999999\n",
      "9.999868\n",
      "9.999866999999998\n",
      "9.999865999999999\n",
      "9.999864999999998\n",
      "9.999863999999999\n",
      "9.999863\n",
      "9.999861999999998\n",
      "9.999861\n",
      "9.999859999999998\n",
      "9.999858999999999\n",
      "9.999857999999998\n",
      "9.999856999999999\n",
      "9.999856\n",
      "9.999854999999998\n",
      "9.999854\n",
      "9.999852999999998\n",
      "9.999851999999999\n",
      "9.999851\n",
      "9.999849999999999\n",
      "9.999849\n",
      "9.999847999999998\n",
      "9.999846999999999\n",
      "9.999845999999998\n",
      "9.999844999999999\n",
      "9.999844\n",
      "9.999842999999998\n",
      "9.999842\n",
      "9.999840999999998\n",
      "9.999839999999999\n",
      "9.999838999999998\n",
      "9.999837999999999\n",
      "9.999837\n",
      "9.999835999999998\n",
      "9.999835\n",
      "9.999833999999998\n",
      "9.999832999999999\n",
      "9.999831999999998\n",
      "9.999830999999999\n",
      "9.99983\n",
      "9.999828999999998\n",
      "9.999827999999999\n",
      "9.999826999999998\n",
      "9.999825999999999\n",
      "9.999825\n",
      "9.999823999999998\n",
      "9.999823\n",
      "9.999821999999998\n",
      "9.999820999999999\n",
      "9.999819999999998\n",
      "9.999818999999999\n",
      "9.999818\n",
      "9.999816999999998\n",
      "9.999816\n",
      "9.999814999999998\n",
      "9.999813999999999\n",
      "9.999812999999998\n",
      "9.999811999999999\n",
      "9.999811\n",
      "9.999809999999998\n",
      "9.999808999999999\n",
      "9.999807999999998\n",
      "9.999806999999999\n",
      "9.999806\n",
      "9.999804999999999\n",
      "9.999804\n",
      "9.999802999999998\n",
      "9.999801999999999\n",
      "9.999800999999998\n",
      "\n",
      "  CH4_CM2:\n",
      "\n",
      "       temperature         1199.99  K\n",
      "          pressure     3.11796e+06  Pa\n",
      "           density          9.9998  kg/m^3\n",
      "  mean mol. weight         31.9988  amu\n",
      "\n",
      "                          1 kg            1 kmol\n",
      "                       -----------      ------------\n",
      "          enthalpy      9.2981e+05        2.975e+07     J\n",
      "   internal energy      6.1801e+05        1.978e+07     J\n",
      "           entropy          6922.7        2.215e+05     J/K\n",
      "    Gibbs function     -7.3774e+06       -2.361e+08     J\n",
      " heat capacity c_p          1111.6        3.557e+04     J/K\n",
      " heat capacity c_v           851.8        2.726e+04     J/K\n",
      "\n",
      "                           X                 Y          Chem. Pot. / RT\n",
      "                     -------------     ------------     ------------\n",
      "                O2              1                1         -23.6604\n",
      "     [   +5 minor]              0                0\n",
      "\n"
     ]
    }
   ],
   "source": [
    "# gas.TP = 1200, 101325\n",
    "# gas.set_equivalence_ratio(phi=1.0, fuel='nc7h16', oxidizer={'o2':1.0, 'n2':3.76})\n",
    "# reactor = ct.IdealGasReactor(gas)  # This and below line causing bugs?\n",
    "# sim = ct.ReactorNet([reactor])\n",
    "n_t = 200\n",
    "Pt = np.zeros(n_t)\n",
    "Tt = np.zeros(n_t)\n",
    "Yt = np.zeros((gas.n_species,n_t))\n",
    "Rhot = np.zeros(n_t)  # New array for changing density of gases, representing incoming mass flux\n",
    "for i in range(n_t):\n",
    "    print(gas.density)\n",
    "    sim.advance((i+1)*1e-7)\n",
    "    Pt[i] = gas.P\n",
    "    Tt[i] = gas.T\n",
    "    Yt[:,i] = gas.Y\n",
    "    Rhot[i] = gas.density\n",
    "    # gas.DP = 1, 1\n",
    "    # gas.TP = 1200, 101325\n",
    "    # print(nozzle_nasa_mdot((i+1)*1e-14))\n",
    "gas()\n",
    "# gas.DP"
   ]
  },
  {
   "cell_type": "code",
   "execution_count": 38,
   "metadata": {},
   "outputs": [
    {
     "data": {
      "text/plain": [
       "array([3118039.80708996, 3118039.40017191, 3118038.99325386,\n",
       "       3118038.58633583, 3118038.17941779, 3118037.77249977,\n",
       "       3118037.36558175, 3118036.95866375, 3118036.55174576,\n",
       "       3118036.14482779, 3118035.73790982, 3118035.33099187,\n",
       "       3118034.92407394, 3118034.51715601, 3118034.1102381 ,\n",
       "       3118033.7033202 , 3118033.29640232, 3118032.88948444,\n",
       "       3118032.48256658, 3118032.07564873, 3118031.6687309 ,\n",
       "       3118031.26181308, 3118030.85489527, 3118030.44797747,\n",
       "       3118030.04105969, 3118029.63414191, 3118029.22722416,\n",
       "       3118028.82030641, 3118028.41338868, 3118028.00647096,\n",
       "       3118027.59955325, 3118027.19263555, 3118026.78571787,\n",
       "       3118026.3788002 , 3118025.97188255, 3118025.5649649 ,\n",
       "       3118025.15804727, 3118024.75112966, 3118024.34421197,\n",
       "       3118023.93729429, 3118023.53037662, 3118023.12345896,\n",
       "       3118022.71654131, 3118022.30962368, 3118021.90270606,\n",
       "       3118021.49578845, 3118021.08887085, 3118020.68195327,\n",
       "       3118020.27503569, 3118019.86811813, 3118019.46120059,\n",
       "       3118019.05428305, 3118018.64736553, 3118018.24044802,\n",
       "       3118017.83353052, 3118017.42661303, 3118017.01969556,\n",
       "       3118016.61277809, 3118016.20586064, 3118015.79894321,\n",
       "       3118015.39202578, 3118014.98510837, 3118014.57819097,\n",
       "       3118014.17127358, 3118013.7643562 , 3118013.35743884,\n",
       "       3118012.95052149, 3118012.54360415, 3118012.13668682,\n",
       "       3118011.7297695 , 3118011.3228522 , 3118010.91593491,\n",
       "       3118010.50901763, 3118010.10210037, 3118009.69518311,\n",
       "       3118009.28826587, 3118008.88134864, 3118008.47443142,\n",
       "       3118008.06751422, 3118007.66059703, 3118007.25367985,\n",
       "       3118006.84676268, 3118006.43984552, 3118006.03292838,\n",
       "       3118005.62601125, 3118005.21909413, 3118004.81217702,\n",
       "       3118004.40525993, 3118003.99834284, 3118003.59142577,\n",
       "       3118003.18450872, 3118002.77759167, 3118002.37067464,\n",
       "       3118001.96375762, 3118001.55684061, 3118001.14992361,\n",
       "       3118000.74300663, 3118000.33608966, 3117999.9291727 ,\n",
       "       3117999.52225575, 3117999.11533881, 3117998.70842189,\n",
       "       3117998.30150498, 3117997.89458808, 3117997.48767119,\n",
       "       3117997.08075432, 3117996.67383746, 3117996.26692061,\n",
       "       3117995.86000377, 3117995.45308695, 3117995.04617013,\n",
       "       3117994.63925333, 3117994.23233654, 3117993.82541977,\n",
       "       3117993.418503  , 3117993.01158625, 3117992.60466951,\n",
       "       3117992.19775279, 3117991.79083607, 3117991.38391937,\n",
       "       3117990.97700268, 3117990.570086  , 3117990.16316933,\n",
       "       3117989.75625268, 3117989.34933604, 3117988.94241941,\n",
       "       3117988.53550279, 3117988.12858619, 3117987.7216696 ,\n",
       "       3117987.31475302, 3117986.90783645, 3117986.50091989,\n",
       "       3117986.09400335, 3117985.68708682, 3117985.2801703 ,\n",
       "       3117984.87325379, 3117984.4663373 , 3117984.05942082,\n",
       "       3117983.65250435, 3117983.24558789, 3117982.83867145,\n",
       "       3117982.43175501, 3117982.02483859, 3117981.61792218,\n",
       "       3117981.21100579, 3117980.8040894 , 3117980.39717303,\n",
       "       3117979.99025667, 3117979.58334032, 3117979.17642399,\n",
       "       3117978.76950767, 3117978.36259136, 3117977.95567506,\n",
       "       3117977.54875877, 3117977.1418425 , 3117976.73492624,\n",
       "       3117976.32800999, 3117975.92109375, 3117975.51417753,\n",
       "       3117975.10726131, 3117974.70034511, 3117974.29342892,\n",
       "       3117973.88651275, 3117973.47959659, 3117973.07268043,\n",
       "       3117972.6657643 , 3117972.25884817, 3117971.85193205,\n",
       "       3117971.44501595, 3117971.03809986, 3117970.63118378,\n",
       "       3117970.22426772, 3117969.81735166, 3117969.41043562,\n",
       "       3117969.0035196 , 3117968.59660358, 3117968.18968758,\n",
       "       3117967.78277158, 3117967.3758556 , 3117966.96893964,\n",
       "       3117966.56202368, 3117966.15510774, 3117965.74819181,\n",
       "       3117965.34127589, 3117964.93435998, 3117964.52744409,\n",
       "       3117964.12052821, 3117963.71361234, 3117963.30669648,\n",
       "       3117962.89978063, 3117962.4928648 , 3117962.08594898,\n",
       "       3117961.67903317, 3117961.27211738, 3117960.86520159,\n",
       "       3117960.45828582, 3117960.05137006, 3117959.64445432,\n",
       "       3117959.23753858, 3117958.83062286])"
      ]
     },
     "execution_count": 38,
     "metadata": {},
     "output_type": "execute_result"
    }
   ],
   "source": [
    "Pt"
   ]
  },
  {
   "cell_type": "code",
   "execution_count": 41,
   "metadata": {},
   "outputs": [
    {
     "data": {
      "text/plain": [
       "Text(0, 0.5, 'Mass Fraction')"
      ]
     },
     "execution_count": 41,
     "metadata": {},
     "output_type": "execute_result"
    },
    {
     "data": {
      "image/png": "[encoded data removed]",
      "text/plain": [
       "<Figure size 432x288 with 1 Axes>"
      ]
     },
     "metadata": {
      "needs_background": "light"
     },
     "output_type": "display_data"
    },
    {
     "data": {
      "image/png": "[encoded data removed]",
      "text/plain": [
       "<Figure size 432x288 with 1 Axes>"
      ]
     },
     "metadata": {
      "needs_background": "light"
     },
     "output_type": "display_data"
    },
    {
     "data": {
      "image/png": "[encoded data removed]",
      "text/plain": [
       "<Figure size 432x288 with 1 Axes>"
      ]
     },
     "metadata": {
      "needs_background": "light"
     },
     "output_type": "display_data"
    },
    {
     "data": {
      "image/png": "[encoded data removed]",
      "text/plain": [
       "<Figure size 432x288 with 1 Axes>"
      ]
     },
     "metadata": {
      "needs_background": "light"
     },
     "output_type": "display_data"
    }
   ],
   "source": [
    "plt.plot(Tt)\n",
    "plt.ylabel(\"Temperature\")\n",
    "plt.figure()\n",
    "plt.plot(Pt)\n",
    "plt.ylabel(\"Pressure\")\n",
    "plt.figure()\n",
    "plt.plot(Rhot)\n",
    "plt.ylabel(\"Density\")\n",
    "plt.figure()\n",
    "\n",
    "for i in range(gas.n_species):\n",
    "    plt.plot(Yt[i,:])\n",
    "\n",
    "plt.ylabel(\"Mass Fraction\")\n",
    "\n",
    "####"
   ]
  },
  {
   "cell_type": "code",
   "execution_count": 40,
   "metadata": {},
   "outputs": [],
   "source": [
    "np.save('.npy files/pressure.npy', Pt)\n",
    "np.save('.npy files/temperature.npy', Tt)\n",
    "np.save('.npy files/mass_fraction.npy', Yt)"
   ]
  },
  {
   "cell_type": "code",
   "execution_count": 25,
   "metadata": {},
   "outputs": [],
   "source": [
    "tbd = []\n",
    "falofr = []\n",
    "elmr = []\n",
    "for i in range(gas.n_reactions):\n",
    "    if (isinstance(gas.reaction(i), ct.ThreeBodyReaction)):\n",
    "        tbd.append(i)\n",
    "    elif (isinstance(gas.reaction(i), ct.FalloffReaction)):\n",
    "        falofr.append(i)\n",
    "    else:\n",
    "        elmr.append(i)"
   ]
  },
  {
   "cell_type": "code",
   "execution_count": 26,
   "metadata": {},
   "outputs": [],
   "source": [
    "NASA_coeffs = []\n",
    "for i in range(gas.n_species):\n",
    "    NASA_coeffs.append(gas.species(i).thermo.coeffs)\n",
    "NASA_coeffs = np.array(NASA_coeffs)\n",
    "reactants = []\n",
    "orders = [] \n",
    "Af = np.zeros(len(elmr))\n",
    "beta = np.zeros(len(elmr))\n",
    "E = np.zeros(len(elmr))"
   ]
  },
  {
   "cell_type": "code",
   "execution_count": 10,
   "metadata": {},
   "outputs": [],
   "source": [
    "rec2ind = dict()\n",
    "for i in range(gas.n_species):\n",
    "    reactants.append(gas.species(i).name)\n",
    "    rec2ind[gas.species(i).name] = i\n",
    "orders = gas.reactant_stoich_coeffs()[:,elmr]\n",
    "for i, s in enumerate(elmr):   \n",
    "    Af[i] = gas.reaction(s).rate.pre_exponential_factor\n",
    "    beta[i] = gas.reaction(s).rate.temperature_exponent\n",
    "    E[i] = gas.reaction(s).rate.activation_energy\n",
    "    for rec in gas.reaction(s).orders:\n",
    "        orders[rec2ind[rec], i] = gas.reaction(s).orders[rec]\n",
    "reversible = np.array([int(gas.reaction(i).reversible) for i in range(gas.n_reactions)])"
   ]
  },
  {
   "cell_type": "code",
   "execution_count": 11,
   "metadata": {},
   "outputs": [],
   "source": [
    "np.save('.npy files/NASA_coeffs.npy', NASA_coeffs)\n",
    "np.save('.npy files/molecular_weights.npy',gas.molecular_weights)\n",
    "np.save('.npy files/reactants_stoich_coeffs.npy',gas.reactant_stoich_coeffs())\n",
    "np.save('.npy files/product_stoich_coeffs.npy',gas.product_stoich_coeffs())\n",
    "np.save('.npy files/reaction_orders.npy',orders)\n",
    "np.save('.npy files/pre_exponential_factor.npy', Af)\n",
    "np.save('.npy files/temperature_exponent.npy', beta)\n",
    "np.save('.npy files/activation_energy.npy', E)\n",
    "np.save('.npy files/delta_standard_entropy.npy', gas.delta_standard_entropy)\n",
    "np.save('.npy files/delta_standard_enthalpy.npy', gas.delta_standard_enthalpy)\n",
    "np.save('.npy files/reversible.npy', reversible)"
   ]
  },
  {
   "cell_type": "code",
   "execution_count": 12,
   "metadata": {},
   "outputs": [],
   "source": [
    "efficiency_f = np.zeros((gas.n_species, len(falofr)))\n",
    "Af_lo = np.zeros(len(falofr))\n",
    "beta_lo = np.zeros(len(falofr))\n",
    "E_lo = np.zeros(len(falofr))\n",
    "Af_hi = np.zeros(len(falofr))\n",
    "beta_hi = np.zeros(len(falofr))\n",
    "E_hi = np.zeros(len(falofr))\n",
    "orders_f = gas.reactant_stoich_coeffs()[:,falofr]\n",
    "falloff_parameters = np.zeros((4, len(falofr)))\n",
    "troefall = []\n",
    "troefall_coeff = []\n",
    "for i, s in enumerate(falofr):\n",
    "    rr = gas.reaction(s)\n",
    "    Af_lo[i] = rr.low_rate.pre_exponential_factor\n",
    "    beta_lo[i] = rr.low_rate.temperature_exponent\n",
    "    E_lo[i] = rr.low_rate.activation_energy\n",
    "    Af_hi[i] = rr.high_rate.pre_exponential_factor\n",
    "    beta_hi[i] = rr.high_rate.temperature_exponent\n",
    "    E_hi[i] = rr.high_rate.activation_energy\n",
    "    efficiency_f[:,i] = rr.default_efficiency * np.ones(gas.n_species)\n",
    "    if(isinstance(rr.falloff, ct.TroeFalloff)):\n",
    "        troefall.append(i)\n",
    "        troefall_coeff.append(rr.falloff.parameters)\n",
    "    #falloff_parameters[:,i] = gas.reaction(s).falloff.parameters\n",
    "    for rec in rr.efficiencies:\n",
    "        efficiency_f[rec2ind[rec]] = rr.efficiencies[rec]\n",
    "    for rec in gas.reaction(s).orders:\n",
    "        orders_f[rec2ind[rec], i] = gas.reaction(s).orders[rec]\n",
    "\n",
    "np.save('.npy files/efficiency_f.npy', efficiency_f)\n",
    "np.save('.npy files/troefall_coeff.npy', np.array(troefall_coeff).T)\n",
    "np.save('.npy files/troefall.npy', troefall)\n",
    "np.save('.npy files/reaction_orders_f.npy',orders_f)\n",
    "np.save('.npy files/pre_exponential_factor_hi.npy', Af_hi)\n",
    "np.save('.npy files/temperature_exponent_hi.npy', beta_hi)\n",
    "np.save('.npy files/activation_energy_hi.npy', E_hi)\n",
    "np.save('.npy files/pre_exponential_factor_lo.npy', Af_lo)\n",
    "np.save('.npy files/temperature_exponent_lo.npy', beta_lo)\n",
    "np.save('.npy files/activation_energy_lo.npy', E_lo)"
   ]
  },
  {
   "cell_type": "code",
   "execution_count": 13,
   "metadata": {},
   "outputs": [],
   "source": [
    "efficiency_t = np.zeros((gas.n_species, len(tbd)))\n",
    "Af_t = np.zeros(len(tbd))\n",
    "beta_t = np.zeros(len(tbd))\n",
    "E_t = np.zeros(len(tbd))\n",
    "orders_t = gas.reactant_stoich_coeffs()[:,tbd]\n",
    "for i, s in enumerate(tbd):\n",
    "    rr = gas.reaction(s)\n",
    "    Af_t[i] = rr.rate.pre_exponential_factor\n",
    "    beta_t[i] = rr.rate.temperature_exponent\n",
    "    E_t[i] = rr.rate.activation_energy\n",
    "    efficiency_t[:,i] = rr.default_efficiency * np.ones(gas.n_species)\n",
    "    for rec in rr.efficiencies:\n",
    "        efficiency_t[rec2ind[rec]] = rr.efficiencies[rec]\n",
    "    for rec in gas.reaction(s).orders:\n",
    "        orders_t[rec2ind[rec], i] = gas.reaction(s).orders[rec]\n",
    "        \n",
    "np.save('.npy files/efficiency_t.npy',efficiency_t)\n",
    "np.save('.npy files/reaction_orders_t.npy',orders_t)\n",
    "np.save('.npy files/pre_exponential_factor_t.npy', Af_t)\n",
    "np.save('.npy files/temperature_exponent_t.npy', beta_t)\n",
    "np.save('.npy files/activation_energy_t.npy', E_t)"
   ]
  },
  {
   "cell_type": "code",
   "execution_count": 14,
   "metadata": {},
   "outputs": [],
   "source": [
    "np.save('.npy files/tbd.npy',tbd)\n",
    "np.save('.npy files/falofr.npy',falofr)\n",
    "np.save('.npy files/elmr.npy',elmr)"
   ]
  },
  {
   "cell_type": "code",
   "execution_count": 15,
   "metadata": {},
   "outputs": [
    {
     "ename": "AttributeError",
     "evalue": "'cantera._cantera.ElementaryReaction' object has no attribute 'high_rate'",
     "output_type": "error",
     "traceback": [
      "\u001b[1;31m---------------------------------------------------------------------------\u001b[0m",
      "\u001b[1;31mAttributeError\u001b[0m                            Traceback (most recent call last)",
      "\u001b[1;32m<ipython-input-15-5422aa6ef025>\u001b[0m in \u001b[0;36m<module>\u001b[1;34m\u001b[0m\n\u001b[1;32m----> 1\u001b[1;33m \u001b[0mai\u001b[0m \u001b[1;33m=\u001b[0m \u001b[0mgas\u001b[0m\u001b[1;33m.\u001b[0m\u001b[0mreaction\u001b[0m\u001b[1;33m(\u001b[0m\u001b[1;36m0\u001b[0m\u001b[1;33m)\u001b[0m\u001b[1;33m.\u001b[0m\u001b[0mhigh_rate\u001b[0m\u001b[1;33m.\u001b[0m\u001b[0mpre_exponential_factor\u001b[0m\u001b[1;33m\u001b[0m\u001b[0m\n\u001b[0m\u001b[0;32m      2\u001b[0m \u001b[0mbi\u001b[0m \u001b[1;33m=\u001b[0m \u001b[0mgas\u001b[0m\u001b[1;33m.\u001b[0m\u001b[0mreaction\u001b[0m\u001b[1;33m(\u001b[0m\u001b[1;36m0\u001b[0m\u001b[1;33m)\u001b[0m\u001b[1;33m.\u001b[0m\u001b[0mhigh_rate\u001b[0m\u001b[1;33m.\u001b[0m\u001b[0mtemperature_exponent\u001b[0m\u001b[1;33m\u001b[0m\u001b[0m\n\u001b[0;32m      3\u001b[0m \u001b[0mei\u001b[0m \u001b[1;33m=\u001b[0m \u001b[0mgas\u001b[0m\u001b[1;33m.\u001b[0m\u001b[0mreaction\u001b[0m\u001b[1;33m(\u001b[0m\u001b[1;36m0\u001b[0m\u001b[1;33m)\u001b[0m\u001b[1;33m.\u001b[0m\u001b[0mhigh_rate\u001b[0m\u001b[1;33m.\u001b[0m\u001b[0mactivation_energy\u001b[0m\u001b[1;33m\u001b[0m\u001b[0m\n\u001b[0;32m      4\u001b[0m \u001b[0mkf_h\u001b[0m \u001b[1;33m=\u001b[0m \u001b[0mai\u001b[0m \u001b[1;33m*\u001b[0m \u001b[1;33m(\u001b[0m\u001b[0mgas\u001b[0m\u001b[1;33m.\u001b[0m\u001b[0mT\u001b[0m\u001b[1;33m**\u001b[0m\u001b[0mbi\u001b[0m\u001b[1;33m)\u001b[0m \u001b[1;33m*\u001b[0m \u001b[0mnp\u001b[0m\u001b[1;33m.\u001b[0m\u001b[0mexp\u001b[0m\u001b[1;33m(\u001b[0m\u001b[1;33m-\u001b[0m\u001b[0mei\u001b[0m\u001b[1;33m/\u001b[0m\u001b[1;33m(\u001b[0m\u001b[0mct\u001b[0m\u001b[1;33m.\u001b[0m\u001b[0mgas_constant\u001b[0m \u001b[1;33m*\u001b[0m \u001b[0mgas\u001b[0m\u001b[1;33m.\u001b[0m\u001b[0mT\u001b[0m\u001b[1;33m)\u001b[0m\u001b[1;33m)\u001b[0m\u001b[1;33m\u001b[0m\u001b[0m\n\u001b[0;32m      5\u001b[0m \u001b[0mkf_h\u001b[0m\u001b[1;33m\u001b[0m\u001b[0m\n",
      "\u001b[1;31mAttributeError\u001b[0m: 'cantera._cantera.ElementaryReaction' object has no attribute 'high_rate'"
     ]
    }
   ],
   "source": [
    "ai = gas.reaction(0).high_rate.pre_exponential_factor\n",
    "bi = gas.reaction(0).high_rate.temperature_exponent\n",
    "ei = gas.reaction(0).high_rate.activation_energy\n",
    "kf_h = ai * (gas.T**bi) * np.exp(-ei/(ct.gas_constant * gas.T))\n",
    "kf_h"
   ]
  },
  {
   "cell_type": "code",
   "execution_count": 16,
   "metadata": {},
   "outputs": [
    {
     "ename": "AttributeError",
     "evalue": "'cantera._cantera.ElementaryReaction' object has no attribute 'low_rate'",
     "output_type": "error",
     "traceback": [
      "\u001b[1;31m---------------------------------------------------------------------------\u001b[0m",
      "\u001b[1;31mAttributeError\u001b[0m                            Traceback (most recent call last)",
      "\u001b[1;32m<ipython-input-16-b13c850e933e>\u001b[0m in \u001b[0;36m<module>\u001b[1;34m\u001b[0m\n\u001b[1;32m----> 1\u001b[1;33m \u001b[0mai\u001b[0m \u001b[1;33m=\u001b[0m \u001b[0mgas\u001b[0m\u001b[1;33m.\u001b[0m\u001b[0mreaction\u001b[0m\u001b[1;33m(\u001b[0m\u001b[1;36m0\u001b[0m\u001b[1;33m)\u001b[0m\u001b[1;33m.\u001b[0m\u001b[0mlow_rate\u001b[0m\u001b[1;33m.\u001b[0m\u001b[0mpre_exponential_factor\u001b[0m\u001b[1;33m\u001b[0m\u001b[0m\n\u001b[0m\u001b[0;32m      2\u001b[0m \u001b[0mbi\u001b[0m \u001b[1;33m=\u001b[0m \u001b[0mgas\u001b[0m\u001b[1;33m.\u001b[0m\u001b[0mreaction\u001b[0m\u001b[1;33m(\u001b[0m\u001b[1;36m0\u001b[0m\u001b[1;33m)\u001b[0m\u001b[1;33m.\u001b[0m\u001b[0mlow_rate\u001b[0m\u001b[1;33m.\u001b[0m\u001b[0mtemperature_exponent\u001b[0m\u001b[1;33m\u001b[0m\u001b[0m\n\u001b[0;32m      3\u001b[0m \u001b[0mei\u001b[0m \u001b[1;33m=\u001b[0m \u001b[0mgas\u001b[0m\u001b[1;33m.\u001b[0m\u001b[0mreaction\u001b[0m\u001b[1;33m(\u001b[0m\u001b[1;36m0\u001b[0m\u001b[1;33m)\u001b[0m\u001b[1;33m.\u001b[0m\u001b[0mlow_rate\u001b[0m\u001b[1;33m.\u001b[0m\u001b[0mactivation_energy\u001b[0m\u001b[1;33m\u001b[0m\u001b[0m\n\u001b[0;32m      4\u001b[0m \u001b[0mkf_o\u001b[0m \u001b[1;33m=\u001b[0m \u001b[0mai\u001b[0m \u001b[1;33m*\u001b[0m \u001b[1;33m(\u001b[0m\u001b[0mgas\u001b[0m\u001b[1;33m.\u001b[0m\u001b[0mT\u001b[0m\u001b[1;33m**\u001b[0m\u001b[0mbi\u001b[0m\u001b[1;33m)\u001b[0m \u001b[1;33m*\u001b[0m \u001b[0mnp\u001b[0m\u001b[1;33m.\u001b[0m\u001b[0mexp\u001b[0m\u001b[1;33m(\u001b[0m\u001b[1;33m-\u001b[0m\u001b[0mei\u001b[0m\u001b[1;33m/\u001b[0m\u001b[1;33m(\u001b[0m\u001b[0mct\u001b[0m\u001b[1;33m.\u001b[0m\u001b[0mgas_constant\u001b[0m \u001b[1;33m*\u001b[0m \u001b[0mgas\u001b[0m\u001b[1;33m.\u001b[0m\u001b[0mT\u001b[0m\u001b[1;33m)\u001b[0m\u001b[1;33m)\u001b[0m \u001b[1;33m*\u001b[0m \u001b[0mgas\u001b[0m\u001b[1;33m.\u001b[0m\u001b[0mconcentrations\u001b[0m\u001b[1;33m.\u001b[0m\u001b[0mdot\u001b[0m\u001b[1;33m(\u001b[0m\u001b[0mefficiency_f\u001b[0m\u001b[1;33m[\u001b[0m\u001b[1;33m:\u001b[0m\u001b[1;33m,\u001b[0m\u001b[1;36m0\u001b[0m\u001b[1;33m]\u001b[0m\u001b[1;33m)\u001b[0m\u001b[1;33m\u001b[0m\u001b[0m\n\u001b[0;32m      5\u001b[0m \u001b[0mkf_o\u001b[0m\u001b[1;33m\u001b[0m\u001b[0m\n",
      "\u001b[1;31mAttributeError\u001b[0m: 'cantera._cantera.ElementaryReaction' object has no attribute 'low_rate'"
     ]
    }
   ],
   "source": [
    "ai = gas.reaction(0).low_rate.pre_exponential_factor\n",
    "bi = gas.reaction(0).low_rate.temperature_exponent\n",
    "ei = gas.reaction(0).low_rate.activation_energy\n",
    "kf_o = ai * (gas.T**bi) * np.exp(-ei/(ct.gas_constant * gas.T)) * gas.concentrations.dot(efficiency_f[:,0])\n",
    "kf_o"
   ]
  },
  {
   "cell_type": "code",
   "execution_count": 17,
   "metadata": {},
   "outputs": [
    {
     "ename": "NameError",
     "evalue": "name 'kf_o' is not defined",
     "output_type": "error",
     "traceback": [
      "\u001b[1;31m---------------------------------------------------------------------------\u001b[0m",
      "\u001b[1;31mNameError\u001b[0m                                 Traceback (most recent call last)",
      "\u001b[1;32m<ipython-input-17-bfa280555501>\u001b[0m in \u001b[0;36m<module>\u001b[1;34m\u001b[0m\n\u001b[1;32m----> 1\u001b[1;33m \u001b[0mkf_o\u001b[0m \u001b[1;33m/\u001b[0m \u001b[1;33m(\u001b[0m\u001b[1;36m1\u001b[0m \u001b[1;33m+\u001b[0m \u001b[0mkf_o\u001b[0m \u001b[1;33m/\u001b[0m \u001b[0mkf_h\u001b[0m\u001b[1;33m)\u001b[0m\u001b[1;33m\u001b[0m\u001b[0m\n\u001b[0m",
      "\u001b[1;31mNameError\u001b[0m: name 'kf_o' is not defined"
     ]
    }
   ],
   "source": [
    "kf_o / (1 + kf_o / kf_h)"
   ]
  },
  {
   "cell_type": "code",
   "execution_count": 23,
   "metadata": {},
   "outputs": [
    {
     "data": {
      "text/plain": [
       "(20, 4)"
      ]
     },
     "execution_count": 23,
     "metadata": {},
     "output_type": "execute_result"
    }
   ],
   "source": [
    "np.array(troefall_coeff).shape"
   ]
  },
  {
   "cell_type": "code",
   "execution_count": 22,
   "metadata": {},
   "outputs": [
    {
     "name": "stdout",
     "output_type": "stream",
     "text": [
      "Help on TroeFalloff object:\n",
      "\n",
      "class TroeFalloff(Falloff)\n",
      " |  The 3- or 4-parameter Troe falloff function.\n",
      " |  \n",
      " |  :param params:\n",
      " |      An array of 3 or 4 parameters: :math:`[a, T^{***}, T^*, T^{**}]` where\n",
      " |      the final parameter is optional (with a default value of 0).\n",
      " |  \n",
      " |  Method resolution order:\n",
      " |      TroeFalloff\n",
      " |      Falloff\n",
      " |      builtins.object\n",
      " |  \n",
      " |  Methods defined here:\n",
      " |  \n",
      " |  __reduce__ = __reduce_cython__(...)\n",
      " |      TroeFalloff.__reduce_cython__(self)\n",
      " |  \n",
      " |  __setstate__ = __setstate_cython__(...)\n",
      " |      TroeFalloff.__setstate_cython__(self, __pyx_state)\n",
      " |  \n",
      " |  ----------------------------------------------------------------------\n",
      " |  Static methods defined here:\n",
      " |  \n",
      " |  __new__(*args, **kwargs) from builtins.type\n",
      " |      Create and return a new object.  See help(type) for accurate signature.\n",
      " |  \n",
      " |  ----------------------------------------------------------------------\n",
      " |  Data and other attributes defined here:\n",
      " |  \n",
      " |  falloff_type = 110\n",
      " |  \n",
      " |  ----------------------------------------------------------------------\n",
      " |  Methods inherited from Falloff:\n",
      " |  \n",
      " |  __call__(...)\n",
      " |      Evaluate the falloff function :math:`F(T, P_r)`\n",
      " |  \n",
      " |  ----------------------------------------------------------------------\n",
      " |  Data descriptors inherited from Falloff:\n",
      " |  \n",
      " |  parameters\n",
      " |      The array of parameters used to define this falloff function.\n",
      " |  \n",
      " |  type\n",
      " |      A string defining the type of the falloff parameterization\n",
      "\n"
     ]
    }
   ],
   "source": [
    "help(gas.reaction(0).falloff)"
   ]
  },
  {
   "cell_type": "code",
   "execution_count": 17,
   "metadata": {},
   "outputs": [],
   "source": [
    "# gas.reaction().falloff.parameters"
   ]
  },
  {
   "cell_type": "code",
   "execution_count": 24,
   "metadata": {},
   "outputs": [
    {
     "ename": "IndexError",
     "evalue": "index 0 is out of bounds for axis 0 with size 0",
     "output_type": "error",
     "traceback": [
      "\u001b[1;31m---------------------------------------------------------------------------\u001b[0m",
      "\u001b[1;31mIndexError\u001b[0m                                Traceback (most recent call last)",
      "\u001b[1;32m<ipython-input-24-dc92d2f6a115>\u001b[0m in \u001b[0;36m<module>\u001b[1;34m\u001b[0m\n\u001b[0;32m      1\u001b[0m \u001b[0mA\u001b[0m \u001b[1;33m=\u001b[0m \u001b[0mgas\u001b[0m\u001b[1;33m.\u001b[0m\u001b[0mreaction\u001b[0m\u001b[1;33m(\u001b[0m\u001b[0mfalofr\u001b[0m\u001b[1;33m[\u001b[0m\u001b[1;36m10\u001b[0m\u001b[1;33m]\u001b[0m\u001b[1;33m)\u001b[0m\u001b[1;33m.\u001b[0m\u001b[0mfalloff\u001b[0m\u001b[1;33m.\u001b[0m\u001b[0mparameters\u001b[0m\u001b[1;33m\u001b[0m\u001b[0m\n\u001b[0;32m      2\u001b[0m \u001b[0mT\u001b[0m \u001b[1;33m=\u001b[0m \u001b[1;36m1\u001b[0m\u001b[1;33m\u001b[0m\u001b[0m\n\u001b[1;32m----> 3\u001b[1;33m \u001b[0mA\u001b[0m\u001b[1;33m[\u001b[0m\u001b[1;36m0\u001b[0m\u001b[1;33m]\u001b[0m \u001b[1;33m+\u001b[0m \u001b[0mA\u001b[0m\u001b[1;33m[\u001b[0m\u001b[1;36m1\u001b[0m\u001b[1;33m]\u001b[0m \u001b[1;33m*\u001b[0m \u001b[0mT\u001b[0m\u001b[1;33m**\u001b[0m\u001b[1;36m3\u001b[0m \u001b[1;33m+\u001b[0m \u001b[0mA\u001b[0m\u001b[1;33m[\u001b[0m\u001b[1;36m2\u001b[0m\u001b[1;33m]\u001b[0m \u001b[1;33m*\u001b[0m \u001b[0mT\u001b[0m \u001b[1;33m+\u001b[0m \u001b[0mA\u001b[0m\u001b[1;33m[\u001b[0m\u001b[1;36m3\u001b[0m\u001b[1;33m]\u001b[0m \u001b[1;33m*\u001b[0m \u001b[0mT\u001b[0m\u001b[1;33m**\u001b[0m\u001b[1;36m2\u001b[0m\u001b[1;33m\u001b[0m\u001b[0m\n\u001b[0m",
      "\u001b[1;31mIndexError\u001b[0m: index 0 is out of bounds for axis 0 with size 0"
     ]
    }
   ],
   "source": [
    "A = gas.reaction(falofr[10]).falloff.parameters\n",
    "T = 1\n",
    "A[0] + A[1] * T**3 + A[2] * T + A[3] * T**2"
   ]
  },
  {
   "cell_type": "code",
   "execution_count": 25,
   "metadata": {},
   "outputs": [
    {
     "data": {
      "text/plain": [
       "<cantera._cantera.TroeFalloff at 0x289667d5508>"
      ]
     },
     "execution_count": 25,
     "metadata": {},
     "output_type": "execute_result"
    }
   ],
   "source": [
    "gas.reaction(falofr[1]).falloff"
   ]
  },
  {
   "cell_type": "code",
   "execution_count": 18,
   "metadata": {},
   "outputs": [],
   "source": [
    "def nozzle_nasa_mdot(t):\n",
    "    # Can represent mass inflow by increasing combined gas's density\n",
    "    \"\"\"\n",
    "    Compute the efflux of the combustor via simple isentropic relations.\n",
    "    The efficiency of the nozzle is modeled using a discharge coefficient\n",
    "    :param t: time\n",
    "    :return: mass flux at the outlet (efflux) of the combustion chamber.\n",
    "    \"\"\"\n",
    "    # Avoid a unity pressure ratio at startup\n",
    "    # print(gas.T)\n",
    "    epsilon = 1.0\n",
    "    _rho = gas.density\n",
    "    _press = gas.P\n",
    "    _area = 1  # arbitrarily chosen value, [m^2]\n",
    "    _gamma_s = gas.cp / gas.cv\n",
    "    _temp = gas.T\n",
    "    _r_gas_specific = gas.cp - gas.cv\n",
    "    _p_ratio = 101325 / (gas.P + epsilon)  # Exhaust pressure is atmospheric pressure\n",
    "\n",
    "    power_1 = 2.0 / _gamma_s\n",
    "    power_2 = (_gamma_s + 1.0) / (_gamma_s)\n",
    "    pressure_term = _p_ratio ** power_1 - _p_ratio ** power_2\n",
    "    _sqrt_term = 2. * _gamma_s * _r_gas_specific * _temp / (_gamma_s - 1.0)\n",
    "    _sqrt_term *= pressure_term\n",
    "    assert (_sqrt_term >= 0.0)\n",
    "    _sqrt_term = np.sqrt(_sqrt_term)\n",
    "\n",
    "    _mdot_unchoked = _rho * _area * _sqrt_term\n",
    "\n",
    "    power = (_gamma_s + 1.0) / (_gamma_s - 1.0)\n",
    "    _gamma_term = (2. / (_gamma_s + 1.0)) ** power\n",
    "    _sqrt = np.sqrt(_gamma_s * _r_gas_specific * _temp * _gamma_term)\n",
    "    _mdot_choked = _rho * _area * _sqrt\n",
    "\n",
    "    _mdot = 0.0\n",
    "    _p_crit_downstream = _press * (2. / (_gamma_s + 1.0)) ** (_gamma_s / (_gamma_s - 1.0))\n",
    "\n",
    "    if _p_crit_downstream < 101325:  # Less than exhaust pressure = P_atm\n",
    "        # Unchoked conditions\n",
    "        _mdot = _mdot_unchoked\n",
    "    else:\n",
    "        # Choked conditions\n",
    "        _mdot = _mdot_choked\n",
    "\n",
    "    return _mdot  # * _geom_nozzle['C_d']  # Discharge coefficient"
   ]
  },
  {
   "cell_type": "code",
   "execution_count": 19,
   "metadata": {},
   "outputs": [
    {
     "name": "stdout",
     "output_type": "stream",
     "text": [
      "1199.9926788777414\n",
      "1199.9926788777414\n",
      "1199.9926788777414\n",
      "1199.9926788777414\n",
      "1199.9926788777414\n",
      "1199.9926788777414\n",
      "1199.9926788777414\n",
      "1199.9926788777414\n",
      "1199.9926788777414\n",
      "1199.9926788777414\n",
      "1199.9926788777414\n",
      "1199.9926788777414\n",
      "1199.9926788777414\n",
      "1199.9926788777414\n",
      "1199.9926788777414\n",
      "1199.9926788777414\n",
      "1199.9926788777414\n",
      "1199.9926788777414\n",
      "1199.9926788777414\n",
      "1199.9926788777414\n",
      "1199.9926788777414\n",
      "1199.9926788777414\n",
      "1199.9926788777414\n",
      "1199.9926788777414\n",
      "1199.9926788777414\n",
      "1199.9926788777414\n",
      "1199.9926788777414\n",
      "1199.9926788777414\n",
      "1199.9926788777414\n",
      "1199.9926788777414\n",
      "1199.9926788777414\n",
      "1199.9926788777414\n",
      "1199.9926788777414\n",
      "1199.9926788777414\n",
      "1199.9926788777414\n",
      "1199.9926788777414\n",
      "1199.9926788777414\n",
      "1199.9926788777414\n",
      "1199.9926788777414\n",
      "1199.9926788777414\n",
      "1199.9926788777414\n",
      "1199.9926788777414\n",
      "1199.9926788777414\n",
      "1199.9926788777414\n",
      "1199.9926788777414\n",
      "1199.9926788777414\n",
      "1199.9926788777414\n",
      "1199.9926788777414\n",
      "1199.9926788777414\n",
      "1199.9926788777414\n",
      "1199.9926788777414\n",
      "1199.9926788777414\n",
      "1199.9926788777414\n",
      "1199.9926788777414\n",
      "1199.9926788777414\n",
      "1199.9926788777414\n",
      "1199.9926788777414\n",
      "1199.9926788777414\n",
      "1199.9926788777414\n",
      "1199.9926788777414\n",
      "1199.9926788777414\n",
      "1199.9926788777414\n",
      "1199.9926788777414\n",
      "1199.9926788777414\n",
      "1199.9926788777414\n",
      "1199.9926788777414\n",
      "1199.9926788777414\n",
      "1199.9926788777414\n",
      "1199.9926788777414\n",
      "1199.9926788777414\n",
      "1199.9926788777414\n",
      "1199.9926788777414\n",
      "1199.9926788777414\n",
      "1199.9926788777414\n",
      "1199.9926788777414\n",
      "1199.9926788777414\n",
      "1199.9926788777414\n",
      "1199.9926788777414\n",
      "1199.9926788777414\n",
      "1199.9926788777414\n",
      "1199.9926788777414\n",
      "1199.9926788777414\n",
      "1199.9926788777414\n",
      "1199.9926788777414\n",
      "1199.9926788777414\n",
      "1199.9926788777414\n",
      "1199.9926788777414\n",
      "1199.9926788777414\n",
      "1199.9926788777414\n",
      "1199.9926788777414\n",
      "1199.9926788777414\n",
      "1199.9926788777414\n",
      "1199.9926788777414\n",
      "1199.9926788777414\n",
      "1199.9926788777414\n",
      "1199.9926788777414\n",
      "1199.9926788777414\n",
      "1199.9926788777414\n",
      "1199.9926788777414\n",
      "1199.9926788777414\n",
      "1199.9926788777414\n"
     ]
    },
    {
     "data": {
      "text/plain": [
       "[<matplotlib.lines.Line2D at 0x18b369228d0>]"
      ]
     },
     "execution_count": 19,
     "metadata": {},
     "output_type": "execute_result"
    },
    {
     "data": {
      "image/png": "[encoded data removed]",
      "text/plain": [
       "<Figure size 432x288 with 1 Axes>"
      ]
     },
     "metadata": {
      "needs_background": "light"
     },
     "output_type": "display_data"
    }
   ],
   "source": [
    "t = np.arange(0, 1.5*10**(-12), 1.5*10**(-14))\n",
    "_mdot = np.zeros(len(t))\n",
    "\n",
    "reactor = ct.IdealGasReactor(gas)  # Need to re-initialize reactor before running sim\n",
    "sim = ct.ReactorNet([reactor])\n",
    "\n",
    "for i in range(len(t)):\n",
    "    sim.advance((i)*1e-7)\n",
    "    _mdot[i] = nozzle_nasa_mdot(t[i])\n",
    "    print(gas.T)\n",
    "    \n",
    "    \n",
    "# print(t.shape) \n",
    "# print(_mdot.shape)\n",
    "plt.plot(t, _mdot)  # For debugging"
   ]
  },
  {
   "cell_type": "code",
   "execution_count": null,
   "metadata": {},
   "outputs": [],
   "source": []
  },
  {
   "cell_type": "code",
   "execution_count": null,
   "metadata": {},
   "outputs": [],
   "source": []
  }
 ],
 "metadata": {
  "kernelspec": {
   "display_name": "Python 3",
   "language": "python",
   "name": "python3"
  },
  "language_info": {
   "codemirror_mode": {
    "name": "ipython",
    "version": 3
   },
   "file_extension": ".py",
   "mimetype": "text/x-python",
   "name": "python",
   "nbconvert_exporter": "python",
   "pygments_lexer": "ipython3",
   "version": "3.7.0"
  }
 },
 "nbformat": 4,
 "nbformat_minor": 4
}
