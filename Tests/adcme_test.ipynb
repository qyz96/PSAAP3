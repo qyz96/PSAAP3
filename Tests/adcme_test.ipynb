{
 "cells": [
  {
   "cell_type": "code",
   "execution_count": 1,
   "metadata": {},
   "outputs": [],
   "source": [
    "using ADCME\n",
    "using Plots"
   ]
  },
  {
   "cell_type": "code",
   "execution_count": 109,
   "metadata": {},
   "outputs": [
    {
     "data": {
      "text/plain": [
       "compute_falloff (generic function with 1 method)"
      ]
     },
     "execution_count": 109,
     "metadata": {},
     "output_type": "execute_result"
    }
   ],
   "source": [
    "function f_hi(a, T, R)\n",
    "    cpHS = Variable(zeros(N, 3))\n",
    "    for i = 1:N\n",
    "        scatter_update(cpHS, i, 1, (a[i,2] + a[i,3] * T + a[i,4] * T^2 + a[i,5] * T^3 + a[i,6] * T^4) * R)\n",
    "        scatter_update(cpHS, i, 2, (a[i,2] + a[i,3] * T / 2 + a[i,4] * T^2 /3 + a[i,5] * T^3 /4 + a[i,6] * T^4 /5 + a[i,7]/T) * R * T)\n",
    "        scatter_update(cpHS, i, 3, (a[i,2] * log(T) + a[i,3] * T + a[i,4] * T^2 /2 + a[i,5] * T^3 /3 + a[i,6] * T^4 / 4 + a[i,8]) * R)\n",
    "    end \n",
    "    return cpHS\n",
    "end\n",
    " \n",
    "function f_lo(a, T, R)\n",
    "    cpHS = Variable(zeros(N, 3))\n",
    "    for i = 1:N\n",
    "        scatter_update(cpHS, i, 1, (a[i,9] + a[i,10] * T + a[i,11] * T^2 + a[i,12] * T^3 + a[i,13] * T^4) * R)\n",
    "        scatter_update(cpHS, i, 2, (a[i,9] + a[i,10] * T / 2 + a[i,11] * T^2 /3 + a[i,12] * T^3 /4 + a[i,13] * T^4 /5 + a[i,14]/T) * R * T)\n",
    "        scatter_update(cpHS, i, 3,  (a[i,9] * log(T) + a[i,10] * T + a[i,11] * T^2 /2 + a[i,12] * T^3 /3 + a[i,13] * T^4 / 4 + a[i,15]) * R)\n",
    "    end \n",
    "    return cpHS\n",
    "end \n",
    "\n",
    "function compute_falloff(T, pr, a)\n",
    "    fcent = (1 - a[1]) * exp(-T/a[2]) + a[1] * exp(-T/a[3]) + exp(-a[4]/T)\n",
    "    c = -0.4 - 0.67 * log(fcent) / log(10)\n",
    "    n = 0.75 - 1.27 * log(fcent) / log(10)\n",
    "    f1 = (log(pr) / log(10) + c) / (n - 0.14 *(log(pr) / log(10) + c))\n",
    "    return  10 ^ ((log(fcent) / log(10)) / (1 + f1 ^ 2))\n",
    "end"
   ]
  },
  {
   "cell_type": "code",
   "execution_count": 3,
   "metadata": {},
   "outputs": [],
   "source": [
    "using PyCall\n",
    "#### Read data\n",
    "py\"\"\"\n",
    "import numpy as np\n",
    "\"\"\""
   ]
  },
  {
   "cell_type": "code",
   "execution_count": 181,
   "metadata": {},
   "outputs": [],
   "source": [
    "V = 1  # Volume\n",
    "m = 0.3778511846534872 # Total mass\n",
    "tbd = py\"np.load\"(\"/home/darve/adncat/yizhou/PSAAP3/Tests/data/tbd.npy\") .+ 1\n",
    "falofr = py\"np.load\"(\"/home/darve/adncat/yizhou/PSAAP3/Tests/data/falofr.npy\") .+ 1\n",
    "elmr = py\"np.load\"(\"/home/darve/adncat/yizhou/PSAAP3/Tests/data/elmr.npy\") .+ 1\n",
    "NASA_coeffs = py\"np.load\"(\"data/NASA_coeffs.npy\")\n",
    "W = py\"np.load\"(\"data/molecular_weights.npy\") # Molar weight\n",
    "ν1 = py\"np.load\"(\"data/reactants_stoich_coeffs.npy\") # Forward molar stoichiometric coefficients\n",
    "ν2 = py\"np.load\"(\"data/product_stoich_coeffs.npy\") # Backward model stoichiometric coefficients\n",
    "reversible = py\"np.load\"(\"data/reversible.npy\")\n",
    "N = size(ν1)[1]  # Number of Species\n",
    "M = size(ν1)[2]  # Number of Reactions\n",
    "ν1_order = zeros(N,M)\n",
    "ν = ν2 - ν1  \n",
    "pa = 100000 # 1 bar\n",
    "R = 8314.4621 # Gas constant in kmol\n",
    "### Constants: Combustion Chamber Level\n",
    "min_dot = 0 # Rate at which mass enters the chamber\n",
    "mout_dot = 0 # Rate at which mass leaves the chamber\n",
    "Yin = ones(N) # Mass fraction of species entering the chamber\n",
    "Yout = ones(N) # Mass fraction of species leaving the chamber\n",
    "Qdot = 0 # Heating source\n",
    "m_dot = min_dot - mout_dot\n",
    "hin = 1 # Enthalpy of input\n",
    "### Unknowns\n",
    "T = 1200.0 # Temperature\n",
    "Y = py\"np.load\"(\"/home/darve/adncat/yizhou/PSAAP3/Tests/data/ini_mass_fraction.npy\") # Mass fractions\n",
    "### Quantities that depend on the Unknowns\n",
    "tbd = py\"np.load\"(\"/home/darve/adncat/yizhou/PSAAP3/Tests/data/tbd.npy\") .+ 1\n",
    "falofr = py\"np.load\"(\"/home/darve/adncat/yizhou/PSAAP3/Tests/data/falofr.npy\") .+ 1\n",
    "elmr = py\"np.load\"(\"/home/darve/adncat/yizhou/PSAAP3/Tests/data/elmr.npy\") .+ 1\n",
    "\n",
    "order = py\"np.load\"(\"data/reaction_orders.npy\")\n",
    "Af = py\"np.load\"(\"/home/darve/adncat/yizhou/PSAAP3/Tests/data/pre_exponential_factor.npy\") # preexponential constant Afj\n",
    "β = py\"np.load\"(\"/home/darve/adncat/yizhou/PSAAP3/Tests/data/temperature_exponent.npy\") # Temperature exponent\n",
    "E = py\"np.load\"(\"/home/darve/adncat/yizhou/PSAAP3/Tests/data/activation_energy.npy\") # Activation energy for the reactions in kJ\n",
    "\n",
    "order_t = py\"np.load\"(\"data/reaction_orders_t.npy\")\n",
    "efficiency_t = py\"np.load\"(\"data/efficiency_t.npy\")\n",
    "Af_t = py\"np.load\"(\"/home/darve/adncat/yizhou/PSAAP3/Tests/data/pre_exponential_factor_t.npy\") # preexponential constant Afj\n",
    "β_t = py\"np.load\"(\"/home/darve/adncat/yizhou/PSAAP3/Tests/data/temperature_exponent_t.npy\") # Temperature exponent\n",
    "E_t = py\"np.load\"(\"/home/darve/adncat/yizhou/PSAAP3/Tests/data/activation_energy_t.npy\") # Activation energy for the reactions in kJ\n",
    "\n",
    "order_f = py\"np.load\"(\"data/reaction_orders_f.npy\")\n",
    "troefall = py\"np.load\"(\"data/troefall.npy\") .+ 1\n",
    "troefall_coeff = py\"np.load\"(\"data/troefall_coeff.npy\")\n",
    "efficiency_f = py\"np.load\"(\"data/efficiency_f.npy\")\n",
    "Af_hi = py\"np.load\"(\"/home/darve/adncat/yizhou/PSAAP3/Tests/data/pre_exponential_factor_hi.npy\") # preexponential constant Afj\n",
    "β_hi = py\"np.load\"(\"/home/darve/adncat/yizhou/PSAAP3/Tests/data/temperature_exponent_hi.npy\") # Temperature exponent\n",
    "E_hi = py\"np.load\"(\"/home/darve/adncat/yizhou/PSAAP3/Tests/data/activation_energy_hi.npy\") \n",
    "\n",
    "Af_lo = py\"np.load\"(\"/home/darve/adncat/yizhou/PSAAP3/Tests/data/pre_exponential_factor_lo.npy\") # preexponential constant Afj\n",
    "β_lo = py\"np.load\"(\"/home/darve/adncat/yizhou/PSAAP3/Tests/data/temperature_exponent_lo.npy\") # Temperature exponent\n",
    "E_lo = py\"np.load\"(\"/home/darve/adncat/yizhou/PSAAP3/Tests/data/activation_energy_lo.npy\") \n",
    "\n",
    "ν1_order[:,elmr] = order\n",
    "ν1_order[:,tbd] = order_t\n",
    "ν1_order[:,falofr] = order_f;"
   ]
  },
  {
   "cell_type": "code",
   "execution_count": 238,
   "metadata": {},
   "outputs": [
    {
     "data": {
      "text/plain": [
       "f (generic function with 1 method)"
      ]
     },
     "execution_count": 238,
     "metadata": {},
     "output_type": "execute_result"
    }
   ],
   "source": [
    "function f(TY)\n",
    "    T = TY[1]\n",
    "    Y = TY[2:end]\n",
    "    ρ = m / V # density\n",
    "    X = ρ * Y ./ W # Concentration\n",
    "    Q = ADCME.Variable(ones(M)) # Individual progress rates\n",
    "    islarge = T > NASA_coeffs[:,1]\n",
    "    islarge = convert_to_tensor(islarge, dtype=Float64)\n",
    "    fhi = f_hi(NASA_coeffs, T, R)\n",
    "    flo = f_lo(NASA_coeffs, T, R)\n",
    "    cp = islarge .* fhi[:,1] + (1 - islarge) .* flo[:,1]\n",
    "    h = islarge .* fhi[:,2] + (1 - islarge) .* flo[:,2]\n",
    "    s = islarge .* fhi[:,3] + (1 - islarge) .* flo[:,3]\n",
    "    cvk = cp .- R\n",
    "    ΔS = ν' * s  # Entropy change for reaction j\n",
    "    ΔH = ν' * h # Entahlpy change for reaction j\n",
    "    ####\n",
    "    M_t = efficiency_t' * X\n",
    "    Kf_t = Af_t .* (T ^ β_t) .* exp(-E_t / (R * T)) .* M_t\n",
    "    Kr_t = Kf_t ./ (((pa/(R * T)) ^ sum(ν[:,tbd], dims=1)')[:,1] .* exp(ΔS[tbd] ./ R - ΔH[tbd] / (R * T)))\n",
    "    scatter_update(Q, tbd, Kf_t .* (prod(reshape(ADCME.repeat(X, size(tbd)[1]), (N, size(tbd)[1])) ^ order_t, dims=1)) .- Kr_t .* (prod(reshape(ADCME.repeat(X, size(tbd)[1]), (N, size(tbd)[1])) ^ ν2[:,tbd], dims=1)) .* reversible[tbd])\n",
    "    ####\n",
    "    M_f = efficiency_f' * X\n",
    "    Kf_lo = Af_lo .* (T ^ β_lo) .* exp(-E_lo / (R * T)) .* M_f\n",
    "    Kf_hi = Af_hi .* (T ^ β_hi) .* exp(-E_hi / (R * T)) \n",
    "    Pr = Kf_lo ./ Kf_hi\n",
    "    Fac = ADCME.Variable(ones(size(falofr)[1]))\n",
    "    for (i,s) in enumerate(troefall)\n",
    "        a = troefall_coeff[:,i]\n",
    "        fcent = (1 - a[1]) * exp(-T/a[2]) + a[1] * exp(-T/a[3]) + exp(-a[4]/T)\n",
    "        c = -0.4 - 0.67 * log(fcent) / log(10)\n",
    "        n = 0.75 - 1.27 * log(fcent) / log(10)\n",
    "        f1 = (log(Pr[s]) / log(10) + c) / (n - 0.14 *(log(Pr[s]) / log(10) + c))\n",
    "        scatter_update(Fac, troefall[i], 10 ^ ((log(fcent) / log(10)) / (1 + f1 ^ 2)))\n",
    "    end\n",
    "    Kf_f = Kf_lo ./ (1 .+ (Kf_lo ./ Kf_hi)) .* Fac\n",
    "    Kr_f = Kf_f ./ (((pa/(R * T)) ^ sum(ν[:,falofr], dims=1)')[:,1] .* exp(ΔS[falofr] ./ R - ΔH[falofr] / (R * T)))\n",
    "    scatter_update(Q, falofr, Kf_f .* (prod(reshape(ADCME.repeat(X, size(falofr)[1]), (N, size(falofr)[1])) ^ order_f, dims=1)) .- Kr_f .* (prod(reshape(ADCME.repeat(X, size(falofr)[1]), (N, size(falofr)[1])) ^ ν2[:,falofr], dims=1)) .* reversible[falofr][:,1])\n",
    "    ####\n",
    "    Kf = Af .* (T ^ β) .* exp(-E / (R * T))\n",
    "    Kr = Kf ./ (((pa/(R * T)) ^ sum(ν[:,elmr], dims=1)')[:,1] .* exp(ΔS[elmr] ./ R - ΔH[elmr] / (R * T)))\n",
    "    scatter_update(Q, elmr, Kf .* (prod(reshape(ADCME.repeat(X, size(elmr)[1]), (N, size(elmr)[1])) ^ order, dims=1)) .- Kr .* (prod(reshape(ADCME.repeat(X, size(elmr)[1]), (N, size(elmr)[1])) ^ ν2[:,elmr], dims=1)) .* reversible[elmr][:,1])\n",
    "    ##### Computing ω_dot \n",
    "    cv = sum(cvk ./ W .* Y) # Mass heat capacities\n",
    "    u = h / W - R / W * T   # Internal energy for species\n",
    "    p = sum(X) * R * T # pressure\n",
    "    ω_dot = W .* sum(ν .* Q', dims=2)\n",
    "    ###### Species Conservation\n",
    "    mgen_dot = V * ω_dot\n",
    "    Y_dot = (1 / m) * ((min_dot * (Yin - Y) - mout_dot * Y) + mgen_dot) \n",
    "    ###### EnergyConservation\n",
    "    T_dot = 1 / (m * cv) * (-Qdot + min_dot * (hin - sum(u .* Yin)) - p * V / m * mout_dot - sum(mgen_dot .* u))\n",
    "    return T_dot, Y_dot\n",
    "end"
   ]
  },
  {
   "cell_type": "code",
   "execution_count": 182,
   "metadata": {},
   "outputs": [
    {
     "data": {
      "text/plain": [
       "161-element Array{Float64,1}:\n",
       " 1200.0\n",
       "    0.006250000000000017\n",
       "    0.006250000000000017\n",
       "    0.006250000000000017\n",
       "    0.006250000000000017\n",
       "    0.006250000000000017\n",
       "    0.006250000000000017\n",
       "    0.006250000000000017\n",
       "    0.006250000000000017\n",
       "    0.006250000000000017\n",
       "    0.006250000000000017\n",
       "    0.006250000000000017\n",
       "    0.006250000000000017\n",
       "    ⋮\n",
       "    0.006250000000000017\n",
       "    0.006250000000000017\n",
       "    0.006250000000000017\n",
       "    0.006250000000000017\n",
       "    0.006250000000000017\n",
       "    0.006250000000000017\n",
       "    0.006250000000000017\n",
       "    0.006250000000000017\n",
       "    0.006250000000000017\n",
       "    0.006250000000000017\n",
       "    0.006250000000000017\n",
       "    0.006250000000000017"
      ]
     },
     "execution_count": 182,
     "metadata": {},
     "output_type": "execute_result"
    }
   ],
   "source": [
    "TY = [T;Y]"
   ]
  },
  {
   "cell_type": "code",
   "execution_count": 183,
   "metadata": {},
   "outputs": [
    {
     "data": {
      "text/plain": [
       "PyObject <tf.Variable 'Variable_23:0' shape=(161,) dtype=float64_ref>"
      ]
     },
     "execution_count": 183,
     "metadata": {},
     "output_type": "execute_result"
    }
   ],
   "source": [
    "TY = Variable(TY)"
   ]
  },
  {
   "cell_type": "code",
   "execution_count": 184,
   "metadata": {},
   "outputs": [
    {
     "ename": "LoadError",
     "evalue": ".^ is disabled due to eager evaluation. Use ^ instead.",
     "output_type": "error",
     "traceback": [
      ".^ is disabled due to eager evaluation. Use ^ instead.",
      "",
      "Stacktrace:",
      " [1] error(::String) at ./error.jl:33",
      " [2] warn_broadcast_pow() at /home/darve/adncat/.julia/packages/ADCME/G762I/src/ops.jl:157",
      " [3] broadcasted(::typeof(^), ::PyObject, ::Array{Float64,2}) at /home/darve/adncat/.julia/packages/ADCME/G762I/src/ops.jl:158",
      " [4] f(::PyObject) at ./In[173]:21",
      " [5] top-level scope at In[184]:1",
      " [6] include_string(::Function, ::Module, ::String, ::String) at ./loading.jl:1091",
      " [7] execute_code(::String, ::String) at /home/darve/adncat/.julia/packages/IJulia/rWZ9e/src/execute_request.jl:27",
      " [8] execute_request(::ZMQ.Socket, ::IJulia.Msg) at /home/darve/adncat/.julia/packages/IJulia/rWZ9e/src/execute_request.jl:86",
      " [9] #invokelatest#1 at ./essentials.jl:710 [inlined]",
      " [10] invokelatest at ./essentials.jl:709 [inlined]",
      " [11] eventloop(::ZMQ.Socket) at /home/darve/adncat/.julia/packages/IJulia/rWZ9e/src/eventloop.jl:8",
      " [12] (::IJulia.var\"#15#18\")() at ./task.jl:356"
     ]
    }
   ],
   "source": [
    "f(TY)"
   ]
  },
  {
   "cell_type": "code",
   "execution_count": null,
   "metadata": {},
   "outputs": [],
   "source": [
    "T = TY[1]\n",
    "Y = TY[2:end]\n",
    "ρ = m / V # density\n",
    "X = ρ * Y ./ W # Concentration\n",
    "Q = ADCME.Variable(ones(M)) # Individual progress rates\n",
    "islarge = T > NASA_coeffs[:,1]\n",
    "islarge = convert_to_tensor(islarge, dtype=Float64)\n",
    "fhi = f_hi(NASA_coeffs, T, R)\n",
    "flo = f_lo(NASA_coeffs, T, R)\n",
    "cp = islarge .* fhi[:,1] + (1 - islarge) .* flo[:,1]\n",
    "h = islarge .* fhi[:,2] + (1 - islarge) .* flo[:,2]\n",
    "s = islarge .* fhi[:,3] + (1 - islarge) .* flo[:,3]\n",
    "cvk = cp .- R\n",
    "ΔS = ν' * s  # Entropy change for reaction j\n",
    "ΔH = ν' * h # Entahlpy change for reaction j\n",
    "####\n",
    "M_t = efficiency_t' * X\n",
    "Kf_t = Af_t .* (T ^ β_t) .* exp(-E_t / (R * T)) .* M_t\n",
    "Kr_t = Kf_t ./ (((pa/(R * T)) ^ sum(ν[:,tbd], dims=1)')[:,1] .* exp(ΔS[tbd] ./ R - ΔH[tbd] / (R * T)))\n",
    "scatter_update(Q, tbd, Kf_t .* (prod(reshape(ADCME.repeat(X, size(tbd)[1]), (N, size(tbd)[1])) ^ order_t, dims=1)) .- Kr_t .* (prod(reshape(ADCME.repeat(X, size(tbd)[1]), (N, size(tbd)[1])) ^ ν2[:,tbd], dims=1)) .* reversible[tbd])\n",
    "####\n",
    "M_f = efficiency_f' * X\n",
    "Kf_lo = Af_lo .* (T ^ β_lo) .* exp(-E_lo / (R * T)) .* M_f\n",
    "Kf_hi = Af_hi .* (T ^ β_hi) .* exp(-E_hi / (R * T)) \n",
    "Pr = Kf_lo ./ Kf_hi\n",
    "Fac = ADCME.Variable(ones(size(falofr)[1]))\n",
    "for (i,s) in enumerate(troefall)\n",
    "    a = troefall_coeff[:,i]\n",
    "    fcent = (1 - a[1]) * exp(-T/a[2]) + a[1] * exp(-T/a[3]) + exp(-a[4]/T)\n",
    "    c = -0.4 - 0.67 * log(fcent) / log(10)\n",
    "    n = 0.75 - 1.27 * log(fcent) / log(10)\n",
    "    f1 = (log(Pr[s]) / log(10) + c) / (n - 0.14 *(log(Pr[s]) / log(10) + c))\n",
    "    scatter_update(Fac, troefall[i], 10 ^ ((log(fcent) / log(10)) / (1 + f1 ^ 2)))\n",
    "end\n",
    "Kf_f = Kf_lo ./ (1 .+ (Kf_lo ./ Kf_hi)) .* Fac\n",
    "Kr_f = Kf_f ./ (((pa/(R * T)) ^ sum(ν[:,falofr], dims=1)')[:,1] .* exp(ΔS[falofr] ./ R - ΔH[falofr] / (R * T)))\n",
    "scatter_update(Q, falofr, Kf_f .* (prod(reshape(ADCME.repeat(X, size(falofr)[1]), (N, size(falofr)[1])) ^ order_f, dims=1)) .- Kr_f .* (prod(reshape(ADCME.repeat(X, size(falofr)[1]), (N, size(falofr)[1])) ^ ν2[:,falofr], dims=1)) .* reversible[falofr][:,1])\n",
    "####\n",
    "Kf = Af .* (T ^ β) .* exp(-E / (R * T))\n",
    "Kr = Kf ./ (((pa/(R * T)) ^ sum(ν[:,elmr], dims=1)')[:,1] .* exp(ΔS[elmr] ./ R - ΔH[elmr] / (R * T)))\n",
    "scatter_update(Q, elmr, Kf .* (prod(reshape(ADCME.repeat(X, size(elmr)[1]), (N, size(elmr)[1])) ^ order, dims=1)) .- Kr .* (prod(reshape(ADCME.repeat(X, size(elmr)[1]), (N, size(elmr)[1])) ^ ν2[:,elmr], dims=1)) .* reversible[elmr][:,1])\n",
    "##### Computing ω_dot \n",
    "cv = sum(cvk ./ W .* Y) # Mass heat capacities\n",
    "u = h / W - R / W * T   # Internal energy for species\n",
    "p = sum(X) * R * T # pressure\n",
    "ω_dot = W .* sum(ν .* Q', dims=2)\n",
    "###### Species Conservation\n",
    "mgen_dot = V * ω_dot\n",
    "Y_dot = (1 / m) * ((min_dot * (Yin - Y) - mout_dot * Y) + mgen_dot) \n",
    "###### EnergyConservation\n",
    "T_dot = 1 / (m * cv) * (-Qdot + min_dot * (hin - sum(u .* Yin)) - p * V / m * mout_dot - sum(mgen_dot .* u))"
   ]
  },
  {
   "cell_type": "code",
   "execution_count": 239,
   "metadata": {},
   "outputs": [
    {
     "data": {
      "text/plain": [
       "(PyObject <tf.Tensor 'Mul_59502:0' shape=() dtype=float64>, PyObject <tf.Tensor 'Mul_59495:0' shape=(160,) dtype=float64>)"
      ]
     },
     "execution_count": 239,
     "metadata": {},
     "output_type": "execute_result"
    }
   ],
   "source": [
    "t_dot, y_dot = f(TY)"
   ]
  },
  {
   "cell_type": "code",
   "execution_count": 246,
   "metadata": {},
   "outputs": [
    {
     "data": {
      "text/plain": [
       "PyObject <tf.Tensor 'TensorArrayStack_1/TensorArrayGatherV3:0' shape=(?, 160) dtype=float64>"
      ]
     },
     "execution_count": 246,
     "metadata": {},
     "output_type": "execute_result"
    }
   ],
   "source": [
    "test = ADCME.gradients(y_dot, Y)"
   ]
  },
  {
   "cell_type": "code",
   "execution_count": 242,
   "metadata": {},
   "outputs": [],
   "source": [
    "test"
   ]
  },
  {
   "cell_type": "code",
   "execution_count": 244,
   "metadata": {},
   "outputs": [
    {
     "data": {
      "text/plain": [
       "PyObject <tf.Tensor 'Mul_59495:0' shape=(160,) dtype=float64>"
      ]
     },
     "execution_count": 244,
     "metadata": {},
     "output_type": "execute_result"
    }
   ],
   "source": [
    "y_dot"
   ]
  },
  {
   "cell_type": "code",
   "execution_count": null,
   "metadata": {},
   "outputs": [],
   "source": []
  }
 ],
 "metadata": {
  "kernelspec": {
   "display_name": "Julia 1.5.0",
   "language": "julia",
   "name": "julia-1.5"
  },
  "language_info": {
   "file_extension": ".jl",
   "mimetype": "application/julia",
   "name": "julia",
   "version": "1.5.0"
  }
 },
 "nbformat": 4,
 "nbformat_minor": 4
}
