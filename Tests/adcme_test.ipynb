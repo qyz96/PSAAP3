{
 "cells": [
  {
   "cell_type": "code",
   "execution_count": null,
   "metadata": {},
   "outputs": [],
   "source": [
    "using ADCME\n",
    "using Plots\n",
    "using PyCall\n",
    "#### Read data\n",
    "py\"\"\"\n",
    "import numpy as np\n",
    "\"\"\""
   ]
  },
  {
   "cell_type": "code",
   "execution_count": null,
   "metadata": {},
   "outputs": [],
   "source": [
    "function f_hi(a, T, R)\n",
    "        v1 = (a[:,2] + a[:,3] * T + a[:,4] * T^2 + a[:,5] * T^3 + a[:,6] * T^4) * R\n",
    "        v2 = (a[:,2] + a[:,3] * T / 2 + a[:,4] * T^2 /3 + a[:,5] * T^3 /4 + a[:,6] * T^4 /5 + a[:,7]/T) * R * T\n",
    "        v3 = (a[:,2] * log(T) + a[:,3] * T + a[:,4] * T^2 /2 + a[:,5] * T^3 /3 + a[:,6] * T^4 / 4 + a[:,8]) * R\n",
    "    return [v1 v2 v3]\n",
    "end\n",
    " \n",
    "function f_lo(a, T, R)\n",
    "    v1 = (a[:,9] + a[:,10] * T + a[:,11] * T^2 + a[:,12] * T^3 + a[:,13] * T^4) * R\n",
    "    v2 = (a[:,9] + a[:,10] * T / 2 + a[:,11] * T^2 /3 + a[:,12] * T^3 /4 + a[:,13] * T^4 /5 + a[:,14]/T) * R * T\n",
    "    v3 = (a[:,9] * log(T) + a[:,10] * T + a[:,11] * T^2 /2 + a[:,12] * T^3 /3 + a[:,13] * T^4 / 4 + a[:,15]) * R\n",
    "    return [v1 v2 v3]\n",
    "end \n",
    "\n",
    "function compute_falloff(T, pr, a)\n",
    "    fcent = (1 - a[1]) * exp(-T/a[2]) + a[1] * exp(-T/a[3]) + exp(-a[4]/T)\n",
    "    c = -0.4 - 0.67 * log(fcent) / log(10)\n",
    "    n = 0.75 - 1.27 * log(fcent) / log(10)\n",
    "    f1 = (log(pr) / log(10) + c) / (n - 0.14 *(log(pr) / log(10) + c))\n",
    "    return  10 ^ ((log(fcent) / log(10)) / (1 + f1 ^ 2))\n",
    "end"
   ]
  },
  {
   "cell_type": "code",
   "execution_count": null,
   "metadata": {},
   "outputs": [],
   "source": [
    "V = 1  # Volume\n",
    "m = 0.25053305505123996  # Total mass\n",
    "tbd = py\"np.load\"(\"/home/darve/adncat/yizhou/PSAAP3/Tests/data/tbd.npy\") .+ 1\n",
    "falofr = py\"np.load\"(\"/home/darve/adncat/yizhou/PSAAP3/Tests/data/falofr.npy\") .+ 1\n",
    "elmr = py\"np.load\"(\"/home/darve/adncat/yizhou/PSAAP3/Tests/data/elmr.npy\") .+ 1\n",
    "NASA_coeffs = py\"np.load\"(\"data/NASA_coeffs.npy\")\n",
    "W = py\"np.load\"(\"data/molecular_weights.npy\") # Molar weight\n",
    "ν1 = py\"np.load\"(\"data/reactants_stoich_coeffs.npy\") # Forward molar stoichiometric coefficients\n",
    "ν2 = py\"np.load\"(\"data/product_stoich_coeffs.npy\") # Backward model stoichiometric coefficients\n",
    "reversible = py\"np.load\"(\"data/reversible.npy\")\n",
    "N = size(ν1)[1]  # Number of Species\n",
    "M = size(ν1)[2]  # Number of Reactions\n",
    "ν1_order = zeros(N,M)\n",
    "ν = ν2 - ν1  \n",
    "pa = 100000 # 1 bar\n",
    "R = 8314.4621 # Gas constant in kmol\n",
    "### Constants: Combustion Chamber Level\n",
    "min_dot = 0 # Rate at which mass enters the chamber\n",
    "mout_dot = 0 # Rate at which mass leaves the chamber\n",
    "Yin = ones(N) # Mass fraction of species entering the chamber\n",
    "Yout = ones(N) # Mass fraction of species leaving the chamber\n",
    "Qdot = 0 # Heating source\n",
    "m_dot = min_dot - mout_dot\n",
    "hin = 1 # Enthalpy of input\n",
    "### Unknowns\n",
    "T = 1200.0 # Temperature\n",
    "Y = py\"np.load\"(\"/home/darve/adncat/yizhou/PSAAP3/Tests/data/ini_mass_fraction.npy\") # Mass fractions\n",
    "#Y .+= 0.00001\n",
    "#Y ./ sum(Y)\n",
    "### Quantities that depend on the Unknowns\n",
    "tbd = py\"np.load\"(\"/home/darve/adncat/yizhou/PSAAP3/Tests/data/tbd.npy\") .+ 1\n",
    "tbd = Int.(tbd)\n",
    "falofr = py\"np.load\"(\"/home/darve/adncat/yizhou/PSAAP3/Tests/data/falofr.npy\") .+ 1\n",
    "falofr = Int.(falofr)\n",
    "elmr = py\"np.load\"(\"/home/darve/adncat/yizhou/PSAAP3/Tests/data/elmr.npy\") .+ 1\n",
    "elmr = Int.(elmr)\n",
    "\n",
    "order = py\"np.load\"(\"data/reaction_orders.npy\")\n",
    "#Af = py\"np.load\"(\"/home/darve/adncat/yizhou/PSAAP3/Tests/data/pre_exponential_factor.npy\") # preexponential constant Afj\n",
    "#β = py\"np.load\"(\"/home/darve/adncat/yizhou/PSAAP3/Tests/data/temperature_exponent.npy\") # Temperature exponent\n",
    "#E = py\"np.load\"(\"/home/darve/adncat/yizhou/PSAAP3/Tests/data/activation_energy.npy\") # Activation energy for the reactions in kJ\n",
    "\n",
    "order_t = py\"np.load\"(\"data/reaction_orders_t.npy\")\n",
    "efficiency_t = py\"np.load\"(\"data/efficiency_t.npy\")\n",
    "Af_t = py\"np.load\"(\"/home/darve/adncat/yizhou/PSAAP3/Tests/data/pre_exponential_factor_t.npy\") # preexponential constant Afj\n",
    "β_t = py\"np.load\"(\"/home/darve/adncat/yizhou/PSAAP3/Tests/data/temperature_exponent_t.npy\") # Temperature exponent\n",
    "E_t = py\"np.load\"(\"/home/darve/adncat/yizhou/PSAAP3/Tests/data/activation_energy_t.npy\") # Activation energy for the reactions in kJ\n",
    "\n",
    "order_f = py\"np.load\"(\"data/reaction_orders_f.npy\")\n",
    "troefall = py\"np.load\"(\"data/troefall.npy\") .+ 1\n",
    "troefall_coeff = py\"np.load\"(\"data/troefall_coeff.npy\")\n",
    "efficiency_f = py\"np.load\"(\"data/efficiency_f.npy\")\n",
    "Af_hi = py\"np.load\"(\"/home/darve/adncat/yizhou/PSAAP3/Tests/data/pre_exponential_factor_hi.npy\") # preexponential constant Afj\n",
    "β_hi = py\"np.load\"(\"/home/darve/adncat/yizhou/PSAAP3/Tests/data/temperature_exponent_hi.npy\") # Temperature exponent\n",
    "E_hi = py\"np.load\"(\"/home/darve/adncat/yizhou/PSAAP3/Tests/data/activation_energy_hi.npy\") \n",
    "\n",
    "Af_lo = py\"np.load\"(\"/home/darve/adncat/yizhou/PSAAP3/Tests/data/pre_exponential_factor_lo.npy\") # preexponential constant Afj\n",
    "β_lo = py\"np.load\"(\"/home/darve/adncat/yizhou/PSAAP3/Tests/data/temperature_exponent_lo.npy\") # Temperature exponent\n",
    "E_lo = py\"np.load\"(\"/home/darve/adncat/yizhou/PSAAP3/Tests/data/activation_energy_lo.npy\") \n",
    "\n",
    "ν1_order[:,elmr] = order\n",
    "ν1_order[:,tbd] = order_t\n",
    "ν1_order[:,falofr] = order_f;"
   ]
  },
  {
   "cell_type": "code",
   "execution_count": null,
   "metadata": {},
   "outputs": [],
   "source": [
    "function f(TY, θ)\n",
    "    T = TY[1]\n",
    "    Y = TY[2:end]\n",
    "    ρ = m / V # density\n",
    "    X = tf.reshape(ρ * tf.divide(Y, W), (N,1)) # Concentration\n",
    "    Q = ADCME.constant(ones(M)) # Individual progress rates\n",
    "    islarge = T > ADCME.constant(NASA_coeffs[:,1])\n",
    "    islarge = convert_to_tensor(islarge, dtype=Float64)\n",
    "    fhi = f_hi(NASA_coeffs, T, R)\n",
    "    flo = f_lo(NASA_coeffs, T, R)\n",
    "    cp = islarge .* fhi[:,1] + (1 - islarge) .* flo[:,1]\n",
    "    h = islarge .* fhi[:,2] + (1 - islarge) .* flo[:,2]\n",
    "    s = islarge .* fhi[:,3] + (1 - islarge) .* flo[:,3]\n",
    "    cvk = cp .- R\n",
    "    ΔS = ν' * s  # Entropy change for reaction j\n",
    "    ΔH = ν' * h # Entahlpy change for reaction j\n",
    "    ####\n",
    "    M_t = efficiency_t' * X[:,1]\n",
    "    Kf_t = Af_t .* (T ^ β_t) .* exp(-E_t / (R * T)) .* M_t\n",
    "    Kr_t = Kf_t ./ (((pa/(R * T)) ^ sum(ν[:,tbd], dims=1)')[:,1] .* exp(ΔS[tbd] ./ R - ΔH[tbd] / (R * T)))\n",
    "    Qtbd =  Kf_t .* (prod(tf.pow(X, order_t), dims=1)) .- Kr_t .* (prod(tf.pow(X, ν2[:,tbd]), dims=1) .* reversible[tbd])\n",
    "    M_f = efficiency_f' * X[:,1]\n",
    "    Kf_lo = Af_lo .* (T ^ β_lo) .* exp(-E_lo / (R * T)) .* M_f\n",
    "    Kf_hi = Af_hi .* (T ^ β_hi) .* exp(-E_hi / (R * T)) \n",
    "    Pr = Kf_lo ./ Kf_hi\n",
    "    Fac = ADCME.constant(ones(size(falofr)[1]))\n",
    "    for (i,s) in enumerate(troefall)\n",
    "        a = troefall_coeff[:,i]\n",
    "        fcent = (1 - a[1]) * exp(-T/a[2]) + a[1] * exp(-T/a[3]) + exp(-a[4]/T)\n",
    "        c = -0.4 - 0.67 * log(fcent) / log(10)\n",
    "        n = 0.75 - 1.27 * log(fcent) / log(10)\n",
    "        f1 = (log(Pr[s]) / log(10) + c) / (n - 0.14 *(log(Pr[s]) / log(10) + c))\n",
    "        Fac = scatter_update(Fac, troefall[i], 10 ^ ((log(fcent) / log(10)) / (1 + f1 ^ 2)))\n",
    "    end\n",
    "    Kf_f = Kf_lo ./ (1 .+ (Kf_lo ./ Kf_hi)) .* Fac\n",
    "    Kr_f = Kf_f ./ (((pa/(R * T)) ^ sum(ν[:,falofr], dims=1)')[:,1] .* exp(ΔS[falofr] ./ R - ΔH[falofr] / (R * T)))\n",
    "    Qfalofr = Kf_f .* (prod(tf.pow(X, order_f), dims=1)) .- Kr_f .* (prod(tf.pow(X, ν2[:,falofr]), dims=1) .* reversible[falofr])\n",
    "    ####\n",
    "    Af = exp(θ[:,1])\n",
    "    β = zeros(M)\n",
    "    E = exp(θ[:,3])\n",
    "    Kf = Af .* (T ^ β) .* exp(-E / (R * T))\n",
    "    Kr = Kf ./ (((pa/(R * T)) ^ sum(ν[:,elmr], dims=1)')[:,1] .* exp(ΔS[elmr] ./ R - ΔH[elmr] / (R * T)))\n",
    "    Qelmr = Kf .* (prod(tf.pow(X, order), dims=1)) .- Kr .* (prod(tf.pow(X, ν2[:,elmr]), dims=1) .* reversible[elmr])\n",
    "    Q = [Qtbd' Qfalofr' Qelmr']\n",
    "    ν_new = [ν[:,tbd] ν[:,falofr] ν[:,elmr]]\n",
    "    ##### Computing ω_dot \n",
    "    cv = sum(cvk ./ W .* Y) # Mass heat capacities\n",
    "    u = h / W - R ./ W * T   # Internal energy for species\n",
    "    p = sum(X) * R * T # pressure\n",
    "    ω_dot = W .* sum(ν_new .* Q, dims=2)\n",
    "    ###### Species Conservation\n",
    "    mgen_dot = V * ω_dot\n",
    "    Y_dot = (1 / m) * ((min_dot * (Yin - Y) - mout_dot * Y) + mgen_dot) \n",
    "    ###### EnergyConservation\n",
    "    T_dot = 1 / (m * cv) * (-Qdot + min_dot * (hin - sum(u .* Yin)) - p * V / m * mout_dot - sum(mgen_dot .* u))\n",
    "    return tf.concat([tf.reshape(T_dot, (1,)), Y_dot], 0)\n",
    "end"
   ]
  },
  {
   "cell_type": "code",
   "execution_count": 50,
   "metadata": {
    "scrolled": true
   },
   "outputs": [
    {
     "data": {
      "text/plain": [
       "2001×7 Array{Float64,2}:\n",
       " 1200.0   0.166667    0.166667  0.166667  0.166667  0.166667  0.166667\n",
       " 1200.18  0.166647    0.166671  0.166665  0.166645  0.166706  0.166667\n",
       " 1200.36  0.166628    0.166674  0.166663  0.166623  0.166745  0.166667\n",
       " 1200.54  0.166609    0.166678  0.166662  0.166601  0.166784  0.166667\n",
       " 1200.72  0.166589    0.166682  0.16666   0.166579  0.166823  0.166667\n",
       " 1200.9   0.16657     0.166686  0.166658  0.166557  0.166862  0.166667\n",
       " 1201.08  0.16655     0.16669   0.166656  0.166535  0.166901  0.166667\n",
       " 1201.26  0.166531    0.166694  0.166655  0.166514  0.16694   0.166667\n",
       " 1201.44  0.166512    0.166698  0.166653  0.166492  0.16698   0.166667\n",
       " 1201.62  0.166492    0.166702  0.166651  0.16647   0.167019  0.166667\n",
       " 1201.8   0.166473    0.166706  0.166649  0.166448  0.167058  0.166667\n",
       " 1201.98  0.166453    0.16671   0.166648  0.166426  0.167097  0.166667\n",
       " 1202.16  0.166433    0.166713  0.166646  0.166404  0.167137  0.166667\n",
       "    ⋮                                               ⋮         \n",
       " 2303.34  6.34011e-5  0.262355  0.124061  0.172547  0.274306  0.166667\n",
       " 2303.33  6.33983e-5  0.262356  0.124061  0.172549  0.274304  0.166667\n",
       " 2303.33  6.33955e-5  0.262356  0.12406   0.172551  0.274302  0.166667\n",
       " 2303.33  6.33927e-5  0.262357  0.12406   0.172553  0.2743    0.166667\n",
       " 2303.33  6.33899e-5  0.262358  0.12406   0.172555  0.274298  0.166667\n",
       " 2303.33  6.33871e-5  0.262358  0.12406   0.172556  0.274296  0.166667\n",
       " 2303.32  6.33843e-5  0.262359  0.124059  0.172558  0.274294  0.166667\n",
       " 2303.32  6.33815e-5  0.262359  0.124059  0.17256   0.274292  0.166667\n",
       " 2303.32  6.33788e-5  0.26236   0.124059  0.172562  0.27429   0.166667\n",
       " 2303.32  6.3376e-5   0.26236   0.124059  0.172564  0.274287  0.166667\n",
       " 2303.32  6.33732e-5  0.262361  0.124058  0.172565  0.274285  0.166667\n",
       " 2303.31  6.33704e-5  0.262362  0.124058  0.172567  0.274283  0.166667"
      ]
     },
     "execution_count": 50,
     "metadata": {},
     "output_type": "execute_result"
    }
   ],
   "source": [
    "timestep = py\"np.load\"(\"/home/darve/adncat/yizhou/PSAAP3/Tests/data/timestep.npy\")\n",
    "Tt_cant = py\"np.load\"(\"data/temperature.npy\")\n",
    "T_ref = zeros(2001)\n",
    "T_ref[2:end] = Tt_cant\n",
    "T_ref[1] = 1200\n",
    "Yt_cant = py\"np.load\"(\"data/mass_fraction.npy\")\n",
    "Y_ref = [Y Yt_cant]\n",
    "obs = [T_ref Y_ref']"
   ]
  },
  {
   "cell_type": "code",
   "execution_count": 56,
   "metadata": {},
   "outputs": [
    {
     "data": {
      "text/plain": [
       "17.75"
      ]
     },
     "execution_count": 56,
     "metadata": {},
     "output_type": "execute_result"
    }
   ],
   "source": [
    "Afr = py\"np.load\"(\"/home/darve/adncat/yizhou/PSAAP3/Tests/data/pre_exponential_factor.npy\") # preexponential constant Afj\n",
    "βr = py\"np.load\"(\"/home/darve/adncat/yizhou/PSAAP3/Tests/data/temperature_exponent.npy\") # Temperature exponent\n",
    "Er = py\"np.load\"(\"/home/darve/adncat/yizhou/PSAAP3/Tests/data/activation_energy.npy\") # Activation energy for the reactions in kJ\n",
    "pr = [log.(Afr) βr log.(Er)]\n",
    "pr[1,1] = 28.25\n",
    "pr[2,1] = 17.75\n",
    "pr[1,3] = 18.75\n",
    "pr[2,3] = 17.75"
   ]
  },
  {
   "cell_type": "code",
   "execution_count": 57,
   "metadata": {
    "scrolled": true
   },
   "outputs": [
    {
     "name": "stdout",
     "output_type": "stream",
     "text": [
      "iter 0, current loss=362397.34121039574\n",
      "iter 1, current loss=8.54203387794032e6\n",
      "iter 2, current loss=6.543404235195075e6\n",
      "iter 3, current loss=115843.23082808303\n",
      "================ STEP 0 ===============\n",
      "iter 4, current loss=10451.735771084492\n",
      "================ STEP 1 ===============\n",
      "iter 5, current loss=6117.71802931791\n",
      "================ STEP 2 ===============\n",
      "iter 6, current loss=6103.412267572623\n",
      "================ STEP 3 ===============\n",
      "iter 7, current loss=6075.061536977392\n",
      "================ STEP 4 ===============\n",
      "iter 8, current loss=5989.851438792128\n",
      "================ STEP 5 ===============\n",
      "iter 9, current loss=5772.825829301961\n",
      "================ STEP 6 ===============\n",
      "iter 10, current loss=5109.523892490345\n",
      "================ STEP 7 ===============\n",
      "iter 11, current loss=1162.900525046948\n",
      "iter 12, current loss=233692.46942704136\n",
      "iter 13, current loss=475.112930562076\n",
      "================ STEP 8 ===============\n",
      "iter 14, current loss=73221.97353324351\n",
      "iter 15, current loss=198.65141945899265\n",
      "================ STEP 9 ===============\n",
      "iter 16, current loss=160.45410954586762\n",
      "================ STEP 10 ===============\n",
      "iter 17, current loss=154.95734368943317\n",
      "================ STEP 11 ===============\n",
      "iter 18, current loss=150.72196383322716\n",
      "================ STEP 12 ===============\n",
      "iter 19, current loss=138.9321370573577\n",
      "================ STEP 13 ===============\n",
      "iter 20, current loss=134.28019763703745\n",
      "================ STEP 14 ===============\n",
      "iter 21, current loss=133.23487758664265\n",
      "================ STEP 15 ===============\n",
      "iter 22, current loss=133.21308136697812\n",
      "================ STEP 16 ===============\n",
      "iter 23, current loss=133.20682098407804\n",
      "================ STEP 17 ===============\n",
      "iter 24, current loss=133.19856562347425\n",
      "================ STEP 18 ===============\n",
      "iter 25, current loss=133.1685628067588\n",
      "================ STEP 19 ===============\n",
      "iter 26, current loss=133.09822622007783\n",
      "================ STEP 20 ===============\n",
      "iter 27, current loss=132.90606438423706\n",
      "================ STEP 21 ===============\n",
      "iter 28, current loss=132.41398191740544\n",
      "================ STEP 22 ===============\n",
      "iter 29, current loss=131.12849606736364\n",
      "================ STEP 23 ===============\n",
      "iter 30, current loss=127.82560177709547\n",
      "================ STEP 24 ===============\n",
      "iter 31, current loss=119.46794237365484\n",
      "================ STEP 25 ===============\n",
      "iter 32, current loss=98.92309490179652\n",
      "================ STEP 26 ===============\n",
      "iter 33, current loss=52.558475505691234\n",
      "================ STEP 27 ===============\n",
      "iter 34, current loss=19.36634662429367\n",
      "================ STEP 28 ===============\n",
      "iter 35, current loss=13.049070580879018\n",
      "================ STEP 29 ===============\n",
      "iter 36, current loss=9.48144874678885\n",
      "================ STEP 30 ===============\n",
      "iter 37, current loss=6.83910745529841\n",
      "================ STEP 31 ===============\n",
      "iter 38, current loss=6.7963493645069875\n",
      "================ STEP 32 ===============\n",
      "iter 39, current loss=4.109835121089004\n",
      "================ STEP 33 ===============\n",
      "iter 40, current loss=3.4004006440655266\n",
      "================ STEP 34 ===============\n",
      "iter 41, current loss=3.3980333196592367\n",
      "================ STEP 35 ===============\n",
      "iter 42, current loss=3.397154458698813\n",
      "================ STEP 36 ===============\n",
      "iter 43, current loss=3.3954588578702056\n",
      "================ STEP 37 ===============\n",
      "iter 44, current loss=3.3904220766646525\n",
      "================ STEP 38 ===============\n",
      "iter 45, current loss=3.377885986234489\n",
      "================ STEP 39 ===============\n",
      "iter 46, current loss=3.344858613314294\n",
      "================ STEP 40 ===============\n",
      "iter 47, current loss=3.2618876641400805\n",
      "================ STEP 41 ===============\n",
      "iter 48, current loss=3.064519351729616\n",
      "================ STEP 42 ===============\n",
      "iter 49, current loss=2.666681687342985\n",
      "================ STEP 43 ===============\n",
      "iter 50, current loss=2.0233012405757407\n",
      "================ STEP 44 ===============\n",
      "iter 51, current loss=1.0755029882040543\n",
      "================ STEP 45 ===============\n",
      "iter 52, current loss=0.24554361962633287\n",
      "================ STEP 46 ===============\n",
      "iter 53, current loss=0.10863563080902959\n",
      "================ STEP 47 ===============\n",
      "iter 54, current loss=0.0939950809932469\n",
      "================ STEP 48 ===============\n",
      "iter 55, current loss=0.09133938104300723\n",
      "================ STEP 49 ===============\n",
      "iter 56, current loss=0.09787489867401922\n",
      "iter 57, current loss=0.09016275183089376\n",
      "================ STEP 50 ===============\n",
      "iter 58, current loss=0.0883161836260606\n",
      "================ STEP 51 ===============\n",
      "iter 59, current loss=0.07889503924849452\n",
      "================ STEP 52 ===============\n",
      "iter 60, current loss=0.059865418822947665\n",
      "================ STEP 53 ===============\n",
      "iter 61, current loss=0.04074770793237236\n",
      "================ STEP 54 ===============\n",
      "iter 62, current loss=0.016361935821165473\n",
      "================ STEP 55 ===============\n",
      "iter 63, current loss=0.003948122152681382\n",
      "================ STEP 56 ===============\n",
      "iter 64, current loss=8.758926619680821e-5\n",
      "================ STEP 57 ===============\n",
      "iter 65, current loss=8.756977793124255e-5\n",
      "================ STEP 58 ===============\n",
      "iter 66, current loss=8.756890338121464e-5\n",
      "================ STEP 59 ===============\n",
      "iter 67, current loss=8.756890337962756e-5\n",
      "================ STEP 60 ===============\n"
     ]
    },
    {
     "name": "stderr",
     "output_type": "stream",
     "text": [
      "┌ Info: Optimization starts...\n",
      "└ @ ADCME /home/darve/adncat/.julia/packages/ADCME/G762I/src/optim.jl:284\n"
     ]
    },
    {
     "data": {
      "text/plain": [
       "2×3 Array{Float64,2}:\n",
       " 28.3244  0.0  18.8021\n",
       " 17.9617  0.0  17.7315"
      ]
     },
     "execution_count": 57,
     "metadata": {},
     "output_type": "execute_result"
    }
   ],
   "source": [
    "nt = size(timestep)[1]\n",
    "TY = [T; Y]\n",
    "function condition(k, U, t, θ)\n",
    "    k <= nt - 1\n",
    "end\n",
    "\n",
    "function body(k, U, t, θ)\n",
    "    dt = t[k + 1] - t[k]\n",
    "    uk = read(U,k)\n",
    "    k1 = f(uk, θ)\n",
    "    k2 = f(uk + 0.5 * dt * k1, θ)\n",
    "    k3 = f(uk + 0.5 * dt * k2, θ)\n",
    "    k4 = f(uk + dt * k3, θ) \n",
    "    u_new = uk + 1/6 * dt * (k1 + 2 * k2 + 2 * k3 + k4)\n",
    "    U = write(U, k+1, u_new)\n",
    "    k+1, U, t, θ\n",
    "end\n",
    "k = constant(1, dtype=Int32)\n",
    "t = constant(timestep)\n",
    "θ = Variable(pr)\n",
    "U = TensorArray(nt)\n",
    "U = write(U, 1, TY)\n",
    "_, U_out=while_loop(condition, body, [k, U, t, θ])\n",
    "U_array = set_shape(stack(U_out), (nt, N+1))\n",
    "loss = sum((U_array[inds,:]-obs[inds,:])^2) \n",
    "sess = Session()\n",
    "init(sess)\n",
    "#u_out = run(sess, U_array)\n",
    "loss = BFGS!(sess, loss)\n",
    "out = run(sess, θ)"
   ]
  },
  {
   "cell_type": "code",
   "execution_count": 58,
   "metadata": {},
   "outputs": [
    {
     "data": {
      "text/plain": [
       "2001×7 Array{Float64,2}:\n",
       " 1200.0   0.166667    0.166667  0.166667  0.166667  0.166667  0.166667\n",
       " 1200.18  0.166647    0.166671  0.166665  0.166645  0.166706  0.166667\n",
       " 1200.36  0.166628    0.166674  0.166663  0.166623  0.166745  0.166667\n",
       " 1200.54  0.166609    0.166678  0.166662  0.166601  0.166784  0.166667\n",
       " 1200.72  0.166589    0.166682  0.16666   0.166579  0.166823  0.166667\n",
       " 1200.9   0.16657     0.166686  0.166658  0.166557  0.166862  0.166667\n",
       " 1201.08  0.16655     0.16669   0.166656  0.166535  0.166901  0.166667\n",
       " 1201.26  0.166531    0.166694  0.166655  0.166514  0.16694   0.166667\n",
       " 1201.44  0.166511    0.166698  0.166653  0.166492  0.16698   0.166667\n",
       " 1201.62  0.166492    0.166702  0.166651  0.16647   0.167019  0.166667\n",
       " 1201.8   0.166473    0.166706  0.166649  0.166448  0.167058  0.166667\n",
       " 1201.98  0.166453    0.16671   0.166648  0.166426  0.167097  0.166667\n",
       " 1202.16  0.166433    0.166713  0.166646  0.166404  0.167137  0.166667\n",
       "    ⋮                                               ⋮         \n",
       " 2303.34  6.2723e-5   0.262355  0.124061  0.172545  0.27431   0.166667\n",
       " 2303.34  6.27203e-5  0.262355  0.124061  0.172546  0.274308  0.166667\n",
       " 2303.34  6.27175e-5  0.262356  0.124061  0.172548  0.274306  0.166667\n",
       " 2303.34  6.27148e-5  0.262356  0.12406   0.17255   0.274304  0.166667\n",
       " 2303.34  6.27121e-5  0.262357  0.12406   0.172552  0.274302  0.166667\n",
       " 2303.33  6.27093e-5  0.262358  0.12406   0.172553  0.2743    0.166667\n",
       " 2303.33  6.27066e-5  0.262358  0.12406   0.172555  0.274298  0.166667\n",
       " 2303.33  6.27039e-5  0.262359  0.124059  0.172557  0.274296  0.166667\n",
       " 2303.33  6.27011e-5  0.262359  0.124059  0.172559  0.274293  0.166667\n",
       " 2303.33  6.26984e-5  0.26236   0.124059  0.172561  0.274291  0.166667\n",
       " 2303.32  6.26957e-5  0.26236   0.124059  0.172562  0.274289  0.166667\n",
       " 2303.32  6.2693e-5   0.262361  0.124058  0.172564  0.274287  0.166667"
      ]
     },
     "execution_count": 58,
     "metadata": {},
     "output_type": "execute_result"
    }
   ],
   "source": [
    "nt = size(timestep)[1]\n",
    "function condition(k, U, t, θ)\n",
    "    k <= nt - 1\n",
    "end\n",
    "\n",
    "function body(k, U, t, θ)\n",
    "    dt = t[k + 1] - t[k]\n",
    "    uk = read(U,k)\n",
    "    k1 = f(uk, θ)\n",
    "    k2 = f(uk + 0.5 * dt * k1, θ)\n",
    "    k3 = f(uk + 0.5 * dt * k2, θ)\n",
    "    k4 = f(uk + dt * k3, θ) \n",
    "    u_new = uk + 1/6 * dt * (k1 + 2 * k2 + 2 * k3 + k4)\n",
    "    U = write(U, k+1, u_new)\n",
    "    k+1, U, t, θ\n",
    "end\n",
    "k = constant(1, dtype=Int32)\n",
    "t = constant(timestep)\n",
    "θ = Variable(out)\n",
    "U = TensorArray(nt)\n",
    "U = write(U, 1, TY)\n",
    "_, U_out=while_loop(condition, body, [k, U, t, θ])\n",
    "U_array = set_shape(stack(U_out), (nt, N+1))\n",
    "sess = Session()\n",
    "init(sess)\n",
    "u_out = run(sess, U_array)"
   ]
  },
  {
   "cell_type": "code",
   "execution_count": null,
   "metadata": {
    "scrolled": true
   },
   "outputs": [],
   "source": [
    "#dt = 1e-6\n",
    "nt = size(timestep[1:1000])[1]\n",
    "#### Implicit scheme, need to refine for variable time step and order\n",
    "function res_and_jac(param, x)\n",
    "    dt = param[1]\n",
    "    x0 = param[2:end]\n",
    "    res = x - x0 - dt * f(x)\n",
    "    jac = gradients(res, x)\n",
    "    res, jac \n",
    "end\n",
    "\n",
    "function condition(k, U, t)\n",
    "    k <= nt - 1\n",
    "end\n",
    "\n",
    "function body(k, U, t)\n",
    "    dt = t[k + 1] - t[k]\n",
    "    uk = read(U,k)\n",
    "    ADCME.options.newton_raphson.rtol = 1e-5 # relative tolerance\n",
    "    ADCME.options.newton_raphson.tol = 1e-5 # absolute tolerance\n",
    "    ADCME.options.newton_raphson.verbose = true # print details in newton_raphson\n",
    "    param = tf.concat([tf.reshape(dt, (1,)), uk], 0)\n",
    "    u_new = newton_raphson_with_grad(res_and_jac, constant(uk), param)\n",
    "    U = write(U, k+1, u_new)\n",
    "    k+1, U, t\n",
    "end\n",
    "\n",
    "k = constant(1, dtype=Int32)\n",
    "t = constant(timestep)\n",
    "U = TensorArray(nt)\n",
    "U = write(U, 1, TY)\n",
    "_, U_out=while_loop(condition, body, [k, U, t])\n",
    "U_array = set_shape(stack(U_out), (nt, N+1))\n",
    "sess = Session()\n",
    "init(sess)\n",
    "u_out = run(sess, U_array)"
   ]
  },
  {
   "cell_type": "code",
   "execution_count": 70,
   "metadata": {},
   "outputs": [],
   "source": [
    "inds = range(1,2000, step=100)\n",
    "plot(timestep[inds], Y_ref'[inds,:], seriestype = :scatter, legend = false)\n",
    "plot!(timestep, u_out[:,2:end])\n",
    "xlabel!(\"Time\")\n",
    "ylabel!(\"Mass Fractions\")\n",
    "savefig(\"Mass_fraction.pdf\")"
   ]
  },
  {
   "cell_type": "code",
   "execution_count": 71,
   "metadata": {},
   "outputs": [],
   "source": [
    "inds = range(1,2000, step=100)\n",
    "plot(timestep[inds], T_ref[inds], seriestype = :scatter, label = \"observation\")\n",
    "plot!(timestep, u_out[:,1], label = \"prediction\")\n",
    "xlabel!(\"Time\")\n",
    "ylabel!(\"Temperature\")\n",
    "savefig(\"temperature.pdf\")"
   ]
  },
  {
   "cell_type": "code",
   "execution_count": null,
   "metadata": {},
   "outputs": [],
   "source": [
    "dt = 1e-6\n",
    "u1 = constant(TY)\n",
    "function res_and_jac(x0, x)\n",
    "    res = x - x0 - dt * f(x)\n",
    "    jac = gradients(res, x)\n",
    "    res, jac \n",
    "end\n",
    "ADCME.options.newton_raphson.rtol = 1e-4 # relative tolerance\n",
    "ADCME.options.newton_raphson.tol = 1e-4 # absolute tolerance\n",
    "ADCME.options.newton_raphson.verbose = true # print details in newton_raphson\n",
    "u_est = newton_raphson_with_grad(res_and_jac, constant(u1), u1)"
   ]
  },
  {
   "cell_type": "code",
   "execution_count": null,
   "metadata": {},
   "outputs": [],
   "source": [
    "sess = Session()\n",
    "init(sess)\n",
    "u_e = run(sess, u_est)"
   ]
  },
  {
   "cell_type": "code",
   "execution_count": null,
   "metadata": {},
   "outputs": [],
   "source": [
    "28.3244  0.0  18.8021\n",
    " 17.9616  0.0  17.7315"
   ]
  },
  {
   "cell_type": "code",
   "execution_count": 15,
   "metadata": {},
   "outputs": [
    {
     "data": {
      "text/plain": [
       "1:100:1901"
      ]
     },
     "execution_count": 15,
     "metadata": {},
     "output_type": "execute_result"
    }
   ],
   "source": []
  },
  {
   "cell_type": "code",
   "execution_count": 17,
   "metadata": {},
   "outputs": [
    {
     "data": {
      "text/plain": [
       "20×6 Array{Float64,2}:\n",
       " 0.166667     0.166667  0.166667  0.166667  0.166667  0.166667\n",
       " 0.164636     0.167095  0.166476  0.164443  0.170684  0.166667\n",
       " 0.16238      0.167626  0.16624   0.162145  0.174944  0.166667\n",
       " 0.159845     0.168292  0.165943  0.159778  0.179476  0.166667\n",
       " 0.156957     0.169139  0.165566  0.157356  0.184315  0.166667\n",
       " 0.153612     0.170233  0.165079  0.154901  0.189508  0.166667\n",
       " 0.149653     0.171674  0.164437  0.152453  0.195116  0.166667\n",
       " 0.144837     0.173623  0.163569  0.150081  0.201223  0.166667\n",
       " 0.138759     0.17635   0.162355  0.147919  0.20795   0.166667\n",
       " 0.130703     0.18034   0.160578  0.146224  0.215488  0.166667\n",
       " 0.119258     0.186569  0.157805  0.145556  0.224146  0.166667\n",
       " 0.101352     0.197192  0.153075  0.147239  0.234476  0.166667\n",
       " 0.0703485    0.216943  0.144281  0.154382  0.247379  0.166667\n",
       " 0.02572      0.246358  0.131184  0.167719  0.262352  0.166667\n",
       " 0.0036186    0.260282  0.124984  0.172326  0.272122  0.166667\n",
       " 0.000323827  0.261988  0.124225  0.17186   0.274937  0.166667\n",
       " 7.16765e-5   0.262128  0.124162  0.171856  0.275116  0.166667\n",
       " 6.36889e-5   0.262188  0.124135  0.172029  0.274917  0.166667\n",
       " 6.32455e-5   0.262246  0.124109  0.172209  0.274706  0.166667\n",
       " 6.29656e-5   0.262304  0.124084  0.172387  0.274496  0.166667"
      ]
     },
     "execution_count": 17,
     "metadata": {},
     "output_type": "execute_result"
    }
   ],
   "source": [
    "u_out[range(1,2000, step=100),2:end]"
   ]
  },
  {
   "cell_type": "code",
   "execution_count": 38,
   "metadata": {},
   "outputs": [
    {
     "data": {
      "text/plain": [
       "2×3 Array{Float64,2}:\n",
       " 28.3242  0.0  18.8021\n",
       " 17.9625  0.0  17.7317"
      ]
     },
     "execution_count": 38,
     "metadata": {},
     "output_type": "execute_result"
    }
   ],
   "source": [
    "pr = [log.(Afr) βr log.(Er)]"
   ]
  },
  {
   "cell_type": "code",
   "execution_count": 61,
   "metadata": {},
   "outputs": [
    {
     "data": {
      "text/plain": [
       "61-element Array{Any,1}:\n",
       " 115843.23082808303\n",
       "  10451.735771084492\n",
       "   6117.71802931791\n",
       "   6103.412267572623\n",
       "   6075.061536977392\n",
       "   5989.851438792128\n",
       "   5772.825829301961\n",
       "   5109.523892490345\n",
       "    475.112930562076\n",
       "    198.65141945899265\n",
       "    160.45410954586762\n",
       "    154.95734368943317\n",
       "    150.72196383322716\n",
       "      ⋮\n",
       "      0.09133938104300723\n",
       "      0.09016275183089376\n",
       "      0.0883161836260606\n",
       "      0.07889503924849452\n",
       "      0.059865418822947665\n",
       "      0.04074770793237236\n",
       "      0.016361935821165473\n",
       "      0.003948122152681382\n",
       "      8.758926619680821e-5\n",
       "      8.756977793124255e-5\n",
       "      8.756890338121464e-5\n",
       "      8.756890337962756e-5"
      ]
     },
     "execution_count": 61,
     "metadata": {},
     "output_type": "execute_result"
    }
   ],
   "source": [
    "loss"
   ]
  },
  {
   "cell_type": "code",
   "execution_count": 73,
   "metadata": {},
   "outputs": [],
   "source": [
    "plot(log.(loss), label=\"log of mse\")\n",
    "xlabel!(\"steps\")\n",
    "ylabel!(\"logarithm of loss\")\n",
    "savefig(\"loss.pdf\")"
   ]
  },
  {
   "cell_type": "code",
   "execution_count": null,
   "metadata": {},
   "outputs": [],
   "source": []
  }
 ],
 "metadata": {
  "kernelspec": {
   "display_name": "Julia 1.5.0",
   "language": "julia",
   "name": "julia-1.5"
  },
  "language_info": {
   "file_extension": ".jl",
   "mimetype": "application/julia",
   "name": "julia",
   "version": "1.5.0"
  }
 },
 "nbformat": 4,
 "nbformat_minor": 4
}
