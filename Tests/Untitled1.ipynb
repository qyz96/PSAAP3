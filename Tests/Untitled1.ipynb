{
 "cells": [
  {
   "cell_type": "code",
   "execution_count": 1,
   "metadata": {},
   "outputs": [],
   "source": [
    "import cantera as ct\n",
    "import numpy as np\n",
    "import matplotlib.pyplot as plt"
   ]
  },
  {
   "cell_type": "code",
   "execution_count": 10,
   "metadata": {},
   "outputs": [
    {
     "name": "stdout",
     "output_type": "stream",
     "text": [
      "\n",
      "  CH4_CM2:\n",
      "\n",
      "       temperature             500  K\n",
      "          pressure          101325  Pa\n",
      "           density        0.601279  kg/m^3\n",
      "  mean mol. weight         24.6697  amu\n",
      "\n",
      "                          1 kg            1 kmol\n",
      "                       -----------      ------------\n",
      "          enthalpy     -4.8775e+06       -1.203e+08     J\n",
      "   internal energy      -5.046e+06       -1.245e+08     J\n",
      "           entropy          9181.5        2.265e+05     J/K\n",
      "    Gibbs function     -9.4682e+06       -2.336e+08     J\n",
      " heat capacity c_p            1490        3.676e+04     J/K\n",
      " heat capacity c_v            1153        2.844e+04     J/K\n",
      "\n",
      "                           X                 Y          Chem. Pot. / RT\n",
      "                     -------------     ------------     ------------\n",
      "                O2       0.128493         0.166667         -27.1319\n",
      "               H2O       0.228229         0.166667          -82.821\n",
      "               CH4       0.256291         0.166667         -42.2379\n",
      "                CO       0.146789         0.166667         -52.6776\n",
      "               CO2       0.093425         0.166667          -123.28\n",
      "                N2       0.146773         0.166667         -25.3622\n",
      "\n"
     ]
    },
    {
     "name": "stderr",
     "output_type": "stream",
     "text": [
      "/home/darve/adncat/.local/lib/python3.6/site-packages/ipykernel_launcher.py:2: DeprecationWarning: Converting `np.integer` or `np.signedinteger` to a dtype is deprecated. The current result is `np.dtype(np.int_)` which is not strictly correct. Note that the result depends on the system. To ensure stable results use may want to use `np.int64` or `np.int32`.\n",
      "  \n",
      "/home/darve/adncat/.local/lib/python3.6/site-packages/ipykernel_launcher.py:22: DeprecationWarning: Converting `np.integer` or `np.signedinteger` to a dtype is deprecated. The current result is `np.dtype(np.int_)` which is not strictly correct. Note that the result depends on the system. To ensure stable results use may want to use `np.int64` or `np.int32`.\n"
     ]
    }
   ],
   "source": [
    "# gas = ct.Solution(\"seiser.cti\")  # Change .cti file to standard simple reaction\n",
    "gas = ct.Solution(\"2S_methane.cti\")\n",
    "# gas.Y = np.array([0.5, 0, 0.5, 0, 0])\n",
    "#gas.TP = 1200, 101325\n",
    "#gas.TD = 1200, 10\n",
    "def Q(t):\n",
    "    t0 = 1e-5\n",
    "    r  = 1e-6\n",
    "    c  = 1e12\n",
    "    return c * np.exp(-(t - t0)**2 / r**2) \n",
    "gas.Y = np.ones(gas.n_species) / gas.n_species\n",
    "gas.TP = 500, 101325\n",
    "# sim.advance(5.93e-6)\n",
    "#gas.Y = np.array([0.25, 0.25, 0.25, 0.25, 0, 0])\n",
    "# gas.set_equivalence_ratio(phi=1.0, fuel='nc7h16', oxidizer={'o2':1.0, 'n2':3.76})\n",
    "#np.save(\".npy files/ini_mass_fraction.npy\", gas.Y)\n",
    "reactor = ct.IdealGasReactor(gas)\n",
    "res = ct.Reservoir(gas)\n",
    "wall = ct.Wall(res, reactor)\n",
    "wall.set_heat_flux(Q)\n",
    "wall.area = 1.0\n",
    "exhaust_gas = ct.Solution(\"2S_methane.cti\")\n",
    "exhaust = ct.Reservoir(exhaust_gas)\n",
    "mfc = ct.MassFlowController(upstream = reactor, downstream = exhaust, mdot = nozzle_nasa_mdot)  # mdot = nozzle_nasa_mdot\n",
    "sim = ct.ReactorNet([reactor])\n",
    "gas()"
   ]
  },
  {
   "cell_type": "code",
   "execution_count": 11,
   "metadata": {},
   "outputs": [
    {
     "name": "stdout",
     "output_type": "stream",
     "text": [
      "\n",
      "  CH4_CM2:\n",
      "\n",
      "       temperature         2942.28  K\n",
      "          pressure          578073  Pa\n",
      "           density        0.528261  kg/m^3\n",
      "  mean mol. weight         22.3555  amu\n",
      "\n",
      "                          1 kg            1 kmol\n",
      "                       -----------      ------------\n",
      "          enthalpy     -1.1445e+06       -2.559e+07     J\n",
      "   internal energy     -2.2388e+06       -5.005e+07     J\n",
      "           entropy           12644        2.827e+05     J/K\n",
      "    Gibbs function     -3.8346e+07       -8.572e+08     J\n",
      " heat capacity c_p          2393.8        5.351e+04     J/K\n",
      " heat capacity c_v          2021.9         4.52e+04     J/K\n",
      "\n",
      "                           X                 Y          Chem. Pot. / RT\n",
      "                     -------------     ------------     ------------\n",
      "                O2    5.49201e-07      7.86104e-07         -42.8818\n",
      "               H2O       0.417065         0.336093         -38.3194\n",
      "               CH4       0.127127        0.0912287         -35.8621\n",
      "                CO       0.320632         0.401736         -32.9989\n",
      "               CO2     0.00217121       0.00427431         -54.4157\n",
      "                N2       0.133005         0.166667         -28.5852\n",
      "\n"
     ]
    }
   ],
   "source": [
    "#gas.TP = 1200, 101325\n",
    "#gas.set_equivalence_ratio(phi=1.0, fuel='nc7h16', oxidizer={'o2':1.0, 'n2':3.76})\n",
    "n_t = 200\n",
    "Pt = np.zeros(n_t)\n",
    "Tt = np.zeros(n_t)\n",
    "Yt = np.zeros((gas.n_species,n_t))\n",
    "Rhot = np.zeros(n_t)  # New array for changing density of gases, representing incoming mass flux\n",
    "for i in range(n_t):\n",
    "    sim.advance((i+1)*1e-6)\n",
    "    Pt[i] = gas.P\n",
    "    Tt[i] = gas.T\n",
    "    Yt[:,i] = gas.Y\n",
    "    Rhot[i] = gas.density\n",
    "    # gas.DP = 1, 1\n",
    "    # gas.TP = 1200, 101325\n",
    "    # print(nozzle_nasa_mdot((i+1)*1e-14))\n",
    "gas()\n",
    "# gas.DP"
   ]
  },
  {
   "cell_type": "code",
   "execution_count": 12,
   "metadata": {},
   "outputs": [
    {
     "data": {
      "text/plain": [
       "[<matplotlib.lines.Line2D at 0x7fdf94d08438>]"
      ]
     },
     "execution_count": 12,
     "metadata": {},
     "output_type": "execute_result"
    },
    {
     "data": {
      "image/png": "[encoded data removed]",
      "text/plain": [
       "<Figure size 432x288 with 1 Axes>"
      ]
     },
     "metadata": {
      "needs_background": "light"
     },
     "output_type": "display_data"
    },
    {
     "data": {
      "image/png": "[encoded data removed]",
      "text/plain": [
       "<Figure size 432x288 with 1 Axes>"
      ]
     },
     "metadata": {
      "needs_background": "light"
     },
     "output_type": "display_data"
    },
    {
     "data": {
      "image/png": "[encoded data removed]",
      "text/plain": [
       "<Figure size 432x288 with 1 Axes>"
      ]
     },
     "metadata": {
      "needs_background": "light"
     },
     "output_type": "display_data"
    },
    {
     "data": {
      "image/png": "[encoded data removed]",
      "text/plain": [
       "<Figure size 432x288 with 1 Axes>"
      ]
     },
     "metadata": {
      "needs_background": "light"
     },
     "output_type": "display_data"
    }
   ],
   "source": [
    "plt.plot(Tt)\n",
    "plt.figure()\n",
    "# plt.plot(Tt)\n",
    "for i in range(gas.n_species):\n",
    "    plt.plot(Yt[i,:])\n",
    "\n",
    "plt.figure()\n",
    "plt.plot(Pt)\n",
    "plt.figure()\n",
    "plt.plot(Rhot)\n",
    "####"
   ]
  },
  {
   "cell_type": "code",
   "execution_count": 35,
   "metadata": {},
   "outputs": [
    {
     "name": "stdout",
     "output_type": "stream",
     "text": [
      "\n",
      "  CH4_CM2:\n",
      "\n",
      "       temperature         1805.75  K\n",
      "          pressure          473292  Pa\n",
      "           density        0.779913  kg/m^3\n",
      "  mean mol. weight         24.7405  amu\n",
      "\n",
      "                          1 kg            1 kmol\n",
      "                       -----------      ------------\n",
      "          enthalpy     -4.4391e+06       -1.098e+08     J\n",
      "   internal energy      -5.046e+06       -1.248e+08     J\n",
      "           entropy           10973        2.715e+05     J/K\n",
      "    Gibbs function     -2.4253e+07           -6e+08     J\n",
      " heat capacity c_p          2249.7        5.566e+04     J/K\n",
      " heat capacity c_v          1913.6        4.734e+04     J/K\n",
      "\n",
      "                           X                 Y          Chem. Pot. / RT\n",
      "                     -------------     ------------     ------------\n",
      "                O2    1.34296e-08      1.73695e-08         -44.9901\n",
      "               H2O       0.354877         0.258411         -42.6329\n",
      "               CH4        0.19403         0.125817         -33.6762\n",
      "                CO       0.141473         0.160172         -35.1357\n",
      "               CO2       0.162426         0.288934         -57.6299\n",
      "                N2       0.147194         0.166667         -26.9758\n",
      "\n"
     ]
    }
   ],
   "source": [
    "gas()"
   ]
  },
  {
   "cell_type": "code",
   "execution_count": 92,
   "metadata": {},
   "outputs": [
    {
     "name": "stderr",
     "output_type": "stream",
     "text": [
      "/home/darve/adncat/.local/lib/python3.6/site-packages/ipykernel_launcher.py:12: DeprecationWarning: Converting `np.integer` or `np.signedinteger` to a dtype is deprecated. The current result is `np.dtype(np.int_)` which is not strictly correct. Note that the result depends on the system. To ensure stable results use may want to use `np.int64` or `np.int32`.\n",
      "  if sys.path[0] == '':\n",
      "/home/darve/adncat/.local/lib/python3.6/site-packages/ipykernel_launcher.py:32: DeprecationWarning: Converting `np.integer` or `np.signedinteger` to a dtype is deprecated. The current result is `np.dtype(np.int_)` which is not strictly correct. Note that the result depends on the system. To ensure stable results use may want to use `np.int64` or `np.int32`.\n"
     ]
    }
   ],
   "source": [
    "# gas = ct.Solution(\"2S_methane.cti\")\n",
    "# gas.Y = np.ones(gas.n_species) / gas.n_species\n",
    "# gas.TP = 1200, 101325\n",
    "# print(gas.density)\n",
    "# r1 = ct.IdealGasReactor(gas)\n",
    "# exhaust_gas = ct.Solution(\"2S_methane.cti\")\n",
    "# exhaust = ct.Reservoir(exhaust_gas)\n",
    "# mfc = ct.MassFlowController(upstream = r1, downstream = exhaust, mdot = 1e4)  # mdot = nozzle_nasa_mdot\n",
    "# sim = ct.ReactorNet([r1]) \n",
    "\n",
    "\n",
    "gas = ct.Solution(\"2S_methane.cti\")\n",
    "# gas.Y = np.array([0.5, 0, 0.5, 0, 0])\n",
    "#gas.TP = 1200, 101325\n",
    "#gas.TD = 1200, 10\n",
    "def Q(t):\n",
    "    t0 = 1e-5\n",
    "    r  = 1e-6\n",
    "    c  = 5e11\n",
    "    return c * np.exp(-(t - t0)**2 / r**2) \n",
    "gas.Y = np.ones(gas.n_species) / gas.n_species\n",
    "gas.TP = 1200, 101325\n",
    "# sim.advance(5.93e-6)\n",
    "#gas.Y = np.array([0.25, 0.25, 0.25, 0.25, 0, 0])\n",
    "# gas.set_equivalence_ratio(phi=1.0, fuel='nc7h16', oxidizer={'o2':1.0, 'n2':3.76})\n",
    "#np.save(\".npy files/ini_mass_fraction.npy\", gas.Y)\n",
    "r1 = ct.IdealGasReactor(gas)\n",
    "res = ct.Reservoir(gas)\n",
    "wall = ct.Wall(res, reactor)\n",
    "wall.set_heat_flux(Q)\n",
    "wall.area = 1.0\n",
    "exhaust_gas = ct.Solution(\"2S_methane.cti\")\n",
    "exhaust = ct.Reservoir(exhaust_gas)\n",
    "mfc = ct.MassFlowController(upstream = r1, downstream = exhaust, mdot = nozzle_nasa_mdot)  # mdot = nozzle_nasa_mdot\n",
    "sim = ct.ReactorNet([r1])\n",
    "\n",
    "Pt = np.zeros(n_t)\n",
    "Tt = np.zeros(n_t)\n",
    "Yt = np.zeros((gas.n_species,n_t))\n",
    "timestep = np.zeros(n_t+1)\n",
    "timestep[0] = 0\n",
    "dt = 0\n",
    "t = 0\n",
    "for i in range(n_t):\n",
    "    if (n_t < 125):\n",
    "        dt = 8e-6\n",
    "    else:\n",
    "        dt = 16e-11\n",
    "    t += (i+1)*dt\n",
    "    sim.advance(t)\n",
    "    timestep[i+1] = t\n",
    "    #timestep[i+1] = sim.step()\n",
    "    Pt[i] = gas.P\n",
    "    Tt[i] = gas.T\n",
    "    Yt[:,i] = gas.Y"
   ]
  },
  {
   "cell_type": "code",
   "execution_count": 3,
   "metadata": {},
   "outputs": [],
   "source": [
    "\n",
    "def nozzle_nasa_mdot(t):\n",
    "    # Can represent mass inflow by increasing combined gas's density\n",
    "    \"\"\"\n",
    "    Compute the efflux of the combustor via simple isentropic relations.\n",
    "    The efficiency of the nozzle is modeled using a discharge coefficient\n",
    "    :param t: time\n",
    "    :return: mass flux at the outlet (efflux) of the combustion chamber.\n",
    "    \"\"\"\n",
    "    # Avoid a unity pressure ratio at startup\n",
    "    # print(gas.T)\n",
    "    epsilon = 1.0\n",
    "    _rho = gas.density\n",
    "    _press = gas.P\n",
    "    _area = 1  # arbitrarily chosen value, [m^2]\n",
    "    _gamma_s = gas.cp / gas.cv\n",
    "    _temp = gas.T\n",
    "    _r_gas_specific = gas.cp - gas.cv\n",
    "    _p_ratio = 101325 / (gas.P + epsilon)  # Exhaust pressure is atmospheric pressure\n",
    "\n",
    "    power_1 = 2.0 / _gamma_s\n",
    "    power_2 = (_gamma_s + 1.0) / (_gamma_s)\n",
    "    pressure_term = _p_ratio ** power_1 - _p_ratio ** power_2\n",
    "    _sqrt_term = 2. * _gamma_s * _r_gas_specific * _temp / (_gamma_s - 1.0)\n",
    "    _sqrt_term *= pressure_term\n",
    "    assert (_sqrt_term >= 0.0)\n",
    "    _sqrt_term = np.sqrt(_sqrt_term)\n",
    "\n",
    "    _mdot_unchoked = _rho * _area * _sqrt_term\n",
    "\n",
    "    power = (_gamma_s + 1.0) / (_gamma_s - 1.0)\n",
    "    _gamma_term = (2. / (_gamma_s + 1.0)) ** power\n",
    "    _sqrt = np.sqrt(_gamma_s * _r_gas_specific * _temp * _gamma_term)\n",
    "    _mdot_choked = _rho * _area * _sqrt\n",
    "\n",
    "    _mdot = 0.0\n",
    "    _p_crit_downstream = _press * (2. / (_gamma_s + 1.0)) ** (_gamma_s / (_gamma_s - 1.0))\n",
    "\n",
    "    if _p_crit_downstream < 101325:  # Less than exhaust pressure = P_atm\n",
    "        # Unchoked conditions\n",
    "        _mdot = _mdot_unchoked\n",
    "    else:\n",
    "        # Choked conditions\n",
    "        _mdot = _mdot_choked\n",
    "\n",
    "    return _mdot  # * _geom_nozzle['C_d']  # Discharge coefficient"
   ]
  },
  {
   "cell_type": "code",
   "execution_count": null,
   "metadata": {},
   "outputs": [],
   "source": []
  }
 ],
 "metadata": {
  "kernelspec": {
   "display_name": "Python 3",
   "language": "python",
   "name": "python3"
  },
  "language_info": {
   "codemirror_mode": {
    "name": "ipython",
    "version": 3
   },
   "file_extension": ".py",
   "mimetype": "text/x-python",
   "name": "python",
   "nbconvert_exporter": "python",
   "pygments_lexer": "ipython3",
   "version": "3.6.8"
  }
 },
 "nbformat": 4,
 "nbformat_minor": 4
}
