{
 "cells": [
  {
   "cell_type": "code",
   "execution_count": 79,
   "metadata": {},
   "outputs": [],
   "source": [
    "using DifferentialEquations\n",
    "using ADCME\n",
    "using PyCall"
   ]
  },
  {
   "cell_type": "code",
   "execution_count": 189,
   "metadata": {},
   "outputs": [
    {
     "data": {
      "text/plain": [
       "compute_cpHS (generic function with 1 method)"
      ]
     },
     "execution_count": 189,
     "metadata": {},
     "output_type": "execute_result"
    }
   ],
   "source": [
    "function compute_cpHS(a, R, T)\n",
    "    m = size(a)[1]\n",
    "    cpHS = zeros(m, 3)\n",
    "    for i = 1:m\n",
    "        if (T > a[i,1])\n",
    "            cpHS[i,1] = (a[i,2] + a[i,3] * T + a[i,4] * T^2 + a[i,5] * T^3 + a[i,6] * T^4) * R\n",
    "            cpHS[i,2] = (a[i,2] + a[i,3] * T / 2 + a[i,4] * T^2 /3 + a[i,5] * T^3 /4 + a[i,6] * T^4 /5 + a[i,7]/T) * R * T\n",
    "            cpHS[i,3] = (a[i,2] * log(T) + a[i,3] * T + a[i,4] * T^2 /2 + a[i,5] * T^3 /3 + a[i,6] * T^4 / 4 + a[i,8]) * R\n",
    "        else\n",
    "            cpHS[i,1] = (a[i,9] + a[i,10] * T + a[i,11] * T^2 + a[i,12] * T^3 + a[i,13] * T^4) * R\n",
    "            cpHS[i,2] = (a[i,9] + a[i,10] * T / 2 + a[i,11] * T^2 /3 + a[i,12] * T^3 /4 + a[i,13] * T^4 /5 + a[i,14]/T) * R * T\n",
    "            cpHS[i,3] = (a[i,9] * log(T) + a[i,10] * T + a[i,11] * T^2 /2 + a[i,12] * T^3 /3 + a[i,13] * T^4 / 4 + a[i,15]) * R        \n",
    "        end\n",
    "    end\n",
    "    return cpHS\n",
    "end"
   ]
  },
  {
   "cell_type": "code",
   "execution_count": 190,
   "metadata": {},
   "outputs": [],
   "source": [
    "#### Read data\n",
    "py\"\"\"\n",
    "import numpy as np\n",
    "\"\"\""
   ]
  },
  {
   "cell_type": "code",
   "execution_count": 220,
   "metadata": {},
   "outputs": [
    {
     "data": {
      "text/latex": [
       "4 . 2 6 8 0 5 2 2 2 6 0 6 5 2 3 2 e 7"
      ],
      "text/plain": [
       "4.268052226065232e7"
      ]
     },
     "execution_count": 220,
     "metadata": {},
     "output_type": "execute_result"
    }
   ],
   "source": [
    "V = 1  # Volume\n",
    "m = 0.21703355349342215 # Total mass\n",
    "NASA_coeffs = py\"np.load\"(\"data/NASA_coeffs.npy\")\n",
    "W = py\"np.load\"(\"data/molecular_weights.npy\") # Molar weight\n",
    "ν1_order = py\"np.load\"(\"data/reaction_orders.npy\") # Forward molar stoichiometric coefficients\n",
    "ν1 = py\"np.load\"(\"data/reactants_stoich_coeffs.npy\") # Forward molar stoichiometric coefficients\n",
    "ν2 = py\"np.load\"(\"data/product_stoich_coeffs.npy\") # Backward model stoichiometric coefficients\n",
    "N = size(ν1)[1]  # Number of Species\n",
    "M = size(ν1)[2]  # Number of Reactions\n",
    "ν = ν2 - ν1  \n",
    "pa = 100000 # 1 bar\n",
    "R = 8314.46261815324 # Gas constant in kmol\n",
    "### Constants: Combustion Chamber Level\n",
    "min_dot = 0 # Rate at which mass enters the chamber\n",
    "mout_dot = 0 # Rate at which mass leaves the chamber\n",
    "Yin = ones(N) # Mass fraction of species entering the chamber\n",
    "Yout = ones(N) # Mass fraction of species leaving the chamber\n",
    "Qdot = 0 # Heating source\n",
    "m_dot = min_dot - mout_dot\n",
    "hin = 1 # Enthalpy of input\n",
    "### Unknowns\n",
    "T = 1200.0 # Temperature\n",
    "Y = [0.5; 0; 0.5; 0; 0] # Mass fractions\n",
    "### Quantities that depend on the Unknowns\n",
    "ρ = m / V # density\n",
    "Af = [3.47850e+08] # preexponential constant Afj\n",
    "β = [0] # Temperature exponent\n",
    "E = [83680000.0] # Activation energy for the reactions in kJ (divide the value from Cantera by 1000)\n",
    "Q = ones(M) # Individual progress rates\n",
    "Kf = ones(M) # Forward reaction coefficients\n",
    "Kr = zeros(M) # Reverse reaction coefficients\n",
    "##### Computing ω_dot \n",
    "cpHS = compute_cpHS(NASA_coeffs, R, T)\n",
    "cp = cpHS[:,1]\n",
    "h = cpHS[:,2]\n",
    "s = cpHS[:,3]\n",
    "cvk = cp .- R\n",
    "ΔS = ν' * s  # Entropy change for reaction j\n",
    "ΔH = ν' * h # Entahlpy change for reaction j\n",
    "X = ρ * Y ./ W # Concentration\n",
    "cv = sum(cvk ./ W .* Y) # Mass heat capacities\n",
    "u = h ./ W - R ./ W .* T   # Internal energy for species\n",
    "p = sum(X) * R * T # pressure\n",
    "Kf = Af .* (T .^ β) .* exp.(-E ./ (R * T))\n",
    "Kr = Kf ./ (((pa/(R * T)) .^ sum(ν, dims=1)' .* exp.(ΔS ./ R - ΔH ./ (R * T))))\n",
    "Q = Kf .* prod(X .^ ν1_order, dims=1)' .- Kr .* prod(X .^ ν2, dims=1)'\n",
    "ω_dot = W .* sum(ν .* Q', dims=2)\n",
    "###### Species Conservation\n",
    "mgen_dot = V .* ω_dot\n",
    "Y_dot = (1 / m) .* (min_dot .* (Yin .- Y) - mout_dot .* Y .+ mgen_dot) \n",
    "###### Energy Conservation\n",
    "T_dot = 1 / (m * cv) * (-Qdot + min_dot * (hin - sum(u .* Yin)) - p * V / m * mout_dot - sum(mgen_dot .* u))"
   ]
  },
  {
   "cell_type": "code",
   "execution_count": 305,
   "metadata": {},
   "outputs": [
    {
     "data": {
      "text/plain": [
       "f (generic function with 4 methods)"
      ]
     },
     "execution_count": 305,
     "metadata": {},
     "output_type": "execute_result"
    }
   ],
   "source": [
    "function f(TY)\n",
    "    T = TY[1]\n",
    "    Y = TY[2:end]\n",
    "    cpHS = compute_cpHS(NASA_coeffs, R, T)\n",
    "    cp = cpHS[:,1]\n",
    "    h = cpHS[:,2]\n",
    "    s = cpHS[:,3]\n",
    "    cvk = cp .- R\n",
    "    ΔS = ν' * s  # Entropy change for reaction j\n",
    "    ΔH = ν' * h # Entahlpy change for reaction j\n",
    "    X = ρ * Y ./ W # Concentration\n",
    "    cv = sum(cvk ./ W .* Y) # Mass heat capacities\n",
    "    u = h ./ W - R ./ W .* T   # Internal energy for species\n",
    "    p = sum(X) * R * T # pressure\n",
    "    Kf = Af .* (T .^ β) .* exp.(-E ./ (R * T))\n",
    "    Kr = Kf ./ (((pa/(R * T)) .^ sum(ν, dims=1)' .* exp.(ΔS ./ R - ΔH ./ (R * T))))\n",
    "    Q = Kf .* prod(max.(X,0) .^ ν1_order, dims=1)' .- Kr .* prod(X .^ ν2, dims=1)'\n",
    "    ω_dot = W .* sum(ν .* Q', dims=2)\n",
    "    ###### Species Conservation\n",
    "    mgen_dot = V .* ω_dot \n",
    "    Y_dot = (1 / m) .* (min_dot .* (Yin .- Y) - mout_dot .* Y .+ mgen_dot) \n",
    "    ###### Energy Conservation\n",
    "    T_dot = 1 / (m * cv) * (-Qdot + min_dot * (hin - sum(u .* Yin)) - p * V / m * mout_dot - sum(mgen_dot .* u))\n",
    "    return [T_dot; Y_dot]\n",
    "end"
   ]
  },
  {
   "cell_type": "code",
   "execution_count": 321,
   "metadata": {},
   "outputs": [],
   "source": [
    "## RK4\n",
    "dt = 1e-9\n",
    "n_t = 10000\n",
    "T = 1200.0 # Temperature\n",
    "Y = [0.5; 0; 0.5; 0; 0] # Mass fractions\n",
    "TY = [T;Y]\n",
    "Tt = zeros(n_t)\n",
    "Pt = zeros(n_t)\n",
    "Yt = zeros(N,n_t)\n",
    "Y0 = [0.5; 0; 0.5; 0; 0] \n",
    "for i = 1:n_t\n",
    "    k1 = f(TY)\n",
    "    k2 = f(TY + 0.5 * dt * k1)\n",
    "    k3 = f(TY + 0.5 * dt * k2)\n",
    "    k4 = f(TY + dt * k3)\n",
    "    TY += 1/6 * dt * (k1 + 2 * k2 + 2 * k3 + k4)\n",
    "    Tt[i] = TY[1]\n",
    "    Y = TY[2:end]\n",
    "    Yt[:,i] = Y\n",
    "    X = ρ * Y ./ W\n",
    "    p = sum(X) * R * TY[1]\n",
    "    Pt[i] = p\n",
    "end\n"
   ]
  },
  {
   "cell_type": "code",
   "execution_count": 322,
   "metadata": {},
   "outputs": [],
   "source": [
    "X = [i * 1e-9 for i = 1:n_t]\n",
    "Yt_cant = py\"np.load\"(\"data/mass_fraction.npy\")\n",
    "plot(X, Yt', label=[\"O2\" \"H20\" \"CH4\" \"CO2\" \"N2\"])\n",
    "xlabel!(\"Time\")\n",
    "ylabel!(\"Mass Fractions\")\n",
    "savefig(\"Mass_fraction.pdf\")\n",
    "\n",
    "Pt_cant = py\"np.load\"(\"data/pressure.npy\")\n",
    "plot(X, [Pt Pt_cant], label = [\"Julia\" \"Cantera\"])\n",
    "xlabel!(\"Time\")\n",
    "ylabel!(\"Pressure\")\n",
    "savefig(\"Pressure.pdf\")\n",
    "\n",
    "plot(X, Tt)\n",
    "Tt_cant = py\"np.load\"(\"data/temperature.npy\")\n",
    "plot(X, [Tt Tt_cant], label = [\"Julia\" \"Cantera\"])\n",
    "xlabel!(\"Time\")\n",
    "ylabel!(\"Temperature\")\n",
    "savefig(\"Temperautre.pdf\")"
   ]
  }
 ],
 "metadata": {
  "kernelspec": {
   "display_name": "Julia 1.5.0",
   "language": "julia",
   "name": "julia-1.5"
  },
  "language_info": {
   "file_extension": ".jl",
   "mimetype": "application/julia",
   "name": "julia",
   "version": "1.5.0"
  }
 },
 "nbformat": 4,
 "nbformat_minor": 4
}
