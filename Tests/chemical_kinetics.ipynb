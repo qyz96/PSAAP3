{
 "cells": [
  {
   "cell_type": "code",
   "execution_count": 1,
   "metadata": {},
   "outputs": [],
   "source": [
    "#using DifferentialEquations\n",
    "#using ADCME\n",
    "using Plots"
   ]
  },
  {
   "cell_type": "code",
   "execution_count": 2,
   "metadata": {},
   "outputs": [
    {
     "data": {
      "text/plain": [
       "compute_falloff (generic function with 1 method)"
      ]
     },
     "execution_count": 2,
     "metadata": {},
     "output_type": "execute_result"
    }
   ],
   "source": [
    "function f_hi(a, T, R)\n",
    "        v1 = (a[:,2] + a[:,3] * T + a[:,4] * T^2 + a[:,5] * T^3 + a[:,6] * T^4) * R\n",
    "        v2 = (a[:,2] + a[:,3] * T / 2 + a[:,4] * T^2 /3 + a[:,5] * T^3 /4 + a[:,6] * T^4 /5 + a[:,7] / T) * R * T\n",
    "        v3 = (a[:,2] * log(T) + a[:,3] * T + a[:,4] * T^2 /2 + a[:,5] * T^3 /3 + a[:,6] * T^4 / 4 + a[:,8]) * R\n",
    "    return [v1 v2 v3]\n",
    "end\n",
    " \n",
    "function f_lo(a, T, R)\n",
    "    v1 = (a[:,9] + a[:,10] * T + a[:,11] * T^2 + a[:,12] * T^3 + a[:,13] * T^4) * R\n",
    "    v2 = (a[:,9] + a[:,10] * T / 2 + a[:,11] * T^2 /3 + a[:,12] * T^3 /4 + a[:,13] * T^4 /5 + a[:,14]/T) * R * T\n",
    "    v3 = (a[:,9] * log(T) + a[:,10] * T + a[:,11] * T^2 /2 + a[:,12] * T^3 /3 + a[:,13] * T^4 / 4 + a[:,15]) * R\n",
    "    return [v1 v2 v3]\n",
    "end \n",
    "\n",
    "function compute_falloff(T, pr, a)\n",
    "    fcent = (1 - a[1]) * exp(-T/a[2]) + a[1] * exp(-T/a[3]) + exp(-a[4]/T)\n",
    "    c = -0.4 - 0.67 * log(10, fcent)\n",
    "    n = 0.75 - 1.27 * log(10, fcent)\n",
    "    f1 = (log(10, pr) + c) / (n - 0.14 *(log(10, pr) + c))\n",
    "    return  10 ^ (log(10, fcent) / (1 + f1 ^ 2))\n",
    "end"
   ]
  },
  {
   "cell_type": "code",
   "execution_count": 3,
   "metadata": {
    "scrolled": true
   },
   "outputs": [],
   "source": [
    "using PyCall\n",
    "#### Read data\n",
    "py\"\"\"\n",
    "import numpy as np\n",
    "\"\"\""
   ]
  },
  {
   "cell_type": "code",
   "execution_count": 4,
   "metadata": {
    "scrolled": true
   },
   "outputs": [
    {
     "data": {
      "text/plain": [
       "6×0 Array{Float64,2}"
      ]
     },
     "execution_count": 4,
     "metadata": {},
     "output_type": "execute_result"
    }
   ],
   "source": [
    "V = 1  # Volume\n",
    "m = (py\"np.load\"(\"data/density.npy\"))[1] # Total mass\n",
    "tbd = py\"np.load\"(\"/home/darve/adncat/yizhou/PSAAP3/Tests/data/tbd.npy\") .+ 1\n",
    "tbd = Int.(tbd)\n",
    "falofr = py\"np.load\"(\"/home/darve/adncat/yizhou/PSAAP3/Tests/data/falofr.npy\") .+ 1\n",
    "falofr = Int.(falofr)\n",
    "elmr = py\"np.load\"(\"/home/darve/adncat/yizhou/PSAAP3/Tests/data/elmr.npy\") .+ 1\n",
    "elmr = Int.(elmr)\n",
    "NASA_coeffs = py\"np.load\"(\"data/NASA_coeffs.npy\")\n",
    "W = py\"np.load\"(\"data/molecular_weights.npy\") # Molar weight\n",
    "ν1 = py\"np.load\"(\"data/reactants_stoich_coeffs.npy\") # Forward molar stoichiometric coefficients\n",
    "ν2 = py\"np.load\"(\"data/product_stoich_coeffs.npy\") # Backward model stoichiometric coefficients\n",
    "reversible = py\"np.load\"(\"data/reversible.npy\")\n",
    "N = size(ν1)[1]  # Number of Species\n",
    "M = size(ν1)[2]  # Number of Reactions\n",
    "ν1_order = zeros(N,M)\n",
    "ν = ν2 - ν1  \n",
    "pa = 100000 # 1 bar\n",
    "R = 8314.4621 # Gas constant in kmol\n",
    "### Constants: Combustion Chamber Level\n",
    "min_dot = 0 # Rate at which mass enters the chamber\n",
    "mout_dot = 0 # Rate at which mass leaves the chamber\n",
    "Yin = ones(N) # Mass fraction of species entering the chamber\n",
    "Yout = ones(N) # Mass fraction of species leaving the chamber\n",
    "Qdot = 0 # Heating source\n",
    "m_dot = min_dot - mout_dot\n",
    "hin = 1 # Enthalpy of input\n",
    "### Unknowns\n",
    "Tt_cant = py\"np.load\"(\"data/temperature.npy\")\n",
    "T = Tt_cant[1] # Temperature\n",
    "Y = py\"np.load\"(\"/home/darve/adncat/yizhou/PSAAP3/Tests/data/ini_mass_fraction.npy\") # Mass fractions\n",
    "### Quantities that depend on the Unknowns\n",
    "order = py\"np.load\"(\"data/reaction_orders.npy\")\n",
    "Af = py\"np.load\"(\"/home/darve/adncat/yizhou/PSAAP3/Tests/data/pre_exponential_factor.npy\") # preexponential constant Afj\n",
    "β = py\"np.load\"(\"/home/darve/adncat/yizhou/PSAAP3/Tests/data/temperature_exponent.npy\") # Temperature exponent\n",
    "E = py\"np.load\"(\"/home/darve/adncat/yizhou/PSAAP3/Tests/data/activation_energy.npy\") # Activation energy for the reactions in kJ\n",
    "\n",
    "order_t = py\"np.load\"(\"data/reaction_orders_t.npy\")\n",
    "efficiency_t = py\"np.load\"(\"data/efficiency_t.npy\")\n",
    "Af_t = py\"np.load\"(\"/home/darve/adncat/yizhou/PSAAP3/Tests/data/pre_exponential_factor_t.npy\") # preexponential constant Afj\n",
    "β_t = py\"np.load\"(\"/home/darve/adncat/yizhou/PSAAP3/Tests/data/temperature_exponent_t.npy\") # Temperature exponent\n",
    "E_t = py\"np.load\"(\"/home/darve/adncat/yizhou/PSAAP3/Tests/data/activation_energy_t.npy\") # Activation energy for the reactions in kJ\n",
    "\n",
    "order_f = py\"np.load\"(\"data/reaction_orders_f.npy\")\n",
    "troefall = py\"np.load\"(\"data/troefall.npy\") .+ 1\n",
    "troefall_coeff = py\"np.load\"(\"data/troefall_coeff.npy\")\n",
    "efficiency_f = py\"np.load\"(\"data/efficiency_f.npy\")\n",
    "Af_hi = py\"np.load\"(\"/home/darve/adncat/yizhou/PSAAP3/Tests/data/pre_exponential_factor_hi.npy\") # preexponential constant Afj\n",
    "β_hi = py\"np.load\"(\"/home/darve/adncat/yizhou/PSAAP3/Tests/data/temperature_exponent_hi.npy\") # Temperature exponent\n",
    "E_hi = py\"np.load\"(\"/home/darve/adncat/yizhou/PSAAP3/Tests/data/activation_energy_hi.npy\") \n",
    "\n",
    "Af_lo = py\"np.load\"(\"/home/darve/adncat/yizhou/PSAAP3/Tests/data/pre_exponential_factor_lo.npy\") # preexponential constant Afj\n",
    "β_lo = py\"np.load\"(\"/home/darve/adncat/yizhou/PSAAP3/Tests/data/temperature_exponent_lo.npy\") # Temperature exponent\n",
    "E_lo = py\"np.load\"(\"/home/darve/adncat/yizhou/PSAAP3/Tests/data/activation_energy_lo.npy\") \n",
    "\n",
    "ν1_order[:,elmr] = order\n",
    "ν1_order[:,tbd] = order_t\n",
    "ν1_order[:,falofr] = order_f\n"
   ]
  },
  {
   "cell_type": "code",
   "execution_count": 5,
   "metadata": {},
   "outputs": [
    {
     "data": {
      "text/plain": [
       "29251.078856934666"
      ]
     },
     "execution_count": 5,
     "metadata": {},
     "output_type": "execute_result"
    }
   ],
   "source": [
    "ρ = m / V # density\n",
    "X = ρ * Y ./ W # Concentration\n",
    "Q = ones(M) # Individual progress rates\n",
    "# cpHS = compute_cpHS(NASA_coeffs, R, T)\n",
    "# cp = cpHS[:,1]\n",
    "# h = cpHS[:,2]\n",
    "# s = cpHS[:,3]\n",
    "islarge = NASA_coeffs[:,1] .< T * ones(N)\n",
    "fhi = f_hi(NASA_coeffs, T, R)\n",
    "flo = f_lo(NASA_coeffs, T, R)\n",
    "cp = islarge .* fhi[:,1] + (1 .- islarge) .* flo[:,1]\n",
    "h = islarge .* fhi[:,2] + (1 .- islarge) .* flo[:,2]\n",
    "s = islarge .* fhi[:,3] + (1 .- islarge) .* flo[:,3]\n",
    "cvk = cp .- R\n",
    "ΔS = ν' * s  # Entropy change for reaction j\n",
    "ΔH = ν' * h # Entahlpy change for reaction j\n",
    "####\n",
    "M_t = efficiency_t' * X\n",
    "Kf_t = Af_t .* (T .^ β_t) .* exp.(-E_t ./ (R * T)) .* M_t\n",
    "Kr_t = Kf_t ./ (((pa/(R * T)) .^ sum(ν[:,tbd], dims=1)' .* exp.(ΔS[tbd] ./ R - ΔH[tbd] ./ (R * T))))\n",
    "Qtbd = Kf_t .* prod(X .^ order_t, dims=1)' .- Kr_t .* prod(X .^ ν2[:,tbd], dims=1)' .* reversible[tbd]\n",
    "####\n",
    "M_f = efficiency_f' * X\n",
    "Kf_lo = Af_lo .* (T .^ β_lo) .* exp.(-E_lo ./ (R * T)) .* M_f\n",
    "Kf_hi = Af_hi .* (T .^ β_hi) .* exp.(-E_hi ./ (R * T)) \n",
    "Pr = Kf_lo ./ Kf_hi\n",
    "Fac = ones(size(falofr)[1])\n",
    "Fac[troefall] = [compute_falloff(T, Pr[s], troefall_coeff[:,i]) for (i,s) in enumerate(troefall)]\n",
    "Kf_f = Kf_lo ./ (1 .+ (Kf_lo ./ Kf_hi)) .* Fac\n",
    "Kr_f = Kf_f ./ (((pa/(R * T)) .^ sum(ν[:,falofr], dims=1)' .* exp.(ΔS[falofr] ./ R - ΔH[falofr] ./ (R * T))))\n",
    "Qfalofr = Kf_f .* prod(X .^ order_f, dims=1)' .- Kr_f .* prod(X .^ ν2[:,falofr], dims=1)' .* reversible[falofr]\n",
    "####\n",
    "Kf = Af .* (T .^ β) .* exp.(-E ./ (R * T))\n",
    "Kr = Kf ./ (((pa/(R * T)) .^ sum(ν[:,elmr], dims=1)' .* exp.(ΔS[elmr] ./ R - ΔH[elmr] ./ (R * T))))\n",
    "Qelmr = Kf .* prod(X .^ order, dims=1)' .- Kr .* prod(X .^ ν2[:,elmr], dims=1)' .* reversible[elmr]\n",
    "##### Computing ω_dot \n",
    "cv = sum(cvk ./ W .* Y) # Mass heat capacities\n",
    "u = h ./ W - R ./ W .* T   # Internal energy for species\n",
    "p = sum(X) * R * T # pressure\n",
    "Q = [Qtbd' Qfalofr' Qelmr']\n",
    "ν_new = [ν[:,tbd] ν[:,falofr] ν[:,elmr]]\n",
    "ω_dot = W .* sum(ν_new .* Q, dims=2)\n",
    "###### Species Conservation\n",
    "mgen_dot = V .* ω_dot\n",
    "Y_dot = (1 / m) .* (min_dot .* (Yin .- Y) - mout_dot .* Y .+ mgen_dot) \n",
    "###### Energy Conservation\n",
    "T_dot = 1 / (m * cv) * (-Qdot + min_dot * (hin - sum(u .* Yin)) - p * V / m * mout_dot - sum(mgen_dot .* u))"
   ]
  },
  {
   "cell_type": "code",
   "execution_count": 6,
   "metadata": {},
   "outputs": [
    {
     "data": {
      "text/plain": [
       "q (generic function with 1 method)"
      ]
     },
     "execution_count": 6,
     "metadata": {},
     "output_type": "execute_result"
    }
   ],
   "source": [
    "function q(t)\n",
    "    t0 = 1e-5\n",
    "    r = 1e-6\n",
    "    c = 1e12\n",
    "    return c * exp(-(t-t0)^2 / r^2)\n",
    "end"
   ]
  },
  {
   "cell_type": "code",
   "execution_count": 7,
   "metadata": {},
   "outputs": [
    {
     "data": {
      "text/plain": [
       "f (generic function with 1 method)"
      ]
     },
     "execution_count": 7,
     "metadata": {},
     "output_type": "execute_result"
    }
   ],
   "source": [
    "function f(TY, t)\n",
    "    T = TY[1]\n",
    "    Y = TY[2:end]\n",
    "    ρ = m / V # density\n",
    "    X = ρ * Y ./ W # Concentration\n",
    "    Q = ones(M) # Individual progress rates\n",
    "    islarge = NASA_coeffs[:,1] .< T * ones(N)\n",
    "    fhi = f_hi(NASA_coeffs, T, R)\n",
    "    flo = f_lo(NASA_coeffs, T, R)\n",
    "    cp = islarge .* fhi[:,1] + (1 .- islarge) .* flo[:,1]\n",
    "    h = islarge .* fhi[:,2] + (1 .- islarge) .* flo[:,2]\n",
    "    s = islarge .* fhi[:,3] + (1 .- islarge) .* flo[:,3]\n",
    "    cvk = cp .- R\n",
    "    ΔS = ν' * s  # Entropy change for reaction j\n",
    "    ΔH = ν' * h # Entahlpy change for reaction j\n",
    "    ####\n",
    "    M_t = efficiency_t' * X\n",
    "    Kf_t = Af_t .* (T .^ β_t) .* exp.(-E_t ./ (R * T)) .* M_t\n",
    "    Kr_t = Kf_t ./ (((pa/(R * T)) .^ sum(ν[:,tbd], dims=1)' .* exp.(ΔS[tbd] ./ R - ΔH[tbd] ./ (R * T))))\n",
    "    Qtbd = Kf_t .* prod(X .^ order_t, dims=1)' .- Kr_t .* prod(X .^ ν2[:,tbd], dims=1)' .* reversible[tbd]\n",
    "    ####\n",
    "    M_f = efficiency_f' * X\n",
    "    Kf_lo = Af_lo .* (T .^ β_lo) .* exp.(-E_lo ./ (R * T)) .* M_f\n",
    "    Kf_hi = Af_hi .* (T .^ β_hi) .* exp.(-E_hi ./ (R * T)) \n",
    "    Pr = Kf_lo ./ Kf_hi\n",
    "    Fac = ones(size(falofr)[1])\n",
    "    Fac[troefall] = [compute_falloff(T, Pr[s], troefall_coeff[:,i]) for (i,s) in enumerate(troefall)]\n",
    "    Kf_f = Kf_lo ./ (1 .+ (Kf_lo ./ Kf_hi)) .* Fac\n",
    "    Kr_f = Kf_f ./ (((pa/(R * T)) .^ sum(ν[:,falofr], dims=1)' .* exp.(ΔS[falofr] ./ R - ΔH[falofr] ./ (R * T))))\n",
    "    Qfalofr = Kf_f .* prod(X .^ order_f, dims=1)' .- Kr_f .* prod(X .^ ν2[:,falofr], dims=1)' .* reversible[falofr]\n",
    "    ####\n",
    "    Kf = Af .* (T .^ β) .* exp.(-E ./ (R * T))\n",
    "    Kr = Kf ./ (((pa/(R * T)) .^ sum(ν[:,elmr], dims=1)' .* exp.(ΔS[elmr] ./ R - ΔH[elmr] ./ (R * T))))\n",
    "    Qelmr = Kf .* prod(X .^ order, dims=1)' .- Kr .* prod(X .^ ν2[:,elmr], dims=1)' .* reversible[elmr]\n",
    "    ##### Computing ω_dot \n",
    "    cv = sum(cvk ./ W .* Y) # Mass heat capacities\n",
    "    u = h ./ W - R ./ W .* T   # Internal energy for species\n",
    "    p = sum(X) * R * T # pressure\n",
    "    Q = [Qtbd' Qfalofr' Qelmr']\n",
    "    ν_new = [ν[:,tbd] ν[:,falofr] ν[:,elmr]]\n",
    "    ω_dot = W .* sum(ν_new .* Q, dims=2)\n",
    "    ###### Species Conservation\n",
    "    mgen_dot = V .* ω_dot\n",
    "    Y_dot = (1 / m) .* (min_dot .* (Yin .- Y) - mout_dot .* Y .+ mgen_dot) \n",
    "    ###### Energy Conservation\n",
    "    T_dot = 1 / (m * cv) * (q(t) + min_dot * (hin - sum(u .* Yin)) - p * V / m * mout_dot - sum(mgen_dot .* u))\n",
    "    return [T_dot; Y_dot]\n",
    "end"
   ]
  },
  {
   "cell_type": "code",
   "execution_count": 8,
   "metadata": {},
   "outputs": [
    {
     "ename": "LoadError",
     "evalue": "UndefVarError: timestep not defined",
     "output_type": "error",
     "traceback": [
      "UndefVarError: timestep not defined",
      "",
      "Stacktrace:",
      " [1] top-level scope",
      " [2] include_string(::Function, ::Module, ::String, ::String) at ./loading.jl:1091",
      " [3] execute_code(::String, ::String) at /home/darve/adncat/.julia/packages/IJulia/rWZ9e/src/execute_request.jl:27",
      " [4] execute_request(::ZMQ.Socket, ::IJulia.Msg) at /home/darve/adncat/.julia/packages/IJulia/rWZ9e/src/execute_request.jl:86",
      " [5] #invokelatest#1 at ./essentials.jl:710 [inlined]",
      " [6] invokelatest at ./essentials.jl:709 [inlined]",
      " [7] eventloop(::ZMQ.Socket) at /home/darve/adncat/.julia/packages/IJulia/rWZ9e/src/eventloop.jl:8",
      " [8] (::IJulia.var\"#15#18\")() at ./task.jl:356"
     ]
    }
   ],
   "source": [
    "timestep"
   ]
  },
  {
   "cell_type": "code",
   "execution_count": 9,
   "metadata": {
    "scrolled": true
   },
   "outputs": [
    {
     "name": "stdout",
     "output_type": "stream",
     "text": [
      "500.0000093603456\n",
      "1\n",
      "500.00001872069276\n",
      "2\n",
      "500.00003276121726\n",
      "3\n",
      "500.00005148192344\n",
      "4\n",
      "500.0000748828172\n",
      "5\n",
      "500.000102963906\n",
      "6\n",
      "500.00013572519856\n",
      "7\n",
      "500.0001731667052\n",
      "8\n",
      "500.0002152884378\n",
      "9\n",
      "500.00026209040954\n",
      "10\n",
      "500.0003135726352\n",
      "11\n",
      "500.00036973513096\n",
      "12\n",
      "500.0004305779145\n",
      "13\n",
      "500.000496101005\n",
      "14\n",
      "500.0005663044231\n",
      "15\n",
      "500.00064118819085\n",
      "16\n",
      "500.00072075233186\n",
      "17\n",
      "500.0008049968712\n",
      "18\n",
      "500.00089392183537\n",
      "19\n",
      "500.0009875272524\n",
      "20\n",
      "500.0010858131517\n",
      "21\n",
      "500.00118877956425\n",
      "22\n",
      "500.00129642652246\n",
      "23\n",
      "500.0014087540602\n",
      "24\n",
      "500.0015257622129\n",
      "25\n",
      "500.00164745101733\n",
      "26\n",
      "500.00177382051186\n",
      "27\n",
      "500.00190487073627\n",
      "28\n",
      "500.0020406017318\n",
      "29\n",
      "500.00218101354113\n",
      "30\n",
      "500.00232610620856\n",
      "31\n",
      "500.00247587977975\n",
      "32\n",
      "500.0026303343019\n",
      "33\n",
      "500.0027894698236\n",
      "34\n",
      "500.0029532863949\n",
      "35\n",
      "500.0031217840675\n",
      "36\n",
      "500.00329496289436\n",
      "37\n",
      "500.00347282293006\n",
      "38\n",
      "500.00365536423055\n",
      "39\n",
      "500.00384258685335\n",
      "40\n",
      "500.0040344908574\n",
      "41\n",
      "500.00423107630314\n",
      "42\n",
      "500.00443234325246\n",
      "43\n",
      "500.0046382917688\n",
      "44\n",
      "500.00484892191696\n",
      "45\n",
      "500.0050642337632\n",
      "46\n",
      "500.00528422737545\n",
      "47\n",
      "500.0055089028229\n",
      "48\n",
      "500.0057382601763\n",
      "49\n",
      "500.00597229950796\n",
      "50\n",
      "500.0062110208915\n",
      "51\n",
      "500.00645442440214\n",
      "52\n",
      "500.0067025101165\n",
      "53\n",
      "500.00695527811274\n",
      "54\n",
      "500.00721272847045\n",
      "55\n",
      "500.0074748612707\n",
      "56\n",
      "500.007741676596\n",
      "57\n",
      "500.0080131745305\n",
      "58\n",
      "500.0082893551596\n",
      "59\n",
      "500.00857021857036\n",
      "60\n",
      "500.00885576485115\n",
      "61\n",
      "500.00914599409197\n",
      "62\n",
      "500.0094409063842\n",
      "63\n",
      "500.0097405018208\n",
      "64\n",
      "500.010044780496\n",
      "65\n",
      "500.01035374250574\n",
      "66\n",
      "500.0106673879473\n",
      "67\n",
      "500.0109857169195\n",
      "68\n",
      "500.01130872952257\n",
      "69\n",
      "500.0116364258583\n",
      "70\n",
      "500.01196880602987\n",
      "71\n",
      "500.012305870142\n",
      "72\n",
      "500.01264761830083\n",
      "73\n",
      "500.01299405061405\n",
      "74\n",
      "500.0133451671908\n",
      "75\n",
      "500.0137009681416\n",
      "76\n",
      "500.0140614535787\n",
      "77\n",
      "500.0144266236155\n",
      "78\n",
      "500.0147964783672\n",
      "79\n",
      "500.0151710179502\n",
      "80\n",
      "500.0155502424825\n",
      "81\n",
      "500.0159341520836\n",
      "82\n",
      "500.0163227468745\n",
      "83\n",
      "500.0167160269775\n",
      "84\n",
      "500.01711399251667\n",
      "85\n",
      "500.0175166436173\n",
      "86\n",
      "500.01792398040624\n",
      "87\n",
      "500.0183360030119\n",
      "88\n",
      "500.01875271156405\n",
      "89\n",
      "500.01917410619404\n",
      "90\n",
      "500.0196001870346\n",
      "91\n",
      "500.02003095422003\n",
      "92\n",
      "500.0204664078861\n",
      "93\n",
      "500.02090654816993\n",
      "94\n",
      "500.0213513752103\n",
      "95\n",
      "500.02180088914736\n",
      "96\n",
      "500.02225509012277\n",
      "97\n",
      "500.0227139782797\n",
      "98\n",
      "500.0231775537627\n",
      "99\n",
      "500.02364581671793\n",
      "100\n",
      "500.0241187672929\n",
      "101\n",
      "500.02459640563677\n",
      "102\n",
      "500.0250787319\n",
      "103\n",
      "500.0255657462347\n",
      "104\n",
      "500.02605744879423\n",
      "105\n",
      "500.0265538397337\n",
      "106\n",
      "500.02705491920955\n",
      "107\n",
      "500.02756068737966\n",
      "108\n",
      "500.0280711444035\n",
      "109\n",
      "500.028586290442\n",
      "110\n",
      "500.0291061256575\n",
      "111\n",
      "500.02963065021396\n",
      "112\n",
      "500.03015986427664\n",
      "113\n",
      "500.03069376801244\n",
      "114\n",
      "500.0312323615897\n",
      "115\n",
      "500.03177564517813\n",
      "116\n",
      "500.0323236189491\n",
      "117\n",
      "500.03287628307527\n",
      "118\n",
      "500.033433637731\n",
      "119\n",
      "500.033995683092\n",
      "120\n",
      "500.03456241933543\n",
      "121\n",
      "500.03513384664006\n",
      "122\n",
      "500.0357099651861\n",
      "123\n",
      "500.0362907751551\n",
      "124\n",
      "500.03687627673037\n",
      "125\n",
      "500.03746647009643\n",
      "126\n",
      "500.0380613554394\n",
      "127\n",
      "500.038660932947\n",
      "128\n",
      "500.0392652028082\n",
      "129\n",
      "500.0398741652137\n",
      "130\n",
      "500.0404878203554\n",
      "131\n",
      "500.04110616842695\n",
      "132\n",
      "500.0417292096234\n",
      "133\n",
      "500.0423569441412\n",
      "134\n",
      "500.0429893721784\n",
      "135\n",
      "500.0436264939345\n",
      "136\n",
      "500.04426830961046\n",
      "137\n",
      "500.04491481940875\n",
      "138\n",
      "500.0455660235333\n",
      "139\n",
      "500.04622192218955\n",
      "140\n",
      "500.04688251558446\n",
      "141\n",
      "500.0475478039264\n",
      "142\n",
      "500.0482177874253\n",
      "143\n",
      "500.04889246629256\n",
      "144\n",
      "500.049571840741\n",
      "145\n",
      "500.050255910985\n",
      "146\n",
      "500.05094467724047\n",
      "147\n",
      "500.0516381397247\n",
      "148\n",
      "500.0523362986564\n",
      "149\n",
      "500.0530391542561\n",
      "150\n",
      "500.0537467067455\n",
      "151\n",
      "500.05445895634796\n",
      "152\n",
      "500.05517590328816\n",
      "153\n",
      "500.0558975477924\n",
      "154\n",
      "500.05662389008853\n",
      "155\n",
      "500.0573549304057\n",
      "156\n",
      "500.0580906689748\n",
      "157\n",
      "500.0588311060279\n",
      "158\n",
      "500.0595762417988\n",
      "159\n",
      "500.06032607652276\n",
      "160\n",
      "500.0610806104364\n",
      "161\n",
      "500.061839843778\n",
      "162\n",
      "500.06260377678717\n",
      "163\n",
      "500.06337240970515\n",
      "164\n",
      "500.06414574277466\n",
      "165\n",
      "500.0649237762398\n",
      "166\n",
      "500.0657065103463\n",
      "167\n",
      "500.0664939453412\n",
      "168\n",
      "500.06728608147324\n",
      "169\n",
      "500.06808291899256\n",
      "170\n",
      "500.06888445815076\n",
      "171\n",
      "500.069690699201\n",
      "172\n",
      "500.0705016423978\n",
      "173\n",
      "500.07131728799743\n",
      "174\n",
      "500.0721376362574\n",
      "175\n",
      "500.07296268743687\n",
      "176\n",
      "500.0737924417964\n",
      "177\n",
      "500.0746268995981\n",
      "178\n",
      "500.0754660611056\n",
      "179\n",
      "500.076309926584\n",
      "180\n",
      "500.0771584962998\n",
      "181\n",
      "500.0780117705211\n",
      "182\n",
      "500.0788697495175\n",
      "183\n",
      "500.0797324335601\n",
      "184\n",
      "500.08059982292144\n",
      "185\n",
      "500.0814719178756\n",
      "186\n",
      "500.08234871869814\n",
      "187\n",
      "500.0832302256661\n",
      "188\n",
      "500.0841164390581\n",
      "189\n",
      "500.0850073591542\n",
      "190\n",
      "500.0859029862359\n",
      "191\n",
      "500.0868033205863\n",
      "192\n",
      "500.08770836248993\n",
      "193\n",
      "500.0886181122329\n",
      "194\n",
      "500.0895325701027\n",
      "195\n",
      "500.0904517363884\n",
      "196\n",
      "500.09137561138056\n",
      "197\n",
      "500.09230419537124\n",
      "198\n",
      "500.09323748865404\n",
      "199\n",
      "500.09417549152397\n",
      "200\n",
      "500.09511820427764\n",
      "201\n",
      "500.0960656272131\n",
      "202\n",
      "500.09701776062985\n",
      "203\n",
      "500.097974604829\n",
      "204\n",
      "500.09893616011317\n",
      "205\n",
      "500.09990242678634\n",
      "206\n",
      "500.1008734051542\n",
      "207\n",
      "500.1018490955237\n",
      "208\n",
      "500.10282949820345\n",
      "209\n",
      "500.10381461350363\n",
      "210\n",
      "500.1048044417357\n",
      "211\n",
      "500.1057989832129\n",
      "212\n",
      "500.1067982382497\n",
      "213\n",
      "500.1078022071623\n",
      "214\n",
      "500.1088108902683\n",
      "215\n",
      "500.10982428788674\n",
      "216\n",
      "500.1108424003383\n",
      "217\n",
      "500.11186522794515\n",
      "218\n",
      "500.11289277103083\n",
      "219\n",
      "500.11392502992055\n",
      "220\n",
      "500.11496200494094\n",
      "221\n",
      "500.1160036964202\n",
      "222\n",
      "500.11705010468796\n",
      "223\n",
      "500.1181012300754\n",
      "224\n",
      "500.1191570729152\n",
      "225\n",
      "500.12021763354153\n",
      "226\n",
      "500.12128291229016\n",
      "227\n",
      "500.12235290949826\n",
      "228\n",
      "500.1234276255046\n",
      "229\n",
      "500.1245070606494\n",
      "230\n",
      "500.1255912152745\n",
      "231\n",
      "500.12668008972315\n",
      "232\n",
      "500.1277736843402\n",
      "233\n",
      "500.12887199947204\n",
      "234\n",
      "500.1299750354667\n",
      "235\n",
      "500.13108279267374\n",
      "236\n",
      "500.1321952714444\n",
      "237\n",
      "500.1333124721317\n",
      "238\n",
      "500.13443439509047\n",
      "239\n",
      "500.1355610406776\n",
      "240\n",
      "500.1366924092523\n",
      "241\n",
      "500.13782850117644\n",
      "242\n",
      "500.1389693168152\n",
      "243\n",
      "500.1401148565379\n",
      "244\n",
      "500.14126512071937\n",
      "245\n",
      "500.142420109742\n",
      "246\n",
      "500.1435798239984\n",
      "247\n",
      "500.14474426389603\n",
      "248\n",
      "500.1459134298635\n",
      "249\n",
      "500.14708732236016\n",
      "250\n",
      "500.14826594189\n",
      "251\n",
      "500.1494492890223\n",
      "252\n",
      "500.1506373644222\n",
      "253\n",
      "500.15183016889495\n",
      "254\n",
      "500.15302770345096\n",
      "255\n",
      "500.15422996940083\n",
      "256\n",
      "500.1554369684933\n",
      "257\n",
      "500.15664870311616\n",
      "258\n",
      "500.1578651765869\n",
      "259\n",
      "500.159086393573\n",
      "260\n",
      "500.16031236069784\n",
      "261\n",
      "500.1615430874123\n",
      "262\n",
      "500.1627785872445\n",
      "263\n",
      "500.16401887958756\n",
      "264\n",
      "500.16526399225074\n",
      "265\n",
      "500.166513965088\n",
      "266\n",
      "500.16776885514565\n",
      "267\n",
      "500.16902874394475\n",
      "268\n",
      "500.1702937477508\n",
      "269\n",
      "500.17156403201506\n",
      "270\n",
      "500.1728398316187\n",
      "271\n",
      "500.1741214791636\n",
      "272\n",
      "500.17540944438116\n",
      "273\n",
      "500.1767043888521\n",
      "274\n",
      "500.17800724173344\n",
      "275\n",
      "500.17931930420417\n",
      "276\n",
      "500.1806423930261\n",
      "277\n",
      "500.181979037177\n",
      "278\n",
      "500.1833327462127\n",
      "279\n",
      "500.18470837519044\n",
      "280\n",
      "500.18611261905085\n",
      "281\n",
      "500.1875546798478\n",
      "282\n",
      "500.18904716377193\n",
      "283\n",
      "500.19060728235047\n",
      "284\n",
      "500.19225845448676\n",
      "285\n",
      "500.1940324343147\n",
      "286\n",
      "500.19597212558045\n",
      "287\n",
      "500.198135288088\n",
      "288\n",
      "500.20059939757107\n",
      "289\n",
      "500.2034679893888\n",
      "290\n",
      "500.2068789011558\n",
      "291\n",
      "500.21101493253684\n",
      "292\n",
      "500.2161175648877\n",
      "293\n",
      "500.22250453223677\n",
      "294\n",
      "500.2305922112939\n",
      "295\n",
      "500.2409240045305\n",
      "296\n",
      "500.25420612919623\n",
      "297\n",
      "500.27135249789313\n",
      "298\n",
      "500.29354068315274\n",
      "299\n",
      "500.32228129765207\n",
      "300\n",
      "500.35950348894204\n",
      "301\n",
      "500.4076596351254\n",
      "302\n",
      "500.46985272368045\n",
      "303\n",
      "500.54999028192276\n",
      "304\n",
      "500.65296908001216\n",
      "305\n",
      "500.7848951134323\n",
      "306\n",
      "500.9533435495279\n",
      "307\n",
      "501.1676633392496\n",
      "308\n",
      "501.4393309861167\n",
      "309\n",
      "501.7823574523379\n",
      "310\n",
      "502.21375127709246\n",
      "311\n",
      "502.75403958252934\n",
      "312\n",
      "503.4278466382603\n",
      "313\n",
      "504.26452692988744\n",
      "314\n",
      "505.29884612006816\n",
      "315\n",
      "506.57169880665964\n",
      "316\n",
      "508.13084651083886\n",
      "317\n",
      "510.03165286755217\n",
      "318\n",
      "512.3377856330125\n",
      "319\n",
      "515.1218470962433\n",
      "320\n",
      "518.4658861960639\n",
      "321\n",
      "522.4617377527492\n",
      "322\n",
      "527.2111276648674\n",
      "323\n",
      "532.8254789549773\n",
      "324\n",
      "539.4253537353982\n",
      "325\n",
      "547.1394722798918\n",
      "326\n",
      "556.1032641962508\n",
      "327\n",
      "566.456929583063\n",
      "328\n",
      "578.3430204677039\n",
      "329\n",
      "591.9035935800118\n",
      "330\n",
      "607.2770311234498\n",
      "331\n",
      "624.5946704415102\n",
      "332\n",
      "643.9774175907947\n",
      "333\n",
      "665.5325336680717\n",
      "334\n",
      "689.350766866455\n",
      "335\n",
      "715.5039517475644\n",
      "336\n",
      "744.0431104230255\n",
      "337\n",
      "774.9969764724285\n",
      "338\n",
      "808.3707378894104\n",
      "339\n",
      "844.1446839862953\n",
      "340\n",
      "882.2723739110309\n",
      "341\n",
      "922.6779603730196\n",
      "342\n",
      "965.2524503785352\n",
      "343\n",
      "1009.8543943175655\n",
      "344\n",
      "1056.407469834956\n",
      "345\n",
      "1104.809855990272\n",
      "346\n",
      "1154.9190959807427\n",
      "347\n",
      "1206.608105961484\n",
      "348\n",
      "1259.7877966086965\n",
      "349\n",
      "1314.4389629906705\n",
      "350\n",
      "1370.6565755767826\n",
      "351\n",
      "1428.7115566879775\n",
      "352\n",
      "1489.139391720634\n",
      "353\n",
      "1552.8737169445437\n",
      "354\n",
      "1621.4605598874498\n",
      "355\n",
      "1697.4232476749035\n",
      "356\n",
      "1784.9115219721414\n",
      "357\n",
      "1890.8532921409999\n",
      "358\n",
      "2026.6801457135066\n",
      "359\n",
      "2208.3558907622737\n",
      "360\n",
      "2440.1517616774895\n",
      "361\n",
      "2666.4866682792967\n",
      "362\n",
      "2809.3530555287293\n",
      "363\n",
      "2882.4335974242863\n",
      "364\n",
      "2925.294717455106\n",
      "365\n",
      "2956.384234939604\n",
      "366\n",
      "2982.1169269289776\n",
      "367\n",
      "3004.5892010220855\n",
      "368\n",
      "3024.4927974158204\n",
      "369\n",
      "3042.095344177156\n",
      "370\n",
      "3057.553151745612\n",
      "371\n",
      "3071.0024366419\n",
      "372\n",
      "3082.5823540261326\n",
      "373\n",
      "3092.438394454016\n",
      "374\n",
      "3100.7205067012706\n",
      "375\n",
      "3107.580050640052\n",
      "376\n",
      "3113.1667531731223\n",
      "377\n",
      "3117.6260158439795\n",
      "378\n",
      "3121.0966819098567\n",
      "379\n",
      "3123.7092895526607\n",
      "380\n",
      "3125.5848021375473\n",
      "381\n",
      "3126.833785713512\n",
      "382\n",
      "3127.555990273164\n",
      "383\n",
      "3127.840282398409\n",
      "384\n",
      "3127.7648719760878\n",
      "385\n",
      "3127.397774122989\n",
      "386\n",
      "3126.7974487806996\n",
      "387\n",
      "3126.0135640648427\n",
      "388\n",
      "3125.087834800094\n",
      "389\n",
      "3124.054894170859\n",
      "390\n",
      "3122.94316353383\n",
      "391\n",
      "3121.7756927002524\n",
      "392\n",
      "3120.5709500089374\n",
      "393\n",
      "3119.343547971009\n",
      "394\n",
      "3118.1048959608556\n",
      "395\n",
      "3116.8637762289313\n",
      "396\n",
      "3115.6268433730343\n",
      "397\n",
      "3114.3990503424398\n",
      "398\n",
      "3113.184006130334\n",
      "399\n",
      "3111.9842716352045\n",
      "400\n",
      "3110.801600861626\n",
      "401\n",
      "3109.6371348128573\n",
      "402\n",
      "3108.4915552263715\n",
      "403\n",
      "3107.365204833159\n",
      "404\n",
      "3106.258180181448\n",
      "405\n",
      "3105.1704023369903\n",
      "406\n",
      "3104.1016700188743\n",
      "407\n",
      "3103.0516989984562\n",
      "408\n",
      "3102.020150910902\n",
      "409\n",
      "3101.006654022681\n",
      "410\n",
      "3100.0108179728636\n",
      "411\n",
      "3099.0322440624286\n",
      "412\n",
      "3098.0705322999743\n",
      "413\n",
      "3097.12528611707\n",
      "414\n",
      "3096.1961154329892\n",
      "415\n",
      "3095.2826385673193\n",
      "416\n",
      "3094.3844833607272\n",
      "417\n",
      "3093.5012877605104\n",
      "418\n",
      "3092.632700051128\n",
      "419\n",
      "3091.778378854424\n",
      "420\n",
      "3090.9379929845777\n",
      "421\n",
      "3090.1112212149014\n",
      "422\n",
      "3089.2977519942365\n",
      "423\n",
      "3088.49728313747\n",
      "424\n",
      "3087.7095215057807\n",
      "425\n",
      "3086.93418268632\n",
      "426\n",
      "3086.1709906771694\n",
      "427\n",
      "3085.419677580943\n",
      "428\n",
      "3084.679983308833\n",
      "429\n",
      "3083.951655295927\n",
      "430\n",
      "3083.2344482280346\n",
      "431\n",
      "3082.5281237799204\n",
      "432\n",
      "3081.8324503646454\n",
      "433\n",
      "3081.147202893609\n",
      "434\n",
      "3080.472162546845\n",
      "435\n",
      "3079.807116553104\n",
      "436\n",
      "3079.15185797926\n",
      "437\n",
      "3078.506185528591\n",
      "438\n",
      "3077.8699033475036\n",
      "439\n",
      "3077.2428208402907\n",
      "440\n",
      "3076.624752491528\n",
      "441\n",
      "3076.015517695746\n",
      "442\n",
      "3075.4149405940243\n",
      "443\n",
      "3074.822849917177\n",
      "444\n",
      "3074.2390788352195\n",
      "445\n",
      "3073.6634648128183\n",
      "446\n",
      "3073.0958494704455\n",
      "447\n",
      "3072.536078450973\n",
      "448\n",
      "3071.9840012914565\n",
      "449\n",
      "3071.4394712998683\n",
      "450\n",
      "3070.9023454365615\n",
      "451\n",
      "3070.3724842002434\n",
      "452\n",
      "3069.8497515182626\n",
      "453\n",
      "3069.334014641015\n",
      "454\n",
      "3068.8251440402896\n",
      "455\n",
      "3068.323013311376\n",
      "456\n",
      "3067.8274990787754\n",
      "457\n",
      "3067.3384809053564\n",
      "458\n",
      "3066.855841204808\n",
      "459\n",
      "3066.3794651572484\n",
      "460\n",
      "3065.9092406278587\n",
      "461\n",
      "3065.445058088409\n",
      "462\n",
      "3064.986810541561\n",
      "463\n",
      "3064.5343934478283\n",
      "464\n",
      "3064.0877046550845\n",
      "465\n",
      "3063.6466443305208\n",
      "466\n",
      "3063.2111148949416\n",
      "467\n",
      "3062.781020959315\n",
      "468\n",
      "3062.3562692634796\n",
      "469\n",
      "3061.9367686169257\n",
      "470\n",
      "3061.5224298415665\n",
      "471\n",
      "3061.1131657164196\n",
      "472\n",
      "3060.7088909241274\n",
      "473\n",
      "3060.3095219992415\n",
      "474\n",
      "3059.914977278202\n",
      "475\n",
      "3059.525176850952\n",
      "476\n",
      "3059.1400425141146\n",
      "477\n",
      "3058.759497725685\n",
      "478\n",
      "3058.383467561169\n",
      "479\n",
      "3058.011878671122\n",
      "480\n",
      "3057.6446592400303\n",
      "481\n",
      "3057.281738946489\n",
      "482\n",
      "3056.9230489246247\n",
      "483\n",
      "3056.5685217267205\n",
      "484\n",
      "3056.218091286997\n",
      "485\n",
      "3055.8716928865088\n",
      "486\n",
      "3055.5292631191132\n",
      "487\n",
      "3055.1907398584804\n",
      "488\n",
      "3054.8560622260943\n",
      "489\n",
      "3054.525170560225\n",
      "490\n",
      "3054.198006385823\n",
      "491\n",
      "3053.8745123853164\n",
      "492\n",
      "3053.5546323702674\n",
      "493\n",
      "3053.2383112538687\n",
      "494\n",
      "3052.9254950242425\n",
      "495\n",
      "3052.61613071852\n",
      "496\n",
      "3052.3101663976704\n",
      "497\n",
      "3052.00755112206\n",
      "498\n",
      "3051.7082349277066\n",
      "499\n",
      "3051.4121688032187\n",
      "500\n"
     ]
    }
   ],
   "source": [
    "## RK4\n",
    "#dt = 4e-9\n",
    "timestep = py\"np.load\"(\"/home/darve/adncat/yizhou/PSAAP3/Tests/data/timestep.npy\")\n",
    "n_t = size(timestep)[1]\n",
    "#n_t = 2000\n",
    "T = Tt_cant[1] # Temperature\n",
    "Y = py\"np.load\"(\"/home/darve/adncat/yizhou/PSAAP3/Tests/data/ini_mass_fraction.npy\") # Mass fractions\n",
    "TY = [T;Y]\n",
    "TYt = zeros(N+1, n_t)\n",
    "Tt = zeros(n_t)\n",
    "Pt = zeros(n_t)\n",
    "Yt = zeros(N,n_t)\n",
    "Y0 = copy(Y)\n",
    "Yt[:,1] .= Y\n",
    "Tt[1] = T\n",
    "X = ρ * Y ./ W\n",
    "Pt[1] = sum(X) * R * T\n",
    "for i = 1:n_t - 1\n",
    "    dt = timestep[i+1] - timestep[i]\n",
    "    k1 = f(TY, timestep[i])\n",
    "    k2 = f(TY + 0.5 * dt * k1, timestep[i] + 0.5 * dt)\n",
    "    k3 = f(TY + 0.5 * dt * k2, timestep[i] + 0.5 * dt)\n",
    "    k4 = f(TY + dt * k3, timestep[i] + dt)\n",
    "    TY += 1/6 * dt * (k1 + 2 * k2 + 2 * k3 + k4)\n",
    "    #TY += dt * f(TY,timestep[i])\n",
    "    Tt[i+1] = TY[1]\n",
    "    println(TY[1])\n",
    "    println(i)\n",
    "    Y = TY[2:end]\n",
    "    Yt[:,i+1] = Y\n",
    "    X = ρ * Y ./ W\n",
    "    TYt[:,i+1] = TY\n",
    "    Pt[i+1] = sum(X) * R * TY[1]\n",
    "end\n",
    "\n"
   ]
  },
  {
   "cell_type": "code",
   "execution_count": 51,
   "metadata": {},
   "outputs": [],
   "source": [
    "#X = [i * 4e-9 for i = 1:2000]\n",
    "Yt_cant = py\"np.load\"(\"data/mass_fraction.npy\")\n",
    "plot(timestep, Yt')\n",
    "#plot!(X,  Yt_cant')\n",
    "xlabel!(\"Time\")\n",
    "ylabel!(\"Mass Fractions\")\n",
    "savefig(\"Mass_fraction.pdf\")"
   ]
  },
  {
   "cell_type": "code",
   "execution_count": 183,
   "metadata": {
    "scrolled": true
   },
   "outputs": [],
   "source": [
    "plot(timestep, Yt')\n",
    "xlabel!(\"Time\")\n",
    "ylabel!(\"Mass Fractions\")\n",
    "savefig(\"Mass_fraction.pdf\")"
   ]
  },
  {
   "cell_type": "code",
   "execution_count": 12,
   "metadata": {},
   "outputs": [
    {
     "data": {
      "image/svg+xml": [
       "<?xml version=\"1.0\" encoding=\"utf-8\"?>\n",
       "<svg xmlns=\"http://www.w3.org/2000/svg\" xmlns:xlink=\"http://www.w3.org/1999/xlink\" width=\"600\" height=\"400\" viewBox=\"0 0 2400 1600\">\n",
       "<defs>\n",
       "  <clipPath id=\"clip410\">\n",
       "    <rect x=\"0\" y=\"0\" width=\"2400\" height=\"1600\"/>\n",
       "  </clipPath>\n",
       "</defs>\n",
       "<path clip-path=\"url(#clip410)\" d=\"\n",
       "M0 1600 L2400 1600 L2400 0 L0 0  Z\n",
       "  \" fill=\"#ffffff\" fill-rule=\"evenodd\" fill-opacity=\"1\"/>\n",
       "<defs>\n",
       "  <clipPath id=\"clip411\">\n",
       "    <rect x=\"480\" y=\"0\" width=\"1681\" height=\"1600\"/>\n",
       "  </clipPath>\n",
       "</defs>\n",
       "<path clip-path=\"url(#clip410)\" d=\"\n",
       "M254.056 1410.9 L2352.76 1410.9 L2352.76 47.2441 L254.056 47.2441  Z\n",
       "  \" fill=\"#ffffff\" fill-rule=\"evenodd\" fill-opacity=\"1\"/>\n",
       "<defs>\n",
       "  <clipPath id=\"clip412\">\n",
       "    <rect x=\"254\" y=\"47\" width=\"2100\" height=\"1365\"/>\n",
       "  </clipPath>\n",
       "</defs>\n",
       "<polyline clip-path=\"url(#clip412)\" style=\"stroke:#000000; stroke-width:2; stroke-opacity:0.1; fill:none\" points=\"\n",
       "  313.453,1410.9 313.453,47.2441 \n",
       "  \"/>\n",
       "<polyline clip-path=\"url(#clip412)\" style=\"stroke:#000000; stroke-width:2; stroke-opacity:0.1; fill:none\" points=\"\n",
       "  807.442,1410.9 807.442,47.2441 \n",
       "  \"/>\n",
       "<polyline clip-path=\"url(#clip412)\" style=\"stroke:#000000; stroke-width:2; stroke-opacity:0.1; fill:none\" points=\"\n",
       "  1301.43,1410.9 1301.43,47.2441 \n",
       "  \"/>\n",
       "<polyline clip-path=\"url(#clip412)\" style=\"stroke:#000000; stroke-width:2; stroke-opacity:0.1; fill:none\" points=\"\n",
       "  1795.42,1410.9 1795.42,47.2441 \n",
       "  \"/>\n",
       "<polyline clip-path=\"url(#clip412)\" style=\"stroke:#000000; stroke-width:2; stroke-opacity:0.1; fill:none\" points=\"\n",
       "  2289.41,1410.9 2289.41,47.2441 \n",
       "  \"/>\n",
       "<polyline clip-path=\"url(#clip410)\" style=\"stroke:#000000; stroke-width:4; stroke-opacity:1; fill:none\" points=\"\n",
       "  254.056,1410.9 2352.76,1410.9 \n",
       "  \"/>\n",
       "<polyline clip-path=\"url(#clip410)\" style=\"stroke:#000000; stroke-width:4; stroke-opacity:1; fill:none\" points=\"\n",
       "  313.453,1410.9 313.453,1394.53 \n",
       "  \"/>\n",
       "<polyline clip-path=\"url(#clip410)\" style=\"stroke:#000000; stroke-width:4; stroke-opacity:1; fill:none\" points=\"\n",
       "  807.442,1410.9 807.442,1394.53 \n",
       "  \"/>\n",
       "<polyline clip-path=\"url(#clip410)\" style=\"stroke:#000000; stroke-width:4; stroke-opacity:1; fill:none\" points=\"\n",
       "  1301.43,1410.9 1301.43,1394.53 \n",
       "  \"/>\n",
       "<polyline clip-path=\"url(#clip410)\" style=\"stroke:#000000; stroke-width:4; stroke-opacity:1; fill:none\" points=\"\n",
       "  1795.42,1410.9 1795.42,1394.53 \n",
       "  \"/>\n",
       "<polyline clip-path=\"url(#clip410)\" style=\"stroke:#000000; stroke-width:4; stroke-opacity:1; fill:none\" points=\"\n",
       "  2289.41,1410.9 2289.41,1394.53 \n",
       "  \"/>\n",
       "<path clip-path=\"url(#clip410)\" d=\"M 0 0 M313.453 1440.09 Q309.842 1440.09 308.013 1443.65 Q306.208 1447.19 306.208 1454.32 Q306.208 1461.43 308.013 1464.99 Q309.842 1468.54 313.453 1468.54 Q317.087 1468.54 318.893 1464.99 Q320.722 1461.43 320.722 1454.32 Q320.722 1447.19 318.893 1443.65 Q317.087 1440.09 313.453 1440.09 M313.453 1436.38 Q319.263 1436.38 322.319 1440.99 Q325.397 1445.57 325.397 1454.32 Q325.397 1463.05 322.319 1467.66 Q319.263 1472.24 313.453 1472.24 Q307.643 1472.24 304.564 1467.66 Q301.509 1463.05 301.509 1454.32 Q301.509 1445.57 304.564 1440.99 Q307.643 1436.38 313.453 1436.38 Z\" fill=\"#000000\" fill-rule=\"evenodd\" fill-opacity=\"1\" /><path clip-path=\"url(#clip410)\" d=\"M 0 0 M713.119 1458.54 L731.475 1458.54 L731.475 1462.48 L717.401 1462.48 L717.401 1470.95 Q718.42 1470.6 719.439 1470.44 Q720.457 1470.26 721.476 1470.26 Q727.263 1470.26 730.642 1473.43 Q734.022 1476.6 734.022 1482.02 Q734.022 1487.59 730.55 1490.7 Q727.077 1493.78 720.758 1493.78 Q718.582 1493.78 716.314 1493.4 Q714.068 1493.03 711.661 1492.29 L711.661 1487.59 Q713.744 1488.73 715.966 1489.28 Q718.189 1489.84 720.665 1489.84 Q724.67 1489.84 727.008 1487.73 Q729.346 1485.63 729.346 1482.02 Q729.346 1478.4 727.008 1476.3 Q724.67 1474.19 720.665 1474.19 Q718.79 1474.19 716.915 1474.61 Q715.064 1475.03 713.119 1475.9 L713.119 1458.54 Z\" fill=\"#000000\" fill-rule=\"evenodd\" fill-opacity=\"1\" /><path clip-path=\"url(#clip410)\" d=\"M 0 0 M739.091 1487.22 L743.975 1487.22 L743.975 1493.1 L739.091 1493.1 L739.091 1487.22 Z\" fill=\"#000000\" fill-rule=\"evenodd\" fill-opacity=\"1\" /><path clip-path=\"url(#clip410)\" d=\"M 0 0 M759.045 1461.62 Q755.434 1461.62 753.605 1465.19 Q751.799 1468.73 751.799 1475.86 Q751.799 1482.97 753.605 1486.53 Q755.434 1490.07 759.045 1490.07 Q762.679 1490.07 764.485 1486.53 Q766.313 1482.97 766.313 1475.86 Q766.313 1468.73 764.485 1465.19 Q762.679 1461.62 759.045 1461.62 M759.045 1457.92 Q764.855 1457.92 767.91 1462.53 Q770.989 1467.11 770.989 1475.86 Q770.989 1484.59 767.91 1489.19 Q764.855 1493.78 759.045 1493.78 Q753.235 1493.78 750.156 1489.19 Q747.1 1484.59 747.1 1475.86 Q747.1 1467.11 750.156 1462.53 Q753.235 1457.92 759.045 1457.92 Z\" fill=\"#000000\" fill-rule=\"evenodd\" fill-opacity=\"1\" /><path clip-path=\"url(#clip410)\" d=\"M 0 0 M804.23 1467.64 L793.651 1478.27 L804.23 1488.84 L801.475 1491.65 L790.85 1481.02 L780.225 1491.65 L777.494 1488.84 L788.049 1478.27 L777.494 1467.64 L780.225 1464.84 L790.85 1475.47 L801.475 1464.84 L804.23 1467.64 Z\" fill=\"#000000\" fill-rule=\"evenodd\" fill-opacity=\"1\" /><path clip-path=\"url(#clip410)\" d=\"M 0 0 M810.109 1489.17 L817.748 1489.17 L817.748 1462.8 L809.438 1464.47 L809.438 1460.21 L817.702 1458.54 L822.378 1458.54 L822.378 1489.17 L830.017 1489.17 L830.017 1493.1 L810.109 1493.1 L810.109 1489.17 Z\" fill=\"#000000\" fill-rule=\"evenodd\" fill-opacity=\"1\" /><path clip-path=\"url(#clip410)\" d=\"M 0 0 M845.086 1461.62 Q841.475 1461.62 839.646 1465.19 Q837.841 1468.73 837.841 1475.86 Q837.841 1482.97 839.646 1486.53 Q841.475 1490.07 845.086 1490.07 Q848.72 1490.07 850.526 1486.53 Q852.354 1482.97 852.354 1475.86 Q852.354 1468.73 850.526 1465.19 Q848.72 1461.62 845.086 1461.62 M845.086 1457.92 Q850.896 1457.92 853.952 1462.53 Q857.03 1467.11 857.03 1475.86 Q857.03 1484.59 853.952 1489.19 Q850.896 1493.78 845.086 1493.78 Q839.276 1493.78 836.197 1489.19 Q833.142 1484.59 833.142 1475.86 Q833.142 1467.11 836.197 1462.53 Q839.276 1457.92 845.086 1457.92 Z\" fill=\"#000000\" fill-rule=\"evenodd\" fill-opacity=\"1\" /><path clip-path=\"url(#clip410)\" d=\"M 0 0 M857.03 1452.02 L881.142 1452.02 L881.142 1455.22 L857.03 1455.22 L857.03 1452.02 Z\" fill=\"#000000\" fill-rule=\"evenodd\" fill-opacity=\"1\" /><path clip-path=\"url(#clip410)\" d=\"M 0 0 M893.856 1450.14 Q891.298 1450.14 889.793 1451.89 Q888.308 1453.64 888.308 1456.68 Q888.308 1459.71 889.793 1461.48 Q891.298 1463.23 893.856 1463.23 Q896.414 1463.23 897.9 1461.48 Q899.404 1459.71 899.404 1456.68 Q899.404 1453.64 897.9 1451.89 Q896.414 1450.14 893.856 1450.14 M901.398 1438.23 L901.398 1441.69 Q899.969 1441.02 898.501 1440.66 Q897.053 1440.3 895.624 1440.3 Q891.862 1440.3 889.869 1442.84 Q887.894 1445.38 887.612 1450.52 Q888.721 1448.88 890.395 1448.01 Q892.069 1447.13 894.082 1447.13 Q898.313 1447.13 900.758 1449.71 Q903.222 1452.26 903.222 1456.68 Q903.222 1461.01 900.664 1463.62 Q898.107 1466.24 893.856 1466.24 Q888.985 1466.24 886.408 1462.51 Q883.831 1458.77 883.831 1451.68 Q883.831 1445.02 886.991 1441.07 Q890.151 1437.11 895.473 1437.11 Q896.903 1437.11 898.351 1437.39 Q899.818 1437.67 901.398 1438.23 Z\" fill=\"#000000\" fill-rule=\"evenodd\" fill-opacity=\"1\" /><path clip-path=\"url(#clip410)\" d=\"M 0 0 M1207.68 1489.17 L1215.32 1489.17 L1215.32 1462.8 L1207.01 1464.47 L1207.01 1460.21 L1215.27 1458.54 L1219.95 1458.54 L1219.95 1489.17 L1227.59 1489.17 L1227.59 1493.1 L1207.68 1493.1 L1207.68 1489.17 Z\" fill=\"#000000\" fill-rule=\"evenodd\" fill-opacity=\"1\" /><path clip-path=\"url(#clip410)\" d=\"M 0 0 M1232.66 1487.22 L1237.54 1487.22 L1237.54 1493.1 L1232.66 1493.1 L1232.66 1487.22 Z\" fill=\"#000000\" fill-rule=\"evenodd\" fill-opacity=\"1\" /><path clip-path=\"url(#clip410)\" d=\"M 0 0 M1252.61 1461.62 Q1249 1461.62 1247.17 1465.19 Q1245.37 1468.73 1245.37 1475.86 Q1245.37 1482.97 1247.17 1486.53 Q1249 1490.07 1252.61 1490.07 Q1256.25 1490.07 1258.05 1486.53 Q1259.88 1482.97 1259.88 1475.86 Q1259.88 1468.73 1258.05 1465.19 Q1256.25 1461.62 1252.61 1461.62 M1252.61 1457.92 Q1258.42 1457.92 1261.48 1462.53 Q1264.56 1467.11 1264.56 1475.86 Q1264.56 1484.59 1261.48 1489.19 Q1258.42 1493.78 1252.61 1493.78 Q1246.8 1493.78 1243.72 1489.19 Q1240.67 1484.59 1240.67 1475.86 Q1240.67 1467.11 1243.72 1462.53 Q1246.8 1457.92 1252.61 1457.92 Z\" fill=\"#000000\" fill-rule=\"evenodd\" fill-opacity=\"1\" /><path clip-path=\"url(#clip410)\" d=\"M 0 0 M1297.8 1467.64 L1287.22 1478.27 L1297.8 1488.84 L1295.04 1491.65 L1284.42 1481.02 L1273.79 1491.65 L1271.06 1488.84 L1281.62 1478.27 L1271.06 1467.64 L1273.79 1464.84 L1284.42 1475.47 L1295.04 1464.84 L1297.8 1467.64 Z\" fill=\"#000000\" fill-rule=\"evenodd\" fill-opacity=\"1\" /><path clip-path=\"url(#clip410)\" d=\"M 0 0 M1303.68 1489.17 L1311.32 1489.17 L1311.32 1462.8 L1303.01 1464.47 L1303.01 1460.21 L1311.27 1458.54 L1315.95 1458.54 L1315.95 1489.17 L1323.58 1489.17 L1323.58 1493.1 L1303.68 1493.1 L1303.68 1489.17 Z\" fill=\"#000000\" fill-rule=\"evenodd\" fill-opacity=\"1\" /><path clip-path=\"url(#clip410)\" d=\"M 0 0 M1338.65 1461.62 Q1335.04 1461.62 1333.21 1465.19 Q1331.41 1468.73 1331.41 1475.86 Q1331.41 1482.97 1333.21 1486.53 Q1335.04 1490.07 1338.65 1490.07 Q1342.29 1490.07 1344.09 1486.53 Q1345.92 1482.97 1345.92 1475.86 Q1345.92 1468.73 1344.09 1465.19 Q1342.29 1461.62 1338.65 1461.62 M1338.65 1457.92 Q1344.46 1457.92 1347.52 1462.53 Q1350.6 1467.11 1350.6 1475.86 Q1350.6 1484.59 1347.52 1489.19 Q1344.46 1493.78 1338.65 1493.78 Q1332.84 1493.78 1329.76 1489.19 Q1326.71 1484.59 1326.71 1475.86 Q1326.71 1467.11 1329.76 1462.53 Q1332.84 1457.92 1338.65 1457.92 Z\" fill=\"#000000\" fill-rule=\"evenodd\" fill-opacity=\"1\" /><path clip-path=\"url(#clip410)\" d=\"M 0 0 M1350.6 1452.02 L1374.71 1452.02 L1374.71 1455.22 L1350.6 1455.22 L1350.6 1452.02 Z\" fill=\"#000000\" fill-rule=\"evenodd\" fill-opacity=\"1\" /><path clip-path=\"url(#clip410)\" d=\"M 0 0 M1378.87 1437.61 L1393.78 1437.61 L1393.78 1440.81 L1382.35 1440.81 L1382.35 1447.69 Q1383.17 1447.41 1384 1447.28 Q1384.83 1447.13 1385.66 1447.13 Q1390.36 1447.13 1393.1 1449.71 Q1395.85 1452.28 1395.85 1456.68 Q1395.85 1461.22 1393.03 1463.74 Q1390.21 1466.24 1385.07 1466.24 Q1383.3 1466.24 1381.46 1465.94 Q1379.64 1465.64 1377.68 1465.04 L1377.68 1461.22 Q1379.37 1462.14 1381.18 1462.59 Q1382.98 1463.04 1385 1463.04 Q1388.25 1463.04 1390.15 1461.33 Q1392.05 1459.62 1392.05 1456.68 Q1392.05 1453.75 1390.15 1452.04 Q1388.25 1450.33 1385 1450.33 Q1383.47 1450.33 1381.95 1450.67 Q1380.45 1451 1378.87 1451.72 L1378.87 1437.61 Z\" fill=\"#000000\" fill-rule=\"evenodd\" fill-opacity=\"1\" /><path clip-path=\"url(#clip410)\" d=\"M 0 0 M1702.17 1489.17 L1709.81 1489.17 L1709.81 1462.8 L1701.5 1464.47 L1701.5 1460.21 L1709.76 1458.54 L1714.44 1458.54 L1714.44 1489.17 L1722.08 1489.17 L1722.08 1493.1 L1702.17 1493.1 L1702.17 1489.17 Z\" fill=\"#000000\" fill-rule=\"evenodd\" fill-opacity=\"1\" /><path clip-path=\"url(#clip410)\" d=\"M 0 0 M1727.14 1487.22 L1732.03 1487.22 L1732.03 1493.1 L1727.14 1493.1 L1727.14 1487.22 Z\" fill=\"#000000\" fill-rule=\"evenodd\" fill-opacity=\"1\" /><path clip-path=\"url(#clip410)\" d=\"M 0 0 M1737.14 1458.54 L1755.5 1458.54 L1755.5 1462.48 L1741.43 1462.48 L1741.43 1470.95 Q1742.45 1470.6 1743.46 1470.44 Q1744.48 1470.26 1745.5 1470.26 Q1751.29 1470.26 1754.67 1473.43 Q1758.05 1476.6 1758.05 1482.02 Q1758.05 1487.59 1754.58 1490.7 Q1751.1 1493.78 1744.78 1493.78 Q1742.61 1493.78 1740.34 1493.4 Q1738.09 1493.03 1735.69 1492.29 L1735.69 1487.59 Q1737.77 1488.73 1739.99 1489.28 Q1742.21 1489.84 1744.69 1489.84 Q1748.7 1489.84 1751.03 1487.73 Q1753.37 1485.63 1753.37 1482.02 Q1753.37 1478.4 1751.03 1476.3 Q1748.7 1474.19 1744.69 1474.19 Q1742.82 1474.19 1740.94 1474.61 Q1739.09 1475.03 1737.14 1475.9 L1737.14 1458.54 Z\" fill=\"#000000\" fill-rule=\"evenodd\" fill-opacity=\"1\" /><path clip-path=\"url(#clip410)\" d=\"M 0 0 M1791.29 1467.64 L1780.71 1478.27 L1791.29 1488.84 L1788.53 1491.65 L1777.91 1481.02 L1767.28 1491.65 L1764.55 1488.84 L1775.11 1478.27 L1764.55 1467.64 L1767.28 1464.84 L1777.91 1475.47 L1788.53 1464.84 L1791.29 1467.64 Z\" fill=\"#000000\" fill-rule=\"evenodd\" fill-opacity=\"1\" /><path clip-path=\"url(#clip410)\" d=\"M 0 0 M1797.17 1489.17 L1804.81 1489.17 L1804.81 1462.8 L1796.5 1464.47 L1796.5 1460.21 L1804.76 1458.54 L1809.44 1458.54 L1809.44 1489.17 L1817.07 1489.17 L1817.07 1493.1 L1797.17 1493.1 L1797.17 1489.17 Z\" fill=\"#000000\" fill-rule=\"evenodd\" fill-opacity=\"1\" /><path clip-path=\"url(#clip410)\" d=\"M 0 0 M1832.14 1461.62 Q1828.53 1461.62 1826.7 1465.19 Q1824.9 1468.73 1824.9 1475.86 Q1824.9 1482.97 1826.7 1486.53 Q1828.53 1490.07 1832.14 1490.07 Q1835.78 1490.07 1837.58 1486.53 Q1839.41 1482.97 1839.41 1475.86 Q1839.41 1468.73 1837.58 1465.19 Q1835.78 1461.62 1832.14 1461.62 M1832.14 1457.92 Q1837.95 1457.92 1841.01 1462.53 Q1844.09 1467.11 1844.09 1475.86 Q1844.09 1484.59 1841.01 1489.19 Q1837.95 1493.78 1832.14 1493.78 Q1826.33 1493.78 1823.26 1489.19 Q1820.2 1484.59 1820.2 1475.86 Q1820.2 1467.11 1823.26 1462.53 Q1826.33 1457.92 1832.14 1457.92 Z\" fill=\"#000000\" fill-rule=\"evenodd\" fill-opacity=\"1\" /><path clip-path=\"url(#clip410)\" d=\"M 0 0 M1844.09 1452.02 L1868.2 1452.02 L1868.2 1455.22 L1844.09 1455.22 L1844.09 1452.02 Z\" fill=\"#000000\" fill-rule=\"evenodd\" fill-opacity=\"1\" /><path clip-path=\"url(#clip410)\" d=\"M 0 0 M1872.36 1437.61 L1887.27 1437.61 L1887.27 1440.81 L1875.84 1440.81 L1875.84 1447.69 Q1876.66 1447.41 1877.49 1447.28 Q1878.32 1447.13 1879.15 1447.13 Q1883.85 1447.13 1886.59 1449.71 Q1889.34 1452.28 1889.34 1456.68 Q1889.34 1461.22 1886.52 1463.74 Q1883.7 1466.24 1878.56 1466.24 Q1876.8 1466.24 1874.95 1465.94 Q1873.13 1465.64 1871.17 1465.04 L1871.17 1461.22 Q1872.86 1462.14 1874.67 1462.59 Q1876.48 1463.04 1878.49 1463.04 Q1881.74 1463.04 1883.64 1461.33 Q1885.54 1459.62 1885.54 1456.68 Q1885.54 1453.75 1883.64 1452.04 Q1881.74 1450.33 1878.49 1450.33 Q1876.96 1450.33 1875.44 1450.67 Q1873.94 1451 1872.36 1451.72 L1872.36 1437.61 Z\" fill=\"#000000\" fill-rule=\"evenodd\" fill-opacity=\"1\" /><path clip-path=\"url(#clip410)\" d=\"M 0 0 M2199.93 1489.17 L2216.25 1489.17 L2216.25 1493.1 L2194.3 1493.1 L2194.3 1489.17 Q2196.97 1486.41 2201.55 1481.78 Q2206.16 1477.13 2207.34 1475.79 Q2209.58 1473.27 2210.46 1471.53 Q2211.36 1469.77 2211.36 1468.08 Q2211.36 1465.33 2209.42 1463.59 Q2207.5 1461.85 2204.4 1461.85 Q2202.2 1461.85 2199.74 1462.62 Q2197.31 1463.38 2194.54 1464.93 L2194.54 1460.21 Q2197.36 1459.08 2199.81 1458.5 Q2202.27 1457.92 2204.3 1457.92 Q2209.67 1457.92 2212.87 1460.6 Q2216.06 1463.29 2216.06 1467.78 Q2216.06 1469.91 2215.25 1471.83 Q2214.47 1473.73 2212.36 1476.32 Q2211.78 1476.99 2208.68 1480.21 Q2205.58 1483.4 2199.93 1489.17 Z\" fill=\"#000000\" fill-rule=\"evenodd\" fill-opacity=\"1\" /><path clip-path=\"url(#clip410)\" d=\"M 0 0 M2221.32 1487.22 L2226.2 1487.22 L2226.2 1493.1 L2221.32 1493.1 L2221.32 1487.22 Z\" fill=\"#000000\" fill-rule=\"evenodd\" fill-opacity=\"1\" /><path clip-path=\"url(#clip410)\" d=\"M 0 0 M2241.27 1461.62 Q2237.66 1461.62 2235.83 1465.19 Q2234.03 1468.73 2234.03 1475.86 Q2234.03 1482.97 2235.83 1486.53 Q2237.66 1490.07 2241.27 1490.07 Q2244.91 1490.07 2246.71 1486.53 Q2248.54 1482.97 2248.54 1475.86 Q2248.54 1468.73 2246.71 1465.19 Q2244.91 1461.62 2241.27 1461.62 M2241.27 1457.92 Q2247.08 1457.92 2250.14 1462.53 Q2253.22 1467.11 2253.22 1475.86 Q2253.22 1484.59 2250.14 1489.19 Q2247.08 1493.78 2241.27 1493.78 Q2235.46 1493.78 2232.38 1489.19 Q2229.33 1484.59 2229.33 1475.86 Q2229.33 1467.11 2232.38 1462.53 Q2235.46 1457.92 2241.27 1457.92 Z\" fill=\"#000000\" fill-rule=\"evenodd\" fill-opacity=\"1\" /><path clip-path=\"url(#clip410)\" d=\"M 0 0 M2286.46 1467.64 L2275.88 1478.27 L2286.46 1488.84 L2283.7 1491.65 L2273.08 1481.02 L2262.45 1491.65 L2259.72 1488.84 L2270.28 1478.27 L2259.72 1467.64 L2262.45 1464.84 L2273.08 1475.47 L2283.7 1464.84 L2286.46 1467.64 Z\" fill=\"#000000\" fill-rule=\"evenodd\" fill-opacity=\"1\" /><path clip-path=\"url(#clip410)\" d=\"M 0 0 M2292.34 1489.17 L2299.98 1489.17 L2299.98 1462.8 L2291.67 1464.47 L2291.67 1460.21 L2299.93 1458.54 L2304.6 1458.54 L2304.6 1489.17 L2312.24 1489.17 L2312.24 1493.1 L2292.34 1493.1 L2292.34 1489.17 Z\" fill=\"#000000\" fill-rule=\"evenodd\" fill-opacity=\"1\" /><path clip-path=\"url(#clip410)\" d=\"M 0 0 M2327.31 1461.62 Q2323.7 1461.62 2321.87 1465.19 Q2320.07 1468.73 2320.07 1475.86 Q2320.07 1482.97 2321.87 1486.53 Q2323.7 1490.07 2327.31 1490.07 Q2330.95 1490.07 2332.75 1486.53 Q2334.58 1482.97 2334.58 1475.86 Q2334.58 1468.73 2332.75 1465.19 Q2330.95 1461.62 2327.31 1461.62 M2327.31 1457.92 Q2333.12 1457.92 2336.18 1462.53 Q2339.26 1467.11 2339.26 1475.86 Q2339.26 1484.59 2336.18 1489.19 Q2333.12 1493.78 2327.31 1493.78 Q2321.5 1493.78 2318.42 1489.19 Q2315.37 1484.59 2315.37 1475.86 Q2315.37 1467.11 2318.42 1462.53 Q2321.5 1457.92 2327.31 1457.92 Z\" fill=\"#000000\" fill-rule=\"evenodd\" fill-opacity=\"1\" /><path clip-path=\"url(#clip410)\" d=\"M 0 0 M2339.26 1452.02 L2363.37 1452.02 L2363.37 1455.22 L2339.26 1455.22 L2339.26 1452.02 Z\" fill=\"#000000\" fill-rule=\"evenodd\" fill-opacity=\"1\" /><path clip-path=\"url(#clip410)\" d=\"M 0 0 M2367.53 1437.61 L2382.44 1437.61 L2382.44 1440.81 L2371.01 1440.81 L2371.01 1447.69 Q2371.83 1447.41 2372.66 1447.28 Q2373.49 1447.13 2374.32 1447.13 Q2379.02 1447.13 2381.76 1449.71 Q2384.51 1452.28 2384.51 1456.68 Q2384.51 1461.22 2381.69 1463.74 Q2378.87 1466.24 2373.73 1466.24 Q2371.96 1466.24 2370.12 1465.94 Q2368.3 1465.64 2366.34 1465.04 L2366.34 1461.22 Q2368.03 1462.14 2369.84 1462.59 Q2371.64 1463.04 2373.66 1463.04 Q2376.91 1463.04 2378.81 1461.33 Q2380.71 1459.62 2380.71 1456.68 Q2380.71 1453.75 2378.81 1452.04 Q2376.91 1450.33 2373.66 1450.33 Q2372.13 1450.33 2370.61 1450.67 Q2369.11 1451 2367.53 1451.72 L2367.53 1437.61 Z\" fill=\"#000000\" fill-rule=\"evenodd\" fill-opacity=\"1\" /><path clip-path=\"url(#clip410)\" d=\"M 0 0 M1231.01 1514.67 L1271.21 1514.67 L1271.21 1520.08 L1254.34 1520.08 L1254.34 1562.19 L1247.88 1562.19 L1247.88 1520.08 L1231.01 1520.08 L1231.01 1514.67 Z\" fill=\"#000000\" fill-rule=\"evenodd\" fill-opacity=\"1\" /><path clip-path=\"url(#clip410)\" d=\"M 0 0 M1275.35 1526.54 L1281.21 1526.54 L1281.21 1562.19 L1275.35 1562.19 L1275.35 1526.54 M1275.35 1512.66 L1281.21 1512.66 L1281.21 1520.08 L1275.35 1520.08 L1275.35 1512.66 Z\" fill=\"#000000\" fill-rule=\"evenodd\" fill-opacity=\"1\" /><path clip-path=\"url(#clip410)\" d=\"M 0 0 M1315.1 1533.38 Q1317.3 1529.43 1320.35 1527.56 Q1323.41 1525.68 1327.55 1525.68 Q1333.12 1525.68 1336.14 1529.59 Q1339.17 1533.48 1339.17 1540.67 L1339.17 1562.19 L1333.28 1562.19 L1333.28 1540.86 Q1333.28 1535.74 1331.46 1533.25 Q1329.65 1530.77 1325.92 1530.77 Q1321.37 1530.77 1318.73 1533.79 Q1316.09 1536.82 1316.09 1542.04 L1316.09 1562.19 L1310.2 1562.19 L1310.2 1540.86 Q1310.2 1535.7 1308.39 1533.25 Q1306.57 1530.77 1302.79 1530.77 Q1298.3 1530.77 1295.66 1533.83 Q1293.01 1536.85 1293.01 1542.04 L1293.01 1562.19 L1287.13 1562.19 L1287.13 1526.54 L1293.01 1526.54 L1293.01 1532.08 Q1295.02 1528.8 1297.82 1527.24 Q1300.62 1525.68 1304.47 1525.68 Q1308.36 1525.68 1311.06 1527.65 Q1313.8 1529.62 1315.1 1533.38 Z\" fill=\"#000000\" fill-rule=\"evenodd\" fill-opacity=\"1\" /><path clip-path=\"url(#clip410)\" d=\"M 0 0 M1375.8 1542.9 L1375.8 1545.76 L1348.87 1545.76 Q1349.25 1551.81 1352.5 1554.99 Q1355.78 1558.14 1361.6 1558.14 Q1364.98 1558.14 1368.13 1557.32 Q1371.31 1556.49 1374.43 1554.83 L1374.43 1560.37 Q1371.28 1561.71 1367.97 1562.41 Q1364.66 1563.11 1361.25 1563.11 Q1352.72 1563.11 1347.73 1558.14 Q1342.76 1553.18 1342.76 1544.71 Q1342.76 1535.96 1347.47 1530.83 Q1352.21 1525.68 1360.24 1525.68 Q1367.43 1525.68 1371.6 1530.33 Q1375.8 1534.94 1375.8 1542.9 M1369.94 1541.18 Q1369.88 1536.37 1367.24 1533.51 Q1364.63 1530.64 1360.3 1530.64 Q1355.4 1530.64 1352.44 1533.41 Q1349.51 1536.18 1349.06 1541.21 L1369.94 1541.18 Z\" fill=\"#000000\" fill-rule=\"evenodd\" fill-opacity=\"1\" /><polyline clip-path=\"url(#clip412)\" style=\"stroke:#000000; stroke-width:2; stroke-opacity:0.1; fill:none\" points=\"\n",
       "  254.056,1372.3 2352.76,1372.3 \n",
       "  \"/>\n",
       "<polyline clip-path=\"url(#clip412)\" style=\"stroke:#000000; stroke-width:2; stroke-opacity:0.1; fill:none\" points=\"\n",
       "  254.056,1127.53 2352.76,1127.53 \n",
       "  \"/>\n",
       "<polyline clip-path=\"url(#clip412)\" style=\"stroke:#000000; stroke-width:2; stroke-opacity:0.1; fill:none\" points=\"\n",
       "  254.056,882.751 2352.76,882.751 \n",
       "  \"/>\n",
       "<polyline clip-path=\"url(#clip412)\" style=\"stroke:#000000; stroke-width:2; stroke-opacity:0.1; fill:none\" points=\"\n",
       "  254.056,637.975 2352.76,637.975 \n",
       "  \"/>\n",
       "<polyline clip-path=\"url(#clip412)\" style=\"stroke:#000000; stroke-width:2; stroke-opacity:0.1; fill:none\" points=\"\n",
       "  254.056,393.199 2352.76,393.199 \n",
       "  \"/>\n",
       "<polyline clip-path=\"url(#clip412)\" style=\"stroke:#000000; stroke-width:2; stroke-opacity:0.1; fill:none\" points=\"\n",
       "  254.056,148.423 2352.76,148.423 \n",
       "  \"/>\n",
       "<polyline clip-path=\"url(#clip410)\" style=\"stroke:#000000; stroke-width:4; stroke-opacity:1; fill:none\" points=\"\n",
       "  254.056,1410.9 254.056,47.2441 \n",
       "  \"/>\n",
       "<polyline clip-path=\"url(#clip410)\" style=\"stroke:#000000; stroke-width:4; stroke-opacity:1; fill:none\" points=\"\n",
       "  254.056,1372.3 279.24,1372.3 \n",
       "  \"/>\n",
       "<polyline clip-path=\"url(#clip410)\" style=\"stroke:#000000; stroke-width:4; stroke-opacity:1; fill:none\" points=\"\n",
       "  254.056,1127.53 279.24,1127.53 \n",
       "  \"/>\n",
       "<polyline clip-path=\"url(#clip410)\" style=\"stroke:#000000; stroke-width:4; stroke-opacity:1; fill:none\" points=\"\n",
       "  254.056,882.751 279.24,882.751 \n",
       "  \"/>\n",
       "<polyline clip-path=\"url(#clip410)\" style=\"stroke:#000000; stroke-width:4; stroke-opacity:1; fill:none\" points=\"\n",
       "  254.056,637.975 279.24,637.975 \n",
       "  \"/>\n",
       "<polyline clip-path=\"url(#clip410)\" style=\"stroke:#000000; stroke-width:4; stroke-opacity:1; fill:none\" points=\"\n",
       "  254.056,393.199 279.24,393.199 \n",
       "  \"/>\n",
       "<polyline clip-path=\"url(#clip410)\" style=\"stroke:#000000; stroke-width:4; stroke-opacity:1; fill:none\" points=\"\n",
       "  254.056,148.423 279.24,148.423 \n",
       "  \"/>\n",
       "<path clip-path=\"url(#clip410)\" d=\"M 0 0 M143.126 1355.02 L161.482 1355.02 L161.482 1358.96 L147.408 1358.96 L147.408 1367.43 Q148.427 1367.08 149.445 1366.92 Q150.464 1366.74 151.482 1366.74 Q157.269 1366.74 160.649 1369.91 Q164.028 1373.08 164.028 1378.49 Q164.028 1384.07 160.556 1387.18 Q157.084 1390.25 150.765 1390.25 Q148.589 1390.25 146.32 1389.88 Q144.075 1389.51 141.667 1388.77 L141.667 1384.07 Q143.751 1385.21 145.973 1385.76 Q148.195 1386.32 150.672 1386.32 Q154.677 1386.32 157.015 1384.21 Q159.353 1382.11 159.353 1378.49 Q159.353 1374.88 157.015 1372.78 Q154.677 1370.67 150.672 1370.67 Q148.797 1370.67 146.922 1371.09 Q145.07 1371.5 143.126 1372.38 L143.126 1355.02 Z\" fill=\"#000000\" fill-rule=\"evenodd\" fill-opacity=\"1\" /><path clip-path=\"url(#clip410)\" d=\"M 0 0 M179.098 1358.1 Q175.487 1358.1 173.658 1361.67 Q171.852 1365.21 171.852 1372.34 Q171.852 1379.44 173.658 1383.01 Q175.487 1386.55 179.098 1386.55 Q182.732 1386.55 184.538 1383.01 Q186.366 1379.44 186.366 1372.34 Q186.366 1365.21 184.538 1361.67 Q182.732 1358.1 179.098 1358.1 M179.098 1354.4 Q184.908 1354.4 187.963 1359 Q191.042 1363.59 191.042 1372.34 Q191.042 1381.06 187.963 1385.67 Q184.908 1390.25 179.098 1390.25 Q173.288 1390.25 170.209 1385.67 Q167.153 1381.06 167.153 1372.34 Q167.153 1363.59 170.209 1359 Q173.288 1354.4 179.098 1354.4 Z\" fill=\"#000000\" fill-rule=\"evenodd\" fill-opacity=\"1\" /><path clip-path=\"url(#clip410)\" d=\"M 0 0 M206.112 1358.1 Q202.5 1358.1 200.672 1361.67 Q198.866 1365.21 198.866 1372.34 Q198.866 1379.44 200.672 1383.01 Q202.5 1386.55 206.112 1386.55 Q209.746 1386.55 211.551 1383.01 Q213.38 1379.44 213.38 1372.34 Q213.38 1365.21 211.551 1361.67 Q209.746 1358.1 206.112 1358.1 M206.112 1354.4 Q211.922 1354.4 214.977 1359 Q218.056 1363.59 218.056 1372.34 Q218.056 1381.06 214.977 1385.67 Q211.922 1390.25 206.112 1390.25 Q200.301 1390.25 197.223 1385.67 Q194.167 1381.06 194.167 1372.34 Q194.167 1363.59 197.223 1359 Q200.301 1354.4 206.112 1354.4 Z\" fill=\"#000000\" fill-rule=\"evenodd\" fill-opacity=\"1\" /><path clip-path=\"url(#clip410)\" d=\"M 0 0 M117.107 1140.87 L124.746 1140.87 L124.746 1114.51 L116.436 1116.17 L116.436 1111.91 L124.7 1110.25 L129.376 1110.25 L129.376 1140.87 L137.015 1140.87 L137.015 1144.81 L117.107 1144.81 L117.107 1140.87 Z\" fill=\"#000000\" fill-rule=\"evenodd\" fill-opacity=\"1\" /><path clip-path=\"url(#clip410)\" d=\"M 0 0 M152.084 1113.33 Q148.473 1113.33 146.644 1116.89 Q144.839 1120.43 144.839 1127.56 Q144.839 1134.67 146.644 1138.23 Q148.473 1141.77 152.084 1141.77 Q155.718 1141.77 157.524 1138.23 Q159.353 1134.67 159.353 1127.56 Q159.353 1120.43 157.524 1116.89 Q155.718 1113.33 152.084 1113.33 M152.084 1109.62 Q157.894 1109.62 160.95 1114.23 Q164.028 1118.81 164.028 1127.56 Q164.028 1136.29 160.95 1140.89 Q157.894 1145.48 152.084 1145.48 Q146.274 1145.48 143.195 1140.89 Q140.14 1136.29 140.14 1127.56 Q140.14 1118.81 143.195 1114.23 Q146.274 1109.62 152.084 1109.62 Z\" fill=\"#000000\" fill-rule=\"evenodd\" fill-opacity=\"1\" /><path clip-path=\"url(#clip410)\" d=\"M 0 0 M179.098 1113.33 Q175.487 1113.33 173.658 1116.89 Q171.852 1120.43 171.852 1127.56 Q171.852 1134.67 173.658 1138.23 Q175.487 1141.77 179.098 1141.77 Q182.732 1141.77 184.538 1138.23 Q186.366 1134.67 186.366 1127.56 Q186.366 1120.43 184.538 1116.89 Q182.732 1113.33 179.098 1113.33 M179.098 1109.62 Q184.908 1109.62 187.963 1114.23 Q191.042 1118.81 191.042 1127.56 Q191.042 1136.29 187.963 1140.89 Q184.908 1145.48 179.098 1145.48 Q173.288 1145.48 170.209 1140.89 Q167.153 1136.29 167.153 1127.56 Q167.153 1118.81 170.209 1114.23 Q173.288 1109.62 179.098 1109.62 Z\" fill=\"#000000\" fill-rule=\"evenodd\" fill-opacity=\"1\" /><path clip-path=\"url(#clip410)\" d=\"M 0 0 M206.112 1113.33 Q202.5 1113.33 200.672 1116.89 Q198.866 1120.43 198.866 1127.56 Q198.866 1134.67 200.672 1138.23 Q202.5 1141.77 206.112 1141.77 Q209.746 1141.77 211.551 1138.23 Q213.38 1134.67 213.38 1127.56 Q213.38 1120.43 211.551 1116.89 Q209.746 1113.33 206.112 1113.33 M206.112 1109.62 Q211.922 1109.62 214.977 1114.23 Q218.056 1118.81 218.056 1127.56 Q218.056 1136.29 214.977 1140.89 Q211.922 1145.48 206.112 1145.48 Q200.301 1145.48 197.223 1140.89 Q194.167 1136.29 194.167 1127.56 Q194.167 1118.81 197.223 1114.23 Q200.301 1109.62 206.112 1109.62 Z\" fill=\"#000000\" fill-rule=\"evenodd\" fill-opacity=\"1\" /><path clip-path=\"url(#clip410)\" d=\"M 0 0 M118.103 896.095 L125.742 896.095 L125.742 869.73 L117.431 871.397 L117.431 867.137 L125.695 865.471 L130.371 865.471 L130.371 896.095 L138.01 896.095 L138.01 900.031 L118.103 900.031 L118.103 896.095 Z\" fill=\"#000000\" fill-rule=\"evenodd\" fill-opacity=\"1\" /><path clip-path=\"url(#clip410)\" d=\"M 0 0 M143.126 865.471 L161.482 865.471 L161.482 869.406 L147.408 869.406 L147.408 877.878 Q148.427 877.531 149.445 877.369 Q150.464 877.184 151.482 877.184 Q157.269 877.184 160.649 880.355 Q164.028 883.526 164.028 888.943 Q164.028 894.521 160.556 897.623 Q157.084 900.702 150.765 900.702 Q148.589 900.702 146.32 900.332 Q144.075 899.961 141.667 899.22 L141.667 894.521 Q143.751 895.656 145.973 896.211 Q148.195 896.767 150.672 896.767 Q154.677 896.767 157.015 894.66 Q159.353 892.554 159.353 888.943 Q159.353 885.332 157.015 883.225 Q154.677 881.119 150.672 881.119 Q148.797 881.119 146.922 881.535 Q145.07 881.952 143.126 882.832 L143.126 865.471 Z\" fill=\"#000000\" fill-rule=\"evenodd\" fill-opacity=\"1\" /><path clip-path=\"url(#clip410)\" d=\"M 0 0 M179.098 868.549 Q175.487 868.549 173.658 872.114 Q171.852 875.656 171.852 882.785 Q171.852 889.892 173.658 893.457 Q175.487 896.998 179.098 896.998 Q182.732 896.998 184.538 893.457 Q186.366 889.892 186.366 882.785 Q186.366 875.656 184.538 872.114 Q182.732 868.549 179.098 868.549 M179.098 864.846 Q184.908 864.846 187.963 869.452 Q191.042 874.035 191.042 882.785 Q191.042 891.512 187.963 896.119 Q184.908 900.702 179.098 900.702 Q173.288 900.702 170.209 896.119 Q167.153 891.512 167.153 882.785 Q167.153 874.035 170.209 869.452 Q173.288 864.846 179.098 864.846 Z\" fill=\"#000000\" fill-rule=\"evenodd\" fill-opacity=\"1\" /><path clip-path=\"url(#clip410)\" d=\"M 0 0 M206.112 868.549 Q202.5 868.549 200.672 872.114 Q198.866 875.656 198.866 882.785 Q198.866 889.892 200.672 893.457 Q202.5 896.998 206.112 896.998 Q209.746 896.998 211.551 893.457 Q213.38 889.892 213.38 882.785 Q213.38 875.656 211.551 872.114 Q209.746 868.549 206.112 868.549 M206.112 864.846 Q211.922 864.846 214.977 869.452 Q218.056 874.035 218.056 882.785 Q218.056 891.512 214.977 896.119 Q211.922 900.702 206.112 900.702 Q200.301 900.702 197.223 896.119 Q194.167 891.512 194.167 882.785 Q194.167 874.035 197.223 869.452 Q200.301 864.846 206.112 864.846 Z\" fill=\"#000000\" fill-rule=\"evenodd\" fill-opacity=\"1\" /><path clip-path=\"url(#clip410)\" d=\"M 0 0 M120.695 651.319 L137.015 651.319 L137.015 655.255 L115.07 655.255 L115.07 651.319 Q117.732 648.565 122.316 643.935 Q126.922 639.282 128.103 637.94 Q130.348 635.417 131.228 633.681 Q132.13 631.921 132.13 630.232 Q132.13 627.477 130.186 625.741 Q128.265 624.005 125.163 624.005 Q122.964 624.005 120.51 624.769 Q118.08 625.533 115.302 627.083 L115.302 622.361 Q118.126 621.227 120.58 620.648 Q123.033 620.07 125.07 620.07 Q130.441 620.07 133.635 622.755 Q136.829 625.44 136.829 629.931 Q136.829 632.06 136.019 633.982 Q135.232 635.88 133.126 638.472 Q132.547 639.144 129.445 642.361 Q126.343 645.556 120.695 651.319 Z\" fill=\"#000000\" fill-rule=\"evenodd\" fill-opacity=\"1\" /><path clip-path=\"url(#clip410)\" d=\"M 0 0 M152.084 623.773 Q148.473 623.773 146.644 627.338 Q144.839 630.88 144.839 638.009 Q144.839 645.116 146.644 648.681 Q148.473 652.222 152.084 652.222 Q155.718 652.222 157.524 648.681 Q159.353 645.116 159.353 638.009 Q159.353 630.88 157.524 627.338 Q155.718 623.773 152.084 623.773 M152.084 620.07 Q157.894 620.07 160.95 624.676 Q164.028 629.259 164.028 638.009 Q164.028 646.736 160.95 651.343 Q157.894 655.926 152.084 655.926 Q146.274 655.926 143.195 651.343 Q140.14 646.736 140.14 638.009 Q140.14 629.259 143.195 624.676 Q146.274 620.07 152.084 620.07 Z\" fill=\"#000000\" fill-rule=\"evenodd\" fill-opacity=\"1\" /><path clip-path=\"url(#clip410)\" d=\"M 0 0 M179.098 623.773 Q175.487 623.773 173.658 627.338 Q171.852 630.88 171.852 638.009 Q171.852 645.116 173.658 648.681 Q175.487 652.222 179.098 652.222 Q182.732 652.222 184.538 648.681 Q186.366 645.116 186.366 638.009 Q186.366 630.88 184.538 627.338 Q182.732 623.773 179.098 623.773 M179.098 620.07 Q184.908 620.07 187.963 624.676 Q191.042 629.259 191.042 638.009 Q191.042 646.736 187.963 651.343 Q184.908 655.926 179.098 655.926 Q173.288 655.926 170.209 651.343 Q167.153 646.736 167.153 638.009 Q167.153 629.259 170.209 624.676 Q173.288 620.07 179.098 620.07 Z\" fill=\"#000000\" fill-rule=\"evenodd\" fill-opacity=\"1\" /><path clip-path=\"url(#clip410)\" d=\"M 0 0 M206.112 623.773 Q202.5 623.773 200.672 627.338 Q198.866 630.88 198.866 638.009 Q198.866 645.116 200.672 648.681 Q202.5 652.222 206.112 652.222 Q209.746 652.222 211.551 648.681 Q213.38 645.116 213.38 638.009 Q213.38 630.88 211.551 627.338 Q209.746 623.773 206.112 623.773 M206.112 620.07 Q211.922 620.07 214.977 624.676 Q218.056 629.259 218.056 638.009 Q218.056 646.736 214.977 651.343 Q211.922 655.926 206.112 655.926 Q200.301 655.926 197.223 651.343 Q194.167 646.736 194.167 638.009 Q194.167 629.259 197.223 624.676 Q200.301 620.07 206.112 620.07 Z\" fill=\"#000000\" fill-rule=\"evenodd\" fill-opacity=\"1\" /><path clip-path=\"url(#clip410)\" d=\"M 0 0 M121.691 406.543 L138.01 406.543 L138.01 410.479 L116.066 410.479 L116.066 406.543 Q118.728 403.789 123.311 399.159 Q127.917 394.506 129.098 393.164 Q131.343 390.641 132.223 388.905 Q133.126 387.145 133.126 385.456 Q133.126 382.701 131.181 380.965 Q129.26 379.229 126.158 379.229 Q123.959 379.229 121.505 379.993 Q119.075 380.756 116.297 382.307 L116.297 377.585 Q119.121 376.451 121.575 375.872 Q124.029 375.294 126.066 375.294 Q131.436 375.294 134.63 377.979 Q137.825 380.664 137.825 385.155 Q137.825 387.284 137.015 389.206 Q136.228 391.104 134.121 393.696 Q133.542 394.368 130.441 397.585 Q127.339 400.78 121.691 406.543 Z\" fill=\"#000000\" fill-rule=\"evenodd\" fill-opacity=\"1\" /><path clip-path=\"url(#clip410)\" d=\"M 0 0 M143.126 375.919 L161.482 375.919 L161.482 379.854 L147.408 379.854 L147.408 388.326 Q148.427 387.979 149.445 387.817 Q150.464 387.631 151.482 387.631 Q157.269 387.631 160.649 390.803 Q164.028 393.974 164.028 399.391 Q164.028 404.969 160.556 408.071 Q157.084 411.15 150.765 411.15 Q148.589 411.15 146.32 410.779 Q144.075 410.409 141.667 409.668 L141.667 404.969 Q143.751 406.104 145.973 406.659 Q148.195 407.215 150.672 407.215 Q154.677 407.215 157.015 405.108 Q159.353 403.002 159.353 399.391 Q159.353 395.78 157.015 393.673 Q154.677 391.567 150.672 391.567 Q148.797 391.567 146.922 391.983 Q145.07 392.4 143.126 393.28 L143.126 375.919 Z\" fill=\"#000000\" fill-rule=\"evenodd\" fill-opacity=\"1\" /><path clip-path=\"url(#clip410)\" d=\"M 0 0 M179.098 378.997 Q175.487 378.997 173.658 382.562 Q171.852 386.104 171.852 393.233 Q171.852 400.34 173.658 403.905 Q175.487 407.446 179.098 407.446 Q182.732 407.446 184.538 403.905 Q186.366 400.34 186.366 393.233 Q186.366 386.104 184.538 382.562 Q182.732 378.997 179.098 378.997 M179.098 375.294 Q184.908 375.294 187.963 379.9 Q191.042 384.483 191.042 393.233 Q191.042 401.96 187.963 406.567 Q184.908 411.15 179.098 411.15 Q173.288 411.15 170.209 406.567 Q167.153 401.96 167.153 393.233 Q167.153 384.483 170.209 379.9 Q173.288 375.294 179.098 375.294 Z\" fill=\"#000000\" fill-rule=\"evenodd\" fill-opacity=\"1\" /><path clip-path=\"url(#clip410)\" d=\"M 0 0 M206.112 378.997 Q202.5 378.997 200.672 382.562 Q198.866 386.104 198.866 393.233 Q198.866 400.34 200.672 403.905 Q202.5 407.446 206.112 407.446 Q209.746 407.446 211.551 403.905 Q213.38 400.34 213.38 393.233 Q213.38 386.104 211.551 382.562 Q209.746 378.997 206.112 378.997 M206.112 375.294 Q211.922 375.294 214.977 379.9 Q218.056 384.483 218.056 393.233 Q218.056 401.96 214.977 406.567 Q211.922 411.15 206.112 411.15 Q200.301 411.15 197.223 406.567 Q194.167 401.96 194.167 393.233 Q194.167 384.483 197.223 379.9 Q200.301 375.294 206.112 375.294 Z\" fill=\"#000000\" fill-rule=\"evenodd\" fill-opacity=\"1\" /><path clip-path=\"url(#clip410)\" d=\"M 0 0 M129.885 147.068 Q133.242 147.786 135.117 150.054 Q137.015 152.323 137.015 155.656 Q137.015 160.772 133.496 163.573 Q129.978 166.374 123.496 166.374 Q121.32 166.374 119.006 165.934 Q116.714 165.517 114.26 164.661 L114.26 160.147 Q116.205 161.281 118.519 161.86 Q120.834 162.439 123.357 162.439 Q127.755 162.439 130.047 160.703 Q132.362 158.966 132.362 155.656 Q132.362 152.601 130.209 150.888 Q128.08 149.152 124.26 149.152 L120.232 149.152 L120.232 145.309 L124.445 145.309 Q127.894 145.309 129.723 143.943 Q131.552 142.554 131.552 139.962 Q131.552 137.3 129.654 135.888 Q127.779 134.453 124.26 134.453 Q122.339 134.453 120.14 134.869 Q117.941 135.286 115.302 136.166 L115.302 131.999 Q117.964 131.258 120.279 130.888 Q122.617 130.518 124.677 130.518 Q130.001 130.518 133.103 132.948 Q136.204 135.355 136.204 139.476 Q136.204 142.346 134.561 144.337 Q132.917 146.304 129.885 147.068 Z\" fill=\"#000000\" fill-rule=\"evenodd\" fill-opacity=\"1\" /><path clip-path=\"url(#clip410)\" d=\"M 0 0 M152.084 134.221 Q148.473 134.221 146.644 137.786 Q144.839 141.328 144.839 148.457 Q144.839 155.564 146.644 159.128 Q148.473 162.67 152.084 162.67 Q155.718 162.67 157.524 159.128 Q159.353 155.564 159.353 148.457 Q159.353 141.328 157.524 137.786 Q155.718 134.221 152.084 134.221 M152.084 130.518 Q157.894 130.518 160.95 135.124 Q164.028 139.707 164.028 148.457 Q164.028 157.184 160.95 161.79 Q157.894 166.374 152.084 166.374 Q146.274 166.374 143.195 161.79 Q140.14 157.184 140.14 148.457 Q140.14 139.707 143.195 135.124 Q146.274 130.518 152.084 130.518 Z\" fill=\"#000000\" fill-rule=\"evenodd\" fill-opacity=\"1\" /><path clip-path=\"url(#clip410)\" d=\"M 0 0 M179.098 134.221 Q175.487 134.221 173.658 137.786 Q171.852 141.328 171.852 148.457 Q171.852 155.564 173.658 159.128 Q175.487 162.67 179.098 162.67 Q182.732 162.67 184.538 159.128 Q186.366 155.564 186.366 148.457 Q186.366 141.328 184.538 137.786 Q182.732 134.221 179.098 134.221 M179.098 130.518 Q184.908 130.518 187.963 135.124 Q191.042 139.707 191.042 148.457 Q191.042 157.184 187.963 161.79 Q184.908 166.374 179.098 166.374 Q173.288 166.374 170.209 161.79 Q167.153 157.184 167.153 148.457 Q167.153 139.707 170.209 135.124 Q173.288 130.518 179.098 130.518 Z\" fill=\"#000000\" fill-rule=\"evenodd\" fill-opacity=\"1\" /><path clip-path=\"url(#clip410)\" d=\"M 0 0 M206.112 134.221 Q202.5 134.221 200.672 137.786 Q198.866 141.328 198.866 148.457 Q198.866 155.564 200.672 159.128 Q202.5 162.67 206.112 162.67 Q209.746 162.67 211.551 159.128 Q213.38 155.564 213.38 148.457 Q213.38 141.328 211.551 137.786 Q209.746 134.221 206.112 134.221 M206.112 130.518 Q211.922 130.518 214.977 135.124 Q218.056 139.707 218.056 148.457 Q218.056 157.184 214.977 161.79 Q211.922 166.374 206.112 166.374 Q200.301 166.374 197.223 161.79 Q194.167 157.184 194.167 148.457 Q194.167 139.707 197.223 135.124 Q200.301 130.518 206.112 130.518 Z\" fill=\"#000000\" fill-rule=\"evenodd\" fill-opacity=\"1\" /><path clip-path=\"url(#clip410)\" d=\"M 0 0 M40.4842 919.262 L40.4842 879.062 L45.895 879.062 L45.895 895.931 L88.0042 895.931 L88.0042 902.393 L45.895 902.393 L45.895 919.262 L40.4842 919.262 Z\" fill=\"#000000\" fill-rule=\"evenodd\" fill-opacity=\"1\" /><path clip-path=\"url(#clip410)\" d=\"M 0 0 M68.7161 853.504 L71.5806 853.504 L71.5806 880.431 Q77.6281 880.049 80.8109 876.803 Q83.9619 873.524 83.9619 867.7 Q83.9619 864.326 83.1344 861.175 Q82.3069 857.992 80.6518 854.873 L86.1899 854.873 Q87.5267 858.024 88.227 861.334 Q88.9272 864.644 88.9272 868.05 Q88.9272 876.58 83.9619 881.577 Q78.9967 886.542 70.5303 886.542 Q61.7774 886.542 56.6531 881.831 Q51.4968 877.089 51.4968 869.068 Q51.4968 861.875 56.1438 857.705 Q60.7589 853.504 68.7161 853.504 M66.9973 859.36 Q62.1912 859.424 59.3266 862.066 Q56.4621 864.676 56.4621 869.005 Q56.4621 873.906 59.2312 876.866 Q62.0002 879.794 67.0292 880.24 L66.9973 859.36 Z\" fill=\"#000000\" fill-rule=\"evenodd\" fill-opacity=\"1\" /><path clip-path=\"url(#clip410)\" d=\"M 0 0 M59.1993 819.607 Q55.2526 817.41 53.3747 814.355 Q51.4968 811.299 51.4968 807.162 Q51.4968 801.592 55.4117 798.568 Q59.2948 795.544 66.4881 795.544 L88.0042 795.544 L88.0042 801.433 L66.679 801.433 Q61.5546 801.433 59.072 803.247 Q56.5894 805.061 56.5894 808.785 Q56.5894 813.336 59.6131 815.978 Q62.6368 818.62 67.8567 818.62 L88.0042 818.62 L88.0042 824.508 L66.679 824.508 Q61.5228 824.508 59.072 826.322 Q56.5894 828.137 56.5894 831.924 Q56.5894 836.412 59.6449 839.054 Q62.6686 841.696 67.8567 841.696 L88.0042 841.696 L88.0042 847.584 L52.3562 847.584 L52.3562 841.696 L57.8944 841.696 Q54.616 839.69 53.0564 836.89 Q51.4968 834.089 51.4968 830.237 Q51.4968 826.354 53.4702 823.649 Q55.4436 820.912 59.1993 819.607 Z\" fill=\"#000000\" fill-rule=\"evenodd\" fill-opacity=\"1\" /><path clip-path=\"url(#clip410)\" d=\"M 0 0 M82.657 783.736 L101.563 783.736 L101.563 789.624 L52.3562 789.624 L52.3562 783.736 L57.7671 783.736 Q54.5842 781.89 53.0564 779.089 Q51.4968 776.256 51.4968 772.341 Q51.4968 765.848 56.6531 761.806 Q61.8093 757.732 70.212 757.732 Q78.6147 757.732 83.771 761.806 Q88.9272 765.848 88.9272 772.341 Q88.9272 776.256 87.3994 779.089 Q85.8398 781.89 82.657 783.736 M70.212 763.811 Q63.7508 763.811 60.0905 766.485 Q56.3984 769.127 56.3984 773.774 Q56.3984 778.421 60.0905 781.094 Q63.7508 783.736 70.212 783.736 Q76.6732 783.736 80.3653 781.094 Q84.0256 778.421 84.0256 773.774 Q84.0256 769.127 80.3653 766.485 Q76.6732 763.811 70.212 763.811 Z\" fill=\"#000000\" fill-rule=\"evenodd\" fill-opacity=\"1\" /><path clip-path=\"url(#clip410)\" d=\"M 0 0 M68.7161 721.097 L71.5806 721.097 L71.5806 748.024 Q77.6281 747.642 80.8109 744.396 Q83.9619 741.117 83.9619 735.293 Q83.9619 731.919 83.1344 728.768 Q82.3069 725.585 80.6518 722.466 L86.1899 722.466 Q87.5267 725.617 88.227 728.927 Q88.9272 732.237 88.9272 735.643 Q88.9272 744.173 83.9619 749.17 Q78.9967 754.135 70.5303 754.135 Q61.7774 754.135 56.6531 749.425 Q51.4968 744.682 51.4968 736.661 Q51.4968 729.468 56.1438 725.299 Q60.7589 721.097 68.7161 721.097 M66.9973 726.954 Q62.1912 727.017 59.3266 729.659 Q56.4621 732.269 56.4621 736.598 Q56.4621 741.499 59.2312 744.459 Q62.0002 747.388 67.0292 747.833 L66.9973 726.954 Z\" fill=\"#000000\" fill-rule=\"evenodd\" fill-opacity=\"1\" /><path clip-path=\"url(#clip410)\" d=\"M 0 0 M57.8307 694.298 Q57.2578 695.284 57.0032 696.462 Q56.7167 697.608 56.7167 699.008 Q56.7167 703.974 59.9632 706.647 Q63.1779 709.289 69.2253 709.289 L88.0042 709.289 L88.0042 715.177 L52.3562 715.177 L52.3562 709.289 L57.8944 709.289 Q54.6479 707.443 53.0883 704.483 Q51.4968 701.523 51.4968 697.29 Q51.4968 696.685 51.5923 695.953 Q51.656 695.221 51.8151 694.33 L57.8307 694.298 Z\" fill=\"#000000\" fill-rule=\"evenodd\" fill-opacity=\"1\" /><path clip-path=\"url(#clip410)\" d=\"M 0 0 M70.0847 671.954 Q70.0847 679.052 71.7079 681.789 Q73.3312 684.526 77.2461 684.526 Q80.3653 684.526 82.2114 682.489 Q84.0256 680.42 84.0256 676.887 Q84.0256 672.018 80.5881 669.089 Q77.1188 666.129 71.3897 666.129 L70.0847 666.129 L70.0847 671.954 M67.6657 660.273 L88.0042 660.273 L88.0042 666.129 L82.5933 666.129 Q85.8398 668.135 87.3994 671.127 Q88.9272 674.118 88.9272 678.447 Q88.9272 683.922 85.8716 687.168 Q82.7843 690.383 77.6281 690.383 Q71.6125 690.383 68.5569 686.372 Q65.5014 682.33 65.5014 674.341 L65.5014 666.129 L64.9285 666.129 Q60.8862 666.129 58.6901 668.803 Q56.4621 671.445 56.4621 676.251 Q56.4621 679.306 57.1941 682.203 Q57.9262 685.099 59.3903 687.773 L53.9795 687.773 Q52.7381 684.558 52.1334 681.534 Q51.4968 678.511 51.4968 675.646 Q51.4968 667.912 55.5072 664.092 Q59.5176 660.273 67.6657 660.273 Z\" fill=\"#000000\" fill-rule=\"evenodd\" fill-opacity=\"1\" /><path clip-path=\"url(#clip410)\" d=\"M 0 0 M42.2347 648.337 L52.3562 648.337 L52.3562 636.274 L56.9077 636.274 L56.9077 648.337 L76.2594 648.337 Q80.6199 648.337 81.8613 647.16 Q83.1026 645.95 83.1026 642.29 L83.1026 636.274 L88.0042 636.274 L88.0042 642.29 Q88.0042 649.069 85.4897 651.647 Q82.9434 654.226 76.2594 654.226 L56.9077 654.226 L56.9077 658.522 L52.3562 658.522 L52.3562 654.226 L42.2347 654.226 L42.2347 648.337 Z\" fill=\"#000000\" fill-rule=\"evenodd\" fill-opacity=\"1\" /><path clip-path=\"url(#clip410)\" d=\"M 0 0 M73.9359 630.736 L52.3562 630.736 L52.3562 624.88 L73.7131 624.88 Q78.7739 624.88 81.3202 622.906 Q83.8346 620.933 83.8346 616.986 Q83.8346 612.244 80.8109 609.506 Q77.7872 606.737 72.5673 606.737 L52.3562 606.737 L52.3562 600.881 L88.0042 600.881 L88.0042 606.737 L82.5296 606.737 Q85.7762 608.87 87.3676 611.703 Q88.9272 614.504 88.9272 618.228 Q88.9272 624.37 85.1078 627.553 Q81.2883 630.736 73.9359 630.736 M51.4968 616 L51.4968 616 Z\" fill=\"#000000\" fill-rule=\"evenodd\" fill-opacity=\"1\" /><path clip-path=\"url(#clip410)\" d=\"M 0 0 M57.8307 574.081 Q57.2578 575.068 57.0032 576.246 Q56.7167 577.391 56.7167 578.792 Q56.7167 583.757 59.9632 586.431 Q63.1779 589.073 69.2253 589.073 L88.0042 589.073 L88.0042 594.961 L52.3562 594.961 L52.3562 589.073 L57.8944 589.073 Q54.6479 587.227 53.0883 584.266 Q51.4968 581.306 51.4968 577.073 Q51.4968 576.468 51.5923 575.736 Q51.656 575.004 51.8151 574.113 L57.8307 574.081 Z\" fill=\"#000000\" fill-rule=\"evenodd\" fill-opacity=\"1\" /><path clip-path=\"url(#clip410)\" d=\"M 0 0 M68.7161 538.879 L71.5806 538.879 L71.5806 565.806 Q77.6281 565.424 80.8109 562.177 Q83.9619 558.899 83.9619 553.074 Q83.9619 549.701 83.1344 546.55 Q82.3069 543.367 80.6518 540.248 L86.1899 540.248 Q87.5267 543.399 88.227 546.709 Q88.9272 550.019 88.9272 553.425 Q88.9272 561.955 83.9619 566.952 Q78.9967 571.917 70.5303 571.917 Q61.7774 571.917 56.6531 567.206 Q51.4968 562.464 51.4968 554.443 Q51.4968 547.25 56.1438 543.08 Q60.7589 538.879 68.7161 538.879 M66.9973 544.735 Q62.1912 544.799 59.3266 547.441 Q56.4621 550.051 56.4621 554.379 Q56.4621 559.281 59.2312 562.241 Q62.0002 565.169 67.0292 565.615 L66.9973 544.735 Z\" fill=\"#000000\" fill-rule=\"evenodd\" fill-opacity=\"1\" /><polyline clip-path=\"url(#clip412)\" style=\"stroke:#009af9; stroke-width:4; stroke-opacity:1; fill:none\" points=\"\n",
       "  313.453,1372.3 313.469,1372.3 313.5,1372.3 313.548,1372.3 313.611,1372.3 313.69,1372.3 313.785,1372.3 313.896,1372.3 314.022,1372.3 314.164,1372.3 \n",
       "  314.322,1372.3 314.496,1372.3 314.686,1372.3 314.892,1372.3 315.113,1372.3 315.35,1372.3 315.603,1372.3 315.872,1372.3 316.156,1372.3 316.457,1372.3 \n",
       "  316.773,1372.3 317.105,1372.3 317.452,1372.3 317.816,1372.3 318.195,1372.3 318.591,1372.3 319.002,1372.3 319.428,1372.3 319.871,1372.3 320.329,1372.3 \n",
       "  320.804,1372.3 321.294,1372.3 321.799,1372.3 322.321,1372.3 322.859,1372.3 323.412,1372.3 323.981,1372.3 324.566,1372.3 325.167,1372.3 325.783,1372.3 \n",
       "  326.415,1372.3 327.063,1372.3 327.727,1372.3 328.407,1372.3 329.103,1372.3 329.814,1372.3 330.541,1372.3 331.284,1372.3 332.043,1372.3 332.817,1372.3 \n",
       "  333.608,1372.3 334.414,1372.3 335.236,1372.3 336.074,1372.3 336.927,1372.3 337.797,1372.3 338.682,1372.3 339.583,1372.3 340.5,1372.3 341.433,1372.3 \n",
       "  342.381,1372.3 343.345,1372.3 344.325,1372.3 345.321,1372.3 346.333,1372.3 347.36,1372.3 348.404,1372.3 349.463,1372.3 350.538,1372.3 351.628,1372.3 \n",
       "  352.735,1372.3 353.857,1372.3 354.996,1372.3 356.149,1372.3 357.319,1372.3 358.505,1372.3 359.706,1372.3 360.923,1372.3 362.156,1372.3 363.405,1372.3 \n",
       "  364.67,1372.3 365.95,1372.3 367.246,1372.29 368.558,1372.29 369.886,1372.29 371.23,1372.29 372.589,1372.29 373.965,1372.29 375.356,1372.29 376.763,1372.29 \n",
       "  378.185,1372.29 379.624,1372.29 381.078,1372.29 382.548,1372.29 384.034,1372.29 385.536,1372.29 387.053,1372.29 388.587,1372.29 390.136,1372.29 391.701,1372.29 \n",
       "  393.282,1372.29 394.878,1372.29 396.491,1372.29 398.119,1372.29 399.763,1372.29 401.423,1372.29 403.098,1372.29 404.79,1372.29 406.497,1372.29 408.22,1372.29 \n",
       "  409.959,1372.29 411.713,1372.29 413.484,1372.29 415.27,1372.29 417.072,1372.29 418.89,1372.29 420.724,1372.29 422.573,1372.29 424.438,1372.29 426.32,1372.29 \n",
       "  428.216,1372.29 430.129,1372.29 432.058,1372.29 434.002,1372.29 435.962,1372.28 437.938,1372.28 439.93,1372.28 441.937,1372.28 443.961,1372.28 446,1372.28 \n",
       "  448.055,1372.28 450.126,1372.28 452.212,1372.28 454.315,1372.28 456.433,1372.28 458.567,1372.28 460.717,1372.28 462.883,1372.28 465.064,1372.28 467.261,1372.28 \n",
       "  469.474,1372.28 471.703,1372.28 473.948,1372.28 476.208,1372.28 478.485,1372.28 480.777,1372.28 483.085,1372.28 485.408,1372.28 487.748,1372.28 490.103,1372.28 \n",
       "  492.474,1372.28 494.861,1372.28 497.264,1372.28 499.683,1372.28 502.117,1372.28 504.567,1372.27 507.033,1372.27 509.515,1372.27 512.013,1372.27 514.526,1372.27 \n",
       "  517.055,1372.27 519.6,1372.27 522.161,1372.27 524.738,1372.27 527.33,1372.27 529.939,1372.27 532.563,1372.27 535.203,1372.27 537.858,1372.27 540.53,1372.27 \n",
       "  543.217,1372.27 545.92,1372.27 548.639,1372.27 551.374,1372.27 554.124,1372.27 556.891,1372.27 559.673,1372.27 562.471,1372.27 565.284,1372.27 568.114,1372.27 \n",
       "  570.959,1372.27 573.821,1372.26 576.698,1372.26 579.59,1372.26 582.499,1372.26 585.423,1372.26 588.364,1372.26 591.32,1372.26 594.291,1372.26 597.279,1372.26 \n",
       "  600.283,1372.26 603.302,1372.26 606.337,1372.26 609.388,1372.26 612.454,1372.26 615.537,1372.26 618.635,1372.26 621.749,1372.26 624.879,1372.26 628.025,1372.26 \n",
       "  631.186,1372.26 634.364,1372.26 637.557,1372.26 640.766,1372.26 643.991,1372.25 647.231,1372.25 650.488,1372.25 653.76,1372.25 657.048,1372.25 660.352,1372.25 \n",
       "  663.671,1372.25 667.007,1372.25 670.358,1372.25 673.725,1372.25 677.108,1372.25 680.506,1372.25 683.921,1372.25 687.351,1372.25 690.797,1372.25 694.259,1372.25 \n",
       "  697.737,1372.25 701.23,1372.25 704.739,1372.25 708.264,1372.25 711.805,1372.24 715.362,1372.24 718.935,1372.24 722.523,1372.24 726.127,1372.24 729.747,1372.24 \n",
       "  733.383,1372.24 737.034,1372.24 740.702,1372.24 744.385,1372.24 748.084,1372.24 751.799,1372.24 755.529,1372.24 759.276,1372.24 763.038,1372.24 766.816,1372.24 \n",
       "  770.61,1372.24 774.419,1372.24 778.245,1372.24 782.086,1372.23 785.943,1372.23 789.816,1372.23 793.705,1372.23 797.609,1372.23 801.529,1372.23 805.466,1372.23 \n",
       "  809.417,1372.23 813.385,1372.23 817.369,1372.23 821.368,1372.23 825.383,1372.23 829.414,1372.23 833.461,1372.23 837.523,1372.23 841.602,1372.23 845.696,1372.23 \n",
       "  849.806,1372.22 853.932,1372.22 858.073,1372.22 862.231,1372.22 866.404,1372.22 870.593,1372.22 874.798,1372.22 879.018,1372.22 883.255,1372.22 887.507,1372.22 \n",
       "  891.775,1372.22 896.059,1372.22 900.359,1372.22 904.674,1372.22 909.006,1372.22 913.353,1372.22 917.716,1372.21 922.094,1372.21 926.489,1372.21 930.899,1372.21 \n",
       "  935.325,1372.21 939.767,1372.21 944.225,1372.21 948.698,1372.21 953.188,1372.21 957.693,1372.21 962.214,1372.21 966.751,1372.21 971.303,1372.21 975.872,1372.2 \n",
       "  980.456,1372.2 985.056,1372.2 989.672,1372.2 994.304,1372.2 998.951,1372.19 1003.61,1372.19 1008.29,1372.18 1012.99,1372.18 1017.7,1372.17 1022.43,1372.16 \n",
       "  1027.17,1372.14 1031.93,1372.13 1036.7,1372.1 1041.49,1372.07 1046.29,1372.03 1051.12,1371.98 1055.95,1371.92 1060.81,1371.84 1065.67,1371.73 1070.56,1371.6 \n",
       "  1075.46,1371.43 1080.38,1371.22 1085.31,1370.95 1090.26,1370.62 1095.22,1370.21 1100.2,1369.71 1105.19,1369.09 1110.21,1368.32 1115.23,1367.39 1120.27,1366.26 \n",
       "  1125.33,1364.9 1130.41,1363.26 1135.5,1361.31 1140.6,1358.98 1145.72,1356.23 1150.86,1353 1156.02,1349.23 1161.18,1344.84 1166.37,1339.77 1171.57,1333.95 \n",
       "  1176.79,1327.31 1182.02,1319.79 1187.27,1311.31 1192.53,1301.82 1197.81,1291.27 1203.11,1279.61 1208.42,1266.8 1213.75,1252.83 1219.09,1237.68 1224.45,1221.34 \n",
       "  1229.82,1203.83 1235.21,1185.16 1240.62,1165.38 1246.04,1144.54 1251.48,1122.7 1256.93,1099.91 1262.4,1076.22 1267.89,1051.69 1273.39,1026.38 1278.9,1000.35 \n",
       "  1284.44,973.592 1289.99,946.071 1295.55,917.65 1301.13,888.067 1306.73,856.866 1312.34,823.289 1317.96,786.102 1323.61,743.272 1329.27,691.408 1334.94,624.913 \n",
       "  1340.63,535.974 1346.34,422.497 1352.06,311.695 1357.8,241.754 1363.55,205.977 1369.32,184.995 1375.11,169.775 1380.91,157.177 1386.73,146.176 1392.56,136.432 \n",
       "  1398.41,127.815 1404.27,120.247 1410.15,113.663 1416.05,107.994 1421.96,103.169 1427.89,99.1146 1433.83,95.7565 1439.79,93.0215 1445.77,90.8384 1451.76,89.1394 \n",
       "  1457.77,87.8604 1463.79,86.9422 1469.83,86.3308 1475.88,85.9772 1481.95,85.838 1488.04,85.875 1494.14,86.0547 1500.26,86.3486 1506.39,86.7323 1512.54,87.1855 \n",
       "  1518.71,87.6912 1524.89,88.2354 1531.08,88.807 1537.3,89.3968 1543.52,89.9976 1549.77,90.604 1556.03,91.2116 1562.3,91.8171 1568.59,92.4182 1574.9,93.013 \n",
       "  1581.23,93.6004 1587.56,94.1794 1593.92,94.7494 1600.29,95.3102 1606.68,95.8617 1613.08,96.4036 1619.5,96.9361 1625.93,97.4593 1632.38,97.9733 1638.84,98.4783 \n",
       "  1645.32,98.9745 1651.82,99.462 1658.33,99.9411 1664.86,100.412 1671.41,100.875 1677.97,101.33 1684.54,101.777 1691.14,102.216 1697.74,102.649 1704.37,103.074 \n",
       "  1711.01,103.492 1717.66,103.904 1724.33,104.308 1731.02,104.707 1737.72,105.098 1744.44,105.484 1751.17,105.864 1757.92,106.237 1764.69,106.605 1771.47,106.967 \n",
       "  1778.27,107.324 1785.08,107.675 1791.91,108.021 1798.75,108.361 1805.61,108.697 1812.49,109.027 1819.38,109.353 1826.29,109.674 1833.21,109.99 1840.15,110.301 \n",
       "  1847.11,110.608 1854.08,110.911 1861.07,111.209 1868.07,111.503 1875.09,111.793 1882.12,112.079 1889.17,112.36 1896.24,112.638 1903.32,112.912 1910.42,113.183 \n",
       "  1917.53,113.449 1924.66,113.712 1931.81,113.972 1938.97,114.227 1946.14,114.48 1953.34,114.729 1960.54,114.975 1967.77,115.217 1975.01,115.457 1982.26,115.693 \n",
       "  1989.54,115.926 1996.82,116.157 2004.13,116.384 2011.45,116.608 2018.78,116.83 2026.13,117.048 2033.5,117.264 2040.88,117.477 2048.28,117.688 2055.69,117.896 \n",
       "  2063.12,118.101 2070.57,118.304 2078.03,118.504 2085.5,118.702 2093,118.898 2100.51,119.091 2108.03,119.282 2115.57,119.47 2123.13,119.657 2130.7,119.841 \n",
       "  2138.29,120.023 2145.89,120.202 2153.51,120.38 2161.14,120.556 2168.79,120.729 2176.46,120.901 2184.14,121.07 2191.84,121.238 2199.56,121.404 2207.29,121.568 \n",
       "  2215.03,121.73 2222.79,121.89 2230.57,122.048 2238.36,122.205 2246.17,122.36 2254,122.513 2261.84,122.664 2269.69,122.814 2277.57,122.962 2285.45,123.109 \n",
       "  2293.36,123.254 \n",
       "  \"/>\n",
       "</svg>\n"
      ]
     },
     "execution_count": 12,
     "metadata": {},
     "output_type": "execute_result"
    }
   ],
   "source": [
    "#X = [i * 4e-9 for i = 1:2000]\n",
    "Tt_cant = py\"np.load\"(\"data/temperature.npy\")\n",
    "plot(timestep, Tt, legend = false, title=\"\")\n",
    "#plot!(timestep[2:end], Tt_cant)\n",
    "xlabel!(\"Time\")\n",
    "ylabel!(\"Temperature\")\n",
    "#savefig(\"Temperature.pdf\")"
   ]
  },
  {
   "cell_type": "code",
   "execution_count": null,
   "metadata": {},
   "outputs": [],
   "source": [
    "X = [i * 4e-9 for i = 1:2000]\n",
    "Pt_cant = py\"np.load\"(\"data/pressure.npy\")\n",
    "plot(timestep, Pt)\n",
    "plot!(X, Pt_cant)\n",
    "xlabel!(\"Time\")\n",
    "ylabel!(\"Pressure\")"
   ]
  },
  {
   "cell_type": "code",
   "execution_count": null,
   "metadata": {},
   "outputs": [],
   "source": [
    "plot(X, Tt)\n",
    "Tt_cant = py\"np.load\"(\"data/temperature.npy\")\n",
    "plot(X, [Tt Tt_cant], label = [\"Julia\" \"Cantera\"])\n",
    "xlabel!(\"Time\")\n",
    "ylabel!(\"Temperature\")\n",
    "#savefig(\"Temperautre.pdf\")"
   ]
  },
  {
   "cell_type": "code",
   "execution_count": 29,
   "metadata": {},
   "outputs": [
    {
     "data": {
      "text/plain": [
       "2001-element Array{Float64,1}:\n",
       "  500.0\n",
       "  500.00029251171594\n",
       "  500.00058502535046\n",
       "  500.0008775409036\n",
       "  500.0011700583754\n",
       "  500.00146257776584\n",
       "  500.00175509907496\n",
       "  500.00204762230277\n",
       "  500.00234014744933\n",
       "  500.00263267451464\n",
       "  500.00292520349876\n",
       "  500.00321773440163\n",
       "  500.00351026722336\n",
       "    ⋮\n",
       " 3051.9681894646483\n",
       " 3051.930540591628\n",
       " 3051.8929527967844\n",
       " 3051.855425937356\n",
       " 3051.8179598710167\n",
       " 3051.780554455875\n",
       " 3051.7432095504723\n",
       " 3051.70592501378\n",
       " 3051.6687007052\n",
       " 3051.6315364845614\n",
       " 3051.594432212119\n",
       " 3051.557387748553"
      ]
     },
     "execution_count": 29,
     "metadata": {},
     "output_type": "execute_result"
    }
   ],
   "source": [
    "Tt"
   ]
  },
  {
   "cell_type": "code",
   "execution_count": null,
   "metadata": {},
   "outputs": [],
   "source": [
    "dt = 1e-12\n",
    "for i = 1:n_t\n",
    "    k1 = f(TY)\n",
    "    k2 = f(TY + 0.5 * dt * k1)\n",
    "    k3 = f(TY + 0.5 * dt * k2)\n",
    "    k4 = f(TY + dt * k3)\n",
    "    TY += 1/6 * dt * (k1 + 2 * k2 + 2 * k3 + k4)\n",
    "    #TY += dt * f(TY)\n",
    "    Tt[i] = TY[1]\n",
    "    print(TY[1])\n",
    "    println(i)\n",
    "    Y = TY[2:end]\n",
    "    Yt[:,i] = Y\n",
    "    X = ρ * Y ./ W\n",
    "    p = sum(X) * R * TY[1]\n",
    "    TYt[:,i] = TY\n",
    "    Pt[i] = p\n",
    "end"
   ]
  },
  {
   "cell_type": "code",
   "execution_count": null,
   "metadata": {},
   "outputs": [],
   "source": [
    "function forward!(dty, ty, p, t)\n",
    "    T = ty[1]\n",
    "    Y = ty[2:end]\n",
    "    ρ = m / V # density\n",
    "    X = ρ * Y ./ W # Concentration\n",
    "    Q = ones(M) # Individual progress rates\n",
    "    # cpHS = compute_cpHS(NASA_coeffs, R, T)\n",
    "    # cp = cpHS[:,1]\n",
    "    # h = cpHS[:,2]\n",
    "    # s = cpHS[:,3]\n",
    "    #islarge = NASA_coeffs[:,1] .< T * ones(N)\n",
    "    fhi = f_hi(NASA_coeffs, T, R)\n",
    "    #flo = f_lo(NASA_coeffs, T, R)\n",
    "    \n",
    "#     cp = islarge .* fhi[:,1] + (1 .- islarge) .* flo[:,1]\n",
    "#     h = islarge .* fhi[:,2] + (1 .- islarge) .* flo[:,2]\n",
    "#     s = islarge .* fhi[:,3] + (1 .- islarge) .* flo[:,3]\n",
    "    cp = fhi[:,1] \n",
    "    h = fhi[:,2] \n",
    "    s = fhi[:,3] \n",
    "    cvk = cp .- R\n",
    "    ΔS = ν' * s  # Entropy change for reaction j\n",
    "    ΔH = ν' * h # Entahlpy change for reaction j\n",
    "    ####\n",
    "    M_t = efficiency_t' * X\n",
    "    Kf_t = Af_t .* (T .^ β_t) .* exp.(-E_t ./ (R * T)) .* M_t\n",
    "    Kr_t = Kf_t ./ (((pa/(R * T)) .^ sum(ν[:,tbd], dims=1)' .* exp.(ΔS[tbd] ./ R - ΔH[tbd] ./ (R * T))))\n",
    "    Qtbd = Kf_t .* prod(X .^ order_t, dims=1)' .- Kr_t .* prod(X .^ ν2[:,tbd], dims=1)' .* reversible[tbd]\n",
    "    ####\n",
    "    M_f = efficiency_f' * X\n",
    "    Kf_lo = Af_lo .* (T .^ β_lo) .* exp.(-E_lo ./ (R * T)) .* M_f\n",
    "    Kf_hi = Af_hi .* (T .^ β_hi) .* exp.(-E_hi ./ (R * T)) \n",
    "    Pr = Kf_lo ./ Kf_hi\n",
    "    Fac = ones(size(falofr)[1])\n",
    "    Fac[troefall] = [compute_falloff(T, Pr[s], troefall_coeff[:,i]) for (i,s) in enumerate(troefall)]\n",
    "    Kf_f = Kf_lo ./ (1 .+ (Kf_lo ./ Kf_hi)) .* Fac\n",
    "    Kr_f = Kf_f ./ (((pa/(R * T)) .^ sum(ν[:,falofr], dims=1)' .* exp.(ΔS[falofr] ./ R - ΔH[falofr] ./ (R * T))))\n",
    "    Qfalofr = Kf_f .* prod(X .^ order_f, dims=1)' .- Kr_f .* prod(X .^ ν2[:,falofr], dims=1)' .* reversible[falofr]\n",
    "    ####\n",
    "    Kf = Af .* (T .^ β) .* exp.(-E ./ (R * T))\n",
    "    Kr = Kf ./ (((pa/(R * T)) .^ sum(ν[:,elmr], dims=1)' .* exp.(ΔS[elmr] ./ R - ΔH[elmr] ./ (R * T))))\n",
    "    Qelmr = Kf .* prod(X .^ order, dims=1)' .- Kr .* prod(X .^ ν2[:,elmr], dims=1)' .* reversible[elmr]\n",
    "    ##### Computing ω_dot \n",
    "    cv = sum(cvk ./ W .* Y) # Mass heat capacities\n",
    "    u = h ./ W - R ./ W .* T   # Internal energy for species\n",
    "    p = sum(X) * R * T # pressure\n",
    "    Q = [Qtbd' Qfalofr' Qelmr']\n",
    "    ν_new = [ν[:,tbd] ν[:,falofr] ν[:,elmr]]\n",
    "    ω_dot = W .* sum(ν_new .* Q, dims=2)\n",
    "    ###### Species Conservation\n",
    "    mgen_dot = V .* ω_dot\n",
    "    dty[2:end] = (1 / m) .* (min_dot .* (Yin .- Y) - mout_dot .* Y .+ mgen_dot) \n",
    "    ###### Energy Conservation\n",
    "    dty[1] = 1 / (m * cv) * (-Qdot + min_dot * (hin - sum(u .* Yin)) - p * V / m * mout_dot - sum(mgen_dot .* u))\n",
    "end"
   ]
  },
  {
   "cell_type": "code",
   "execution_count": null,
   "metadata": {},
   "outputs": [],
   "source": [
    "TY = [T;Y]\n",
    "u0 = TY\n",
    "tspan = (0.0,0.001)\n",
    "prob = ODEProblem(forward!,u0,tspan)\n",
    "sol = DifferentialEquations.solve(prob)"
   ]
  },
  {
   "cell_type": "code",
   "execution_count": null,
   "metadata": {},
   "outputs": [],
   "source": [
    "using ModelingToolkit\n",
    "de = modelingtoolkitize(prob)"
   ]
  },
  {
   "cell_type": "code",
   "execution_count": null,
   "metadata": {},
   "outputs": [],
   "source": [
    "function f_hi(a, T, R)\n",
    "        v1 = (a[:,2] + a[:,3] * T + a[:,4] * T^2 + a[:,5] * T^3 + a[:,6] * T^4) * R\n",
    "        v2 = (a[:,2] + a[:,3] * T / 2 + a[:,4] * T^2 /3 + a[:,5] * T^3 /4 + a[:,6] * T^4 /5 + a[:,7]/T) * R * T\n",
    "        v3 = (a[:,2] * log(T) + a[:,3] * T + a[:,4] * T^2 /2 + a[:,5] * T^3 /3 + a[:,6] * T^4 / 4 + a[:,8]) * R\n",
    "    return [v1 v2 v3]\n",
    "end\n",
    " \n",
    "function f_lo(a, T, R)\n",
    "    v1 = (a[:,9] + a[:,10] * T + a[:,11] * T^2 + a[:,12] * T^3 + a[:,13] * T^4) * R\n",
    "    v2 = (a[:,9] + a[:,10] * T / 2 + a[:,11] * T^2 /3 + a[:,12] * T^3 /4 + a[:,13] * T^4 /5 + a[:,14]/T) * R * T\n",
    "    v3 = (a[:,9] * log(T) + a[:,10] * T + a[:,11] * T^2 /2 + a[:,12] * T^3 /3 + a[:,13] * T^4 / 4 + a[:,15]) * R\n",
    "    return [v1 v2 v3]\n",
    "end "
   ]
  },
  {
   "cell_type": "code",
   "execution_count": null,
   "metadata": {},
   "outputs": [],
   "source": [
    "islarge = NASA_coeffs[:,1] .< T * ones(N)\n",
    "fhi = f_hi(NASA_coeffs, T, R)\n",
    "flo = f_lo(NASA_coeffs, T, R)\n",
    "cp = islarge .* fhi[:,1] + (1 .- islarge) .* flo[:,1]\n",
    "h = islarge .* fhi[:,2] + (1 .- islarge) .* flo[:,2]\n",
    "s = islarge .* fhi[:,3] + (1 .- islarge) .* flo[:,3]"
   ]
  },
  {
   "cell_type": "code",
   "execution_count": null,
   "metadata": {},
   "outputs": [],
   "source": [
    "Pt"
   ]
  },
  {
   "cell_type": "code",
   "execution_count": null,
   "metadata": {},
   "outputs": [],
   "source": [
    "tf.isgreat(T, NASA_coeffs[:,1])"
   ]
  },
  {
   "cell_type": "code",
   "execution_count": null,
   "metadata": {},
   "outputs": [],
   "source": [
    "tbd"
   ]
  },
  {
   "cell_type": "code",
   "execution_count": null,
   "metadata": {},
   "outputs": [],
   "source": [
    "using DifferentialEquations"
   ]
  },
  {
   "cell_type": "code",
   "execution_count": null,
   "metadata": {},
   "outputs": [],
   "source": [
    "log.(Af)"
   ]
  },
  {
   "cell_type": "code",
   "execution_count": null,
   "metadata": {},
   "outputs": [],
   "source": [
    "log.(E)"
   ]
  },
  {
   "cell_type": "code",
   "execution_count": null,
   "metadata": {},
   "outputs": [],
   "source": [
    "exp(20)"
   ]
  },
  {
   "cell_type": "code",
   "execution_count": null,
   "metadata": {},
   "outputs": [],
   "source": [
    "Af"
   ]
  },
  {
   "cell_type": "code",
   "execution_count": null,
   "metadata": {},
   "outputs": [],
   "source": [
    "E"
   ]
  },
  {
   "cell_type": "code",
   "execution_count": null,
   "metadata": {},
   "outputs": [],
   "source": [
    "exp(17)"
   ]
  },
  {
   "cell_type": "code",
   "execution_count": null,
   "metadata": {},
   "outputs": [],
   "source": [
    "exp(17.9616)"
   ]
  },
  {
   "cell_type": "code",
   "execution_count": 50,
   "metadata": {},
   "outputs": [
    {
     "data": {
      "text/latex": [
       "19987"
      ],
      "text/plain": [
       "19987"
      ]
     },
     "execution_count": 50,
     "metadata": {},
     "output_type": "execute_result"
    }
   ],
   "source": [
    "argmax(Tt)"
   ]
  },
  {
   "cell_type": "code",
   "execution_count": 52,
   "metadata": {},
   "outputs": [
    {
     "data": {
      "text/latex": [
       "0 . 0 0 1 9 9 7 3 0 0 9 0 9 9 9 9 9 9 9"
      ],
      "text/plain": [
       "0.001997300909999999"
      ]
     },
     "execution_count": 52,
     "metadata": {},
     "output_type": "execute_result"
    }
   ],
   "source": [
    "timestep[argmax(Tt)] #500K"
   ]
  },
  {
   "cell_type": "code",
   "execution_count": 55,
   "metadata": {},
   "outputs": [
    {
     "data": {
      "text/latex": [
       "0 . 0 0 1 9 9 6 7 0 1 3 5 9 9 9 9 9 9 9 5"
      ],
      "text/plain": [
       "0.0019967013599999995"
      ]
     },
     "execution_count": 55,
     "metadata": {},
     "output_type": "execute_result"
    }
   ],
   "source": [
    "timestep[argmax(Tt_cant)]  #500K"
   ]
  },
  {
   "cell_type": "code",
   "execution_count": 77,
   "metadata": {},
   "outputs": [
    {
     "data": {
      "text/latex": [
       "0 . 0 0 0 1 0 7 1 4 2 8 4 1"
      ],
      "text/plain": [
       "0.000107142841"
      ]
     },
     "execution_count": 77,
     "metadata": {},
     "output_type": "execute_result"
    }
   ],
   "source": [
    "timestep[argmax(Tt)] #800K"
   ]
  },
  {
   "cell_type": "code",
   "execution_count": 78,
   "metadata": {},
   "outputs": [
    {
     "data": {
      "text/latex": [
       "0 . 0 0 0 1 0 7 1 2 8 2 0 3"
      ],
      "text/plain": [
       "0.000107128203"
      ]
     },
     "execution_count": 78,
     "metadata": {},
     "output_type": "execute_result"
    }
   ],
   "source": [
    "timestep[argmax(Tt_cant)] #800K"
   ]
  },
  {
   "cell_type": "code",
   "execution_count": 103,
   "metadata": {},
   "outputs": [
    {
     "data": {
      "text/latex": [
       "0 . 0 0 0 2 0 8 8 2 5 2 6 6"
      ],
      "text/plain": [
       "0.000208825266"
      ]
     },
     "execution_count": 103,
     "metadata": {},
     "output_type": "execute_result"
    }
   ],
   "source": [
    "timestep[argmax(Tt)] # 700K"
   ]
  },
  {
   "cell_type": "code",
   "execution_count": 104,
   "metadata": {},
   "outputs": [
    {
     "data": {
      "text/latex": [
       "0 . 0 0 0 2 0 8 8 0 4 8 2 9 9 9 9 9 9 9 9 8"
      ],
      "text/plain": [
       "0.00020880482999999998"
      ]
     },
     "execution_count": 104,
     "metadata": {},
     "output_type": "execute_result"
    }
   ],
   "source": [
    "timestep[argmax(Tt_cant)] #700K"
   ]
  },
  {
   "cell_type": "code",
   "execution_count": 119,
   "metadata": {},
   "outputs": [
    {
     "data": {
      "text/latex": [
       "3 . 8 2 2 4 3 9 5 9 9 9 9 9 9 9 9 5 e - 5"
      ],
      "text/plain": [
       "3.8224395999999995e-5"
      ]
     },
     "execution_count": 119,
     "metadata": {},
     "output_type": "execute_result"
    }
   ],
   "source": [
    "ignition_1000 = timestep[argmax(Tt)] #1000K"
   ]
  },
  {
   "cell_type": "code",
   "execution_count": 120,
   "metadata": {},
   "outputs": [
    {
     "data": {
      "text/latex": [
       "3 . 8 2 1 5 6 5 2 9 9 9 9 9 9 9 9 e - 5"
      ],
      "text/plain": [
       "3.821565299999999e-5"
      ]
     },
     "execution_count": 120,
     "metadata": {},
     "output_type": "execute_result"
    }
   ],
   "source": [
    "ignition_1000_cant = timestep[argmax(Tt_cant)] #1000K"
   ]
  },
  {
   "cell_type": "code",
   "execution_count": 130,
   "metadata": {},
   "outputs": [
    {
     "data": {
      "text/latex": [
       "1 . 6 0 1 4 9 7 0 0 0 0 0 0 0 0 0 3 e - 5"
      ],
      "text/plain": [
       "1.6014970000000003e-5"
      ]
     },
     "execution_count": 130,
     "metadata": {},
     "output_type": "execute_result"
    }
   ],
   "source": [
    "ignition_1200 = timestep[argmax(Tt)] #1000K"
   ]
  },
  {
   "cell_type": "code",
   "execution_count": 131,
   "metadata": {},
   "outputs": [
    {
     "data": {
      "text/latex": [
       "1 . 6 0 0 9 3 1 1 0 0 0 0 0 0 0 0 3 e - 5"
      ],
      "text/plain": [
       "1.6009311000000003e-5"
      ]
     },
     "execution_count": 131,
     "metadata": {},
     "output_type": "execute_result"
    }
   ],
   "source": [
    "ignition_1200_cant = timestep[argmax(Tt_cant)] #1000K"
   ]
  },
  {
   "cell_type": "code",
   "execution_count": 139,
   "metadata": {},
   "outputs": [
    {
     "data": {
      "text/latex": [
       "5 . 3 2 8 4 7 9 9 9 9 9 9 9 9 9 7 e - 6"
      ],
      "text/plain": [
       "5.328479999999997e-6"
      ]
     },
     "execution_count": 139,
     "metadata": {},
     "output_type": "execute_result"
    }
   ],
   "source": [
    "ignition_1500 = timestep[argmax(Tt)] #1500K"
   ]
  },
  {
   "cell_type": "code",
   "execution_count": 140,
   "metadata": {},
   "outputs": [
    {
     "data": {
      "text/latex": [
       "5 . 3 2 5 2 1 5 9 9 9 9 9 9 9 9 6 5 e - 6"
      ],
      "text/plain": [
       "5.3252159999999965e-6"
      ]
     },
     "execution_count": 140,
     "metadata": {},
     "output_type": "execute_result"
    }
   ],
   "source": [
    "ignition_1500_cant = timestep[argmax(Tt_cant)] #1500K"
   ]
  },
  {
   "cell_type": "code",
   "execution_count": 149,
   "metadata": {},
   "outputs": [
    {
     "data": {
      "text/latex": [
       "2 . 2 5 0 3 8 1 0 0 0 0 0 0 0 0 0 6 e - 6"
      ],
      "text/plain": [
       "2.2503810000000006e-6"
      ]
     },
     "execution_count": 149,
     "metadata": {},
     "output_type": "execute_result"
    }
   ],
   "source": [
    "ignition_1800 = timestep[argmax(Tt)] #1500K"
   ]
  },
  {
   "cell_type": "code",
   "execution_count": 150,
   "metadata": {},
   "outputs": [
    {
     "data": {
      "text/latex": [
       "2 . 2 4 8 2 6 0 0 0 0 0 0 0 0 0 0 7 e - 6"
      ],
      "text/plain": [
       "2.2482600000000007e-6"
      ]
     },
     "execution_count": 150,
     "metadata": {},
     "output_type": "execute_result"
    }
   ],
   "source": [
    "ignition_1800_cant = timestep[argmax(Tt_cant)] #1500K"
   ]
  },
  {
   "cell_type": "code",
   "execution_count": 165,
   "metadata": {},
   "outputs": [
    {
     "data": {
      "text/latex": [
       "0 . 0 0 0 5 1 3 8 7 3 7 1 0 9 9 9 9 9 9 7"
      ],
      "text/plain": [
       "0.0005138737109999997"
      ]
     },
     "execution_count": 165,
     "metadata": {},
     "output_type": "execute_result"
    }
   ],
   "source": [
    "ignition_600 = timestep[argmax(Tt)] #1500K"
   ]
  },
  {
   "cell_type": "code",
   "execution_count": 166,
   "metadata": {},
   "outputs": [
    {
     "data": {
      "text/latex": [
       "0 . 0 0 0 5 1 3 8 4 1 6 5 2 9 9 9 9 9 9 8"
      ],
      "text/plain": [
       "0.0005138416529999998"
      ]
     },
     "execution_count": 166,
     "metadata": {},
     "output_type": "execute_result"
    }
   ],
   "source": [
    "ignition_600_cant = timestep[argmax(Tt_cant)] #1500K"
   ]
  },
  {
   "cell_type": "code",
   "execution_count": 185,
   "metadata": {},
   "outputs": [
    {
     "data": {
      "text/latex": [
       "0 . 0 0 1 9 9 6 9 6 2 0 0 2 9 9 9 9 9 9"
      ],
      "text/plain": [
       "0.001996962002999999"
      ]
     },
     "execution_count": 185,
     "metadata": {},
     "output_type": "execute_result"
    }
   ],
   "source": [
    "ignition_500 = timestep[argmax(Tt)] #1500K"
   ]
  },
  {
   "cell_type": "code",
   "execution_count": 186,
   "metadata": {},
   "outputs": [
    {
     "data": {
      "text/latex": [
       "0 . 0 0 1 9 9 6 8 9 8 8 0 5 9 9 9 9 9 9"
      ],
      "text/plain": [
       "0.001996898805999999"
      ]
     },
     "execution_count": 186,
     "metadata": {},
     "output_type": "execute_result"
    }
   ],
   "source": [
    "ignition_500_cant = timestep[argmax(Tt_cant)] #1500K"
   ]
  },
  {
   "cell_type": "code",
   "execution_count": 195,
   "metadata": {},
   "outputs": [
    {
     "data": {
      "text/plain": [
       "8-element Array{Float64,1}:\n",
       " 0.001996962002999999\n",
       " 0.0005138737109999997\n",
       " 0.000208825266\n",
       " 0.000107142841\n",
       " 3.8224395999999995e-5\n",
       " 1.6014970000000003e-5\n",
       " 5.328479999999997e-6\n",
       " 2.2503810000000006e-6"
      ]
     },
     "execution_count": 195,
     "metadata": {},
     "output_type": "execute_result"
    }
   ],
   "source": [
    "Initial_Temp = [500, 600, 700, 800, 1000, 1200, 1500, 1800]\n",
    "Ignition_Delay = [ignition_500, 0.0005138737109999997, 0.000208825266, 0.000107142841, ignition_1000, ignition_1200, ignition_1500, ignition_1800]"
   ]
  },
  {
   "cell_type": "code",
   "execution_count": 196,
   "metadata": {},
   "outputs": [
    {
     "data": {
      "text/plain": [
       "8-element Array{Float64,1}:\n",
       " 0.001996898805999999\n",
       " 0.000513841652999\n",
       " 0.00020880482999999998\n",
       " 0.000107128203\n",
       " 3.821565299999999e-5\n",
       " 1.6009311000000003e-5\n",
       " 5.3252159999999965e-6\n",
       " 2.2482600000000007e-6"
      ]
     },
     "execution_count": 196,
     "metadata": {},
     "output_type": "execute_result"
    }
   ],
   "source": [
    "Ignition_Delay_Cant = [ignition_500_cant, 0.000513841652999, 0.00020880482999999998, 0.000107128203, ignition_1000_cant, ignition_1200_cant, ignition_1500_cant, ignition_1800_cant]"
   ]
  },
  {
   "cell_type": "code",
   "execution_count": 208,
   "metadata": {},
   "outputs": [],
   "source": [
    "plot(1000 ./ Initial_Temp, Ignition_Delay, seriestype = :scatter, label = \"Julia\", yaxis=:log)\n",
    "plot!(1000 ./ Initial_Temp, Ignition_Delay, label = \"Julia\")\n",
    "plot!(1000 ./ Initial_Temp, Ignition_Delay_Cant, label = \"Cantera\")\n",
    "ylabel!(\"Ignition Delay Time\")\n",
    "xlabel!(\"1000 / Temperature\")\n",
    "savefig(\"Ignition_Delay.pdf\")"
   ]
  },
  {
   "cell_type": "code",
   "execution_count": null,
   "metadata": {},
   "outputs": [],
   "source": [
    "ignition_500"
   ]
  }
 ],
 "metadata": {
  "kernelspec": {
   "display_name": "Julia 1.5.0",
   "language": "julia",
   "name": "julia-1.5"
  },
  "language_info": {
   "file_extension": ".jl",
   "mimetype": "application/julia",
   "name": "julia",
   "version": "1.5.0"
  }
 },
 "nbformat": 4,
 "nbformat_minor": 4
}
