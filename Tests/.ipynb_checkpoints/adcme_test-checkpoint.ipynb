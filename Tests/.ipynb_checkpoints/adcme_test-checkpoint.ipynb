{
 "cells": [
  {
   "cell_type": "code",
   "execution_count": 1,
   "metadata": {},
   "outputs": [],
   "source": [
    "using ADCME\n",
    "using Plots\n",
    "using PyCall\n",
    "#### Read data\n",
    "py\"\"\"\n",
    "import numpy as np\n",
    "\"\"\""
   ]
  },
  {
   "cell_type": "code",
   "execution_count": 10,
   "metadata": {},
   "outputs": [
    {
     "data": {
      "text/plain": [
       "compute_falloff (generic function with 1 method)"
      ]
     },
     "execution_count": 10,
     "metadata": {},
     "output_type": "execute_result"
    }
   ],
   "source": [
    "function f_hi(a, T, R)\n",
    "        v1 = (a[:,2] + a[:,3] * T + a[:,4] * T^2 + a[:,5] * T^3 + a[:,6] * T^4) * R\n",
    "        v2 = (a[:,2] + a[:,3] * T / 2 + a[:,4] * T^2 /3 + a[:,5] * T^3 /4 + a[:,6] * T^4 /5 + a[:,7]/T) * R * T\n",
    "        v3 = (a[:,2] * log(T) + a[:,3] * T + a[:,4] * T^2 /2 + a[:,5] * T^3 /3 + a[:,6] * T^4 / 4 + a[:,8]) * R\n",
    "    return [v1 v2 v3]\n",
    "end\n",
    " \n",
    "function f_lo(a, T, R)\n",
    "    v1 = (a[:,9] + a[:,10] * T + a[:,11] * T^2 + a[:,12] * T^3 + a[:,13] * T^4) * R\n",
    "    v2 = (a[:,9] + a[:,10] * T / 2 + a[:,11] * T^2 /3 + a[:,12] * T^3 /4 + a[:,13] * T^4 /5 + a[:,14]/T) * R * T\n",
    "    v3 = (a[:,9] * log(T) + a[:,10] * T + a[:,11] * T^2 /2 + a[:,12] * T^3 /3 + a[:,13] * T^4 / 4 + a[:,15]) * R\n",
    "    return [v1 v2 v3]\n",
    "end \n",
    "\n",
    "function compute_falloff(T, pr, a)\n",
    "    fcent = (1 - a[1]) * exp(-T/a[2]) + a[1] * exp(-T/a[3]) + exp(-a[4]/T)\n",
    "    c = -0.4 - 0.67 * log(fcent) / log(10)\n",
    "    n = 0.75 - 1.27 * log(fcent) / log(10)\n",
    "    f1 = (log(pr) / log(10) + c) / (n - 0.14 *(log(pr) / log(10) + c))\n",
    "    return  10 ^ ((log(fcent) / log(10)) / (1 + f1 ^ 2))\n",
    "end"
   ]
  },
  {
   "cell_type": "code",
   "execution_count": 11,
   "metadata": {},
   "outputs": [],
   "source": [
    "V = 1  # Volume\n",
    "m = 0.601279332122976  # Total mass\n",
    "tbd = py\"np.load\"(\"/home/darve/adncat/yizhou/PSAAP3/Tests/data/tbd.npy\") .+ 1\n",
    "falofr = py\"np.load\"(\"/home/darve/adncat/yizhou/PSAAP3/Tests/data/falofr.npy\") .+ 1\n",
    "elmr = py\"np.load\"(\"/home/darve/adncat/yizhou/PSAAP3/Tests/data/elmr.npy\") .+ 1\n",
    "NASA_coeffs = py\"np.load\"(\"data/NASA_coeffs.npy\")\n",
    "W = py\"np.load\"(\"data/molecular_weights.npy\") # Molar weight\n",
    "ν1 = py\"np.load\"(\"data/reactants_stoich_coeffs.npy\") # Forward molar stoichiometric coefficients\n",
    "ν2 = py\"np.load\"(\"data/product_stoich_coeffs.npy\") # Backward model stoichiometric coefficients\n",
    "reversible = py\"np.load\"(\"data/reversible.npy\")\n",
    "N = size(ν1)[1]  # Number of Species\n",
    "M = size(ν1)[2]  # Number of Reactions\n",
    "ν1_order = zeros(N,M)\n",
    "ν = ν2 - ν1  \n",
    "pa = 100000 # 1 bar\n",
    "R = 8314.4621 # Gas constant in kmol\n",
    "### Constants: Combustion Chamber Level\n",
    "min_dot = 0 # Rate at which mass enters the chamber\n",
    "mout_dot = 0 # Rate at which mass leaves the chamber\n",
    "Yin = ones(N) # Mass fraction of species entering the chamber\n",
    "Yout = ones(N) # Mass fraction of species leaving the chamber\n",
    "Qdot = 0 # Heating source\n",
    "m_dot = min_dot - mout_dot\n",
    "hin = 1 # Enthalpy of input\n",
    "### Unknowns\n",
    "T = 500.0 # Temperature\n",
    "Y = py\"np.load\"(\"/home/darve/adncat/yizhou/PSAAP3/Tests/data/ini_mass_fraction.npy\") # Mass fractions\n",
    "#Y .+= 0.00001\n",
    "#Y ./ sum(Y)\n",
    "### Quantities that depend on the Unknowns\n",
    "tbd = py\"np.load\"(\"/home/darve/adncat/yizhou/PSAAP3/Tests/data/tbd.npy\") .+ 1\n",
    "tbd = Int.(tbd)\n",
    "falofr = py\"np.load\"(\"/home/darve/adncat/yizhou/PSAAP3/Tests/data/falofr.npy\") .+ 1\n",
    "falofr = Int.(falofr)\n",
    "elmr = py\"np.load\"(\"/home/darve/adncat/yizhou/PSAAP3/Tests/data/elmr.npy\") .+ 1\n",
    "elmr = Int.(elmr)\n",
    "\n",
    "order = py\"np.load\"(\"data/reaction_orders.npy\")\n",
    "Af = py\"np.load\"(\"/home/darve/adncat/yizhou/PSAAP3/Tests/data/pre_exponential_factor.npy\") # preexponential constant Afj\n",
    "β = py\"np.load\"(\"/home/darve/adncat/yizhou/PSAAP3/Tests/data/temperature_exponent.npy\") # Temperature exponent\n",
    "E = py\"np.load\"(\"/home/darve/adncat/yizhou/PSAAP3/Tests/data/activation_energy.npy\") # Activation energy for the reactions in kJ\n",
    "\n",
    "order_t = py\"np.load\"(\"data/reaction_orders_t.npy\")\n",
    "efficiency_t = py\"np.load\"(\"data/efficiency_t.npy\")\n",
    "Af_t = py\"np.load\"(\"/home/darve/adncat/yizhou/PSAAP3/Tests/data/pre_exponential_factor_t.npy\") # preexponential constant Afj\n",
    "β_t = py\"np.load\"(\"/home/darve/adncat/yizhou/PSAAP3/Tests/data/temperature_exponent_t.npy\") # Temperature exponent\n",
    "E_t = py\"np.load\"(\"/home/darve/adncat/yizhou/PSAAP3/Tests/data/activation_energy_t.npy\") # Activation energy for the reactions in kJ\n",
    "\n",
    "order_f = py\"np.load\"(\"data/reaction_orders_f.npy\")\n",
    "troefall = py\"np.load\"(\"data/troefall.npy\") .+ 1\n",
    "troefall_coeff = py\"np.load\"(\"data/troefall_coeff.npy\")\n",
    "efficiency_f = py\"np.load\"(\"data/efficiency_f.npy\")\n",
    "Af_hi = py\"np.load\"(\"/home/darve/adncat/yizhou/PSAAP3/Tests/data/pre_exponential_factor_hi.npy\") # preexponential constant Afj\n",
    "β_hi = py\"np.load\"(\"/home/darve/adncat/yizhou/PSAAP3/Tests/data/temperature_exponent_hi.npy\") # Temperature exponent\n",
    "E_hi = py\"np.load\"(\"/home/darve/adncat/yizhou/PSAAP3/Tests/data/activation_energy_hi.npy\") \n",
    "\n",
    "Af_lo = py\"np.load\"(\"/home/darve/adncat/yizhou/PSAAP3/Tests/data/pre_exponential_factor_lo.npy\") # preexponential constant Afj\n",
    "β_lo = py\"np.load\"(\"/home/darve/adncat/yizhou/PSAAP3/Tests/data/temperature_exponent_lo.npy\") # Temperature exponent\n",
    "E_lo = py\"np.load\"(\"/home/darve/adncat/yizhou/PSAAP3/Tests/data/activation_energy_lo.npy\") \n",
    "\n",
    "ν1_order[:,elmr] = order\n",
    "ν1_order[:,tbd] = order_t\n",
    "ν1_order[:,falofr] = order_f;"
   ]
  },
  {
   "cell_type": "code",
   "execution_count": 12,
   "metadata": {},
   "outputs": [
    {
     "data": {
      "text/plain": [
       "f (generic function with 2 methods)"
      ]
     },
     "execution_count": 12,
     "metadata": {},
     "output_type": "execute_result"
    }
   ],
   "source": [
    "function q(t)\n",
    "    t0 = 1e-5\n",
    "    r = 1e-6\n",
    "    c = 1e12\n",
    "    return c * exp(-(t-t0)^2 / r^2)\n",
    "end\n",
    "function f(TY, θ, t)\n",
    "    T = TY[1]\n",
    "    Y = TY[2:end]\n",
    "    ρ = m / V # density\n",
    "    X = tf.reshape(ρ * tf.divide(Y, W), (N,1)) # Concentration\n",
    "    Q = ADCME.constant(ones(M)) # Individual progress rates\n",
    "    islarge = T > ADCME.constant(NASA_coeffs[:,1])\n",
    "    islarge = convert_to_tensor(islarge, dtype=Float64)\n",
    "    fhi = f_hi(NASA_coeffs, T, R)\n",
    "    flo = f_lo(NASA_coeffs, T, R)\n",
    "    cp = islarge .* fhi[:,1] + (1 - islarge) .* flo[:,1]\n",
    "    h = islarge .* fhi[:,2] + (1 - islarge) .* flo[:,2]\n",
    "    s = islarge .* fhi[:,3] + (1 - islarge) .* flo[:,3]\n",
    "    cvk = cp .- R\n",
    "    ΔS = ν' * s  # Entropy change for reaction j\n",
    "    ΔH = ν' * h # Entahlpy change for reaction j\n",
    "    ####\n",
    "    M_t = efficiency_t' * X[:,1]\n",
    "    Kf_t = Af_t .* (T ^ β_t) .* exp(-E_t / (R * T)) .* M_t\n",
    "    Kr_t = Kf_t ./ (((pa/(R * T)) ^ sum(ν[:,tbd], dims=1)')[:,1] .* exp(ΔS[tbd] ./ R - ΔH[tbd] / (R * T)))\n",
    "    Qtbd =  Kf_t .* (prod(tf.pow(X, order_t), dims=1)) .- Kr_t .* (prod(tf.pow(X, ν2[:,tbd]), dims=1) .* reversible[tbd])\n",
    "    M_f = efficiency_f' * X[:,1]\n",
    "    Kf_lo = Af_lo .* (T ^ β_lo) .* exp(-E_lo / (R * T)) .* M_f\n",
    "    Kf_hi = Af_hi .* (T ^ β_hi) .* exp(-E_hi / (R * T)) \n",
    "    Pr = Kf_lo ./ Kf_hi\n",
    "    Fac = ADCME.constant(ones(size(falofr)[1]))\n",
    "    for (i,s) in enumerate(troefall)\n",
    "        a = troefall_coeff[:,i]\n",
    "        fcent = (1 - a[1]) * exp(-T/a[2]) + a[1] * exp(-T/a[3]) + exp(-a[4]/T)\n",
    "        c = -0.4 - 0.67 * log(fcent) / log(10)\n",
    "        n = 0.75 - 1.27 * log(fcent) / log(10)\n",
    "        f1 = (log(Pr[s]) / log(10) + c) / (n - 0.14 *(log(Pr[s]) / log(10) + c))\n",
    "        Fac = scatter_update(Fac, troefall[i], 10 ^ ((log(fcent) / log(10)) / (1 + f1 ^ 2)))\n",
    "    end\n",
    "    Kf_f = Kf_lo ./ (1 .+ (Kf_lo ./ Kf_hi)) .* Fac\n",
    "    Kr_f = Kf_f ./ (((pa/(R * T)) ^ sum(ν[:,falofr], dims=1)')[:,1] .* exp(ΔS[falofr] ./ R - ΔH[falofr] / (R * T)))\n",
    "    Qfalofr = Kf_f .* (prod(tf.pow(X, order_f), dims=1)) .- Kr_f .* (prod(tf.pow(X, ν2[:,falofr]), dims=1) .* reversible[falofr])\n",
    "    ####\n",
    "#     Af = exp(θ[:,1])\n",
    "#     β = zeros(M)\n",
    "#     E = exp(θ[:,3])\n",
    "    Kf = Af .* (T ^ β) .* exp(-E / (R * T))\n",
    "    Kr = Kf ./ (((pa/(R * T)) ^ sum(ν[:,elmr], dims=1)')[:,1] .* exp(ΔS[elmr] ./ R - ΔH[elmr] / (R * T)))\n",
    "    Qelmr = Kf .* (prod(tf.pow(X, order), dims=1)) .- Kr .* (prod(tf.pow(X, ν2[:,elmr]), dims=1) .* reversible[elmr])\n",
    "    Q = [Qtbd' Qfalofr' Qelmr']\n",
    "    ν_new = [ν[:,tbd] ν[:,falofr] ν[:,elmr]]\n",
    "    ##### Computing ω_dot \n",
    "    cv = sum(cvk ./ W .* Y) # Mass heat capacities\n",
    "    u = h / W - R ./ W * T   # Internal energy for species\n",
    "    p = sum(X) * R * T # pressure\n",
    "    ω_dot = W .* sum(ν_new .* Q, dims=2)\n",
    "    ###### Species Conservation\n",
    "    mgen_dot = V * ω_dot\n",
    "    Y_dot = (1 / m) * ((min_dot * (Yin - Y) - mout_dot * Y) + mgen_dot) \n",
    "    ###### EnergyConservation\n",
    "    T_dot = 1 / (m * cv) * (q(t) + min_dot * (hin - sum(u .* Yin)) - p * V / m * mout_dot - sum(mgen_dot .* u))\n",
    "    return tf.concat([tf.reshape(T_dot, (1,)), Y_dot], 0)\n",
    "end"
   ]
  },
  {
   "cell_type": "code",
   "execution_count": 13,
   "metadata": {
    "scrolled": true
   },
   "outputs": [
    {
     "data": {
      "text/plain": [
       "2001×7 Array{Float64,2}:\n",
       " 1200.0    0.166667     0.166667  0.166667   0.166667  0.166667   0.166667\n",
       "  500.0    0.166667     0.166667  0.166667   0.166667  0.166667   0.166667\n",
       "  500.001  0.166667     0.166667  0.166667   0.166667  0.166667   0.166667\n",
       "  500.001  0.166667     0.166667  0.166667   0.166667  0.166667   0.166667\n",
       "  500.001  0.166667     0.166667  0.166667   0.166667  0.166667   0.166667\n",
       "  500.001  0.166667     0.166667  0.166667   0.166666  0.166667   0.166667\n",
       "  500.002  0.166667     0.166667  0.166667   0.166666  0.166667   0.166667\n",
       "  500.002  0.166667     0.166667  0.166667   0.166666  0.166667   0.166667\n",
       "  500.002  0.166667     0.166667  0.166667   0.166666  0.166667   0.166667\n",
       "  500.003  0.166666     0.166667  0.166667   0.166666  0.166667   0.166667\n",
       "  500.003  0.166666     0.166667  0.166667   0.166666  0.166667   0.166667\n",
       "  500.003  0.166666     0.166667  0.166667   0.166666  0.166667   0.166667\n",
       "  500.004  0.166666     0.166667  0.166667   0.166666  0.166667   0.166667\n",
       "    ⋮                                                  ⋮          \n",
       " 3051.67   0.000105078  0.322882  0.0971111  0.360836  0.0523986  0.166667\n",
       " 3051.63   0.000104931  0.322895  0.0971055  0.360875  0.0523527  0.166667\n",
       " 3051.6    0.000104785  0.322907  0.0970998  0.360914  0.0523069  0.166667\n",
       " 3051.56   0.000104639  0.32292   0.0970942  0.360953  0.0522611  0.166667\n",
       " 3051.52   0.000104494  0.322933  0.0970886  0.360992  0.0522155  0.166667\n",
       " 3051.48   0.000104348  0.322945  0.097083   0.361031  0.0521699  0.166667\n",
       " 3051.45   0.000104203  0.322958  0.0970775  0.36107   0.0521243  0.166667\n",
       " 3051.41   0.000104059  0.32297   0.0970719  0.361108  0.0520789  0.166667\n",
       " 3051.37   0.000103914  0.322983  0.0970663  0.361147  0.0520335  0.166667\n",
       " 3051.34   0.00010377   0.322995  0.0970608  0.361186  0.0519882  0.166667\n",
       " 3051.3    0.000103627  0.323008  0.0970552  0.361224  0.0519429  0.166667\n",
       " 3051.26   0.000103483  0.32302   0.0970497  0.361262  0.0518978  0.166667"
      ]
     },
     "execution_count": 13,
     "metadata": {},
     "output_type": "execute_result"
    }
   ],
   "source": [
    "timestep = py\"np.load\"(\"/home/darve/adncat/yizhou/PSAAP3/Tests/data/timestep.npy\")\n",
    "Tt_cant = py\"np.load\"(\"data/temperature.npy\")\n",
    "T_ref = zeros(2001)\n",
    "T_ref[2:end] = Tt_cant\n",
    "T_ref[1] = 1200\n",
    "Yt_cant = py\"np.load\"(\"data/mass_fraction.npy\")\n",
    "Y_ref = [Y Yt_cant]\n",
    "obs = [T_ref Y_ref']"
   ]
  },
  {
   "cell_type": "code",
   "execution_count": 14,
   "metadata": {},
   "outputs": [
    {
     "data": {
      "text/plain": [
       "17.75"
      ]
     },
     "execution_count": 14,
     "metadata": {},
     "output_type": "execute_result"
    }
   ],
   "source": [
    "Afr = py\"np.load\"(\"/home/darve/adncat/yizhou/PSAAP3/Tests/data/pre_exponential_factor.npy\") # preexponential constant Afj\n",
    "βr = py\"np.load\"(\"/home/darve/adncat/yizhou/PSAAP3/Tests/data/temperature_exponent.npy\") # Temperature exponent\n",
    "Er = py\"np.load\"(\"/home/darve/adncat/yizhou/PSAAP3/Tests/data/activation_energy.npy\") # Activation energy for the reactions in kJ\n",
    "pr = [log.(Afr) βr log.(Er)]\n",
    "pr[1,1] = 28.25\n",
    "pr[2,1] = 17.75\n",
    "pr[1,3] = 18.75\n",
    "pr[2,3] = 17.75"
   ]
  },
  {
   "cell_type": "code",
   "execution_count": 16,
   "metadata": {
    "scrolled": true
   },
   "outputs": [
    {
     "ename": "LoadError",
     "evalue": "UndefVarError: inds not defined",
     "output_type": "error",
     "traceback": [
      "UndefVarError: inds not defined",
      "",
      "Stacktrace:",
      " [1] top-level scope at In[16]:25",
      " [2] include_string(::Function, ::Module, ::String, ::String) at ./loading.jl:1091",
      " [3] execute_code(::String, ::String) at /home/darve/adncat/.julia/packages/IJulia/rWZ9e/src/execute_request.jl:27",
      " [4] execute_request(::ZMQ.Socket, ::IJulia.Msg) at /home/darve/adncat/.julia/packages/IJulia/rWZ9e/src/execute_request.jl:86",
      " [5] #invokelatest#1 at ./essentials.jl:710 [inlined]",
      " [6] invokelatest at ./essentials.jl:709 [inlined]",
      " [7] eventloop(::ZMQ.Socket) at /home/darve/adncat/.julia/packages/IJulia/rWZ9e/src/eventloop.jl:8",
      " [8] (::IJulia.var\"#15#18\")() at ./task.jl:356"
     ]
    }
   ],
   "source": [
    "nt = size(timestep)[1]\n",
    "TY = [T; Y]\n",
    "function condition(k, U, t, θ)\n",
    "    k <= nt - 1\n",
    "end\n",
    "\n",
    "function body(k, U, t, θ)\n",
    "    dt = t[k + 1] - t[k]\n",
    "    uk = read(U,k)\n",
    "    k1 = f(uk, θ, t[k])\n",
    "    k2 = f(uk + 0.5 * dt * k1, θ, t[k] + 0.5 * dt)\n",
    "    k3 = f(uk + 0.5 * dt * k2, θ, t[k] + 0.5 * dt)\n",
    "    k4 = f(uk + dt * k3, θ, t[k] + dt) \n",
    "    u_new = uk + 1/6 * dt * (k1 + 2 * k2 + 2 * k3 + k4)\n",
    "    U = write(U, k+1, u_new)\n",
    "    k+1, U, t, θ\n",
    "end\n",
    "k = constant(1, dtype=Int32)\n",
    "t = constant(timestep)\n",
    "θ = Variable(pr)\n",
    "U = TensorArray(nt)\n",
    "U = write(U, 1, TY)\n",
    "_, U_out=while_loop(condition, body, [k, U, t, θ])\n",
    "U_array = set_shape(stack(U_out), (nt, N+1))\n",
    "loss = sum((U_array[inds,:]-obs[inds,:])^2) \n",
    "sess = Session()\n",
    "init(sess)\n",
    "u_out = run(sess, U_array)\n",
    "# loss = BFGS!(sess, loss)\n",
    "# out = run(sess, θ)"
   ]
  },
  {
   "cell_type": "code",
   "execution_count": 15,
   "metadata": {},
   "outputs": [
    {
     "ename": "LoadError",
     "evalue": "UndefVarError: TY not defined",
     "output_type": "error",
     "traceback": [
      "UndefVarError: TY not defined",
      "",
      "Stacktrace:",
      " [1] top-level scope at In[15]:22",
      " [2] include_string(::Function, ::Module, ::String, ::String) at ./loading.jl:1091",
      " [3] execute_code(::String, ::String) at /home/darve/adncat/.julia/packages/IJulia/rWZ9e/src/execute_request.jl:27",
      " [4] execute_request(::ZMQ.Socket, ::IJulia.Msg) at /home/darve/adncat/.julia/packages/IJulia/rWZ9e/src/execute_request.jl:86",
      " [5] #invokelatest#1 at ./essentials.jl:710 [inlined]",
      " [6] invokelatest at ./essentials.jl:709 [inlined]",
      " [7] eventloop(::ZMQ.Socket) at /home/darve/adncat/.julia/packages/IJulia/rWZ9e/src/eventloop.jl:8",
      " [8] (::IJulia.var\"#15#18\")() at ./task.jl:356"
     ]
    }
   ],
   "source": [
    "nt = size(timestep)[1]\n",
    "function condition(k, U, t, θ)\n",
    "    k <= nt - 1\n",
    "end\n",
    "\n",
    "function body(k, U, t, θ)\n",
    "    dt = t[k + 1] - t[k]\n",
    "    uk = read(U,k)\n",
    "    k1 = f(uk, θ)\n",
    "    k2 = f(uk + 0.5 * dt * k1, θ)\n",
    "    k3 = f(uk + 0.5 * dt * k2, θ)\n",
    "    k4 = f(uk + dt * k3, θ) \n",
    "    u_new = uk + 1/6 * dt * (k1 + 2 * k2 + 2 * k3 + k4)\n",
    "    U = write(U, k+1, u_new)\n",
    "    k+1, U, t, θ\n",
    "end\n",
    "k = constant(1, dtype=Int32)\n",
    "t = constant(timestep)\n",
    "θ = Variable(pr)\n",
    "U = TensorArray(nt)\n",
    "U = write(U, 1, TY)\n",
    "_, U_out=while_loop(condition, body, [k, U, t, θ])\n",
    "U_array = set_shape(stack(U_out), (nt, N+1))\n",
    "sess = Session()\n",
    "init(sess)\n",
    "u_out = run(sess, U_array)"
   ]
  },
  {
   "cell_type": "code",
   "execution_count": null,
   "metadata": {
    "scrolled": true
   },
   "outputs": [],
   "source": [
    "#dt = 1e-6\n",
    "nt = size(timestep[1:1000])[1]\n",
    "#### Implicit scheme, need to refine for variable time step and order\n",
    "function res_and_jac(param, x)\n",
    "    dt = param[1]\n",
    "    x0 = param[2:end]\n",
    "    res = x - x0 - dt * f(x)\n",
    "    jac = gradients(res, x)\n",
    "    res, jac \n",
    "end\n",
    "\n",
    "function condition(k, U, t)\n",
    "    k <= nt - 1\n",
    "end\n",
    "\n",
    "function body(k, U, t)\n",
    "    dt = t[k + 1] - t[k]\n",
    "    uk = read(U,k)\n",
    "    ADCME.options.newton_raphson.rtol = 1e-5 # relative tolerance\n",
    "    ADCME.options.newton_raphson.tol = 1e-5 # absolute tolerance\n",
    "    ADCME.options.newton_raphson.verbose = true # print details in newton_raphson\n",
    "    param = tf.concat([tf.reshape(dt, (1,)), uk], 0)\n",
    "    u_new = newton_raphson_with_grad(res_and_jac, constant(uk), param)\n",
    "    U = write(U, k+1, u_new)\n",
    "    k+1, U, t\n",
    "end\n",
    "\n",
    "k = constant(1, dtype=Int32)\n",
    "t = constant(timestep)\n",
    "U = TensorArray(nt)\n",
    "U = write(U, 1, TY)\n",
    "_, U_out=while_loop(condition, body, [k, U, t])\n",
    "U_array = set_shape(stack(U_out), (nt, N+1))\n",
    "sess = Session()\n",
    "init(sess)\n",
    "u_out = run(sess, U_array)"
   ]
  },
  {
   "cell_type": "code",
   "execution_count": 70,
   "metadata": {},
   "outputs": [],
   "source": [
    "inds = range(1,2000, step=100)\n",
    "plot(timestep[inds], Y_ref'[inds,:], seriestype = :scatter, legend = false)\n",
    "plot!(timestep, u_out[:,2:end])\n",
    "xlabel!(\"Time\")\n",
    "ylabel!(\"Mass Fractions\")\n",
    "savefig(\"Mass_fraction.pdf\")"
   ]
  },
  {
   "cell_type": "code",
   "execution_count": 71,
   "metadata": {},
   "outputs": [],
   "source": [
    "inds = range(1,2000, step=100)\n",
    "plot(timestep[inds], T_ref[inds], seriestype = :scatter, label = \"observation\")\n",
    "plot!(timestep, u_out[:,1], label = \"prediction\")\n",
    "xlabel!(\"Time\")\n",
    "ylabel!(\"Temperature\")\n",
    "savefig(\"temperature.pdf\")"
   ]
  },
  {
   "cell_type": "code",
   "execution_count": null,
   "metadata": {},
   "outputs": [],
   "source": [
    "dt = 1e-6\n",
    "u1 = constant(TY)\n",
    "function res_and_jac(x0, x)\n",
    "    res = x - x0 - dt * f(x)\n",
    "    jac = gradients(res, x)\n",
    "    res, jac \n",
    "end\n",
    "ADCME.options.newton_raphson.rtol = 1e-4 # relative tolerance\n",
    "ADCME.options.newton_raphson.tol = 1e-4 # absolute tolerance\n",
    "ADCME.options.newton_raphson.verbose = true # print details in newton_raphson\n",
    "u_est = newton_raphson_with_grad(res_and_jac, constant(u1), u1)"
   ]
  },
  {
   "cell_type": "code",
   "execution_count": null,
   "metadata": {},
   "outputs": [],
   "source": [
    "sess = Session()\n",
    "init(sess)\n",
    "u_e = run(sess, u_est)"
   ]
  },
  {
   "cell_type": "code",
   "execution_count": null,
   "metadata": {},
   "outputs": [],
   "source": [
    "28.3244  0.0  18.8021\n",
    " 17.9616  0.0  17.7315"
   ]
  },
  {
   "cell_type": "code",
   "execution_count": 15,
   "metadata": {},
   "outputs": [
    {
     "data": {
      "text/plain": [
       "1:100:1901"
      ]
     },
     "execution_count": 15,
     "metadata": {},
     "output_type": "execute_result"
    }
   ],
   "source": []
  },
  {
   "cell_type": "code",
   "execution_count": 17,
   "metadata": {},
   "outputs": [
    {
     "data": {
      "text/plain": [
       "20×6 Array{Float64,2}:\n",
       " 0.166667     0.166667  0.166667  0.166667  0.166667  0.166667\n",
       " 0.164636     0.167095  0.166476  0.164443  0.170684  0.166667\n",
       " 0.16238      0.167626  0.16624   0.162145  0.174944  0.166667\n",
       " 0.159845     0.168292  0.165943  0.159778  0.179476  0.166667\n",
       " 0.156957     0.169139  0.165566  0.157356  0.184315  0.166667\n",
       " 0.153612     0.170233  0.165079  0.154901  0.189508  0.166667\n",
       " 0.149653     0.171674  0.164437  0.152453  0.195116  0.166667\n",
       " 0.144837     0.173623  0.163569  0.150081  0.201223  0.166667\n",
       " 0.138759     0.17635   0.162355  0.147919  0.20795   0.166667\n",
       " 0.130703     0.18034   0.160578  0.146224  0.215488  0.166667\n",
       " 0.119258     0.186569  0.157805  0.145556  0.224146  0.166667\n",
       " 0.101352     0.197192  0.153075  0.147239  0.234476  0.166667\n",
       " 0.0703485    0.216943  0.144281  0.154382  0.247379  0.166667\n",
       " 0.02572      0.246358  0.131184  0.167719  0.262352  0.166667\n",
       " 0.0036186    0.260282  0.124984  0.172326  0.272122  0.166667\n",
       " 0.000323827  0.261988  0.124225  0.17186   0.274937  0.166667\n",
       " 7.16765e-5   0.262128  0.124162  0.171856  0.275116  0.166667\n",
       " 6.36889e-5   0.262188  0.124135  0.172029  0.274917  0.166667\n",
       " 6.32455e-5   0.262246  0.124109  0.172209  0.274706  0.166667\n",
       " 6.29656e-5   0.262304  0.124084  0.172387  0.274496  0.166667"
      ]
     },
     "execution_count": 17,
     "metadata": {},
     "output_type": "execute_result"
    }
   ],
   "source": [
    "u_out[range(1,2000, step=100),2:end]"
   ]
  },
  {
   "cell_type": "code",
   "execution_count": 38,
   "metadata": {},
   "outputs": [
    {
     "data": {
      "text/plain": [
       "2×3 Array{Float64,2}:\n",
       " 28.3242  0.0  18.8021\n",
       " 17.9625  0.0  17.7317"
      ]
     },
     "execution_count": 38,
     "metadata": {},
     "output_type": "execute_result"
    }
   ],
   "source": [
    "pr = [log.(Afr) βr log.(Er)]"
   ]
  },
  {
   "cell_type": "code",
   "execution_count": 61,
   "metadata": {},
   "outputs": [
    {
     "data": {
      "text/plain": [
       "61-element Array{Any,1}:\n",
       " 115843.23082808303\n",
       "  10451.735771084492\n",
       "   6117.71802931791\n",
       "   6103.412267572623\n",
       "   6075.061536977392\n",
       "   5989.851438792128\n",
       "   5772.825829301961\n",
       "   5109.523892490345\n",
       "    475.112930562076\n",
       "    198.65141945899265\n",
       "    160.45410954586762\n",
       "    154.95734368943317\n",
       "    150.72196383322716\n",
       "      ⋮\n",
       "      0.09133938104300723\n",
       "      0.09016275183089376\n",
       "      0.0883161836260606\n",
       "      0.07889503924849452\n",
       "      0.059865418822947665\n",
       "      0.04074770793237236\n",
       "      0.016361935821165473\n",
       "      0.003948122152681382\n",
       "      8.758926619680821e-5\n",
       "      8.756977793124255e-5\n",
       "      8.756890338121464e-5\n",
       "      8.756890337962756e-5"
      ]
     },
     "execution_count": 61,
     "metadata": {},
     "output_type": "execute_result"
    }
   ],
   "source": [
    "loss"
   ]
  },
  {
   "cell_type": "code",
   "execution_count": 73,
   "metadata": {},
   "outputs": [],
   "source": [
    "plot(log.(loss), label=\"log of mse\")\n",
    "xlabel!(\"steps\")\n",
    "ylabel!(\"logarithm of loss\")\n",
    "savefig(\"loss.pdf\")"
   ]
  },
  {
   "cell_type": "code",
   "execution_count": null,
   "metadata": {},
   "outputs": [],
   "source": []
  }
 ],
 "metadata": {
  "kernelspec": {
   "display_name": "Julia 1.5.0",
   "language": "julia",
   "name": "julia-1.5"
  },
  "language_info": {
   "file_extension": ".jl",
   "mimetype": "application/julia",
   "name": "julia",
   "version": "1.5.0"
  }
 },
 "nbformat": 4,
 "nbformat_minor": 4
}
