{
 "cells": [
  {
   "cell_type": "code",
   "execution_count": 1,
   "metadata": {},
   "outputs": [],
   "source": [
    "import cantera as ct\n",
    "import numpy as np\n",
    "import matplotlib.pyplot as plt"
   ]
  },
  {
   "cell_type": "code",
   "execution_count": 575,
   "metadata": {},
   "outputs": [
    {
     "name": "stdout",
     "output_type": "stream",
     "text": [
      "\n",
      "  CH4_CM2:\n",
      "\n",
      "       temperature             500  K\n",
      "          pressure          101325  Pa\n",
      "           density        0.779913  kg/m^3\n",
      "  mean mol. weight         31.9988  amu\n",
      "\n",
      "                          1 kg            1 kmol\n",
      "                       -----------      ------------\n",
      "          enthalpy       1.902e+05        6.086e+06     J\n",
      "   internal energy           60282        1.929e+06     J\n",
      "           entropy          6897.1        2.207e+05     J/K\n",
      "    Gibbs function     -3.2584e+06       -1.043e+08     J\n",
      " heat capacity c_p           971.4        3.108e+04     J/K\n",
      " heat capacity c_v          711.56        2.277e+04     J/K\n",
      "\n",
      "                           X                 Y          Chem. Pot. / RT\n",
      "                     -------------     ------------     ------------\n",
      "                O2              1                1           -25.08\n",
      "     [   +5 minor]              0                0\n",
      "\n"
     ]
    },
    {
     "name": "stderr",
     "output_type": "stream",
     "text": [
      "/home/darve/adncat/.local/lib/python3.6/site-packages/ipykernel_launcher.py:2: DeprecationWarning: Converting `np.integer` or `np.signedinteger` to a dtype is deprecated. The current result is `np.dtype(np.int_)` which is not strictly correct. Note that the result depends on the system. To ensure stable results use may want to use `np.int64` or `np.int32`.\n",
      "  \n",
      "/home/darve/adncat/.local/lib/python3.6/site-packages/ipykernel_launcher.py:22: DeprecationWarning: Converting `np.integer` or `np.signedinteger` to a dtype is deprecated. The current result is `np.dtype(np.int_)` which is not strictly correct. Note that the result depends on the system. To ensure stable results use may want to use `np.int64` or `np.int32`.\n"
     ]
    }
   ],
   "source": [
    "# gas = ct.Solution(\"seiser.cti\")  # Change .cti file to standard simple reaction\n",
    "gas = ct.Solution(\"2S_methane.cti\")\n",
    "# gas.Y = np.array([0.5, 0, 0.5, 0, 0])\n",
    "#gas.TP = 1200, 101325\n",
    "#gas.TD = 1200, 10\n",
    "def Q(t):\n",
    "    t0 = 1e-5\n",
    "    r  = 1e-6\n",
    "    c  = 0e11\n",
    "    return c * np.exp(-(t - t0)**2 / r**2) \n",
    "#gas.Y = np.ones(gas.n_species) / gas.n_species\n",
    "gas.TP = 500, 101325\n",
    "# sim.advance(5.93e-6)\n",
    "#gas.Y = np.array([0.25, 0.25, 0.25, 0.25, 0, 0])\n",
    "# gas.set_equivalence_ratio(phi=1.0, fuel='nc7h16', oxidizer={'o2':1.0, 'n2':3.76})\n",
    "#np.save(\".npy files/ini_mass_fraction.npy\", gas.Y)\n",
    "reactor = ct.IdealGasReactor(gas)\n",
    "res = ct.Reservoir(gas)\n",
    "wall = ct.Wall(res, reactor)\n",
    "wall.set_heat_flux(Q)\n",
    "wall.area = 1.0\n",
    "exhaust_gas = ct.Solution(\"2S_methane.cti\")\n",
    "exhaust = ct.Reservoir(exhaust_gas)\n",
    "mfc = ct.MassFlowController(upstream = reactor, downstream = exhaust, mdot = nozzle_nasa_mdot)  # mdot = nozzle_nasa_mdot\n",
    "sim = ct.ReactorNet([reactor])\n",
    "np.save('/home/darve/adncat/yizhou/PSAAP3/Tests/data/density.npy', gas.density)\n",
    "gas()"
   ]
  },
  {
   "cell_type": "code",
   "execution_count": 576,
   "metadata": {},
   "outputs": [
    {
     "data": {
      "text/plain": [
       "array([1., 0., 0., 0., 0., 0.])"
      ]
     },
     "execution_count": 576,
     "metadata": {},
     "output_type": "execute_result"
    }
   ],
   "source": [
    "gas.Y"
   ]
  },
  {
   "cell_type": "code",
   "execution_count": 577,
   "metadata": {},
   "outputs": [
    {
     "ename": "CanteraError",
     "evalue": "\n***********************************************************************\nCanteraError thrown by CVodesIntegrator::integrate:\nCVodes error encountered. Error code: -10\nAt t = 8.80777e-06 repeated recoverable right-hand side function errors.\n\nExceptions caught during RHS evaluation:\n\n***********************************************************************\nException thrown by Python callback function:\nAssertionError: \n***********************************************************************\n\n\n***********************************************************************\nException thrown by Python callback function:\nAssertionError: \n***********************************************************************\n\n\n***********************************************************************\nException thrown by Python callback function:\nAssertionError: \n***********************************************************************\n\n\n***********************************************************************\nException thrown by Python callback function:\nAssertionError: \n***********************************************************************\n\n\n***********************************************************************\nException thrown by Python callback function:\nAssertionError: \n***********************************************************************\n\n\n***********************************************************************\nException thrown by Python callback function:\nAssertionError: \n***********************************************************************\n\n\n***********************************************************************\nException thrown by Python callback function:\nAssertionError: \n***********************************************************************\n\n\n***********************************************************************\nException thrown by Python callback function:\nAssertionError: \n***********************************************************************\n\n\n***********************************************************************\nException thrown by Python callback function:\nAssertionError: \n***********************************************************************\n\n\n***********************************************************************\nException thrown by Python callback function:\nAssertionError: \n***********************************************************************\n\n\n***********************************************************************\nException thrown by Python callback function:\nAssertionError: \n***********************************************************************\n\n\n***********************************************************************\nException thrown by Python callback function:\nAssertionError: \n***********************************************************************\n\n\n***********************************************************************\nException thrown by Python callback function:\nAssertionError: \n***********************************************************************\n\nComponents with largest weighted error estimates:\n0: -6.38947e+07\n2: -2.33322e+07\n1: 0\n3: 0\n4: 0\n5: 0\n6: 0\n7: 0\n8: 0\n***********************************************************************\n",
     "output_type": "error",
     "traceback": [
      "\u001b[0;31m---------------------------------------------------------------------------\u001b[0m",
      "\u001b[0;31mCanteraError\u001b[0m                              Traceback (most recent call last)",
      "\u001b[0;32m<ipython-input-577-d82a4d6650f8>\u001b[0m in \u001b[0;36m<module>\u001b[0;34m\u001b[0m\n\u001b[1;32m     20\u001b[0m         \u001b[0mdt\u001b[0m \u001b[0;34m=\u001b[0m \u001b[0;36m2e-10\u001b[0m\u001b[0;34m\u001b[0m\u001b[0;34m\u001b[0m\u001b[0m\n\u001b[1;32m     21\u001b[0m     \u001b[0mt\u001b[0m \u001b[0;34m+=\u001b[0m \u001b[0mdt\u001b[0m\u001b[0;34m\u001b[0m\u001b[0;34m\u001b[0m\u001b[0m\n\u001b[0;32m---> 22\u001b[0;31m     \u001b[0msim\u001b[0m\u001b[0;34m.\u001b[0m\u001b[0madvance\u001b[0m\u001b[0;34m(\u001b[0m\u001b[0mt\u001b[0m\u001b[0;34m)\u001b[0m\u001b[0;34m\u001b[0m\u001b[0;34m\u001b[0m\u001b[0m\n\u001b[0m\u001b[1;32m     23\u001b[0m     \u001b[0mtimestep\u001b[0m\u001b[0;34m[\u001b[0m\u001b[0mi\u001b[0m\u001b[0;34m+\u001b[0m\u001b[0;36m1\u001b[0m\u001b[0;34m]\u001b[0m \u001b[0;34m=\u001b[0m \u001b[0mt\u001b[0m\u001b[0;34m\u001b[0m\u001b[0;34m\u001b[0m\u001b[0m\n\u001b[1;32m     24\u001b[0m     \u001b[0;31m#timestep[i+1] = sim.step()\u001b[0m\u001b[0;34m\u001b[0m\u001b[0;34m\u001b[0m\u001b[0;34m\u001b[0m\u001b[0m\n",
      "\u001b[0;32minterfaces/cython/cantera/reactor.pyx\u001b[0m in \u001b[0;36mcantera._cantera.ReactorNet.advance\u001b[0;34m()\u001b[0m\n",
      "\u001b[0;31mCanteraError\u001b[0m: \n***********************************************************************\nCanteraError thrown by CVodesIntegrator::integrate:\nCVodes error encountered. Error code: -10\nAt t = 8.80777e-06 repeated recoverable right-hand side function errors.\n\nExceptions caught during RHS evaluation:\n\n***********************************************************************\nException thrown by Python callback function:\nAssertionError: \n***********************************************************************\n\n\n***********************************************************************\nException thrown by Python callback function:\nAssertionError: \n***********************************************************************\n\n\n***********************************************************************\nException thrown by Python callback function:\nAssertionError: \n***********************************************************************\n\n\n***********************************************************************\nException thrown by Python callback function:\nAssertionError: \n***********************************************************************\n\n\n***********************************************************************\nException thrown by Python callback function:\nAssertionError: \n***********************************************************************\n\n\n***********************************************************************\nException thrown by Python callback function:\nAssertionError: \n***********************************************************************\n\n\n***********************************************************************\nException thrown by Python callback function:\nAssertionError: \n***********************************************************************\n\n\n***********************************************************************\nException thrown by Python callback function:\nAssertionError: \n***********************************************************************\n\n\n***********************************************************************\nException thrown by Python callback function:\nAssertionError: \n***********************************************************************\n\n\n***********************************************************************\nException thrown by Python callback function:\nAssertionError: \n***********************************************************************\n\n\n***********************************************************************\nException thrown by Python callback function:\nAssertionError: \n***********************************************************************\n\n\n***********************************************************************\nException thrown by Python callback function:\nAssertionError: \n***********************************************************************\n\n\n***********************************************************************\nException thrown by Python callback function:\nAssertionError: \n***********************************************************************\n\nComponents with largest weighted error estimates:\n0: -6.38947e+07\n2: -2.33322e+07\n1: 0\n3: 0\n4: 0\n5: 0\n6: 0\n7: 0\n8: 0\n***********************************************************************\n"
     ]
    }
   ],
   "source": [
    "#gas.TP = 1200, 101325\n",
    "#gas.set_equivalence_ratio(phi=1.0, fuel='nc7h16', oxidizer={'o2':1.0, 'n2':3.76})\n",
    "n_t = 400\n",
    "Pt = np.zeros(n_t+1)\n",
    "Tt = np.zeros(n_t+1)\n",
    "Yt = np.zeros((gas.n_species,n_t+1))\n",
    "Rhot = np.zeros(n_t+1)\n",
    "Pt[0] = gas.P\n",
    "Tt[0] = gas.T\n",
    "Yt[:,0] = gas.Y\n",
    "Rhot[0] = gas.density\n",
    "timestep = np.zeros(n_t+1)\n",
    "timestep[0] = 0\n",
    "dt = 0\n",
    "t = 0\n",
    "for i in range(n_t):\n",
    "    if (i < 975):\n",
    "        dt = 1e-4\n",
    "    else:\n",
    "        dt = 2e-10\n",
    "    t += dt\n",
    "    sim.advance(t)\n",
    "    timestep[i+1] = t\n",
    "    #timestep[i+1] = sim.step()\n",
    "    Pt[i+1] = gas.P\n",
    "    Tt[i+1] = gas.T\n",
    "    Yt[:,i+1] = gas.Y\n",
    "    Rhot[i + 1] = gas.density\n",
    "gas()\n",
    "# gas.DP"
   ]
  },
  {
   "cell_type": "code",
   "execution_count": 579,
   "metadata": {},
   "outputs": [
    {
     "name": "stdout",
     "output_type": "stream",
     "text": [
      "\n",
      "  CH4_CM2:\n",
      "\n",
      "       temperature         499.999  K\n",
      "          pressure          101324  Pa\n",
      "           density        0.779907  kg/m^3\n",
      "  mean mol. weight         31.9988  amu\n",
      "\n",
      "                          1 kg            1 kmol\n",
      "                       -----------      ------------\n",
      "          enthalpy       1.902e+05        6.086e+06     J\n",
      "   internal energy           60281        1.929e+06     J\n",
      "           entropy          6897.1        2.207e+05     J/K\n",
      "    Gibbs function     -3.2583e+06       -1.043e+08     J\n",
      " heat capacity c_p           971.4        3.108e+04     J/K\n",
      " heat capacity c_v          711.56        2.277e+04     J/K\n",
      "\n",
      "                           X                 Y          Chem. Pot. / RT\n",
      "                     -------------     ------------     ------------\n",
      "                O2              1                1           -25.08\n",
      "     [   +5 minor]              0                0\n",
      "\n"
     ]
    }
   ],
   "source": [
    "gas()"
   ]
  },
  {
   "cell_type": "code",
   "execution_count": 569,
   "metadata": {},
   "outputs": [
    {
     "data": {
      "text/plain": [
       "[<matplotlib.lines.Line2D at 0x7fdf3b95edd8>]"
      ]
     },
     "execution_count": 569,
     "metadata": {},
     "output_type": "execute_result"
    },
    {
     "data": {
      "image/png": "[encoded data removed]",
      "text/plain": [
       "<Figure size 432x288 with 1 Axes>"
      ]
     },
     "metadata": {
      "needs_background": "light"
     },
     "output_type": "display_data"
    },
    {
     "data": {
      "image/png": "[encoded data removed]",
      "text/plain": [
       "<Figure size 432x288 with 1 Axes>"
      ]
     },
     "metadata": {
      "needs_background": "light"
     },
     "output_type": "display_data"
    },
    {
     "data": {
      "image/png": "[encoded data removed]",
      "text/plain": [
       "<Figure size 432x288 with 1 Axes>"
      ]
     },
     "metadata": {
      "needs_background": "light"
     },
     "output_type": "display_data"
    },
    {
     "data": {
      "image/png": "[encoded data removed]",
      "text/plain": [
       "<Figure size 432x288 with 1 Axes>"
      ]
     },
     "metadata": {
      "needs_background": "light"
     },
     "output_type": "display_data"
    }
   ],
   "source": [
    "plt.plot(timestep, Tt)\n",
    "plt.figure()\n",
    "# plt.plot(Tt)\n",
    "for i in range(gas.n_species):\n",
    "    plt.plot(timestep,Yt[i,:])\n",
    "\n",
    "plt.figure()\n",
    "plt.plot(timestep,Pt)\n",
    "plt.figure()\n",
    "plt.plot(timestep,Rhot)\n",
    "####"
   ]
  },
  {
   "cell_type": "code",
   "execution_count": 534,
   "metadata": {},
   "outputs": [
    {
     "data": {
      "text/plain": [
       "0.34501148899345613"
      ]
     },
     "execution_count": 534,
     "metadata": {},
     "output_type": "execute_result"
    }
   ],
   "source": [
    "np.save('/home/darve/adncat/yizhou/PSAAP3/Tests/data/pressure.npy', Pt)\n",
    "np.save('/home/darve/adncat/yizhou/PSAAP3/Tests/data/temperature.npy', Tt)\n",
    "np.save('/home/darve/adncat/yizhou/PSAAP3/Tests/data/mass_fraction.npy', Yt)\n",
    "np.save('/home/darve/adncat/yizhou/PSAAP3/Tests/data/timestep.npy', timestep)\n",
    "np.save('/home/darve/adncat/yizhou/PSAAP3/Tests/data/total_mass.npy', Rhot)\n",
    "gas.density"
   ]
  },
  {
   "cell_type": "code",
   "execution_count": 70,
   "metadata": {},
   "outputs": [
    {
     "name": "stderr",
     "output_type": "stream",
     "text": [
      "/home/darve/adncat/.local/lib/python3.6/site-packages/ipykernel_launcher.py:12: DeprecationWarning: Converting `np.integer` or `np.signedinteger` to a dtype is deprecated. The current result is `np.dtype(np.int_)` which is not strictly correct. Note that the result depends on the system. To ensure stable results use may want to use `np.int64` or `np.int32`.\n",
      "  if sys.path[0] == '':\n",
      "/home/darve/adncat/.local/lib/python3.6/site-packages/ipykernel_launcher.py:32: DeprecationWarning: Converting `np.integer` or `np.signedinteger` to a dtype is deprecated. The current result is `np.dtype(np.int_)` which is not strictly correct. Note that the result depends on the system. To ensure stable results use may want to use `np.int64` or `np.int32`.\n"
     ]
    }
   ],
   "source": [
    "# gas = ct.Solution(\"2S_methane.cti\")\n",
    "# gas.Y = np.ones(gas.n_species) / gas.n_species\n",
    "# gas.TP = 1200, 101325\n",
    "# print(gas.density)\n",
    "# r1 = ct.IdealGasReactor(gas)\n",
    "# exhaust_gas = ct.Solution(\"2S_methane.cti\")\n",
    "# exhaust = ct.Reservoir(exhaust_gas)\n",
    "# mfc = ct.MassFlowController(upstream = r1, downstream = exhaust, mdot = 1e4)  # mdot = nozzle_nasa_mdot\n",
    "# sim = ct.ReactorNet([r1]) \n",
    "\n",
    "\n",
    "gas = ct.Solution(\"2S_methane.cti\")\n",
    "# gas.Y = np.array([0.5, 0, 0.5, 0, 0])\n",
    "#gas.TP = 1200, 101325\n",
    "#gas.TD = 1200, 10\n",
    "def Q(t):\n",
    "    t0 = 1e-5\n",
    "    r  = 1e-6\n",
    "    c  = 5e11\n",
    "    return c * np.exp(-(t - t0)**2 / r**2) \n",
    "gas.Y = np.ones(gas.n_species) / gas.n_species\n",
    "gas.TP = 1200, 101325\n",
    "# sim.advance(5.93e-6)\n",
    "#gas.Y = np.array([0.25, 0.25, 0.25, 0.25, 0, 0])\n",
    "# gas.set_equivalence_ratio(phi=1.0, fuel='nc7h16', oxidizer={'o2':1.0, 'n2':3.76})\n",
    "#np.save(\".npy files/ini_mass_fraction.npy\", gas.Y)\n",
    "r1 = ct.IdealGasReactor(gas)\n",
    "res = ct.Reservoir(gas)\n",
    "wall = ct.Wall(res, reactor)\n",
    "wall.set_heat_flux(Q)\n",
    "wall.area = 1.0\n",
    "exhaust_gas = ct.Solution(\"2S_methane.cti\")\n",
    "exhaust = ct.Reservoir(exhaust_gas)\n",
    "mfc = ct.MassFlowController(upstream = r1, downstream = exhaust, mdot = nozzle_nasa_mdot)  # mdot = nozzle_nasa_mdot\n",
    "sim = ct.ReactorNet([r1])\n",
    "\n",
    "Pt = np.zeros(n_t)\n",
    "Tt = np.zeros(n_t)\n",
    "Yt = np.zeros((gas.n_species,n_t))\n",
    "timestep = np.zeros(n_t+1)\n",
    "timestep[0] = 0\n",
    "dt = 0\n",
    "t = 0\n",
    "for i in range(n_t):\n",
    "    if (n_t < 125):\n",
    "        dt = 8e-6\n",
    "    else:\n",
    "        dt = 16e-11\n",
    "    t += (i+1)*dt\n",
    "    sim.advance(t)\n",
    "    timestep[i+1] = t\n",
    "    #timestep[i+1] = sim.step()\n",
    "    Pt[i] = gas.P\n",
    "    Tt[i] = gas.T\n",
    "    Yt[:,i] = gas.Y"
   ]
  },
  {
   "cell_type": "code",
   "execution_count": 3,
   "metadata": {},
   "outputs": [],
   "source": [
    "\n",
    "def nozzle_nasa_mdot(t):\n",
    "    # Can represent mass inflow by increasing combined gas's density\n",
    "    \"\"\"\n",
    "    Compute the efflux of the combustor via simple isentropic relations.\n",
    "    The efficiency of the nozzle is modeled using a discharge coefficient\n",
    "    :param t: time\n",
    "    :return: mass flux at the outlet (efflux) of the combustion chamber.\n",
    "    \"\"\"\n",
    "    # Avoid a unity pressure ratio at startup\n",
    "    # print(gas.T)\n",
    "    epsilon = 1.0\n",
    "    _rho = gas.density\n",
    "    _press = gas.P\n",
    "    _area = 1  # arbitrarily chosen value, [m^2]\n",
    "    _gamma_s = gas.cp / gas.cv\n",
    "    _temp = gas.T\n",
    "    _r_gas_specific = gas.cp - gas.cv\n",
    "    _p_ratio = 101325 / (gas.P + epsilon)  # Exhaust pressure is atmospheric pressure\n",
    "\n",
    "    power_1 = 2.0 / _gamma_s\n",
    "    power_2 = (_gamma_s + 1.0) / (_gamma_s)\n",
    "    pressure_term = _p_ratio ** power_1 - _p_ratio ** power_2\n",
    "    _sqrt_term = 2. * _gamma_s * _r_gas_specific * _temp / (_gamma_s - 1.0)\n",
    "    _sqrt_term *= pressure_term\n",
    "    assert (_sqrt_term >= 0.0)\n",
    "    _sqrt_term = np.sqrt(_sqrt_term)\n",
    "\n",
    "    _mdot_unchoked = _rho * _area * _sqrt_term\n",
    "\n",
    "    power = (_gamma_s + 1.0) / (_gamma_s - 1.0)\n",
    "    _gamma_term = (2. / (_gamma_s + 1.0)) ** power\n",
    "    _sqrt = np.sqrt(_gamma_s * _r_gas_specific * _temp * _gamma_term)\n",
    "    _mdot_choked = _rho * _area * _sqrt\n",
    "\n",
    "    _mdot = 0.0\n",
    "    _p_crit_downstream = _press * (2. / (_gamma_s + 1.0)) ** (_gamma_s / (_gamma_s - 1.0))\n",
    "\n",
    "    if _p_crit_downstream < 101325:  # Less than exhaust pressure = P_atm\n",
    "        # Unchoked conditions\n",
    "        _mdot = _mdot_unchoked\n",
    "    else:\n",
    "        # Choked conditions\n",
    "        _mdot = _mdot_choked\n",
    "\n",
    "    return _mdot  # * _geom_nozzle['C_d']  # Discharge coefficient"
   ]
  },
  {
   "cell_type": "code",
   "execution_count": 508,
   "metadata": {},
   "outputs": [
    {
     "data": {
      "text/plain": [
       "1.292313876045469"
      ]
     },
     "execution_count": 508,
     "metadata": {},
     "output_type": "execute_result"
    }
   ],
   "source": [
    "gas.cp / gas.cv"
   ]
  },
  {
   "cell_type": "code",
   "execution_count": 510,
   "metadata": {},
   "outputs": [
    {
     "data": {
      "text/plain": [
       "0.601279332122976"
      ]
     },
     "execution_count": 510,
     "metadata": {},
     "output_type": "execute_result"
    }
   ],
   "source": [
    "gas.density"
   ]
  },
  {
   "cell_type": "code",
   "execution_count": 511,
   "metadata": {},
   "outputs": [],
   "source": [
    "epsilon = 1.0\n",
    "_rho = gas.density\n",
    "_press = gas.P\n",
    "_area = 1  # arbitrarily chosen value, [m^2]\n",
    "_gamma_s = gas.cp / gas.cv\n",
    "_temp = gas.T\n",
    "_r_gas_specific = gas.cp - gas.cv\n",
    "_p_ratio = 101325 / (gas.P + epsilon)  # Exhaust pressure is atmospheric pressure\n",
    "\n",
    "power_1 = 2.0 / _gamma_s\n",
    "power_2 = (_gamma_s + 1.0) / (_gamma_s)\n",
    "pressure_term = _p_ratio ** power_1 - _p_ratio ** power_2\n",
    "_sqrt_term = 2. * _gamma_s * _r_gas_specific * _temp / (_gamma_s - 1.0)\n",
    "_sqrt_term *= pressure_term\n",
    "assert (_sqrt_term >= 0.0)\n",
    "_sqrt_term = np.sqrt(_sqrt_term)\n",
    "\n",
    "_mdot_unchoked = _rho * _area * _sqrt_term\n",
    "\n",
    "power = (_gamma_s + 1.0) / (_gamma_s - 1.0)\n",
    "_gamma_term = (2. / (_gamma_s + 1.0)) ** power\n",
    "_sqrt = np.sqrt(_gamma_s * _r_gas_specific * _temp * _gamma_term)\n",
    "_mdot_choked = _rho * _area * _sqrt\n",
    "\n",
    "_mdot = 0.0\n",
    "_p_crit_downstream = _press * (2. / (_gamma_s + 1.0)) ** (_gamma_s / (_gamma_s - 1.0))\n",
    "\n",
    "if _p_crit_downstream < 101325:  # Less than exhaust pressure = P_atm\n",
    "    # Unchoked conditions\n",
    "    _mdot = _mdot_unchoked\n",
    "else:\n",
    "    # Choked conditions\n",
    "    _mdot = _mdot_choked"
   ]
  },
  {
   "cell_type": "code",
   "execution_count": 518,
   "metadata": {},
   "outputs": [
    {
     "data": {
      "text/plain": [
       "1490009.0557754834"
      ]
     },
     "execution_count": 518,
     "metadata": {},
     "output_type": "execute_result"
    }
   ],
   "source": [
    "2. * _gamma_s * _r_gas_specific * _temp / (_gamma_s - 1.0)"
   ]
  },
  {
   "cell_type": "code",
   "execution_count": 519,
   "metadata": {},
   "outputs": [
    {
     "data": {
      "text/plain": [
       "2.2323153759939984e-06"
      ]
     },
     "execution_count": 519,
     "metadata": {},
     "output_type": "execute_result"
    }
   ],
   "source": [
    "pressure_term"
   ]
  },
  {
   "cell_type": "code",
   "execution_count": 520,
   "metadata": {},
   "outputs": [
    {
     "data": {
      "text/plain": [
       "0.9999901308647337"
      ]
     },
     "execution_count": 520,
     "metadata": {},
     "output_type": "execute_result"
    }
   ],
   "source": [
    "_p_ratio"
   ]
  },
  {
   "cell_type": "code",
   "execution_count": 521,
   "metadata": {},
   "outputs": [
    {
     "data": {
      "text/plain": [
       "1.5476116422428876"
      ]
     },
     "execution_count": 521,
     "metadata": {},
     "output_type": "execute_result"
    }
   ],
   "source": [
    "power_1"
   ]
  },
  {
   "cell_type": "code",
   "execution_count": 522,
   "metadata": {},
   "outputs": [
    {
     "data": {
      "text/plain": [
       "1.7738058211214438"
      ]
     },
     "execution_count": 522,
     "metadata": {},
     "output_type": "execute_result"
    }
   ],
   "source": [
    "power_2"
   ]
  },
  {
   "cell_type": "code",
   "execution_count": null,
   "metadata": {},
   "outputs": [],
   "source": []
  }
 ],
 "metadata": {
  "kernelspec": {
   "display_name": "Python 3",
   "language": "python",
   "name": "python3"
  },
  "language_info": {
   "codemirror_mode": {
    "name": "ipython",
    "version": 3
   },
   "file_extension": ".py",
   "mimetype": "text/x-python",
   "name": "python",
   "nbconvert_exporter": "python",
   "pygments_lexer": "ipython3",
   "version": "3.6.8"
  }
 },
 "nbformat": 4,
 "nbformat_minor": 4
}
