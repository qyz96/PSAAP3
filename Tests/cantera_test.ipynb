{
 "cells": [
  {
   "cell_type": "code",
   "execution_count": 1,
   "metadata": {},
   "outputs": [],
   "source": [
    "import cantera as ct\n",
    "import numpy as np\n",
    "import matplotlib.pyplot as plt"
   ]
  },
  {
   "cell_type": "code",
   "execution_count": 411,
   "metadata": {},
   "outputs": [
    {
     "name": "stdout",
     "output_type": "stream",
     "text": [
      "\n",
      "\n",
      "**** WARNING ****\n",
      "For species c7h15o-1, discontinuity in h/RT detected at Tmid = 1391\n",
      "\tValue computed using low-temperature polynomial:  21.8343\n",
      "\tValue computed using high-temperature polynomial: 21.767\n",
      "\n",
      "  gas:\n",
      "\n",
      "       temperature            1200  K\n",
      "          pressure          101325  Pa\n",
      "           density        0.377851  kg/m^3\n",
      "  mean mol. weight         37.2066  amu\n",
      "\n",
      "                          1 kg            1 kmol\n",
      "                       -----------      ------------\n",
      "          enthalpy      4.1341e+06        1.538e+08     J\n",
      "   internal energy      3.8659e+06        1.438e+08     J\n",
      "           entropy           10684        3.975e+05     J/K\n",
      "    Gibbs function     -8.6872e+06       -3.232e+08     J\n",
      " heat capacity c_p          3280.6        1.221e+05     J/K\n",
      " heat capacity c_v          3057.2        1.137e+05     J/K\n",
      "\n",
      "                           X                 Y          Chem. Pot. / RT\n",
      "                     -------------     ------------     ------------\n",
      "                n2     0.00830104          0.00625         -30.1346\n",
      "               ch3      0.0154668          0.00625         -16.4435\n",
      "                 h       0.230709          0.00625          4.99469\n",
      "               ch4      0.0144951          0.00625         -37.8159\n",
      "                h2       0.115355          0.00625         -20.1238\n",
      "                oh       0.013673          0.00625         -24.6691\n",
      "               h2o       0.012908          0.00625         -54.0432\n",
      "                 o      0.0145344          0.00625        -0.257224\n",
      "              c2h6     0.00773342          0.00625         -47.2902\n",
      "              c2h5     0.00800163          0.00625         -28.6487\n",
      "               hco     0.00801359          0.00625         -30.5001\n",
      "                co     0.00830195          0.00625         -41.9572\n",
      "               co2     0.00528385          0.00625         -73.8264\n",
      "                o2     0.00726718          0.00625         -32.0007\n",
      "              h2o2     0.00683649          0.00625         -50.6235\n",
      "               ho2     0.00704526          0.00625         -34.0057\n",
      "              c2h4     0.00828912          0.00625         -30.7595\n",
      "             ch3oh     0.00725735          0.00625         -58.5938\n",
      "             ch2oh     0.00749305          0.00625         -40.8921\n",
      "              ch3o     0.00749305          0.00625         -34.8213\n",
      "              ch2o     0.00774458          0.00625         -46.2265\n",
      "              c2h2     0.00893087          0.00625         -10.3601\n",
      "              c2h3     0.00859804          0.00625         -8.11305\n",
      "               c2h     0.00929051          0.00625          23.6976\n",
      "              hcco     0.00566768          0.00625         -22.5516\n",
      "               ch2      0.0165782          0.00625          8.27554\n",
      "                ch      0.0178617          0.00625            31.23\n",
      "             ch2co     0.00553178          0.00625           -44.53\n",
      "            ch2(s)      0.0165782          0.00625          12.9375\n",
      "           pc2h4oh     0.00516057          0.00625         -50.4749\n",
      "             ch3co     0.00540225          0.00625          -44.892\n",
      "            ch3cho     0.00527865          0.00625         -59.5196\n",
      "            c3h5-s     0.00566169          0.00625         -18.1902\n",
      "            c3h4-p     0.00580413          0.00625         -21.9321\n",
      "            c3h5-a     0.00566169          0.00625          -26.399\n",
      "              c3h6     0.00552608          0.00625         -42.7669\n",
      "            c3h4-a     0.00580413          0.00625         -20.6794\n",
      "           ch3chco     0.00414777          0.00625         -55.6382\n",
      "            c3h5-t     0.00566169          0.00625         -19.1762\n",
      "              c4h6     0.00429902          0.00625         -33.7097\n",
      "             nc3h7     0.00539681          0.00625         -36.4564\n",
      "             ic3h7     0.00539681          0.00625         -36.2806\n",
      "              c3h8     0.00527346          0.00625          -56.904\n",
      "              c5h9     0.00336399          0.00625         -45.6829\n",
      "              c4h7     0.00422038          0.00625         -37.5273\n",
      "            c4h8-1     0.00414456          0.00625         -52.6487\n",
      "             sc4h9     0.00407142          0.00625         -49.4477\n",
      "             pc4h9     0.00407142          0.00625         -47.7298\n",
      "          ch3coch3      0.0040038          0.00625         -70.8745\n",
      "          ch3coch2     0.00407451          0.00625         -53.0369\n",
      "            c2h5co     0.00407451          0.00625         -53.9779\n",
      "           c2h5cho      0.0040038          0.00625         -69.5474\n",
      "           c5h10-1     0.00331565          0.00625         -62.3485\n",
      "            ch2cho     0.00540225          0.00625         -40.4356\n",
      "           c5h11-1     0.00326867          0.00625         -57.4215\n",
      "           c5h11-2     0.00326867          0.00625         -59.1463\n",
      "             c2h5o     0.00516057          0.00625         -46.8788\n",
      "            c2h5o2     0.00380837          0.00625         -54.4436\n",
      "             ch3o2     0.00494414          0.00625         -42.3112\n",
      "            ch3o2h     0.00484041          0.00625         -58.1853\n",
      "              c3h2     0.00611164          0.00625          11.1821\n",
      "          o2c2h4oh     0.00301767          0.00625         -76.1143\n",
      "           c2h4o2h     0.00380837          0.00625         -50.9144\n",
      "            c2h3co      0.0042237          0.00625         -40.0804\n",
      "           c2h3cho     0.00414777          0.00625         -55.6546\n",
      "             c3h5o     0.00407451          0.00625          -41.028\n",
      "          c3h6o1-2      0.0040038          0.00625         -56.8304\n",
      "        c3h6ooh1-2     0.00309694          0.00625         -61.4499\n",
      "        c3h6ooh2-1     0.00309694          0.00625         -60.4864\n",
      "            nc3h7o      0.0039355          0.00625         -56.6259\n",
      "            ic3h7o      0.0039355          0.00625         -57.6774\n",
      "           nc3h7o2     0.00309694          0.00625          -64.137\n",
      "           ic3h7o2     0.00309694          0.00625         -63.9786\n",
      "             c4h7o     0.00327067          0.00625         -63.6763\n",
      "      c4h8ooh1-3o2     0.00192003          0.00625         -96.2337\n",
      "        c4h8ooh1-3     0.00260947          0.00625         -71.5082\n",
      "          nc4ket13      0.0022337          0.00625         -101.761\n",
      "        c4h8ooh1-2     0.00260947          0.00625         -71.4988\n",
      "          c4h8o1-3     0.00322495          0.00625          -65.515\n",
      "           pc4h9o2     0.00260947          0.00625         -73.7936\n",
      "              c3h3     0.00595392          0.00625         -7.55056\n",
      "             hocho     0.00505242          0.00625         -77.7249\n",
      "          c2h3o1,2     0.00540225          0.00625         -39.4113\n",
      "          nc3h7cho     0.00322495          0.00625         -79.2439\n",
      "           nc3h7co     0.00327067          0.00625         -63.6763\n",
      "         c3h6cho-2     0.00327067          0.00625         -61.1165\n",
      "       ch2ch2coch3     0.00327067          0.00625         -62.8597\n",
      "         c2h5coch2     0.00327067          0.00625         -64.7705\n",
      "       c2h5coc2h4p     0.00273173          0.00625         -72.2062\n",
      "        nc3h7coch2     0.00273173          0.00625         -71.8565\n",
      "          nc4h9cho     0.00269977          0.00625          -88.898\n",
      "           nc4h9co     0.00273173          0.00625          -73.337\n",
      "            hoch2o     0.00494414          0.00625         -60.3289\n",
      "           c6h13-1     0.00273034          0.00625          -67.096\n",
      "           c6h12-1     0.00276304          0.00625         -72.0093\n",
      "             c6h11     0.00279653          0.00625         -56.1238\n",
      "            nc7h16     0.00232068          0.00625         -95.8866\n",
      "           c7h15-1     0.00234426          0.00625         -77.1086\n",
      "           c7h15-2     0.00234426          0.00625         -78.4366\n",
      "           c7h15-3     0.00234426          0.00625         -78.4366\n",
      "           c7h15-4     0.00234426          0.00625         -77.7472\n",
      "         c7h15o2-1     0.00177249          0.00625         -102.592\n",
      "        c7h15o2h-1     0.00175897          0.00625         -118.461\n",
      "         c7h15o2-2     0.00177249          0.00625         -103.131\n",
      "        c7h15o2h-2     0.00175897          0.00625         -118.999\n",
      "         c7h15o2-3     0.00177249          0.00625         -103.131\n",
      "        c7h15o2h-3     0.00175897          0.00625         -118.999\n",
      "           c7h14-1     0.00236832          0.00625         -81.6424\n",
      "           c7h14-2     0.00236832          0.00625         -82.3064\n",
      "           c7h14-3     0.00236832          0.00625         -82.4204\n",
      "             c7h13     0.00239288          0.00625          -64.981\n",
      "         c7h15o2-4     0.00177249          0.00625         -102.441\n",
      "          c7h15o-1     0.00201866          0.00625          -95.224\n",
      "          c7h15o-2     0.00201866          0.00625         -96.9574\n",
      "          c7h15o-3     0.00201866          0.00625         -96.9574\n",
      "       c7h14ooh1-2     0.00177249          0.00625         -100.333\n",
      "       c7h14ooh1-3     0.00177249          0.00625         -100.333\n",
      "       c7h14ooh1-4     0.00177249          0.00625         -100.333\n",
      "       c7h14ooh2-3     0.00177249          0.00625         -100.868\n",
      "       c7h14ooh2-4     0.00177249          0.00625         -100.868\n",
      "       c7h14ooh2-5     0.00177249          0.00625         -100.868\n",
      "       c7h14ooh3-1     0.00177249          0.00625         -99.5322\n",
      "       c7h14ooh3-2     0.00177249          0.00625         -100.868\n",
      "       c7h14ooh3-4     0.00177249          0.00625         -100.868\n",
      "       c7h14ooh3-5     0.00177249          0.00625         -100.868\n",
      "       c7h14ooh3-6     0.00177249          0.00625         -100.868\n",
      "       c7h14ooh4-2     0.00177249          0.00625         -100.178\n",
      "       c7h14ooh4-3     0.00177249          0.00625         -100.178\n",
      "         c7h14o1-3     0.00203648          0.00625         -94.3105\n",
      "         c7h14o1-4     0.00203648          0.00625         -101.665\n",
      "         c7h14o2-4     0.00203648          0.00625         -96.0634\n",
      "         c7h14o2-5     0.00203648          0.00625         -103.411\n",
      "         c7h14o3-5     0.00203648          0.00625         -96.0634\n",
      "     c7h14ooh1-3o2     0.00142494          0.00625         -125.105\n",
      "     c7h14ooh2-3o2     0.00142494          0.00625         -125.652\n",
      "     c7h14ooh2-4o2     0.00142494          0.00625         -125.652\n",
      "     c7h14ooh2-5o2     0.00142494          0.00625         -125.652\n",
      "     c7h14ooh3-1o2     0.00142494          0.00625         -125.105\n",
      "     c7h14ooh3-2o2     0.00142494          0.00625         -125.652\n",
      "     c7h14ooh3-4o2     0.00142494          0.00625         -125.652\n",
      "     c7h14ooh3-5o2     0.00142494          0.00625         -125.652\n",
      "     c7h14ooh3-6o2     0.00142494          0.00625         -125.652\n",
      "     c7h14ooh4-2o2     0.00142494          0.00625         -125.652\n",
      "     c7h14ooh4-3o2     0.00142494          0.00625         -125.652\n",
      "          nc7ket13     0.00159072          0.00625         -130.541\n",
      "          nc7ket23     0.00159072          0.00625         -130.899\n",
      "          nc7ket24     0.00159072          0.00625         -132.939\n",
      "          nc7ket25     0.00159072          0.00625         -132.939\n",
      "          nc7ket31     0.00159072          0.00625         -132.781\n",
      "          nc7ket32     0.00159072          0.00625         -131.287\n",
      "          nc7ket34     0.00159072          0.00625         -131.287\n",
      "          nc7ket35     0.00159072          0.00625         -132.939\n",
      "          nc7ket36     0.00159072          0.00625         -132.939\n",
      "          nc7ket42     0.00159072          0.00625         -133.318\n",
      "          nc7ket43     0.00159072          0.00625         -131.287\n",
      "        nc4h9coch2     0.00234528          0.00625         -81.4909\n",
      "        c4h7ooh1-4     0.00263932          0.00625         -74.8871\n",
      "        c5h9ooh1-4     0.00227684          0.00625         -85.3712\n",
      "          c4h7o1-4     0.00327067          0.00625          -51.373\n",
      "          c5h9o1-4     0.00273173          0.00625         -62.7862\n",
      "\n"
     ]
    },
    {
     "name": "stderr",
     "output_type": "stream",
     "text": [
      "/home/darve/adncat/.local/lib/python3.6/site-packages/ipykernel_launcher.py:1: DeprecationWarning: Converting `np.integer` or `np.signedinteger` to a dtype is deprecated. The current result is `np.dtype(np.int_)` which is not strictly correct. Note that the result depends on the system. To ensure stable results use may want to use `np.int64` or `np.int32`.\n",
      "  \"\"\"Entry point for launching an IPython kernel.\n"
     ]
    }
   ],
   "source": [
    "gas = ct.Solution(\"seiser.cti\")\n",
    "# gas.Y = np.array([0.5, 0, 0.5, 0, 0])\n",
    "# gas.TP = 1200, 101325\n",
    "# reactor = ct.IdealGasReactor(gas)\n",
    "# sim = ct.ReactorNet([reactor])\n",
    "# sim.advance(5.93e-6)\n",
    "#gas.Y = np.array([0.25, 0.25, 0.25, 0.25, 0, 0])\n",
    "gas.Y = np.ones(gas.n_species) / gas.n_species\n",
    "#gas.set_equivalence_ratio(phi=1.0, fuel='nc7h16', oxidizer={'o2':1.0, 'n2':3.76})\n",
    "gas.TP = 1200, 101325\n",
    "np.save(\"/home/darve/adncat/yizhou/PSAAP3/Tests/data/ini_mass_fraction.npy\", gas.Y)\n",
    "#gas.set_equivalence_ratio(phi=1.0, fuel='nc7h16', oxidizer={'o2':1.0, 'n2':3.76})\n",
    "gas()"
   ]
  },
  {
   "cell_type": "code",
   "execution_count": 412,
   "metadata": {},
   "outputs": [
    {
     "data": {
      "text/plain": [
       "0.3778511846534872"
      ]
     },
     "execution_count": 412,
     "metadata": {},
     "output_type": "execute_result"
    }
   ],
   "source": [
    "gas.density"
   ]
  },
  {
   "cell_type": "code",
   "execution_count": 413,
   "metadata": {},
   "outputs": [
    {
     "name": "stdout",
     "output_type": "stream",
     "text": [
      "\n",
      "  gas:\n",
      "\n",
      "       temperature         1203.92  K\n",
      "          pressure          102632  Pa\n",
      "           density        0.377851  kg/m^3\n",
      "  mean mol. weight         36.8526  amu\n",
      "\n",
      "                          1 kg            1 kmol\n",
      "                       -----------      ------------\n",
      "          enthalpy      4.1376e+06        1.525e+08     J\n",
      "   internal energy      3.8659e+06        1.425e+08     J\n",
      "           entropy           10723        3.952e+05     J/K\n",
      "    Gibbs function     -8.7715e+06       -3.233e+08     J\n",
      " heat capacity c_p          3279.9        1.209e+05     J/K\n",
      " heat capacity c_v          3054.3        1.126e+05     J/K\n",
      "\n",
      "                           X                 Y          Chem. Pot. / RT\n",
      "                     -------------     ------------     ------------\n",
      "                n2     0.00822206          0.00625         -30.1405\n",
      "               ch3      0.0165027       0.00673265         -16.4287\n",
      "                 h       0.230328        0.0062996          4.92866\n",
      "               ch4      0.0143576       0.00625021         -37.8056\n",
      "                h2       0.114269       0.00625064         -20.1292\n",
      "                oh      0.0137991       0.00636823         -24.6689\n",
      "               h2o      0.0127861       0.00625045         -53.9723\n",
      "                 o      0.0143964       0.00625015        -0.341402\n",
      "              c2h6     0.00766045        0.0062505         -47.2888\n",
      "              c2h5     0.00834995       0.00658472         -28.6571\n",
      "               hco     0.00793591       0.00624887          -30.524\n",
      "                co     0.00861437        0.0065475         -41.8807\n",
      "               co2      0.0052337       0.00625015         -73.7094\n",
      "                o2     0.00725318       0.00629788         -31.9995\n",
      "              h2o2     0.00677122       0.00624979         -50.5928\n",
      "               ho2     0.00703416        0.0063001         -34.0125\n",
      "              c2h4     0.00823187       0.00626645         -30.7937\n",
      "             ch3oh     0.00718873       0.00625038         -58.5469\n",
      "             ch2oh     0.00742145       0.00624974         -40.9037\n",
      "              ch3o      0.0074216       0.00624987         -34.8424\n",
      "              ch2o     0.00949647       0.00773742         -45.9876\n",
      "              c2h2     0.00886358       0.00626249         -10.4468\n",
      "              c2h3     0.00961314       0.00705501         -8.10138\n",
      "               c2h     0.00918495       0.00623834           23.501\n",
      "              hcco     0.00561095       0.00624688         -22.6259\n",
      "               ch2      0.0164221       0.00625061          8.14075\n",
      "                ch      0.0176945       0.00625096          31.0306\n",
      "             ch2co       0.005482       0.00625325         -44.5313\n",
      "            ch2(s)      0.0164138       0.00624743          12.7901\n",
      "           pc2h4oh     0.00511215       0.00625083         -50.4928\n",
      "             ch3co      0.0111988        0.0130807         -44.1671\n",
      "            ch3cho     0.00922965         0.011033         -58.9219\n",
      "            c3h5-s     0.00560698       0.00624905         -18.3062\n",
      "            c3h4-p     0.00574875       0.00624983         -22.0204\n",
      "            c3h5-a     0.00979138        0.0109126         -25.9272\n",
      "              c3h6     0.00552133       0.00630462         -42.7964\n",
      "            c3h4-a     0.00574925       0.00625038         -20.7704\n",
      "           ch3chco     0.00410826       0.00624993         -55.6433\n",
      "            c3h5-t     0.00560717       0.00624927         -19.2886\n",
      "              c4h6     0.00425828       0.00625024         -33.7944\n",
      "             nc3h7     0.00535992        0.0062669         -36.5207\n",
      "             ic3h7     0.00535197       0.00625761         -36.3405\n",
      "              c3h8     0.00522309       0.00624977         -56.9091\n",
      "              c5h9     0.00333152       0.00624912         -45.7759\n",
      "              c4h7     0.00417923       0.00624852         -37.6144\n",
      "            c4h8-1     0.00412117       0.00627442         -52.6893\n",
      "             sc4h9     0.00403183       0.00624867         -49.5172\n",
      "             pc4h9     0.00423289       0.00656028         -47.7553\n",
      "          ch3coch3     0.00415352       0.00654599         -70.7946\n",
      "          ch3coch2     0.00403485       0.00624861         -53.0617\n",
      "            c2h5co     0.00367524        0.0056917          -54.095\n",
      "           c2h5cho     0.00426665       0.00672428          -69.451\n",
      "           c5h10-1     0.00328665       0.00625484         -62.3981\n",
      "            ch2cho     0.00443786       0.00518359         -40.6524\n",
      "           c5h11-1     0.00339104       0.00654626         -57.4551\n",
      "           c5h11-2     0.00323255        0.0062403          -59.223\n",
      "             c2h5o     0.00511106        0.0062495         -46.9017\n",
      "            c2h5o2     0.00377185       0.00624952         -54.4677\n",
      "             ch3o2     0.00489701       0.00624988          -42.335\n",
      "            ch3o2h     0.00479427       0.00624988         -58.1682\n",
      "              c3h2     0.00605476       0.00625131          10.9862\n",
      "          o2c2h4oh     0.00298824        0.0062485         -76.0965\n",
      "           c2h4o2h     0.00376932       0.00624534         -50.9616\n",
      "            c2h3co      0.0041834       0.00624983         -40.1315\n",
      "           c2h3cho     0.00520735       0.00792199         -55.4218\n",
      "             c3h5o     0.00402995       0.00624103         -41.0938\n",
      "          c3h6o1-2     0.00396753       0.00625288          -56.838\n",
      "        c3h6ooh1-2     0.00305052       0.00621546         -61.5042\n",
      "        c3h6ooh2-1     0.00304787       0.00621005         -60.5399\n",
      "            nc3h7o     0.00373303        0.0059854         -56.6979\n",
      "            ic3h7o     0.00363264       0.00582443         -57.7715\n",
      "           nc3h7o2     0.00306782       0.00625072         -64.1668\n",
      "           ic3h7o2       0.003061       0.00623682         -64.0053\n",
      "             c4h7o     0.00104971       0.00202518         -64.8326\n",
      "      c4h8ooh1-3o2     0.00189736       0.00623554         -96.2508\n",
      "        c4h8ooh1-3       0.002588       0.00625811         -71.5605\n",
      "          nc4ket13     0.00221116       0.00624637         -101.723\n",
      "        c4h8ooh1-2     0.00257182       0.00621899         -71.5577\n",
      "          c4h8o1-3     0.00319462        0.0062507         -65.5273\n",
      "           pc4h9o2     0.00258282       0.00624559         -73.8302\n",
      "              c3h3     0.00589611       0.00624878         -7.68817\n",
      "             hocho     0.00655884       0.00819142         -77.3493\n",
      "          c2h3o1,2    0.000423403      0.000494551              -42\n",
      "          nc3h7cho     0.00319759       0.00625651         -79.2255\n",
      "           nc3h7co      0.0032289       0.00622946          -63.709\n",
      "         c3h6cho-2     0.00323798       0.00624697         -61.1584\n",
      "       ch2ch2coch3     0.00323382       0.00623895         -62.8968\n",
      "         c2h5coch2     0.00324011       0.00625109         -64.7972\n",
      "       c2h5coc2h4p     0.00270643       0.00625159         -72.2468\n",
      "        nc3h7coch2     0.00270666       0.00625213         -71.8895\n",
      "          nc4h9cho     0.00268285       0.00627049         -88.8832\n",
      "           nc4h9co       0.002697       0.00622982         -73.3756\n",
      "            hoch2o     0.00312517       0.00398854         -60.7456\n",
      "           c6h13-1     0.00273206         0.006314         -67.1716\n",
      "           c6h12-1     0.00273703       0.00625064         -72.0655\n",
      "             c6h11     0.00277003       0.00625024         -56.2184\n",
      "            nc7h16     0.00229875       0.00625043         -95.9147\n",
      "           c7h15-1     0.00232217       0.00625058         -77.2001\n",
      "           c7h15-2     0.00232535       0.00625914         -78.5222\n",
      "           c7h15-3     0.00232537       0.00625921         -78.5222\n",
      "           c7h15-4     0.00232459        0.0062571          -77.833\n",
      "         c7h15o2-1      0.0017551       0.00624815         -102.646\n",
      "        c7h15o2h-1     0.00174147       0.00624727         -118.474\n",
      "         c7h15o2-2     0.00175191       0.00623678         -103.181\n",
      "        c7h15o2h-2      0.0017411       0.00624592         -119.007\n",
      "         c7h15o2-3     0.00175216       0.00623769         -103.181\n",
      "        c7h15o2h-3      0.0017411       0.00624592         -119.007\n",
      "           c7h14-1     0.00234738       0.00625425          -81.704\n",
      "           c7h14-2     0.00234832       0.00625676          -82.363\n",
      "           c7h14-3      0.0023528        0.0062687         -82.4755\n",
      "             c7h13     0.00237039       0.00625072         -65.0856\n",
      "         c7h15o2-4     0.00175208        0.0062374         -102.492\n",
      "          c7h15o-1     0.00197121       0.00616169         -95.2908\n",
      "          c7h15o-2     0.00184677       0.00577273         -97.0841\n",
      "          c7h15o-3     0.00181309       0.00566744         -97.1025\n",
      "       c7h14ooh1-2     0.00175381       0.00624354         -100.405\n",
      "       c7h14ooh1-3     0.00175745       0.00625651         -100.403\n",
      "       c7h14ooh1-4     0.00175365       0.00624297         -100.405\n",
      "       c7h14ooh2-3     0.00175687       0.00625443         -100.933\n",
      "       c7h14ooh2-4     0.00175621        0.0062521         -100.933\n",
      "       c7h14ooh2-5       0.001756       0.00625134         -100.934\n",
      "       c7h14ooh3-1     0.00174871       0.00622539         -99.6068\n",
      "       c7h14ooh3-2     0.00175687       0.00625443         -100.933\n",
      "       c7h14ooh3-4     0.00175581       0.00625069         -100.934\n",
      "       c7h14ooh3-5      0.0017559         0.006251         -100.934\n",
      "       c7h14ooh3-6     0.00175648       0.00625307         -100.933\n",
      "       c7h14ooh4-2     0.00175466       0.00624659         -100.245\n",
      "       c7h14ooh4-3     0.00175205       0.00623728         -100.246\n",
      "         c7h14o1-3       0.002018       0.00625277         -94.3409\n",
      "         c7h14o1-4     0.00201887       0.00625545         -101.667\n",
      "         c7h14o2-4       0.002018       0.00625277         -96.0885\n",
      "         c7h14o2-5     0.00202063       0.00626092         -103.407\n",
      "         c7h14o3-5     0.00201755       0.00625138         -96.0887\n",
      "     c7h14ooh1-3o2     0.00140866       0.00623797          -125.14\n",
      "     c7h14ooh2-3o2     0.00140871       0.00623816         -125.682\n",
      "     c7h14ooh2-4o2      0.0014087       0.00623813         -125.682\n",
      "     c7h14ooh2-5o2     0.00140872        0.0062382         -125.682\n",
      "     c7h14ooh3-1o2     0.00141063        0.0062467         -125.139\n",
      "     c7h14ooh3-2o2     0.00140871       0.00623816         -125.682\n",
      "     c7h14ooh3-4o2     0.00140871       0.00623816         -125.682\n",
      "     c7h14ooh3-5o2      0.0014087       0.00623813         -125.682\n",
      "     c7h14ooh3-6o2     0.00140872        0.0062382         -125.682\n",
      "     c7h14ooh4-2o2     0.00141003         0.006244         -125.681\n",
      "     c7h14ooh4-3o2     0.00141003       0.00624403         -125.681\n",
      "          nc7ket13     0.00157467       0.00624637         -130.521\n",
      "          nc7ket23     0.00157467       0.00624638         -130.875\n",
      "          nc7ket24     0.00157468       0.00624641         -132.908\n",
      "          nc7ket25     0.00157466       0.00624635         -132.908\n",
      "          nc7ket31     0.00157448       0.00624565         -132.756\n",
      "          nc7ket32     0.00157467       0.00624638         -131.262\n",
      "          nc7ket34     0.00157467       0.00624638         -131.262\n",
      "          nc7ket35     0.00157468       0.00624641         -132.908\n",
      "          nc7ket36     0.00157466       0.00624635         -132.908\n",
      "          nc7ket42     0.00157468       0.00624641         -133.287\n",
      "          nc7ket43     0.00157467       0.00624638         -131.262\n",
      "        nc4h9coch2     0.00232408       0.00625299         -81.5297\n",
      "        c4h7ooh1-4     0.00261424       0.00625006         -74.9149\n",
      "        c5h9ooh1-4     0.00225528       0.00625027         -85.4006\n",
      "          c4h7o1-4     0.00172185       0.00332193         -52.0738\n",
      "          c5h9o1-4     3.6805e-05       8.5016e-05         -67.1531\n",
      "\n"
     ]
    }
   ],
   "source": [
    "#gas.TP = 1200, 101325\n",
    "#gas.set_equivalence_ratio(phi=1.0, fuel='nc7h16', oxidizer={'o2':1.0, 'n2':3.76})\n",
    "reactor = ct.IdealGasReactor(gas)\n",
    "sim = ct.ReactorNet([reactor])\n",
    "n_t = 200\n",
    "Pt = np.zeros(n_t)\n",
    "Tt = np.zeros(n_t)\n",
    "Yt = np.zeros((gas.n_species,n_t))\n",
    "for i in range(n_t):\n",
    "    sim.advance((i+1)*1e-14)\n",
    "    Pt[i] = gas.P\n",
    "    Tt[i] = gas.T\n",
    "    Yt[:,i] = gas.Y\n",
    "gas()"
   ]
  },
  {
   "cell_type": "code",
   "execution_count": 414,
   "metadata": {},
   "outputs": [
    {
     "data": {
      "text/plain": [
       "array([101346.95739854, 101368.45910547, 101389.51563926, 101410.13727787,\n",
       "       101430.33408094, 101450.11589669, 101469.49235212, 101488.47286349,\n",
       "       101507.06664343, 101525.28270347, 101543.12985752, 101560.61671527,\n",
       "       101577.75170078, 101594.54304943, 101610.99881168, 101627.12685727,\n",
       "       101642.9348774 , 101658.4303887 , 101673.62073679, 101688.51309873,\n",
       "       101703.11448872, 101717.43176129, 101731.47160607, 101745.24056338,\n",
       "       101758.74502075, 101771.99121987, 101784.98525651, 101797.73308368,\n",
       "       101810.24051474, 101822.51322617, 101834.55676174, 101846.37653473,\n",
       "       101857.97783092, 101869.36581106, 101880.54551485, 101891.52186036,\n",
       "       101902.2996526 , 101912.88357796, 101923.27821509, 101933.48803129,\n",
       "       101943.51738723, 101953.37053989, 101963.05164347, 101972.56475318,\n",
       "       101981.91382643, 101991.10272615, 102000.13522169, 102009.01499229,\n",
       "       102017.74562832, 102026.33063318, 102034.7734264 , 102043.07734388,\n",
       "       102051.24564182, 102059.28149663, 102067.18800855, 102074.96820222,\n",
       "       102082.62502901, 102090.16136889, 102097.58003141, 102104.88375855,\n",
       "       102112.07522481, 102119.15704047, 102126.13175166, 102133.00184287,\n",
       "       102139.76973808, 102146.43780194, 102153.00834197, 102159.48360885,\n",
       "       102165.86579907, 102172.15705486, 102178.35946682, 102184.47507422,\n",
       "       102190.5058666 , 102196.4537852 , 102202.32072344, 102208.10852911,\n",
       "       102213.8190043 , 102219.4539077 , 102225.01495465, 102230.50381884,\n",
       "       102235.92213316, 102241.27149041, 102246.55344491, 102251.7695126 ,\n",
       "       102256.92117296, 102262.00986888, 102267.03700848, 102272.00396535,\n",
       "       102276.91207957, 102281.76265877, 102286.5569784 , 102291.29628326,\n",
       "       102295.98178737, 102300.61467565, 102305.19610388, 102309.72719984,\n",
       "       102314.20906395, 102318.64276969, 102323.02936472, 102327.36987094,\n",
       "       102331.66528579, 102335.91658219, 102340.12470967, 102344.29059468,\n",
       "       102348.41514113, 102352.49923124, 102356.5437256 , 102360.54946429,\n",
       "       102364.51726674, 102368.44793287, 102372.34224312, 102376.20095911,\n",
       "       102380.02482415, 102383.8145635 , 102387.57088512, 102391.29447972,\n",
       "       102394.9860216 , 102398.64616867, 102402.27556312, 102405.87483174,\n",
       "       102409.44458616, 102412.98542353, 102416.49792647, 102419.98266388,\n",
       "       102423.44019083, 102426.87104931, 102430.27576827, 102433.65486402,\n",
       "       102437.00884065, 102440.33819011, 102443.64339279, 102446.9249175 ,\n",
       "       102450.18322206, 102453.41875331, 102456.63194755, 102459.82323075,\n",
       "       102462.99301873, 102466.14171757, 102469.26972367, 102472.37742416,\n",
       "       102475.46519696, 102478.53341116, 102481.58242713, 102484.61259678,\n",
       "       102487.62426377, 102490.61776368, 102493.59342427, 102496.55156557,\n",
       "       102499.49250021, 102502.41653346, 102505.32396351, 102508.21508162,\n",
       "       102511.09017222, 102513.94951322, 102516.79337598, 102519.6220257 ,\n",
       "       102522.43572133, 102525.23471591, 102528.01925664, 102530.78958497,\n",
       "       102533.54593689, 102536.28854286, 102539.01762816, 102541.73341282,\n",
       "       102544.43611192, 102547.12593557, 102549.80308911, 102552.46777322,\n",
       "       102555.12018399, 102557.76051311, 102560.38894787, 102563.00567137,\n",
       "       102565.61086255, 102568.20469633, 102570.78734371, 102573.35897182,\n",
       "       102575.91974407, 102578.46982018, 102581.00935635, 102583.53850526,\n",
       "       102586.05741622, 102588.56623521, 102591.06510497, 102593.5541651 ,\n",
       "       102596.0335521 , 102598.50339949, 102600.96383783, 102603.41499483,\n",
       "       102605.85699539, 102608.28996171, 102610.71401331, 102613.1292671 ,\n",
       "       102615.53583749, 102617.93383636, 102620.32337324, 102622.70455524,\n",
       "       102625.07748722, 102627.44227175, 102629.79900924, 102632.14779794])"
      ]
     },
     "execution_count": 414,
     "metadata": {},
     "output_type": "execute_result"
    }
   ],
   "source": [
    "Pt"
   ]
  },
  {
   "cell_type": "code",
   "execution_count": 415,
   "metadata": {},
   "outputs": [
    {
     "data": {
      "image/png": "[encoded data removed]",
      "text/plain": [
       "<Figure size 432x288 with 1 Axes>"
      ]
     },
     "metadata": {
      "needs_background": "light"
     },
     "output_type": "display_data"
    },
    {
     "data": {
      "image/png": "[encoded data removed]",
      "text/plain": [
       "<Figure size 432x288 with 1 Axes>"
      ]
     },
     "metadata": {
      "needs_background": "light"
     },
     "output_type": "display_data"
    }
   ],
   "source": [
    "plt.plot(Tt)\n",
    "plt.figure()\n",
    "for i in range(gas.n_species):\n",
    "    plt.plot(Yt[i,:])\n",
    "####"
   ]
  },
  {
   "cell_type": "code",
   "execution_count": 416,
   "metadata": {},
   "outputs": [],
   "source": [
    "np.save('/home/darve/adncat/yizhou/PSAAP3/Tests/data/pressure.npy', Pt)\n",
    "np.save('/home/darve/adncat/yizhou/PSAAP3/Tests/data/temperature.npy', Tt)\n",
    "np.save('/home/darve/adncat/yizhou/PSAAP3/Tests/data/mass_fraction.npy', Yt)"
   ]
  },
  {
   "cell_type": "code",
   "execution_count": 309,
   "metadata": {},
   "outputs": [],
   "source": [
    "tbd = []\n",
    "falofr = []\n",
    "elmr = []\n",
    "for i in range(gas.n_reactions):\n",
    "    if (isinstance(gas.reaction(i), ct.ThreeBodyReaction)):\n",
    "        tbd.append(i)\n",
    "    elif (isinstance(gas.reaction(i), ct.FalloffReaction)):\n",
    "        falofr.append(i)\n",
    "    else:\n",
    "        elmr.append(i)"
   ]
  },
  {
   "cell_type": "code",
   "execution_count": 310,
   "metadata": {},
   "outputs": [],
   "source": [
    "NASA_coeffs = []\n",
    "for i in range(gas.n_species):\n",
    "    NASA_coeffs.append(gas.species(i).thermo.coeffs)\n",
    "NASA_coeffs = np.array(NASA_coeffs)\n",
    "reactants = []\n",
    "orders = [] \n",
    "Af = np.zeros(len(elmr))\n",
    "beta = np.zeros(len(elmr))\n",
    "E = np.zeros(len(elmr))"
   ]
  },
  {
   "cell_type": "code",
   "execution_count": 311,
   "metadata": {},
   "outputs": [],
   "source": [
    "rec2ind = dict()\n",
    "for i in range(gas.n_species):\n",
    "    reactants.append(gas.species(i).name)\n",
    "    rec2ind[gas.species(i).name] = i\n",
    "orders = gas.reactant_stoich_coeffs()[:,elmr]\n",
    "for i, s in enumerate(elmr):   \n",
    "    Af[i] = gas.reaction(s).rate.pre_exponential_factor\n",
    "    beta[i] = gas.reaction(s).rate.temperature_exponent\n",
    "    E[i] = gas.reaction(s).rate.activation_energy\n",
    "    for rec in gas.reaction(s).orders:\n",
    "        orders[rec2ind[rec], i] = gas.reaction(s).orders[rec]\n",
    "reversible = np.array([int(gas.reaction(i).reversible) for i in range(gas.n_reactions)])"
   ]
  },
  {
   "cell_type": "code",
   "execution_count": 312,
   "metadata": {},
   "outputs": [],
   "source": [
    "np.save('/home/darve/adncat/yizhou/PSAAP3/Tests/data/NASA_coeffs.npy', NASA_coeffs)\n",
    "np.save('/home/darve/adncat/yizhou/PSAAP3/Tests/data/molecular_weights.npy',gas.molecular_weights)\n",
    "np.save('/home/darve/adncat/yizhou/PSAAP3/Tests/data/reactants_stoich_coeffs.npy',gas.reactant_stoich_coeffs())\n",
    "np.save('/home/darve/adncat/yizhou/PSAAP3/Tests/data/product_stoich_coeffs.npy',gas.product_stoich_coeffs())\n",
    "np.save('/home/darve/adncat/yizhou/PSAAP3/Tests/data/reaction_orders.npy',orders)\n",
    "np.save('/home/darve/adncat/yizhou/PSAAP3/Tests/data/pre_exponential_factor.npy', Af)\n",
    "np.save('/home/darve/adncat/yizhou/PSAAP3/Tests/data/temperature_exponent.npy', beta)\n",
    "np.save('/home/darve/adncat/yizhou/PSAAP3/Tests/data/activation_energy.npy', E)\n",
    "np.save('/home/darve/adncat/yizhou/PSAAP3/Tests/data/delta_standard_entropy.npy', gas.delta_standard_entropy)\n",
    "np.save('/home/darve/adncat/yizhou/PSAAP3/Tests/data/delta_standard_enthalpy.npy', gas.delta_standard_enthalpy)\n",
    "np.save('/home/darve/adncat/yizhou/PSAAP3/Tests/data/reversible.npy', reversible)"
   ]
  },
  {
   "cell_type": "code",
   "execution_count": 313,
   "metadata": {},
   "outputs": [],
   "source": [
    "efficiency_f = np.zeros((gas.n_species, len(falofr)))\n",
    "Af_lo = np.zeros(len(falofr))\n",
    "beta_lo = np.zeros(len(falofr))\n",
    "E_lo = np.zeros(len(falofr))\n",
    "Af_hi = np.zeros(len(falofr))\n",
    "beta_hi = np.zeros(len(falofr))\n",
    "E_hi = np.zeros(len(falofr))\n",
    "orders_f = gas.reactant_stoich_coeffs()[:,falofr]\n",
    "falloff_parameters = np.zeros((4, len(falofr)))\n",
    "troefall = []\n",
    "troefall_coeff = []\n",
    "for i, s in enumerate(falofr):\n",
    "    rr = gas.reaction(s)\n",
    "    Af_lo[i] = rr.low_rate.pre_exponential_factor\n",
    "    beta_lo[i] = rr.low_rate.temperature_exponent\n",
    "    E_lo[i] = rr.low_rate.activation_energy\n",
    "    Af_hi[i] = rr.high_rate.pre_exponential_factor\n",
    "    beta_hi[i] = rr.high_rate.temperature_exponent\n",
    "    E_hi[i] = rr.high_rate.activation_energy\n",
    "    efficiency_f[:,i] = rr.default_efficiency * np.ones(gas.n_species)\n",
    "    if(isinstance(rr.falloff, ct.TroeFalloff)):\n",
    "        troefall.append(i)\n",
    "        troefall_coeff.append(rr.falloff.parameters)\n",
    "    #falloff_parameters[:,i] = gas.reaction(s).falloff.parameters\n",
    "    for rec in rr.efficiencies:\n",
    "        efficiency_f[rec2ind[rec]] = rr.efficiencies[rec]\n",
    "    for rec in gas.reaction(s).orders:\n",
    "        orders_f[rec2ind[rec], i] = gas.reaction(s).orders[rec]\n",
    "\n",
    "np.save('/home/darve/adncat/yizhou/PSAAP3/Tests/data/efficiency_f.npy', efficiency_f)\n",
    "np.save('/home/darve/adncat/yizhou/PSAAP3/Tests/data/troefall_coeff.npy', np.array(troefall_coeff).T)\n",
    "np.save('/home/darve/adncat/yizhou/PSAAP3/Tests/data/troefall.npy', troefall)\n",
    "np.save('/home/darve/adncat/yizhou/PSAAP3/Tests/data/reaction_orders_f.npy',orders_f)\n",
    "np.save('/home/darve/adncat/yizhou/PSAAP3/Tests/data/pre_exponential_factor_hi.npy', Af_hi)\n",
    "np.save('/home/darve/adncat/yizhou/PSAAP3/Tests/data/temperature_exponent_hi.npy', beta_hi)\n",
    "np.save('/home/darve/adncat/yizhou/PSAAP3/Tests/data/activation_energy_hi.npy', E_hi)\n",
    "np.save('/home/darve/adncat/yizhou/PSAAP3/Tests/data/pre_exponential_factor_lo.npy', Af_lo)\n",
    "np.save('/home/darve/adncat/yizhou/PSAAP3/Tests/data/temperature_exponent_lo.npy', beta_lo)\n",
    "np.save('/home/darve/adncat/yizhou/PSAAP3/Tests/data/activation_energy_lo.npy', E_lo)"
   ]
  },
  {
   "cell_type": "code",
   "execution_count": 314,
   "metadata": {},
   "outputs": [],
   "source": [
    "efficiency_t = np.zeros((gas.n_species, len(tbd)))\n",
    "Af_t = np.zeros(len(tbd))\n",
    "beta_t = np.zeros(len(tbd))\n",
    "E_t = np.zeros(len(tbd))\n",
    "orders_t = gas.reactant_stoich_coeffs()[:,tbd]\n",
    "for i, s in enumerate(tbd):\n",
    "    rr = gas.reaction(s)\n",
    "    Af_t[i] = rr.rate.pre_exponential_factor\n",
    "    beta_t[i] = rr.rate.temperature_exponent\n",
    "    E_t[i] = rr.rate.activation_energy\n",
    "    efficiency_t[:,i] = rr.default_efficiency * np.ones(gas.n_species)\n",
    "    for rec in rr.efficiencies:\n",
    "        efficiency_t[rec2ind[rec]] = rr.efficiencies[rec]\n",
    "    for rec in gas.reaction(s).orders:\n",
    "        orders_t[rec2ind[rec], i] = gas.reaction(s).orders[rec]\n",
    "        \n",
    "np.save('/home/darve/adncat/yizhou/PSAAP3/Tests/data/efficiency_t.npy',efficiency_t)\n",
    "np.save('/home/darve/adncat/yizhou/PSAAP3/Tests/data/reaction_orders_t.npy',orders_t)\n",
    "np.save('/home/darve/adncat/yizhou/PSAAP3/Tests/data/pre_exponential_factor_t.npy', Af_t)\n",
    "np.save('/home/darve/adncat/yizhou/PSAAP3/Tests/data/temperature_exponent_t.npy', beta_t)\n",
    "np.save('/home/darve/adncat/yizhou/PSAAP3/Tests/data/activation_energy_t.npy', E_t)"
   ]
  },
  {
   "cell_type": "code",
   "execution_count": 315,
   "metadata": {},
   "outputs": [],
   "source": [
    "np.save('/home/darve/adncat/yizhou/PSAAP3/Tests/data/tbd.npy',tbd)\n",
    "np.save('/home/darve/adncat/yizhou/PSAAP3/Tests/data/falofr.npy',falofr)\n",
    "np.save('/home/darve/adncat/yizhou/PSAAP3/Tests/data/elmr.npy',elmr)"
   ]
  },
  {
   "cell_type": "code",
   "execution_count": 179,
   "metadata": {},
   "outputs": [
    {
     "data": {
      "text/plain": [
       "125528192365.36696"
      ]
     },
     "execution_count": 179,
     "metadata": {},
     "output_type": "execute_result"
    }
   ],
   "source": [
    "ai = gas.reaction(0).high_rate.pre_exponential_factor\n",
    "bi = gas.reaction(0).high_rate.temperature_exponent\n",
    "ei = gas.reaction(0).high_rate.activation_energy\n",
    "kf_h = ai * (gas.T**bi) * np.exp(-ei/(ct.gas_constant * gas.T))\n",
    "kf_h"
   ]
  },
  {
   "cell_type": "code",
   "execution_count": 188,
   "metadata": {},
   "outputs": [
    {
     "data": {
      "text/plain": [
       "5979525284.376619"
      ]
     },
     "execution_count": 188,
     "metadata": {},
     "output_type": "execute_result"
    }
   ],
   "source": [
    "ai = gas.reaction(0).low_rate.pre_exponential_factor\n",
    "bi = gas.reaction(0).low_rate.temperature_exponent\n",
    "ei = gas.reaction(0).low_rate.activation_energy\n",
    "kf_o = ai * (gas.T**bi) * np.exp(-ei/(ct.gas_constant * gas.T)) * gas.concentrations.dot(efficiency_f[:,0])\n",
    "kf_o"
   ]
  },
  {
   "cell_type": "code",
   "execution_count": 189,
   "metadata": {},
   "outputs": [
    {
     "data": {
      "text/plain": [
       "5707642209.63778"
      ]
     },
     "execution_count": 189,
     "metadata": {},
     "output_type": "execute_result"
    }
   ],
   "source": [
    "kf_o / (1 + kf_o / kf_h)"
   ]
  },
  {
   "cell_type": "code",
   "execution_count": 222,
   "metadata": {},
   "outputs": [
    {
     "data": {
      "text/plain": [
       "(20, 4)"
      ]
     },
     "execution_count": 222,
     "metadata": {},
     "output_type": "execute_result"
    }
   ],
   "source": [
    "np.array(troefall_coeff).shape"
   ]
  },
  {
   "cell_type": "code",
   "execution_count": 200,
   "metadata": {},
   "outputs": [
    {
     "name": "stdout",
     "output_type": "stream",
     "text": [
      "Help on TroeFalloff object:\n",
      "\n",
      "class TroeFalloff(Falloff)\n",
      " |  The 3- or 4-parameter Troe falloff function.\n",
      " |  \n",
      " |  :param params:\n",
      " |      An array of 3 or 4 parameters: :math:`[a, T^{***}, T^*, T^{**}]` where\n",
      " |      the final parameter is optional (with a default value of 0).\n",
      " |  \n",
      " |  Method resolution order:\n",
      " |      TroeFalloff\n",
      " |      Falloff\n",
      " |      builtins.object\n",
      " |  \n",
      " |  Methods defined here:\n",
      " |  \n",
      " |  __new__(*args, **kwargs) from builtins.type\n",
      " |      Create and return a new object.  See help(type) for accurate signature.\n",
      " |  \n",
      " |  __reduce__ = __reduce_cython__(...)\n",
      " |      TroeFalloff.__reduce_cython__(self)\n",
      " |  \n",
      " |  __setstate__ = __setstate_cython__(...)\n",
      " |      TroeFalloff.__setstate_cython__(self, __pyx_state)\n",
      " |  \n",
      " |  ----------------------------------------------------------------------\n",
      " |  Data and other attributes defined here:\n",
      " |  \n",
      " |  falloff_type = 110\n",
      " |  \n",
      " |  ----------------------------------------------------------------------\n",
      " |  Methods inherited from Falloff:\n",
      " |  \n",
      " |  __call__(...)\n",
      " |      Evaluate the falloff function :math:`F(T, P_r)`\n",
      " |  \n",
      " |  ----------------------------------------------------------------------\n",
      " |  Data descriptors inherited from Falloff:\n",
      " |  \n",
      " |  parameters\n",
      " |      The array of parameters used to define this falloff function.\n",
      " |  \n",
      " |  type\n",
      " |      A string defining the type of the falloff parameterization\n",
      "\n"
     ]
    }
   ],
   "source": [
    "help(gas.reaction(0).falloff)"
   ]
  },
  {
   "cell_type": "code",
   "execution_count": 206,
   "metadata": {},
   "outputs": [
    {
     "ename": "AttributeError",
     "evalue": "'cantera._cantera.ElementaryReaction' object has no attribute 'falloff'",
     "output_type": "error",
     "traceback": [
      "\u001b[0;31m---------------------------------------------------------------------------\u001b[0m",
      "\u001b[0;31mAttributeError\u001b[0m                            Traceback (most recent call last)",
      "\u001b[0;32m<ipython-input-206-296d3b94da18>\u001b[0m in \u001b[0;36m<module>\u001b[0;34m\u001b[0m\n\u001b[0;32m----> 1\u001b[0;31m \u001b[0mgas\u001b[0m\u001b[0;34m.\u001b[0m\u001b[0mreaction\u001b[0m\u001b[0;34m(\u001b[0m\u001b[0;36m2\u001b[0m\u001b[0;34m)\u001b[0m\u001b[0;34m.\u001b[0m\u001b[0mfalloff\u001b[0m\u001b[0;34m.\u001b[0m\u001b[0mparameters\u001b[0m\u001b[0;34m\u001b[0m\u001b[0;34m\u001b[0m\u001b[0m\n\u001b[0m",
      "\u001b[0;31mAttributeError\u001b[0m: 'cantera._cantera.ElementaryReaction' object has no attribute 'falloff'"
     ]
    }
   ],
   "source": [
    "gas.reaction().falloff.parameters"
   ]
  },
  {
   "cell_type": "code",
   "execution_count": 208,
   "metadata": {},
   "outputs": [
    {
     "ename": "IndexError",
     "evalue": "index 0 is out of bounds for axis 0 with size 0",
     "output_type": "error",
     "traceback": [
      "\u001b[0;31m---------------------------------------------------------------------------\u001b[0m",
      "\u001b[0;31mIndexError\u001b[0m                                Traceback (most recent call last)",
      "\u001b[0;32m<ipython-input-208-dc92d2f6a115>\u001b[0m in \u001b[0;36m<module>\u001b[0;34m\u001b[0m\n\u001b[1;32m      1\u001b[0m \u001b[0mA\u001b[0m \u001b[0;34m=\u001b[0m \u001b[0mgas\u001b[0m\u001b[0;34m.\u001b[0m\u001b[0mreaction\u001b[0m\u001b[0;34m(\u001b[0m\u001b[0mfalofr\u001b[0m\u001b[0;34m[\u001b[0m\u001b[0;36m10\u001b[0m\u001b[0;34m]\u001b[0m\u001b[0;34m)\u001b[0m\u001b[0;34m.\u001b[0m\u001b[0mfalloff\u001b[0m\u001b[0;34m.\u001b[0m\u001b[0mparameters\u001b[0m\u001b[0;34m\u001b[0m\u001b[0;34m\u001b[0m\u001b[0m\n\u001b[1;32m      2\u001b[0m \u001b[0mT\u001b[0m \u001b[0;34m=\u001b[0m \u001b[0;36m1\u001b[0m\u001b[0;34m\u001b[0m\u001b[0;34m\u001b[0m\u001b[0m\n\u001b[0;32m----> 3\u001b[0;31m \u001b[0mA\u001b[0m\u001b[0;34m[\u001b[0m\u001b[0;36m0\u001b[0m\u001b[0;34m]\u001b[0m \u001b[0;34m+\u001b[0m \u001b[0mA\u001b[0m\u001b[0;34m[\u001b[0m\u001b[0;36m1\u001b[0m\u001b[0;34m]\u001b[0m \u001b[0;34m*\u001b[0m \u001b[0mT\u001b[0m\u001b[0;34m**\u001b[0m\u001b[0;36m3\u001b[0m \u001b[0;34m+\u001b[0m \u001b[0mA\u001b[0m\u001b[0;34m[\u001b[0m\u001b[0;36m2\u001b[0m\u001b[0;34m]\u001b[0m \u001b[0;34m*\u001b[0m \u001b[0mT\u001b[0m \u001b[0;34m+\u001b[0m \u001b[0mA\u001b[0m\u001b[0;34m[\u001b[0m\u001b[0;36m3\u001b[0m\u001b[0;34m]\u001b[0m \u001b[0;34m*\u001b[0m \u001b[0mT\u001b[0m\u001b[0;34m**\u001b[0m\u001b[0;36m2\u001b[0m\u001b[0;34m\u001b[0m\u001b[0;34m\u001b[0m\u001b[0m\n\u001b[0m",
      "\u001b[0;31mIndexError\u001b[0m: index 0 is out of bounds for axis 0 with size 0"
     ]
    }
   ],
   "source": [
    "A = gas.reaction(falofr[10]).falloff.parameters\n",
    "T = 1\n",
    "A[0] + A[1] * T**3 + A[2] * T + A[3] * T**2"
   ]
  },
  {
   "cell_type": "code",
   "execution_count": 213,
   "metadata": {},
   "outputs": [
    {
     "data": {
      "text/plain": [
       "<cantera._cantera.TroeFalloff at 0x7f640a4fdb20>"
      ]
     },
     "execution_count": 213,
     "metadata": {},
     "output_type": "execute_result"
    }
   ],
   "source": [
    "gas.reaction(falofr[1]).falloff"
   ]
  },
  {
   "cell_type": "code",
   "execution_count": null,
   "metadata": {},
   "outputs": [],
   "source": []
  }
 ],
 "metadata": {
  "kernelspec": {
   "display_name": "Python 3",
   "language": "python",
   "name": "python3"
  },
  "language_info": {
   "codemirror_mode": {
    "name": "ipython",
    "version": 3
   },
   "file_extension": ".py",
   "mimetype": "text/x-python",
   "name": "python",
   "nbconvert_exporter": "python",
   "pygments_lexer": "ipython3",
   "version": "3.6.8"
  }
 },
 "nbformat": 4,
 "nbformat_minor": 4
}
