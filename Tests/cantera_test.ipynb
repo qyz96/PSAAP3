{
 "cells": [
  {
   "cell_type": "code",
   "execution_count": 171,
   "metadata": {},
   "outputs": [],
   "source": [
    "import cantera as ct\n",
    "import numpy as np\n",
    "import matplotlib.pyplot as plt"
   ]
  },
  {
   "cell_type": "code",
   "execution_count": 217,
   "metadata": {},
   "outputs": [
    {
     "name": "stdout",
     "output_type": "stream",
     "text": [
      "\n",
      "  CH4_MP1:\n",
      "\n",
      "       temperature         3126.91  K\n",
      "          pressure          264029  Pa\n",
      "           density        0.217034  kg/m^3\n",
      "  mean mol. weight          21.371  amu\n",
      "\n",
      "                          1 kg            1 kmol\n",
      "                       -----------      ------------\n",
      "          enthalpy      5.7833e+05        1.236e+07     J\n",
      "   internal energy     -6.3821e+05       -1.364e+07     J\n",
      "           entropy           15506        3.314e+05     J/K\n",
      "    Gibbs function     -4.7909e+07       -1.024e+09     J\n",
      " heat capacity c_p          4011.5        8.573e+04     J/K\n",
      " heat capacity c_v          3622.5        7.742e+04     J/K\n",
      "\n",
      "                           X                 Y          Chem. Pot. / RT\n",
      "                     -------------     ------------     ------------\n",
      "                O2    2.31807e-05      3.47084e-05         -40.1641\n",
      "               H2O       0.333912          0.28148         -39.0537\n",
      "               CH4       0.499109          0.37467         -35.9531\n",
      "               CO2       0.166956         0.343816         -50.2844\n",
      "     [   +1 minor]              0                0\n",
      "\n"
     ]
    },
    {
     "name": "stderr",
     "output_type": "stream",
     "text": [
      "/home/darve/adncat/.local/lib/python3.6/site-packages/ipykernel_launcher.py:1: DeprecationWarning: Converting `np.integer` or `np.signedinteger` to a dtype is deprecated. The current result is `np.dtype(np.int_)` which is not strictly correct. Note that the result depends on the system. To ensure stable results use may want to use `np.int64` or `np.int32`.\n",
      "  \"\"\"Entry point for launching an IPython kernel.\n"
     ]
    }
   ],
   "source": [
    "gas = ct.Solution(\"test.cti\")\n",
    "gas.Y = np.array([0.5, 0, 0.5, 0, 0])\n",
    "gas.TP = 1200, 101325\n",
    "reactor = ct.IdealGasReactor(gas)\n",
    "sim = ct.ReactorNet([reactor])\n",
    "sim.advance(5.93e-6)\n",
    "gas()"
   ]
  },
  {
   "cell_type": "code",
   "execution_count": 228,
   "metadata": {},
   "outputs": [],
   "source": [
    "gas = ct.Solution(\"test.cti\")\n",
    "gas.Y = np.array([0.5, 0, 0.5, 0, 0])\n",
    "gas.TP = 1200, 101325\n",
    "reactor = ct.IdealGasReactor(gas)\n",
    "sim = ct.ReactorNet([reactor])\n",
    "n_t = 10000\n",
    "Pt = np.zeros(n_t)\n",
    "Tt = np.zeros(n_t)\n",
    "Yt = np.zeros((5,n_t))\n",
    "for i in range(n_t):\n",
    "    sim.advance((i+1)*1e-9)\n",
    "    Pt[i] = gas.P\n",
    "    Tt[i] = gas.T\n",
    "    Yt[:,i] = gas.Y\n",
    "gas()\n",
    "\n",
    "np.save('/home/darve/adncat/yizhou/PSAAP3/Tests/data/pressure.npy', Pt)\n",
    "np.save('/home/darve/adncat/yizhou/PSAAP3/Tests/data/temperature.npy', Tt)\n",
    "np.save('/home/darve/adncat/yizhou/PSAAP3/Tests/data/mass_fraction.npy', Yt)"
   ]
  },
  {
   "cell_type": "code",
   "execution_count": 244,
   "metadata": {},
   "outputs": [],
   "source": [
    "NASA_coeffs = []\n",
    "for i in range(gas.n_species):\n",
    "    NASA_coeffs.append(gas.species(i).thermo.coeffs)\n",
    "NASA_coeffs = np.array(NASA_coeffs)\n",
    "reactants = []\n",
    "orders = [] \n",
    "Af = np.zeros(gas.n_reactions)\n",
    "beta = np.zeros(gas.n_reactions)\n",
    "E = np.zeros(gas.n_reactions)\n",
    "for i in range(gas.n_species):\n",
    "    reactants.append(gas.species(i).name)\n",
    "orders = np.zeros((gas.n_species, gas.n_reactions))\n",
    "for i in range(gas.n_reactions):   \n",
    "    Af[i] = gas.reaction(i).rate.pre_exponential_factor\n",
    "    beta[i] = gas.reaction(i).rate.temperature_exponent\n",
    "    E[i] = gas.reaction(i).rate.activation_energy\n",
    "    for j in range(gas.n_species):\n",
    "        if (gas.reactant_stoich_coeffs()[j,i] != 0):\n",
    "            orders[j,i] = gas.reaction(i).orders[gas.species(j).name]"
   ]
  },
  {
   "cell_type": "code",
   "execution_count": 245,
   "metadata": {},
   "outputs": [],
   "source": [
    "np.save('/home/darve/adncat/yizhou/PSAAP3/Tests/data/NASA_coeffs.npy', NASA_coeffs)\n",
    "np.save('/home/darve/adncat/yizhou/PSAAP3/Tests/data/molecular_weights.npy',gas.molecular_weights)\n",
    "np.save('/home/darve/adncat/yizhou/PSAAP3/Tests/data/reactants_stoich_coeffs.npy',gas.reactant_stoich_coeffs())\n",
    "np.save('/home/darve/adncat/yizhou/PSAAP3/Tests/data/product_stoich_coeffs.npy',gas.product_stoich_coeffs())\n",
    "np.save('/home/darve/adncat/yizhou/PSAAP3/Tests/data/reaction_orders.npy',orders)\n",
    "np.save('/home/darve/adncat/yizhou/PSAAP3/Tests/data/pre_exponential_factor.npy', Af)\n",
    "np.save('/home/darve/adncat/yizhou/PSAAP3/Tests/data/temperature_exponent.npy', beta)\n",
    "np.save('/home/darve/adncat/yizhou/PSAAP3/Tests/data/activation_energy.npy', E)"
   ]
  }
 ],
 "metadata": {
  "kernelspec": {
   "display_name": "Python 3",
   "language": "python",
   "name": "python3"
  },
  "language_info": {
   "codemirror_mode": {
    "name": "ipython",
    "version": 3
   },
   "file_extension": ".py",
   "mimetype": "text/x-python",
   "name": "python",
   "nbconvert_exporter": "python",
   "pygments_lexer": "ipython3",
   "version": "3.6.8"
  }
 },
 "nbformat": 4,
 "nbformat_minor": 4
}
